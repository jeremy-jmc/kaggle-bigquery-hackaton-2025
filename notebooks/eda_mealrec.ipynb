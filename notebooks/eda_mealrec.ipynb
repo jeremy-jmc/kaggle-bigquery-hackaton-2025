{
 "cells": [
  {
   "cell_type": "code",
   "execution_count": 1,
   "id": "50e11096",
   "metadata": {},
   "outputs": [],
   "source": [
    "import polars as pl\n",
    "import os "
   ]
  },
  {
   "cell_type": "code",
   "execution_count": 2,
   "id": "18074f10",
   "metadata": {},
   "outputs": [],
   "source": [
    "DATA_PATH = \"../data/MealRec\""
   ]
  },
  {
   "cell_type": "code",
   "execution_count": 4,
   "id": "7be5d12f",
   "metadata": {},
   "outputs": [],
   "source": [
    "df_meal = pl.read_csv(os.path.join(DATA_PATH, \"raw\",\"meal.csv\"))\n",
    "df_recipe = pl.read_csv(os.path.join(DATA_PATH, \"raw\",\"recipe.csv\"))\n",
    "df_user_meal = pl.read_csv(os.path.join(DATA_PATH, \"raw\",\"user_meal.csv\"))\n",
    "df_user_recipe = pl.read_csv(os.path.join(DATA_PATH, \"raw\",\"user_recipe.csv\"))"
   ]
  },
  {
   "cell_type": "code",
   "execution_count": 5,
   "id": "0fb9dcfe",
   "metadata": {},
   "outputs": [
    {
     "data": {
      "text/html": [
       "<div><style>\n",
       ".dataframe > thead > tr,\n",
       ".dataframe > tbody > tr {\n",
       "  text-align: right;\n",
       "  white-space: pre-wrap;\n",
       "}\n",
       "</style>\n",
       "<small>shape: (5, 4)</small><table border=\"1\" class=\"dataframe\"><thead><tr><th>bundle_id</th><th>appetizer</th><th>main_dish</th><th>dessert</th></tr><tr><td>i64</td><td>i64</td><td>i64</td><td>i64</td></tr></thead><tbody><tr><td>242</td><td>8626</td><td>8652</td><td>17652</td></tr><tr><td>885</td><td>15034</td><td>25272</td><td>24843</td></tr><tr><td>1077</td><td>24745</td><td>26460</td><td>17652</td></tr><tr><td>1187</td><td>15184</td><td>55872</td><td>19017</td></tr><tr><td>1340</td><td>13062</td><td>13218</td><td>10813</td></tr></tbody></table></div>"
      ],
      "text/plain": [
       "shape: (5, 4)\n",
       "┌───────────┬───────────┬───────────┬─────────┐\n",
       "│ bundle_id ┆ appetizer ┆ main_dish ┆ dessert │\n",
       "│ ---       ┆ ---       ┆ ---       ┆ ---     │\n",
       "│ i64       ┆ i64       ┆ i64       ┆ i64     │\n",
       "╞═══════════╪═══════════╪═══════════╪═════════╡\n",
       "│ 242       ┆ 8626      ┆ 8652      ┆ 17652   │\n",
       "│ 885       ┆ 15034     ┆ 25272     ┆ 24843   │\n",
       "│ 1077      ┆ 24745     ┆ 26460     ┆ 17652   │\n",
       "│ 1187      ┆ 15184     ┆ 55872     ┆ 19017   │\n",
       "│ 1340      ┆ 13062     ┆ 13218     ┆ 10813   │\n",
       "└───────────┴───────────┴───────────┴─────────┘"
      ]
     },
     "execution_count": 5,
     "metadata": {},
     "output_type": "execute_result"
    }
   ],
   "source": [
    "df_meal.head()"
   ]
  },
  {
   "cell_type": "code",
   "execution_count": 6,
   "id": "73bd56b2",
   "metadata": {},
   "outputs": [
    {
     "data": {
      "text/html": [
       "<div><style>\n",
       ".dataframe > thead > tr,\n",
       ".dataframe > tbody > tr {\n",
       "  text-align: right;\n",
       "  white-space: pre-wrap;\n",
       "}\n",
       "</style>\n",
       "<small>shape: (5, 11)</small><table border=\"1\" class=\"dataframe\"><thead><tr><th>recipe_id</th><th>recipe_name</th><th>review_nums</th><th>category</th><th>aver_rate</th><th>image_url</th><th>ingredients</th><th>cooking_directions</th><th>nutritions</th><th>reviews</th><th>tags</th></tr><tr><td>i64</td><td>str</td><td>i64</td><td>str</td><td>f64</td><td>str</td><td>str</td><td>str</td><td>str</td><td>str</td><td>str</td></tr></thead><tbody><tr><td>6698</td><td>&quot;Mom&#x27;s Zucchini Bread&quot;</td><td>9355</td><td>&quot;appetizer&quot;</td><td>4.754207</td><td>&quot;https://images.media-allrecipe…</td><td>&quot;all-purpose flour^salt^baking …</td><td>&quot;{&#x27;directions&#x27;: u&#x27;Prep\\n20 m\\nC…</td><td>&quot;{u&#x27;niacin&#x27;: {u&#x27;hasCompleteData…</td><td>&quot;{9568256: {&#x27;rating&#x27;: 5, &#x27;follo…</td><td>&quot;north-american;breads;easy;beg…</td></tr><tr><td>6709</td><td>&quot;Zucchini Walnut Bread&quot;</td><td>58</td><td>&quot;appetizer&quot;</td><td>4.478873</td><td>&quot;http://images.media-allrecipes…</td><td>&quot;chopped walnuts^eggs^white sug…</td><td>&quot;{&#x27;directions&#x27;: u&#x27;Whisk togethe…</td><td>&quot;{u&#x27;niacin&#x27;: {u&#x27;hasCompleteData…</td><td>&quot;{1636096: {&#x27;rating&#x27;: 4, &#x27;follo…</td><td>&quot;weeknight;breads;fruit;vegetab…</td></tr><tr><td>6725</td><td>&quot;Honey Wheat Bread I&quot;</td><td>2054</td><td>&quot;appetizer&quot;</td><td>4.766846</td><td>&quot;http://images.media-allrecipes…</td><td>&quot;rapid rise yeast^white sugar^w…</td><td>&quot;{&#x27;directions&#x27;: u&#x27;Prep\\n25 m\\nC…</td><td>&quot;{u&#x27;niacin&#x27;: {u&#x27;hasCompleteData…</td><td>&quot;{1542146: {&#x27;rating&#x27;: 4, &#x27;follo…</td><td>&quot;healthy;breads;dietary;low-cho…</td></tr><tr><td>6730</td><td>&quot;Chocolate Chip Orange Zucchini…</td><td>503</td><td>&quot;dessert&quot;</td><td>4.674833</td><td>&quot;https://images.media-allrecipe…</td><td>&quot;eggs^white sugar^vegetable oil…</td><td>&quot;{&#x27;directions&#x27;: u&#x27;Sift together…</td><td>&quot;{u&#x27;niacin&#x27;: {u&#x27;hasCompleteData…</td><td>&quot;{1978376: {&#x27;rating&#x27;: 5, &#x27;follo…</td><td>&quot;for-large-groups;healthy;bread…</td></tr><tr><td>6732</td><td>&quot;Chocolate Chip Pumpkin Bread&quot;</td><td>866</td><td>&quot;dessert&quot;</td><td>4.718112</td><td>&quot;https://images.media-allrecipe…</td><td>&quot;white sugar^pumpkin puree^vege…</td><td>&quot;{&#x27;directions&#x27;: u&#x27;Prep\\n30 m\\nC…</td><td>&quot;{u&#x27;niacin&#x27;: {u&#x27;hasCompleteData…</td><td>&quot;{1830917: {&#x27;rating&#x27;: 3, &#x27;follo…</td><td>&quot;breads;fall;winter;seasonal;qu…</td></tr></tbody></table></div>"
      ],
      "text/plain": [
       "shape: (5, 11)\n",
       "┌───────────┬───────────┬───────────┬───────────┬───┬───────────┬───────────┬───────────┬──────────┐\n",
       "│ recipe_id ┆ recipe_na ┆ review_nu ┆ category  ┆ … ┆ cooking_d ┆ nutrition ┆ reviews   ┆ tags     │\n",
       "│ ---       ┆ me        ┆ ms        ┆ ---       ┆   ┆ irections ┆ s         ┆ ---       ┆ ---      │\n",
       "│ i64       ┆ ---       ┆ ---       ┆ str       ┆   ┆ ---       ┆ ---       ┆ str       ┆ str      │\n",
       "│           ┆ str       ┆ i64       ┆           ┆   ┆ str       ┆ str       ┆           ┆          │\n",
       "╞═══════════╪═══════════╪═══════════╪═══════════╪═══╪═══════════╪═══════════╪═══════════╪══════════╡\n",
       "│ 6698      ┆ Mom's     ┆ 9355      ┆ appetizer ┆ … ┆ {'directi ┆ {u'niacin ┆ {9568256: ┆ north-am │\n",
       "│           ┆ Zucchini  ┆           ┆           ┆   ┆ ons': u'P ┆ ': {u'has ┆ {'rating' ┆ erican;b │\n",
       "│           ┆ Bread     ┆           ┆           ┆   ┆ rep\\n20   ┆ CompleteD ┆ : 5,      ┆ reads;ea │\n",
       "│           ┆           ┆           ┆           ┆   ┆ m\\nC…     ┆ ata…      ┆ 'follo…   ┆ sy;beg…  │\n",
       "│ 6709      ┆ Zucchini  ┆ 58        ┆ appetizer ┆ … ┆ {'directi ┆ {u'niacin ┆ {1636096: ┆ weeknigh │\n",
       "│           ┆ Walnut    ┆           ┆           ┆   ┆ ons':     ┆ ': {u'has ┆ {'rating' ┆ t;breads │\n",
       "│           ┆ Bread     ┆           ┆           ┆   ┆ u'Whisk   ┆ CompleteD ┆ : 4,      ┆ ;fruit;v │\n",
       "│           ┆           ┆           ┆           ┆   ┆ togethe…  ┆ ata…      ┆ 'follo…   ┆ egetab…  │\n",
       "│ 6725      ┆ Honey     ┆ 2054      ┆ appetizer ┆ … ┆ {'directi ┆ {u'niacin ┆ {1542146: ┆ healthy; │\n",
       "│           ┆ Wheat     ┆           ┆           ┆   ┆ ons': u'P ┆ ': {u'has ┆ {'rating' ┆ breads;d │\n",
       "│           ┆ Bread I   ┆           ┆           ┆   ┆ rep\\n25   ┆ CompleteD ┆ : 4,      ┆ ietary;l │\n",
       "│           ┆           ┆           ┆           ┆   ┆ m\\nC…     ┆ ata…      ┆ 'follo…   ┆ ow-cho…  │\n",
       "│ 6730      ┆ Chocolate ┆ 503       ┆ dessert   ┆ … ┆ {'directi ┆ {u'niacin ┆ {1978376: ┆ for-larg │\n",
       "│           ┆ Chip      ┆           ┆           ┆   ┆ ons':     ┆ ': {u'has ┆ {'rating' ┆ e-groups │\n",
       "│           ┆ Orange    ┆           ┆           ┆   ┆ u'Sift    ┆ CompleteD ┆ : 5,      ┆ ;healthy │\n",
       "│           ┆ Zucchini… ┆           ┆           ┆   ┆ together… ┆ ata…      ┆ 'follo…   ┆ ;bread…  │\n",
       "│ 6732      ┆ Chocolate ┆ 866       ┆ dessert   ┆ … ┆ {'directi ┆ {u'niacin ┆ {1830917: ┆ breads;f │\n",
       "│           ┆ Chip      ┆           ┆           ┆   ┆ ons': u'P ┆ ': {u'has ┆ {'rating' ┆ all;wint │\n",
       "│           ┆ Pumpkin   ┆           ┆           ┆   ┆ rep\\n30   ┆ CompleteD ┆ : 3,      ┆ er;seaso │\n",
       "│           ┆ Bread     ┆           ┆           ┆   ┆ m\\nC…     ┆ ata…      ┆ 'follo…   ┆ nal;qu…  │\n",
       "└───────────┴───────────┴───────────┴───────────┴───┴───────────┴───────────┴───────────┴──────────┘"
      ]
     },
     "execution_count": 6,
     "metadata": {},
     "output_type": "execute_result"
    }
   ],
   "source": [
    "df_recipe.head()"
   ]
  },
  {
   "cell_type": "code",
   "execution_count": 10,
   "id": "4064cd8b",
   "metadata": {},
   "outputs": [
    {
     "data": {
      "text/plain": [
       "(7280, 11)"
      ]
     },
     "execution_count": 10,
     "metadata": {},
     "output_type": "execute_result"
    }
   ],
   "source": [
    "df_recipe.shape"
   ]
  },
  {
   "cell_type": "code",
   "execution_count": 7,
   "id": "423b83b7",
   "metadata": {},
   "outputs": [
    {
     "data": {
      "text/html": [
       "<div><style>\n",
       ".dataframe > thead > tr,\n",
       ".dataframe > tbody > tr {\n",
       "  text-align: right;\n",
       "  white-space: pre-wrap;\n",
       "}\n",
       "</style>\n",
       "<small>shape: (5, 2)</small><table border=\"1\" class=\"dataframe\"><thead><tr><th>meal_id</th><th>user_id</th></tr><tr><td>i64</td><td>i64</td></tr></thead><tbody><tr><td>26</td><td>39</td></tr><tr><td>37</td><td>39</td></tr><tr><td>218</td><td>2079</td></tr><tr><td>534</td><td>8952</td></tr><tr><td>538</td><td>8952</td></tr></tbody></table></div>"
      ],
      "text/plain": [
       "shape: (5, 2)\n",
       "┌─────────┬─────────┐\n",
       "│ meal_id ┆ user_id │\n",
       "│ ---     ┆ ---     │\n",
       "│ i64     ┆ i64     │\n",
       "╞═════════╪═════════╡\n",
       "│ 26      ┆ 39      │\n",
       "│ 37      ┆ 39      │\n",
       "│ 218     ┆ 2079    │\n",
       "│ 534     ┆ 8952    │\n",
       "│ 538     ┆ 8952    │\n",
       "└─────────┴─────────┘"
      ]
     },
     "execution_count": 7,
     "metadata": {},
     "output_type": "execute_result"
    }
   ],
   "source": [
    "df_user_meal.head()"
   ]
  },
  {
   "cell_type": "code",
   "execution_count": 8,
   "id": "66cc8a95",
   "metadata": {},
   "outputs": [
    {
     "data": {
      "text/html": [
       "<div><style>\n",
       ".dataframe > thead > tr,\n",
       ".dataframe > tbody > tr {\n",
       "  text-align: right;\n",
       "  white-space: pre-wrap;\n",
       "}\n",
       "</style>\n",
       "<small>shape: (5, 4)</small><table border=\"1\" class=\"dataframe\"><thead><tr><th>user_id</th><th>recipe_id</th><th>rating</th><th>dateLastModified</th></tr><tr><td>i64</td><td>i64</td><td>i64</td><td>str</td></tr></thead><tbody><tr><td>39</td><td>61727</td><td>4</td><td>&quot;2001-03-26T07:36:16.653\n",
       "&quot;</td></tr><tr><td>39</td><td>7612</td><td>5</td><td>&quot;2004-08-02T16:48:37.107\n",
       "&quot;</td></tr><tr><td>39</td><td>12009</td><td>4</td><td>&quot;2001-02-28T10:37:25.59\n",
       "&quot;</td></tr><tr><td>39</td><td>88185</td><td>5</td><td>&quot;2009-05-18T14:55:11.517\n",
       "&quot;</td></tr><tr><td>39</td><td>24445</td><td>5</td><td>&quot;2015-05-07T15:42:20.32\n",
       "&quot;</td></tr></tbody></table></div>"
      ],
      "text/plain": [
       "shape: (5, 4)\n",
       "┌─────────┬───────────┬────────┬─────────────────────────┐\n",
       "│ user_id ┆ recipe_id ┆ rating ┆ dateLastModified        │\n",
       "│ ---     ┆ ---       ┆ ---    ┆ ---                     │\n",
       "│ i64     ┆ i64       ┆ i64    ┆ str                     │\n",
       "╞═════════╪═══════════╪════════╪═════════════════════════╡\n",
       "│ 39      ┆ 61727     ┆ 4      ┆ 2001-03-26T07:36:16.653 │\n",
       "│         ┆           ┆        ┆                         │\n",
       "│ 39      ┆ 7612      ┆ 5      ┆ 2004-08-02T16:48:37.107 │\n",
       "│         ┆           ┆        ┆                         │\n",
       "│ 39      ┆ 12009     ┆ 4      ┆ 2001-02-28T10:37:25.59  │\n",
       "│         ┆           ┆        ┆                         │\n",
       "│ 39      ┆ 88185     ┆ 5      ┆ 2009-05-18T14:55:11.517 │\n",
       "│         ┆           ┆        ┆                         │\n",
       "│ 39      ┆ 24445     ┆ 5      ┆ 2015-05-07T15:42:20.32  │\n",
       "│         ┆           ┆        ┆                         │\n",
       "└─────────┴───────────┴────────┴─────────────────────────┘"
      ]
     },
     "execution_count": 8,
     "metadata": {},
     "output_type": "execute_result"
    }
   ],
   "source": [
    "df_user_recipe.head()"
   ]
  },
  {
   "cell_type": "code",
   "execution_count": 9,
   "id": "48b47b69",
   "metadata": {},
   "outputs": [
    {
     "data": {
      "text/plain": [
       "(151148, 4)"
      ]
     },
     "execution_count": 9,
     "metadata": {},
     "output_type": "execute_result"
    }
   ],
   "source": [
    "df_user_recipe.shape"
   ]
  }
 ],
 "metadata": {
  "kernelspec": {
   "display_name": "base",
   "language": "python",
   "name": "python3"
  },
  "language_info": {
   "codemirror_mode": {
    "name": "ipython",
    "version": 3
   },
   "file_extension": ".py",
   "mimetype": "text/x-python",
   "name": "python",
   "nbconvert_exporter": "python",
   "pygments_lexer": "ipython3",
   "version": "3.12.4"
  }
 },
 "nbformat": 4,
 "nbformat_minor": 5
}
