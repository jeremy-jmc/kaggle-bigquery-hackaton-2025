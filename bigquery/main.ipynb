{
 "cells": [
  {
   "cell_type": "code",
   "execution_count": 1,
   "id": "09f5ea67",
   "metadata": {},
   "outputs": [
    {
     "name": "stdout",
     "output_type": "stream",
     "text": [
      "Collecting pandas-gbq\n",
      "  Downloading pandas_gbq-0.29.2-py3-none-any.whl.metadata (3.6 kB)\n",
      "Collecting google-cloud-bigquery\n",
      "  Downloading google_cloud_bigquery-3.36.0-py3-none-any.whl.metadata (8.0 kB)\n",
      "Requirement already satisfied: pyarrow in c:\\users\\renato\\anaconda3\\lib\\site-packages (14.0.2)\n",
      "Requirement already satisfied: setuptools in c:\\users\\renato\\anaconda3\\lib\\site-packages (from pandas-gbq) (69.5.1)\n",
      "Collecting db-dtypes<2.0.0,>=1.0.4 (from pandas-gbq)\n",
      "  Downloading db_dtypes-1.4.3-py3-none-any.whl.metadata (3.0 kB)\n",
      "Requirement already satisfied: numpy>=1.18.1 in c:\\users\\renato\\anaconda3\\lib\\site-packages (from pandas-gbq) (1.26.4)\n",
      "Requirement already satisfied: pandas>=1.1.4 in c:\\users\\renato\\anaconda3\\lib\\site-packages (from pandas-gbq) (2.2.2)\n",
      "Collecting pydata-google-auth>=1.5.0 (from pandas-gbq)\n",
      "  Downloading pydata_google_auth-1.9.1-py2.py3-none-any.whl.metadata (2.8 kB)\n",
      "Collecting google-api-core<3.0.0,>=2.10.2 (from pandas-gbq)\n",
      "  Downloading google_api_core-2.25.1-py3-none-any.whl.metadata (3.0 kB)\n",
      "Requirement already satisfied: google-auth>=2.13.0 in c:\\users\\renato\\anaconda3\\lib\\site-packages (from pandas-gbq) (2.40.3)\n",
      "Collecting google-auth-oauthlib>=0.7.0 (from pandas-gbq)\n",
      "  Downloading google_auth_oauthlib-1.2.2-py3-none-any.whl.metadata (2.7 kB)\n",
      "Requirement already satisfied: packaging>=22.0.0 in c:\\users\\renato\\anaconda3\\lib\\site-packages (from pandas-gbq) (23.2)\n",
      "Collecting google-cloud-core<3.0.0,>=2.4.1 (from google-cloud-bigquery)\n",
      "  Downloading google_cloud_core-2.4.3-py2.py3-none-any.whl.metadata (2.7 kB)\n",
      "Collecting google-resumable-media<3.0.0,>=2.0.0 (from google-cloud-bigquery)\n",
      "  Downloading google_resumable_media-2.7.2-py2.py3-none-any.whl.metadata (2.2 kB)\n",
      "Collecting packaging>=22.0.0 (from pandas-gbq)\n",
      "  Downloading packaging-25.0-py3-none-any.whl.metadata (3.3 kB)\n",
      "Requirement already satisfied: python-dateutil<3.0.0,>=2.8.2 in c:\\users\\renato\\anaconda3\\lib\\site-packages (from google-cloud-bigquery) (2.9.0.post0)\n",
      "Requirement already satisfied: requests<3.0.0,>=2.21.0 in c:\\users\\renato\\anaconda3\\lib\\site-packages (from google-cloud-bigquery) (2.32.2)\n",
      "Collecting googleapis-common-protos<2.0.0,>=1.56.2 (from google-api-core<3.0.0,>=2.10.2->pandas-gbq)\n",
      "  Downloading googleapis_common_protos-1.70.0-py3-none-any.whl.metadata (9.3 kB)\n",
      "Requirement already satisfied: protobuf!=3.20.0,!=3.20.1,!=4.21.0,!=4.21.1,!=4.21.2,!=4.21.3,!=4.21.4,!=4.21.5,<7.0.0,>=3.19.5 in c:\\users\\renato\\anaconda3\\lib\\site-packages (from google-api-core<3.0.0,>=2.10.2->pandas-gbq) (3.20.3)\n",
      "Collecting proto-plus<2.0.0,>=1.22.3 (from google-api-core<3.0.0,>=2.10.2->pandas-gbq)\n",
      "  Downloading proto_plus-1.26.1-py3-none-any.whl.metadata (2.2 kB)\n",
      "Requirement already satisfied: grpcio<2.0.0,>=1.33.2 in c:\\users\\renato\\anaconda3\\lib\\site-packages (from google-api-core[grpc]<3.0.0,>=2.11.1->google-cloud-bigquery) (1.65.1)\n",
      "Collecting grpcio-status<2.0.0,>=1.33.2 (from google-api-core[grpc]<3.0.0,>=2.11.1->google-cloud-bigquery)\n",
      "  Downloading grpcio_status-1.74.0-py3-none-any.whl.metadata (1.1 kB)\n",
      "Requirement already satisfied: cachetools<6.0,>=2.0.0 in c:\\users\\renato\\anaconda3\\lib\\site-packages (from google-auth>=2.13.0->pandas-gbq) (5.3.3)\n",
      "Requirement already satisfied: pyasn1-modules>=0.2.1 in c:\\users\\renato\\anaconda3\\lib\\site-packages (from google-auth>=2.13.0->pandas-gbq) (0.2.8)\n",
      "Requirement already satisfied: rsa<5,>=3.1.4 in c:\\users\\renato\\anaconda3\\lib\\site-packages (from google-auth>=2.13.0->pandas-gbq) (4.9.1)\n",
      "Collecting requests-oauthlib>=0.7.0 (from google-auth-oauthlib>=0.7.0->pandas-gbq)\n",
      "  Using cached requests_oauthlib-2.0.0-py2.py3-none-any.whl.metadata (11 kB)\n",
      "Collecting google-crc32c<2.0dev,>=1.0 (from google-resumable-media<3.0.0,>=2.0.0->google-cloud-bigquery)\n",
      "  Downloading google_crc32c-1.7.1-cp312-cp312-win_amd64.whl.metadata (2.4 kB)\n",
      "Requirement already satisfied: pytz>=2020.1 in c:\\users\\renato\\anaconda3\\lib\\site-packages (from pandas>=1.1.4->pandas-gbq) (2024.1)\n",
      "Requirement already satisfied: tzdata>=2022.7 in c:\\users\\renato\\anaconda3\\lib\\site-packages (from pandas>=1.1.4->pandas-gbq) (2023.3)\n",
      "Requirement already satisfied: six>=1.5 in c:\\users\\renato\\anaconda3\\lib\\site-packages (from python-dateutil<3.0.0,>=2.8.2->google-cloud-bigquery) (1.16.0)\n",
      "Requirement already satisfied: charset-normalizer<4,>=2 in c:\\users\\renato\\anaconda3\\lib\\site-packages (from requests<3.0.0,>=2.21.0->google-cloud-bigquery) (2.0.4)\n",
      "Requirement already satisfied: idna<4,>=2.5 in c:\\users\\renato\\anaconda3\\lib\\site-packages (from requests<3.0.0,>=2.21.0->google-cloud-bigquery) (3.7)\n",
      "Requirement already satisfied: urllib3<3,>=1.21.1 in c:\\users\\renato\\anaconda3\\lib\\site-packages (from requests<3.0.0,>=2.21.0->google-cloud-bigquery) (2.5.0)\n",
      "Requirement already satisfied: certifi>=2017.4.17 in c:\\users\\renato\\anaconda3\\lib\\site-packages (from requests<3.0.0,>=2.21.0->google-cloud-bigquery) (2025.7.14)\n",
      "Collecting protobuf!=3.20.0,!=3.20.1,!=4.21.0,!=4.21.1,!=4.21.2,!=4.21.3,!=4.21.4,!=4.21.5,<7.0.0,>=3.19.5 (from google-api-core<3.0.0,>=2.10.2->pandas-gbq)\n",
      "  Downloading protobuf-6.32.0-cp310-abi3-win_amd64.whl.metadata (593 bytes)\n",
      "Collecting grpcio<2.0.0,>=1.33.2 (from google-api-core[grpc]<3.0.0,>=2.11.1->google-cloud-bigquery)\n",
      "  Downloading grpcio-1.74.0-cp312-cp312-win_amd64.whl.metadata (4.0 kB)\n",
      "Requirement already satisfied: pyasn1<0.5.0,>=0.4.6 in c:\\users\\renato\\anaconda3\\lib\\site-packages (from pyasn1-modules>=0.2.1->google-auth>=2.13.0->pandas-gbq) (0.4.8)\n",
      "Collecting oauthlib>=3.0.0 (from requests-oauthlib>=0.7.0->google-auth-oauthlib>=0.7.0->pandas-gbq)\n",
      "  Downloading oauthlib-3.3.1-py3-none-any.whl.metadata (7.9 kB)\n",
      "Downloading pandas_gbq-0.29.2-py3-none-any.whl (40 kB)\n",
      "   ---------------------------------------- 0.0/41.0 kB ? eta -:--:--\n",
      "   ---------------------------------------- 41.0/41.0 kB ? eta 0:00:00\n",
      "Downloading google_cloud_bigquery-3.36.0-py3-none-any.whl (258 kB)\n",
      "   ---------------------------------------- 0.0/258.5 kB ? eta -:--:--\n",
      "   ---------------------------------------  256.0/258.5 kB 7.9 MB/s eta 0:00:01\n",
      "   ---------------------------------------- 258.5/258.5 kB 5.3 MB/s eta 0:00:00\n",
      "Downloading db_dtypes-1.4.3-py3-none-any.whl (18 kB)\n",
      "Downloading google_api_core-2.25.1-py3-none-any.whl (160 kB)\n",
      "   ---------------------------------------- 0.0/160.8 kB ? eta -:--:--\n",
      "   ---------------------------------------- 160.8/160.8 kB 9.4 MB/s eta 0:00:00\n",
      "Downloading google_auth_oauthlib-1.2.2-py3-none-any.whl (19 kB)\n",
      "Downloading google_cloud_core-2.4.3-py2.py3-none-any.whl (29 kB)\n",
      "Downloading google_resumable_media-2.7.2-py2.py3-none-any.whl (81 kB)\n",
      "   ---------------------------------------- 0.0/81.3 kB ? eta -:--:--\n",
      "   ---------------------------------------- 81.3/81.3 kB 4.7 MB/s eta 0:00:00\n",
      "Downloading packaging-25.0-py3-none-any.whl (66 kB)\n",
      "   ---------------------------------------- 0.0/66.5 kB ? eta -:--:--\n",
      "   ---------------------------------------- 66.5/66.5 kB 3.5 MB/s eta 0:00:00\n",
      "Downloading pydata_google_auth-1.9.1-py2.py3-none-any.whl (15 kB)\n",
      "Downloading google_crc32c-1.7.1-cp312-cp312-win_amd64.whl (33 kB)\n",
      "Downloading googleapis_common_protos-1.70.0-py3-none-any.whl (294 kB)\n",
      "   ---------------------------------------- 0.0/294.5 kB ? eta -:--:--\n",
      "   --------------------------------------- 294.5/294.5 kB 17.8 MB/s eta 0:00:00\n",
      "Downloading grpcio_status-1.74.0-py3-none-any.whl (14 kB)\n",
      "Downloading grpcio-1.74.0-cp312-cp312-win_amd64.whl (4.5 MB)\n",
      "   ---------------------------------------- 0.0/4.5 MB ? eta -:--:--\n",
      "   --- ------------------------------------ 0.4/4.5 MB 8.7 MB/s eta 0:00:01\n",
      "   ------- -------------------------------- 0.8/4.5 MB 8.5 MB/s eta 0:00:01\n",
      "   --------- ------------------------------ 1.0/4.5 MB 7.3 MB/s eta 0:00:01\n",
      "   ----------- ---------------------------- 1.3/4.5 MB 7.0 MB/s eta 0:00:01\n",
      "   --------------- ------------------------ 1.8/4.5 MB 7.6 MB/s eta 0:00:01\n",
      "   ------------------ --------------------- 2.1/4.5 MB 7.9 MB/s eta 0:00:01\n",
      "   ---------------------- ----------------- 2.6/4.5 MB 7.8 MB/s eta 0:00:01\n",
      "   ------------------------- -------------- 2.8/4.5 MB 7.6 MB/s eta 0:00:01\n",
      "   ---------------------------- ----------- 3.2/4.5 MB 7.8 MB/s eta 0:00:01\n",
      "   -------------------------------- ------- 3.7/4.5 MB 7.9 MB/s eta 0:00:01\n",
      "   ------------------------------------ --- 4.1/4.5 MB 7.9 MB/s eta 0:00:01\n",
      "   ---------------------------------------  4.4/4.5 MB 8.0 MB/s eta 0:00:01\n",
      "   ---------------------------------------- 4.5/4.5 MB 7.8 MB/s eta 0:00:00\n",
      "Downloading proto_plus-1.26.1-py3-none-any.whl (50 kB)\n",
      "   ---------------------------------------- 0.0/50.2 kB ? eta -:--:--\n",
      "   ---------------------------------------- 50.2/50.2 kB 2.7 MB/s eta 0:00:00\n",
      "Downloading protobuf-6.32.0-cp310-abi3-win_amd64.whl (435 kB)\n",
      "   ---------------------------------------- 0.0/435.7 kB ? eta -:--:--\n",
      "   ---------------------------------------- 435.7/435.7 kB 9.1 MB/s eta 0:00:00\n",
      "Using cached requests_oauthlib-2.0.0-py2.py3-none-any.whl (24 kB)\n",
      "Downloading oauthlib-3.3.1-py3-none-any.whl (160 kB)\n",
      "   ---------------------------------------- 0.0/160.1 kB ? eta -:--:--\n",
      "   ---------------------------------------- 160.1/160.1 kB 9.4 MB/s eta 0:00:00\n",
      "Installing collected packages: protobuf, packaging, oauthlib, grpcio, google-crc32c, requests-oauthlib, proto-plus, googleapis-common-protos, google-resumable-media, grpcio-status, google-auth-oauthlib, google-api-core, db-dtypes, pydata-google-auth, google-cloud-core, google-cloud-bigquery, pandas-gbq\n",
      "  Attempting uninstall: protobuf\n",
      "    Found existing installation: protobuf 3.20.3\n",
      "    Uninstalling protobuf-3.20.3:\n",
      "      Successfully uninstalled protobuf-3.20.3\n",
      "  Attempting uninstall: packaging\n",
      "    Found existing installation: packaging 23.2\n",
      "    Uninstalling packaging-23.2:\n",
      "      Successfully uninstalled packaging-23.2\n",
      "  Attempting uninstall: grpcio\n",
      "    Found existing installation: grpcio 1.65.1\n",
      "    Uninstalling grpcio-1.65.1:\n",
      "      Successfully uninstalled grpcio-1.65.1\n",
      "Successfully installed db-dtypes-1.4.3 google-api-core-2.25.1 google-auth-oauthlib-1.2.2 google-cloud-bigquery-3.36.0 google-cloud-core-2.4.3 google-crc32c-1.7.1 google-resumable-media-2.7.2 googleapis-common-protos-1.70.0 grpcio-1.74.0 grpcio-status-1.74.0 oauthlib-3.3.1 packaging-25.0 pandas-gbq-0.29.2 proto-plus-1.26.1 protobuf-6.32.0 pydata-google-auth-1.9.1 requests-oauthlib-2.0.0\n"
     ]
    },
    {
     "name": "stderr",
     "output_type": "stream",
     "text": [
      "ERROR: pip's dependency resolver does not currently take into account all the packages that are installed. This behaviour is the source of the following dependency conflicts.\n",
      "mlflow 3.3.1 requires cryptography<46,>=43.0.0, but you have cryptography 42.0.8 which is incompatible.\n",
      "streamlit 1.32.0 requires packaging<24,>=16.8, but you have packaging 25.0 which is incompatible.\n",
      "streamlit 1.32.0 requires protobuf<5,>=3.20, but you have protobuf 6.32.0 which is incompatible.\n",
      "tensorboard 2.17.0 requires protobuf!=4.24.0,<5.0.0,>=3.19.6, but you have protobuf 6.32.0 which is incompatible.\n"
     ]
    }
   ],
   "source": [
    "!pip install pandas-gbq google-cloud-bigquery pyarrow"
   ]
  },
  {
   "cell_type": "code",
   "execution_count": 7,
   "id": "1f583cf5",
   "metadata": {},
   "outputs": [],
   "source": [
    "import polars as pl\n",
    "import os \n",
    "\n",
    "import pandas as pd\n",
    "from pandas_gbq import to_gbq\n",
    "from slugify import slugify\n",
    "import re"
   ]
  },
  {
   "cell_type": "code",
   "execution_count": 3,
   "id": "a5c72621",
   "metadata": {},
   "outputs": [],
   "source": [
    "DATA_PATH = \"../data/food_recsys\""
   ]
  },
  {
   "cell_type": "code",
   "execution_count": 4,
   "id": "79e35d1b",
   "metadata": {},
   "outputs": [],
   "source": [
    "df_recipe = pl.read_csv(os.path.join(DATA_PATH, \"raw\",\"raw-data_recipe.csv\"))\n",
    "df_interaction = pl.read_csv(os.path.join(DATA_PATH, \"raw\", \"raw-data_interaction.csv\"))\n",
    "df_test_rating = pl.read_csv(os.path.join(DATA_PATH, \"raw\",\"core-data-test_rating.csv\"))\n",
    "df_train_rating = pl.read_csv(os.path.join(DATA_PATH, \"raw\",\"core-data-train_rating.csv\"))\n",
    "df_valid_rating = pl.read_csv(os.path.join(DATA_PATH, \"raw\",\"core-data-valid_rating.csv\"))"
   ]
  },
  {
   "cell_type": "code",
   "execution_count": null,
   "id": "219d16c6",
   "metadata": {},
   "outputs": [],
   "source": [
    "def normalize_colnames(cols):\n",
    "    norm = []\n",
    "    for c in cols:\n",
    "        c2 = re.sub(r\"[^0-9a-zA-Z]+\", \"_\", c).strip(\"_\").lower()\n",
    "        norm.append(c2)\n",
    "    return norm\n",
    "\n",
    "def pick_first(df: pl.DataFrame, candidates, default=None):\n",
    "    cols = set(df.columns)\n",
    "    for c in candidates:\n",
    "        if c in cols:\n",
    "            return c\n",
    "    return default\n",
    "\n",
    "def normalize_df(df: pl.DataFrame) -> pl.DataFrame:\n",
    "    return df.rename({old: new for old,new in zip(df.columns, normalize_colnames(df.columns))})\n",
    "\n",
    "df_recipe       = normalize_df(df_recipe)\n",
    "df_interaction  = normalize_df(df_interaction)\n",
    "df_train_rating = normalize_df(df_train_rating)\n",
    "df_valid_rating = normalize_df(df_valid_rating)\n",
    "df_test_rating  = normalize_df(df_test_rating)\n"
   ]
  },
  {
   "cell_type": "code",
   "execution_count": 18,
   "id": "02a319d4",
   "metadata": {},
   "outputs": [],
   "source": [
    "rid  = pick_first(df_recipe, [\"recipe_id\",\"id\",\"rid\"], None)\n",
    "ttl  = pick_first(df_recipe, [\"title\",\"recipe_name\", \"name\"], None)\n",
    "tags = pick_first(df_recipe, [\"tags\",\"tag_list\"], None)\n",
    "ing  = pick_first(df_recipe, [\"ingredients\",\"ingredient\",\"ingr\",\"ing\"], None)\n",
    "img  = pick_first(df_recipe, [\"image_url\",\"img_url\",\"image\",\"picture\"], None)\n",
    "desc = pick_first(df_recipe, [\"description\",\"summary\",\"text\"], None)\n",
    "cook = pick_first(df_recipe, [\"cooking_directions\",\"directions\",\"steps\"], None)\n",
    "nut  = pick_first(df_recipe, [\"nutritions\",\"nutrition\",\"nutrients\"], None)\n",
    "rev  = pick_first(df_recipe, [\"reviews\",\"review\",\"comments\"], None)\n",
    "# aver_rate, review_nums\n"
   ]
  },
  {
   "cell_type": "code",
   "execution_count": 19,
   "id": "aa48632e",
   "metadata": {},
   "outputs": [],
   "source": [
    "if rid is None:\n",
    "    raise ValueError(\"No encontré columna de ID de receta en df_recipe (candidatos: recipe_id/id/rid).\")\n",
    "\n",
    "def safe_str(col): \n",
    "    return pl.when(pl.col(col).is_not_null()).then(pl.col(col).cast(pl.Utf8)).otherwise(pl.lit(\"\"))\n"
   ]
  },
  {
   "cell_type": "code",
   "execution_count": 20,
   "id": "beb69ef8",
   "metadata": {},
   "outputs": [],
   "source": [
    "\n",
    "recipe_cols = [c for c in [rid, ttl, tags, ing, desc, img, cook, nut, rev] if c]\n",
    "recipes_canon = pl.DataFrame({c: df_recipe[c] for c in recipe_cols})\n",
    "\n",
    "combined_parts = []\n",
    "if ttl:  combined_parts.append(pl.lit(\"Title: \")       + safe_str(ttl))\n",
    "if tags: combined_parts.append(pl.lit(\" | Tags: \")     + safe_str(tags))\n",
    "if ing:  combined_parts.append(pl.lit(\" | Ingredients: \")+ safe_str(ing))\n",
    "if desc: combined_parts.append(pl.lit(\" | Desc: \")     + safe_str(desc))\n",
    "if cook: combined_parts.append(pl.lit(\" | Cooking: \")  + safe_str(cook))\n",
    "if nut:  combined_parts.append(pl.lit(\" | Nutrition: \")+ safe_str(nut))\n",
    "if rev:  combined_parts.append(pl.lit(\" | Reviews: \")  + safe_str(rev))\n",
    "\n",
    "combined_text = combined_parts[0]\n",
    "for p in combined_parts[1:]:\n",
    "    combined_text = combined_text + p\n",
    "\n",
    "recipes_canon = recipes_canon.with_columns([\n",
    "    combined_text.alias(\"combined_text\")\n",
    "])"
   ]
  },
  {
   "cell_type": "code",
   "execution_count": 21,
   "id": "a9c1cb7c",
   "metadata": {},
   "outputs": [
    {
     "data": {
      "text/html": [
       "<div><style>\n",
       ".dataframe > thead > tr,\n",
       ".dataframe > tbody > tr {\n",
       "  text-align: right;\n",
       "  white-space: pre-wrap;\n",
       "}\n",
       "</style>\n",
       "<small>shape: (5, 8)</small><table border=\"1\" class=\"dataframe\"><thead><tr><th>recipe_id</th><th>recipe_name</th><th>ingredients</th><th>image_url</th><th>cooking_directions</th><th>nutritions</th><th>reviews</th><th>combined_text</th></tr><tr><td>i64</td><td>str</td><td>str</td><td>str</td><td>str</td><td>str</td><td>str</td><td>str</td></tr></thead><tbody><tr><td>222388</td><td>&quot;Homemade Bacon&quot;</td><td>&quot;pork belly^smoked paprika^kosh…</td><td>&quot;https://images.media-allrecipe…</td><td>&quot;{&#x27;directions&#x27;: u&#x27;Prep\\n5 m\\nCo…</td><td>&quot;{u&#x27;niacin&#x27;: {u&#x27;hasCompleteData…</td><td>&quot;{8542392: {&#x27;rating&#x27;: 5, &#x27;follo…</td><td>&quot;Title: Homemade Bacon | Ingred…</td></tr><tr><td>240488</td><td>&quot;Pork Loin, Apples, and Sauerkr…</td><td>&quot;sauerkraut drained^Granny Smit…</td><td>&quot;https://images.media-allrecipe…</td><td>&quot;{&#x27;directions&#x27;: u&#x27;Prep\\n15 m\\nC…</td><td>&quot;{u&#x27;niacin&#x27;: {u&#x27;hasCompleteData…</td><td>&quot;{3574785: {&#x27;rating&#x27;: 5, &#x27;follo…</td><td>&quot;Title: Pork Loin, Apples, and …</td></tr><tr><td>218939</td><td>&quot;Foolproof Rosemary Chicken Win…</td><td>&quot;chicken wings^sprigs rosemary^…</td><td>&quot;https://images.media-allrecipe…</td><td>&quot;{&#x27;directions&#x27;: u&quot;Prep\\n20 m\\nC…</td><td>&quot;{u&#x27;niacin&#x27;: {u&#x27;hasCompleteData…</td><td>&quot;{13774946: {&#x27;rating&#x27;: 5, &#x27;foll…</td><td>&quot;Title: Foolproof Rosemary Chic…</td></tr><tr><td>87211</td><td>&quot;Chicken Pesto Paninis&quot;</td><td>&quot;focaccia bread quartered^prepa…</td><td>&quot;https://images.media-allrecipe…</td><td>&quot;{&#x27;directions&#x27;: u&#x27;Prep\\n15 m\\nC…</td><td>&quot;{u&#x27;niacin&#x27;: {u&#x27;hasCompleteData…</td><td>&quot;{1563136: {&#x27;rating&#x27;: 5, &#x27;follo…</td><td>&quot;Title: Chicken Pesto Paninis |…</td></tr><tr><td>245714</td><td>&quot;Potato Bacon Pizza&quot;</td><td>&quot;red potatoes^strips bacon^Sauc…</td><td>&quot;https://images.media-allrecipe…</td><td>&quot;{&#x27;directions&#x27;: u&#x27;Prep\\n20 m\\nC…</td><td>&quot;{u&#x27;niacin&#x27;: {u&#x27;hasCompleteData…</td><td>&quot;{2945555: {&#x27;rating&#x27;: 5, &#x27;follo…</td><td>&quot;Title: Potato Bacon Pizza | In…</td></tr></tbody></table></div>"
      ],
      "text/plain": [
       "shape: (5, 8)\n",
       "┌───────────┬────────────┬────────────┬────────────┬───────────┬───────────┬───────────┬───────────┐\n",
       "│ recipe_id ┆ recipe_nam ┆ ingredient ┆ image_url  ┆ cooking_d ┆ nutrition ┆ reviews   ┆ combined_ │\n",
       "│ ---       ┆ e          ┆ s          ┆ ---        ┆ irections ┆ s         ┆ ---       ┆ text      │\n",
       "│ i64       ┆ ---        ┆ ---        ┆ str        ┆ ---       ┆ ---       ┆ str       ┆ ---       │\n",
       "│           ┆ str        ┆ str        ┆            ┆ str       ┆ str       ┆           ┆ str       │\n",
       "╞═══════════╪════════════╪════════════╪════════════╪═══════════╪═══════════╪═══════════╪═══════════╡\n",
       "│ 222388    ┆ Homemade   ┆ pork belly ┆ https://im ┆ {'directi ┆ {u'niacin ┆ {8542392: ┆ Title:    │\n",
       "│           ┆ Bacon      ┆ ^smoked    ┆ ages.media ┆ ons':     ┆ ': {u'has ┆ {'rating' ┆ Homemade  │\n",
       "│           ┆            ┆ paprika^ko ┆ -allrecipe ┆ u'Prep\\n5 ┆ CompleteD ┆ : 5,      ┆ Bacon |   │\n",
       "│           ┆            ┆ sh…        ┆ …          ┆ m\\nCo…    ┆ ata…      ┆ 'follo…   ┆ Ingred…   │\n",
       "│ 240488    ┆ Pork Loin, ┆ sauerkraut ┆ https://im ┆ {'directi ┆ {u'niacin ┆ {3574785: ┆ Title:    │\n",
       "│           ┆ Apples,    ┆ drained^Gr ┆ ages.media ┆ ons': u'P ┆ ': {u'has ┆ {'rating' ┆ Pork      │\n",
       "│           ┆ and        ┆ anny Smit… ┆ -allrecipe ┆ rep\\n15   ┆ CompleteD ┆ : 5,      ┆ Loin,     │\n",
       "│           ┆ Sauerkr…   ┆            ┆ …          ┆ m\\nC…     ┆ ata…      ┆ 'follo…   ┆ Apples,   │\n",
       "│           ┆            ┆            ┆            ┆           ┆           ┆           ┆ and …     │\n",
       "│ 218939    ┆ Foolproof  ┆ chicken    ┆ https://im ┆ {'directi ┆ {u'niacin ┆ {13774946 ┆ Title:    │\n",
       "│           ┆ Rosemary   ┆ wings^spri ┆ ages.media ┆ ons': u\"P ┆ ': {u'has ┆ : {'ratin ┆ Foolproof │\n",
       "│           ┆ Chicken    ┆ gs         ┆ -allrecipe ┆ rep\\n20   ┆ CompleteD ┆ g': 5,    ┆ Rosemary  │\n",
       "│           ┆ Win…       ┆ rosemary^… ┆ …          ┆ m\\nC…     ┆ ata…      ┆ 'foll…    ┆ Chic…     │\n",
       "│ 87211     ┆ Chicken    ┆ focaccia   ┆ https://im ┆ {'directi ┆ {u'niacin ┆ {1563136: ┆ Title:    │\n",
       "│           ┆ Pesto      ┆ bread quar ┆ ages.media ┆ ons': u'P ┆ ': {u'has ┆ {'rating' ┆ Chicken   │\n",
       "│           ┆ Paninis    ┆ tered^prep ┆ -allrecipe ┆ rep\\n15   ┆ CompleteD ┆ : 5,      ┆ Pesto     │\n",
       "│           ┆            ┆ a…         ┆ …          ┆ m\\nC…     ┆ ata…      ┆ 'follo…   ┆ Paninis   │\n",
       "│           ┆            ┆            ┆            ┆           ┆           ┆           ┆ |…        │\n",
       "│ 245714    ┆ Potato     ┆ red potato ┆ https://im ┆ {'directi ┆ {u'niacin ┆ {2945555: ┆ Title:    │\n",
       "│           ┆ Bacon      ┆ es^strips  ┆ ages.media ┆ ons': u'P ┆ ': {u'has ┆ {'rating' ┆ Potato    │\n",
       "│           ┆ Pizza      ┆ bacon^Sauc ┆ -allrecipe ┆ rep\\n20   ┆ CompleteD ┆ : 5,      ┆ Bacon     │\n",
       "│           ┆            ┆ …          ┆ …          ┆ m\\nC…     ┆ ata…      ┆ 'follo…   ┆ Pizza |   │\n",
       "│           ┆            ┆            ┆            ┆           ┆           ┆           ┆ In…       │\n",
       "└───────────┴────────────┴────────────┴────────────┴───────────┴───────────┴───────────┴───────────┘"
      ]
     },
     "execution_count": 21,
     "metadata": {},
     "output_type": "execute_result"
    }
   ],
   "source": [
    "recipes_canon.head()"
   ]
  },
  {
   "cell_type": "code",
   "execution_count": 22,
   "id": "5d1eb0df",
   "metadata": {},
   "outputs": [],
   "source": [
    "recipes_canon = recipes_canon.rename({rid: \"recipe_id\"})\n",
    "if ttl:  recipes_canon = recipes_canon.rename({ttl: \"title\"})\n",
    "if tags: recipes_canon = recipes_canon.rename({tags: \"tags\"})\n",
    "if ing:  recipes_canon = recipes_canon.rename({ing: \"ingredients\"})\n",
    "if desc: recipes_canon = recipes_canon.rename({desc: \"description\"})\n",
    "if img:  recipes_canon = recipes_canon.rename({img: \"image_url\"})\n",
    "if cook: recipes_canon = recipes_canon.rename({cook: \"cooking_directions\"})\n",
    "if nut:  recipes_canon = recipes_canon.rename({nut: \"nutritions\"})\n",
    "if rev:  recipes_canon = recipes_canon.rename({rev: \"reviews\"})\n"
   ]
  },
  {
   "cell_type": "code",
   "execution_count": 24,
   "id": "fdd5296a",
   "metadata": {},
   "outputs": [],
   "source": [
    "def canon_interactions(df: pl.DataFrame, split_name: str) -> pl.DataFrame:\n",
    "    df = df.clone()\n",
    "    df = normalize_df(df)\n",
    "    uid = pick_first(df, [\"user_id\",\"uid\",\"user\"], None)\n",
    "    rid = pick_first(df, [\"recipe_id\",\"rid\",\"item_id\",\"iid\"], None)\n",
    "    rat = pick_first(df, [\"rating\",\"score\",\"stars\",\"y\"], None)\n",
    "    ts  = pick_first(df, [\"timestamp\",\"ts\",\"time\"], None)\n",
    "\n",
    "    cols = {}\n",
    "    if uid is None or rid is None:\n",
    "        raise ValueError(f\"Faltan columnas en interacciones ({split_name}): user_id y/o recipe_id.\")\n",
    "    cols[\"user_id\"] = df[uid]\n",
    "    cols[\"recipe_id\"] = df[rid]\n",
    "\n",
    "    if rat: cols[\"rating\"] = df[rat].cast(pl.Float64)\n",
    "    if ts:  cols[\"timestamp\"] = df[ts]\n",
    "\n",
    "    out = pl.DataFrame(cols).with_columns([pl.lit(split_name).alias(\"split\")])\n",
    "    return out\n",
    "\n",
    "df_inter_train = canon_interactions(df_train_rating, \"train\")\n",
    "df_inter_valid = canon_interactions(df_valid_rating, \"valid\")\n",
    "df_inter_test  = canon_interactions(df_test_rating, \"test\")"
   ]
  },
  {
   "cell_type": "code",
   "execution_count": null,
   "id": "647be7e3",
   "metadata": {},
   "outputs": [
    {
     "name": "stdout",
     "output_type": "stream",
     "text": [
      "Tamaños:\n",
      "recipes: 49698\n",
      "interactions: 4887848\n"
     ]
    }
   ],
   "source": [
    "try:\n",
    "    df_inter_full = canon_interactions(df_interaction, \"raw\")\n",
    "    interactions_canon = pl.concat([df_inter_train, df_inter_valid, df_inter_test, df_inter_full], how=\"diagonal_relaxed\")\n",
    "except Exception:\n",
    "    interactions_canon = pl.concat([df_inter_train, df_inter_valid, df_inter_test], how=\"diagonal_relaxed\")\n",
    "\n",
    "interactions_canon = interactions_canon.with_columns([\n",
    "    pl.col(\"user_id\").cast(pl.Utf8),\n",
    "    pl.col(\"recipe_id\").cast(pl.Utf8)\n",
    "]).unique(subset=[\"user_id\",\"recipe_id\",\"split\"], keep=\"first\")\n",
    "\n",
    "recipes_canon = recipes_canon.with_columns([\n",
    "    pl.col(\"recipe_id\").cast(pl.Utf8)\n",
    "]).unique(subset=[\"recipe_id\"], keep=\"first\")\n",
    "\n",
    "print(\"Tamaños:\")\n",
    "print(\"recipes:\", recipes_canon.height)\n",
    "print(\"interactions:\", interactions_canon.height)"
   ]
  },
  {
   "cell_type": "code",
   "execution_count": 29,
   "id": "3027f4fb",
   "metadata": {},
   "outputs": [
    {
     "data": {
      "text/plain": [
       "['recipe_id',\n",
       " 'title',\n",
       " 'ingredients',\n",
       " 'image_url',\n",
       " 'cooking_directions',\n",
       " 'nutritions',\n",
       " 'reviews',\n",
       " 'combined_text']"
      ]
     },
     "execution_count": 29,
     "metadata": {},
     "output_type": "execute_result"
    }
   ],
   "source": [
    "recipes_canon.columns"
   ]
  },
  {
   "cell_type": "markdown",
   "id": "677ab1a0",
   "metadata": {},
   "source": [
    "Subida Bigquery"
   ]
  },
  {
   "cell_type": "code",
   "execution_count": 30,
   "id": "19beefac",
   "metadata": {},
   "outputs": [],
   "source": [
    "PROJECT_ID = \"kaggle-bigquery-471522\"\n",
    "BQ_DATASET = \"foodrecsys\"        # cambia si quieres\n",
    "IF_EXISTS  = \"replace\"   "
   ]
  },
  {
   "cell_type": "code",
   "execution_count": 33,
   "id": "2ad1c393",
   "metadata": {},
   "outputs": [
    {
     "name": "stdout",
     "output_type": "stream",
     "text": [
      "Please visit this URL to authorize this application: https://accounts.google.com/o/oauth2/auth?response_type=code&client_id=262006177488-3425ks60hkk80fssi9vpohv88g6q1iqd.apps.googleusercontent.com&redirect_uri=http%3A%2F%2Flocalhost%3A8080%2F&scope=https%3A%2F%2Fwww.googleapis.com%2Fauth%2Fbigquery&state=pWeiqrfW549KRkTpCSTdBMlX1hvmEg&prompt=consent&access_type=offline\n"
     ]
    },
    {
     "name": "stderr",
     "output_type": "stream",
     "text": [
      "100%|██████████| 1/1 [00:00<00:00, 1001.98it/s]\n",
      "100%|██████████| 1/1 [00:00<?, ?it/s]"
     ]
    },
    {
     "name": "stdout",
     "output_type": "stream",
     "text": [
      "✓ Subido a BigQuery: foodrecsys.recipes (con combined_text) y foodrecsys.interactions (con split)\n"
     ]
    },
    {
     "name": "stderr",
     "output_type": "stream",
     "text": [
      "\n"
     ]
    }
   ],
   "source": [
    "p_rec = recipes_canon.to_pandas()\n",
    "p_int = interactions_canon.to_pandas()\n",
    "\n",
    "# Tipos para BQ\n",
    "p_rec = p_rec.astype({\n",
    "    \"recipe_id\": \"string\",\n",
    "    \"title\": \"string\",\n",
    "    #\"tags\": \"string\",\n",
    "    \"ingredients\": \"string\",\n",
    "    #\"description\": \"string\",\n",
    "    \"combined_text\": \"string\",\n",
    "    \"image_url\": \"string\",\n",
    "    \"cooking_directions\": \"string\",\n",
    "    \"nutritions\": \"string\",\n",
    "    \"reviews\": \"string\"\n",
    "}, errors=\"ignore\")\n",
    "\n",
    "# timestamp a datetime si existe\n",
    "if \"timestamp\" in p_int.columns:\n",
    "    p_int[\"timestamp\"] = pd.to_datetime(p_int[\"timestamp\"], errors=\"coerce\")\n",
    "\n",
    "p_int = p_int.astype({\n",
    "    \"user_id\": \"string\",\n",
    "    \"recipe_id\": \"string\",\n",
    "    \"rating\": \"float64\",\n",
    "    \"split\": \"string\"\n",
    "}, errors=\"ignore\")\n",
    "\n",
    "# Subida\n",
    "to_gbq(p_rec, f\"{BQ_DATASET}.recipes\", project_id=PROJECT_ID, if_exists=IF_EXISTS)\n",
    "to_gbq(p_int, f\"{BQ_DATASET}.interactions\", project_id=PROJECT_ID, if_exists=IF_EXISTS)\n",
    "\n",
    "print(\"✓ Subido a BigQuery: \"\n",
    "      f\"{BQ_DATASET}.recipes (con combined_text) y {BQ_DATASET}.interactions (con split)\")"
   ]
  }
 ],
 "metadata": {
  "kernelspec": {
   "display_name": "base",
   "language": "python",
   "name": "python3"
  },
  "language_info": {
   "codemirror_mode": {
    "name": "ipython",
    "version": 3
   },
   "file_extension": ".py",
   "mimetype": "text/x-python",
   "name": "python",
   "nbconvert_exporter": "python",
   "pygments_lexer": "ipython3",
   "version": "3.12.4"
  }
 },
 "nbformat": 4,
 "nbformat_minor": 5
}
