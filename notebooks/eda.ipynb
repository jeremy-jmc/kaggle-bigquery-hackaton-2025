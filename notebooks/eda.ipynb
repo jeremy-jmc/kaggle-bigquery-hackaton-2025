{
 "cells": [
  {
   "cell_type": "code",
   "execution_count": 3,
   "id": "b310e2f4",
   "metadata": {},
   "outputs": [],
   "source": [
    "from ydata_profiling import ProfileReport\n",
    "import polars as pl\n",
    "import os "
   ]
  },
  {
   "cell_type": "code",
   "execution_count": 35,
   "id": "2d77c170",
   "metadata": {},
   "outputs": [
    {
     "data": {
      "text/plain": [
       "polars.config.Config"
      ]
     },
     "execution_count": 35,
     "metadata": {},
     "output_type": "execute_result"
    }
   ],
   "source": [
    "pl.Config.set_tbl_cols(10)"
   ]
  },
  {
   "cell_type": "code",
   "execution_count": 4,
   "id": "6bfbf92a",
   "metadata": {},
   "outputs": [],
   "source": [
    "DATA_PATH = \"../data/\""
   ]
  },
  {
   "cell_type": "code",
   "execution_count": 17,
   "id": "fd4060b6",
   "metadata": {},
   "outputs": [],
   "source": [
    "df_recipe = pl.read_csv(os.path.join(DATA_PATH, \"raw\",\"raw-data_recipe.csv\"))\n",
    "df_interaction = pl.read_csv(os.path.join(DATA_PATH, \"raw\", \"raw-data_interaction.csv\"))\n",
    "df_test_rating = pl.read_csv(os.path.join(DATA_PATH, \"raw\",\"core-data-test_rating.csv\"))\n",
    "df_train_rating = pl.read_csv(os.path.join(DATA_PATH, \"raw\",\"core-data-train_rating.csv\"))\n",
    "df_valid_rating = pl.read_csv(os.path.join(DATA_PATH, \"raw\",\"core-data-valid_rating.csv\"))"
   ]
  },
  {
   "cell_type": "code",
   "execution_count": 6,
   "id": "2a91912f",
   "metadata": {},
   "outputs": [
    {
     "data": {
      "text/html": [
       "<div><style>\n",
       ".dataframe > thead > tr,\n",
       ".dataframe > tbody > tr {\n",
       "  text-align: right;\n",
       "  white-space: pre-wrap;\n",
       "}\n",
       "</style>\n",
       "<small>shape: (5, 9)</small><table border=\"1\" class=\"dataframe\"><thead><tr><th>recipe_id</th><th>recipe_name</th><th>aver_rate</th><th>image_url</th><th>review_nums</th><th>ingredients</th><th>cooking_directions</th><th>nutritions</th><th>reviews</th></tr><tr><td>i64</td><td>str</td><td>f64</td><td>str</td><td>i64</td><td>str</td><td>str</td><td>str</td><td>str</td></tr></thead><tbody><tr><td>222388</td><td>&quot;Homemade Bacon&quot;</td><td>5.0</td><td>&quot;https://images.media-allrecipe…</td><td>3</td><td>&quot;pork belly^smoked paprika^kosh…</td><td>&quot;{&#x27;directions&#x27;: u&#x27;Prep\\n5 m\\nCo…</td><td>&quot;{u&#x27;niacin&#x27;: {u&#x27;hasCompleteData…</td><td>&quot;{8542392: {&#x27;rating&#x27;: 5, &#x27;follo…</td></tr><tr><td>240488</td><td>&quot;Pork Loin, Apples, and Sauerkr…</td><td>4.764706</td><td>&quot;https://images.media-allrecipe…</td><td>29</td><td>&quot;sauerkraut drained^Granny Smit…</td><td>&quot;{&#x27;directions&#x27;: u&#x27;Prep\\n15 m\\nC…</td><td>&quot;{u&#x27;niacin&#x27;: {u&#x27;hasCompleteData…</td><td>&quot;{3574785: {&#x27;rating&#x27;: 5, &#x27;follo…</td></tr><tr><td>218939</td><td>&quot;Foolproof Rosemary Chicken Win…</td><td>4.571429</td><td>&quot;https://images.media-allrecipe…</td><td>12</td><td>&quot;chicken wings^sprigs rosemary^…</td><td>&quot;{&#x27;directions&#x27;: u&quot;Prep\\n20 m\\nC…</td><td>&quot;{u&#x27;niacin&#x27;: {u&#x27;hasCompleteData…</td><td>&quot;{13774946: {&#x27;rating&#x27;: 5, &#x27;foll…</td></tr><tr><td>87211</td><td>&quot;Chicken Pesto Paninis&quot;</td><td>4.625</td><td>&quot;https://images.media-allrecipe…</td><td>163</td><td>&quot;focaccia bread quartered^prepa…</td><td>&quot;{&#x27;directions&#x27;: u&#x27;Prep\\n15 m\\nC…</td><td>&quot;{u&#x27;niacin&#x27;: {u&#x27;hasCompleteData…</td><td>&quot;{1563136: {&#x27;rating&#x27;: 5, &#x27;follo…</td></tr><tr><td>245714</td><td>&quot;Potato Bacon Pizza&quot;</td><td>4.5</td><td>&quot;https://images.media-allrecipe…</td><td>2</td><td>&quot;red potatoes^strips bacon^Sauc…</td><td>&quot;{&#x27;directions&#x27;: u&#x27;Prep\\n20 m\\nC…</td><td>&quot;{u&#x27;niacin&#x27;: {u&#x27;hasCompleteData…</td><td>&quot;{2945555: {&#x27;rating&#x27;: 5, &#x27;follo…</td></tr></tbody></table></div>"
      ],
      "text/plain": [
       "shape: (5, 9)\n",
       "┌───────────┬───────────┬───────────┬───────────┬───┬───────────┬───────────┬───────────┬──────────┐\n",
       "│ recipe_id ┆ recipe_na ┆ aver_rate ┆ image_url ┆ … ┆ ingredien ┆ cooking_d ┆ nutrition ┆ reviews  │\n",
       "│ ---       ┆ me        ┆ ---       ┆ ---       ┆   ┆ ts        ┆ irections ┆ s         ┆ ---      │\n",
       "│ i64       ┆ ---       ┆ f64       ┆ str       ┆   ┆ ---       ┆ ---       ┆ ---       ┆ str      │\n",
       "│           ┆ str       ┆           ┆           ┆   ┆ str       ┆ str       ┆ str       ┆          │\n",
       "╞═══════════╪═══════════╪═══════════╪═══════════╪═══╪═══════════╪═══════════╪═══════════╪══════════╡\n",
       "│ 222388    ┆ Homemade  ┆ 5.0       ┆ https://i ┆ … ┆ pork bell ┆ {'directi ┆ {u'niacin ┆ {8542392 │\n",
       "│           ┆ Bacon     ┆           ┆ mages.med ┆   ┆ y^smoked  ┆ ons':     ┆ ': {u'has ┆ : {'rati │\n",
       "│           ┆           ┆           ┆ ia-allrec ┆   ┆ paprika^k ┆ u'Prep\\n5 ┆ CompleteD ┆ ng': 5,  │\n",
       "│           ┆           ┆           ┆ ipe…      ┆   ┆ osh…      ┆ m\\nCo…    ┆ ata…      ┆ 'follo…  │\n",
       "│ 240488    ┆ Pork      ┆ 4.764706  ┆ https://i ┆ … ┆ sauerkrau ┆ {'directi ┆ {u'niacin ┆ {3574785 │\n",
       "│           ┆ Loin,     ┆           ┆ mages.med ┆   ┆ t drained ┆ ons': u'P ┆ ': {u'has ┆ : {'rati │\n",
       "│           ┆ Apples,   ┆           ┆ ia-allrec ┆   ┆ ^Granny   ┆ rep\\n15   ┆ CompleteD ┆ ng': 5,  │\n",
       "│           ┆ and       ┆           ┆ ipe…      ┆   ┆ Smit…     ┆ m\\nC…     ┆ ata…      ┆ 'follo…  │\n",
       "│           ┆ Sauerkr…  ┆           ┆           ┆   ┆           ┆           ┆           ┆          │\n",
       "│ 218939    ┆ Foolproof ┆ 4.571429  ┆ https://i ┆ … ┆ chicken   ┆ {'directi ┆ {u'niacin ┆ {1377494 │\n",
       "│           ┆ Rosemary  ┆           ┆ mages.med ┆   ┆ wings^spr ┆ ons': u\"P ┆ ': {u'has ┆ 6: {'rat │\n",
       "│           ┆ Chicken   ┆           ┆ ia-allrec ┆   ┆ igs rosem ┆ rep\\n20   ┆ CompleteD ┆ ing': 5, │\n",
       "│           ┆ Win…      ┆           ┆ ipe…      ┆   ┆ ary^…     ┆ m\\nC…     ┆ ata…      ┆ 'foll…   │\n",
       "│ 87211     ┆ Chicken   ┆ 4.625     ┆ https://i ┆ … ┆ focaccia  ┆ {'directi ┆ {u'niacin ┆ {1563136 │\n",
       "│           ┆ Pesto     ┆           ┆ mages.med ┆   ┆ bread qua ┆ ons': u'P ┆ ': {u'has ┆ : {'rati │\n",
       "│           ┆ Paninis   ┆           ┆ ia-allrec ┆   ┆ rtered^pr ┆ rep\\n15   ┆ CompleteD ┆ ng': 5,  │\n",
       "│           ┆           ┆           ┆ ipe…      ┆   ┆ epa…      ┆ m\\nC…     ┆ ata…      ┆ 'follo…  │\n",
       "│ 245714    ┆ Potato    ┆ 4.5       ┆ https://i ┆ … ┆ red potat ┆ {'directi ┆ {u'niacin ┆ {2945555 │\n",
       "│           ┆ Bacon     ┆           ┆ mages.med ┆   ┆ oes^strip ┆ ons': u'P ┆ ': {u'has ┆ : {'rati │\n",
       "│           ┆ Pizza     ┆           ┆ ia-allrec ┆   ┆ s bacon^S ┆ rep\\n20   ┆ CompleteD ┆ ng': 5,  │\n",
       "│           ┆           ┆           ┆ ipe…      ┆   ┆ auc…      ┆ m\\nC…     ┆ ata…      ┆ 'follo…  │\n",
       "└───────────┴───────────┴───────────┴───────────┴───┴───────────┴───────────┴───────────┴──────────┘"
      ]
     },
     "execution_count": 6,
     "metadata": {},
     "output_type": "execute_result"
    }
   ],
   "source": [
    "df_recipe.head()"
   ]
  },
  {
   "cell_type": "code",
   "execution_count": 18,
   "id": "c60bcb88",
   "metadata": {},
   "outputs": [
    {
     "data": {
      "text/html": [
       "<div><style>\n",
       ".dataframe > thead > tr,\n",
       ".dataframe > tbody > tr {\n",
       "  text-align: right;\n",
       "  white-space: pre-wrap;\n",
       "}\n",
       "</style>\n",
       "<small>shape: (5, 4)</small><table border=\"1\" class=\"dataframe\"><thead><tr><th>user_id</th><th>recipe_id</th><th>rating</th><th>dateLastModified</th></tr><tr><td>i64</td><td>i64</td><td>i64</td><td>str</td></tr></thead><tbody><tr><td>8542392</td><td>222388</td><td>5</td><td>&quot;2017-04-22T12:46:43.663\n",
       "&quot;</td></tr><tr><td>11174581</td><td>222388</td><td>5</td><td>&quot;2013-06-20T15:50:25.96\n",
       "&quot;</td></tr><tr><td>8262477</td><td>222388</td><td>5</td><td>&quot;2015-02-14T07:27:51.307\n",
       "&quot;</td></tr><tr><td>3574785</td><td>240488</td><td>5</td><td>&quot;2017-10-07T18:20:08.973\n",
       "&quot;</td></tr><tr><td>12145410</td><td>240488</td><td>2</td><td>&quot;2018-01-06T00:06:09.563\n",
       "&quot;</td></tr></tbody></table></div>"
      ],
      "text/plain": [
       "shape: (5, 4)\n",
       "┌──────────┬───────────┬────────┬─────────────────────────┐\n",
       "│ user_id  ┆ recipe_id ┆ rating ┆ dateLastModified        │\n",
       "│ ---      ┆ ---       ┆ ---    ┆ ---                     │\n",
       "│ i64      ┆ i64       ┆ i64    ┆ str                     │\n",
       "╞══════════╪═══════════╪════════╪═════════════════════════╡\n",
       "│ 8542392  ┆ 222388    ┆ 5      ┆ 2017-04-22T12:46:43.663 │\n",
       "│          ┆           ┆        ┆                         │\n",
       "│ 11174581 ┆ 222388    ┆ 5      ┆ 2013-06-20T15:50:25.96  │\n",
       "│          ┆           ┆        ┆                         │\n",
       "│ 8262477  ┆ 222388    ┆ 5      ┆ 2015-02-14T07:27:51.307 │\n",
       "│          ┆           ┆        ┆                         │\n",
       "│ 3574785  ┆ 240488    ┆ 5      ┆ 2017-10-07T18:20:08.973 │\n",
       "│          ┆           ┆        ┆                         │\n",
       "│ 12145410 ┆ 240488    ┆ 2      ┆ 2018-01-06T00:06:09.563 │\n",
       "│          ┆           ┆        ┆                         │\n",
       "└──────────┴───────────┴────────┴─────────────────────────┘"
      ]
     },
     "execution_count": 18,
     "metadata": {},
     "output_type": "execute_result"
    }
   ],
   "source": [
    "df_interaction.head()"
   ]
  },
  {
   "cell_type": "code",
   "execution_count": 19,
   "id": "54f7f945",
   "metadata": {},
   "outputs": [],
   "source": [
    "df_recipe = df_recipe.with_columns(pl.col(\"recipe_id\").cast(pl.Utf8))\n",
    "df_interaction = df_interaction.with_columns(pl.col(\"user_id\").cast(pl.Utf8), pl.col(\"recipe_id\").cast(pl.Utf8), pl.col(\"dateLastModified\").cast(pl.Datetime))\n",
    "df_test_rating = df_test_rating.with_columns(pl.col(\"dateLastModified\").cast(pl.Datetime), pl.col(\"user_id\").cast(pl.Utf8), pl.col(\"recipe_id\").cast(pl.Utf8))\n",
    "df_train_rating = df_train_rating.with_columns(pl.col(\"dateLastModified\").cast(pl.Datetime), pl.col(\"user_id\").cast(pl.Utf8), pl.col(\"recipe_id\").cast(pl.Utf8))\n",
    "df_valid_rating = df_valid_rating.with_columns(pl.col(\"dateLastModified\").cast(pl.Datetime), pl.col(\"user_id\").cast(pl.Utf8), pl.col(\"recipe_id\").cast(pl.Utf8))"
   ]
  },
  {
   "cell_type": "code",
   "execution_count": 22,
   "id": "eaf518c8",
   "metadata": {},
   "outputs": [
    {
     "name": "stdout",
     "output_type": "stream",
     "text": [
      "TRAIN\n",
      "shape: (1, 2)\n",
      "┌─────────────────────────┬─────────────────────────┐\n",
      "│ min                     ┆ max                     │\n",
      "│ ---                     ┆ ---                     │\n",
      "│ datetime[μs]            ┆ datetime[μs]            │\n",
      "╞═════════════════════════╪═════════════════════════╡\n",
      "│ 2000-02-08 12:09:11.987 ┆ 2011-10-14 17:43:08.433 │\n",
      "└─────────────────────────┴─────────────────────────┘\n",
      "(676946, 4)\n",
      "VALID\n",
      "shape: (1, 2)\n",
      "┌─────────────────────────┬─────────────────────────┐\n",
      "│ min                     ┆ max                     │\n",
      "│ ---                     ┆ ---                     │\n",
      "│ datetime[μs]            ┆ datetime[μs]            │\n",
      "╞═════════════════════════╪═════════════════════════╡\n",
      "│ 2011-10-14 17:46:56.443 ┆ 2013-01-31 22:23:27.613 │\n",
      "└─────────────────────────┴─────────────────────────┘\n",
      "(133459, 4)\n",
      "TEST\n",
      "shape: (1, 2)\n",
      "┌─────────────────────────┬─────────────────────────┐\n",
      "│ min                     ┆ max                     │\n",
      "│ ---                     ┆ ---                     │\n",
      "│ datetime[μs]            ┆ datetime[μs]            │\n",
      "╞═════════════════════════╪═════════════════════════╡\n",
      "│ 2013-01-31 22:55:07.660 ┆ 2018-03-15 03:09:12.853 │\n",
      "└─────────────────────────┴─────────────────────────┘\n",
      "(283440, 4)\n",
      "INTERACTION\n",
      "shape: (1, 2)\n",
      "┌─────────────────────────┬─────────────────────────┐\n",
      "│ min                     ┆ max                     │\n",
      "│ ---                     ┆ ---                     │\n",
      "│ datetime[μs]            ┆ datetime[μs]            │\n",
      "╞═════════════════════════╪═════════════════════════╡\n",
      "│ 2000-02-07 21:06:30.137 ┆ 2018-03-16 07:19:52.260 │\n",
      "└─────────────────────────┴─────────────────────────┘\n",
      "(3794003, 4)\n"
     ]
    }
   ],
   "source": [
    "# dates in train test and val \n",
    "print(\"TRAIN\")\n",
    "print(df_train_rating.select(pl.col(\"dateLastModified\").min().alias(\"min\"), pl.col(\"dateLastModified\").max().alias(\"max\")))\n",
    "print(df_train_rating.shape)\n",
    "print(\"VALID\")\n",
    "print(df_valid_rating.select(pl.col(\"dateLastModified\").min().alias(\"min\"), pl.col(\"dateLastModified\").max().alias(\"max\")))\n",
    "print(df_valid_rating.shape)\n",
    "print(\"TEST\")\n",
    "print(df_test_rating.select(pl.col(\"dateLastModified\").min().alias(\"min\"), pl.col(\"dateLastModified\").max().alias(\"max\")))\n",
    "print(df_test_rating.shape)\n",
    "print(\"INTERACTION\")\n",
    "print(df_interaction.select(pl.col(\"dateLastModified\").min().alias(\"min\"), pl.col(\"dateLastModified\").max().alias(\"max\")))\n",
    "print(df_interaction.shape)"
   ]
  },
  {
   "cell_type": "code",
   "execution_count": 25,
   "id": "39149c4a",
   "metadata": {},
   "outputs": [
    {
     "name": "stdout",
     "output_type": "stream",
     "text": [
      " train valid test 1093845 VS total interactions 3794003\n"
     ]
    }
   ],
   "source": [
    "print(f\" train valid test {df_train_rating.shape[0] + df_valid_rating.shape[0] + df_test_rating.shape[0]} VS total interactions {df_interaction.shape[0]}\")"
   ]
  },
  {
   "cell_type": "code",
   "execution_count": 26,
   "id": "33c99795",
   "metadata": {},
   "outputs": [
    {
     "name": "stdout",
     "output_type": "stream",
     "text": [
      "TRAIN\n",
      "shape: (1, 1)\n",
      "┌──────────────────┐\n",
      "│ n_unique_recipes │\n",
      "│ ---              │\n",
      "│ u32              │\n",
      "╞══════════════════╡\n",
      "│ 29093            │\n",
      "└──────────────────┘\n",
      "VALID\n",
      "shape: (1, 1)\n",
      "┌──────────────────┐\n",
      "│ n_unique_recipes │\n",
      "│ ---              │\n",
      "│ u32              │\n",
      "╞══════════════════╡\n",
      "│ 22684            │\n",
      "└──────────────────┘\n",
      "TEST\n",
      "shape: (1, 1)\n",
      "┌──────────────────┐\n",
      "│ n_unique_recipes │\n",
      "│ ---              │\n",
      "│ u32              │\n",
      "╞══════════════════╡\n",
      "│ 37342            │\n",
      "└──────────────────┘\n",
      "INTERACTION\n",
      "shape: (1, 1)\n",
      "┌──────────────────┐\n",
      "│ n_unique_recipes │\n",
      "│ ---              │\n",
      "│ u32              │\n",
      "╞══════════════════╡\n",
      "│ 49698            │\n",
      "└──────────────────┘\n"
     ]
    }
   ],
   "source": [
    "# checking availability of recipes in each split\n",
    "print(\"TRAIN\")\n",
    "print(df_train_rating.select(pl.col(\"recipe_id\").n_unique().alias(\"n_unique_recipes\")))\n",
    "print(\"VALID\")\n",
    "print(df_valid_rating.select(pl.col(\"recipe_id\").n_unique().alias(\"n_unique_recipes\")))\n",
    "print(\"TEST\")\n",
    "print(df_test_rating.select(pl.col(\"recipe_id\").n_unique().alias(\"n_unique_recipes\")))\n",
    "print(\"INTERACTION\")\n",
    "print(df_interaction.select(pl.col(\"recipe_id\").n_unique().alias(\"n_unique_recipes\")))"
   ]
  },
  {
   "cell_type": "code",
   "execution_count": 40,
   "id": "51fd595f",
   "metadata": {},
   "outputs": [
    {
     "data": {
      "text/html": [
       "<div><style>\n",
       ".dataframe > thead > tr,\n",
       ".dataframe > tbody > tr {\n",
       "  text-align: right;\n",
       "  white-space: pre-wrap;\n",
       "}\n",
       "</style>\n",
       "<small>shape: (5, 4)</small><table border=\"1\" class=\"dataframe\"><thead><tr><th>user_id</th><th>recipe_id</th><th>rating</th><th>dateLastModified</th></tr><tr><td>str</td><td>str</td><td>i64</td><td>datetime[μs]</td></tr></thead><tbody><tr><td>&quot;8542392&quot;</td><td>&quot;222388&quot;</td><td>5</td><td>2017-04-22 12:46:43.663</td></tr><tr><td>&quot;11174581&quot;</td><td>&quot;222388&quot;</td><td>5</td><td>2013-06-20 15:50:25.960</td></tr><tr><td>&quot;8262477&quot;</td><td>&quot;222388&quot;</td><td>5</td><td>2015-02-14 07:27:51.307</td></tr><tr><td>&quot;3574785&quot;</td><td>&quot;240488&quot;</td><td>5</td><td>2017-10-07 18:20:08.973</td></tr><tr><td>&quot;12145410&quot;</td><td>&quot;240488&quot;</td><td>2</td><td>2018-01-06 00:06:09.563</td></tr></tbody></table></div>"
      ],
      "text/plain": [
       "shape: (5, 4)\n",
       "┌──────────┬───────────┬────────┬─────────────────────────┐\n",
       "│ user_id  ┆ recipe_id ┆ rating ┆ dateLastModified        │\n",
       "│ ---      ┆ ---       ┆ ---    ┆ ---                     │\n",
       "│ str      ┆ str       ┆ i64    ┆ datetime[μs]            │\n",
       "╞══════════╪═══════════╪════════╪═════════════════════════╡\n",
       "│ 8542392  ┆ 222388    ┆ 5      ┆ 2017-04-22 12:46:43.663 │\n",
       "│ 11174581 ┆ 222388    ┆ 5      ┆ 2013-06-20 15:50:25.960 │\n",
       "│ 8262477  ┆ 222388    ┆ 5      ┆ 2015-02-14 07:27:51.307 │\n",
       "│ 3574785  ┆ 240488    ┆ 5      ┆ 2017-10-07 18:20:08.973 │\n",
       "│ 12145410 ┆ 240488    ┆ 2      ┆ 2018-01-06 00:06:09.563 │\n",
       "└──────────┴───────────┴────────┴─────────────────────────┘"
      ]
     },
     "execution_count": 40,
     "metadata": {},
     "output_type": "execute_result"
    }
   ],
   "source": [
    "df_interaction.head()"
   ]
  },
  {
   "cell_type": "code",
   "execution_count": 41,
   "id": "28afdb4f",
   "metadata": {},
   "outputs": [
    {
     "data": {
      "text/html": [
       "<div><style>\n",
       ".dataframe > thead > tr,\n",
       ".dataframe > tbody > tr {\n",
       "  text-align: right;\n",
       "  white-space: pre-wrap;\n",
       "}\n",
       "</style>\n",
       "<small>shape: (12, 4)</small><table border=\"1\" class=\"dataframe\"><thead><tr><th>user_id</th><th>recipe_id</th><th>rating</th><th>dateLastModified</th></tr><tr><td>str</td><td>str</td><td>i64</td><td>datetime[μs]</td></tr></thead><tbody><tr><td>&quot;8542392&quot;</td><td>&quot;222388&quot;</td><td>5</td><td>2017-04-22 12:46:43.663</td></tr><tr><td>&quot;8542392&quot;</td><td>&quot;84270&quot;</td><td>5</td><td>2014-01-04 12:25:35.080</td></tr><tr><td>&quot;8542392&quot;</td><td>&quot;218070&quot;</td><td>5</td><td>2015-05-01 18:28:47.667</td></tr><tr><td>&quot;8542392&quot;</td><td>&quot;245062&quot;</td><td>5</td><td>2017-02-20 02:36:27.923</td></tr><tr><td>&quot;8542392&quot;</td><td>&quot;213243&quot;</td><td>5</td><td>2015-09-11 17:34:46.550</td></tr><tr><td>&hellip;</td><td>&hellip;</td><td>&hellip;</td><td>&hellip;</td></tr><tr><td>&quot;8542392&quot;</td><td>&quot;213029&quot;</td><td>5</td><td>2016-01-01 04:11:05.970</td></tr><tr><td>&quot;8542392&quot;</td><td>&quot;204478&quot;</td><td>5</td><td>2017-01-22 04:20:05.610</td></tr><tr><td>&quot;8542392&quot;</td><td>&quot;13096&quot;</td><td>5</td><td>2018-02-18 21:05:54.630</td></tr><tr><td>&quot;8542392&quot;</td><td>&quot;234181&quot;</td><td>5</td><td>2015-02-12 18:07:34.940</td></tr><tr><td>&quot;8542392&quot;</td><td>&quot;245881&quot;</td><td>5</td><td>2017-09-16 15:01:43.157</td></tr></tbody></table></div>"
      ],
      "text/plain": [
       "shape: (12, 4)\n",
       "┌─────────┬───────────┬────────┬─────────────────────────┐\n",
       "│ user_id ┆ recipe_id ┆ rating ┆ dateLastModified        │\n",
       "│ ---     ┆ ---       ┆ ---    ┆ ---                     │\n",
       "│ str     ┆ str       ┆ i64    ┆ datetime[μs]            │\n",
       "╞═════════╪═══════════╪════════╪═════════════════════════╡\n",
       "│ 8542392 ┆ 222388    ┆ 5      ┆ 2017-04-22 12:46:43.663 │\n",
       "│ 8542392 ┆ 84270     ┆ 5      ┆ 2014-01-04 12:25:35.080 │\n",
       "│ 8542392 ┆ 218070    ┆ 5      ┆ 2015-05-01 18:28:47.667 │\n",
       "│ 8542392 ┆ 245062    ┆ 5      ┆ 2017-02-20 02:36:27.923 │\n",
       "│ 8542392 ┆ 213243    ┆ 5      ┆ 2015-09-11 17:34:46.550 │\n",
       "│ …       ┆ …         ┆ …      ┆ …                       │\n",
       "│ 8542392 ┆ 213029    ┆ 5      ┆ 2016-01-01 04:11:05.970 │\n",
       "│ 8542392 ┆ 204478    ┆ 5      ┆ 2017-01-22 04:20:05.610 │\n",
       "│ 8542392 ┆ 13096     ┆ 5      ┆ 2018-02-18 21:05:54.630 │\n",
       "│ 8542392 ┆ 234181    ┆ 5      ┆ 2015-02-12 18:07:34.940 │\n",
       "│ 8542392 ┆ 245881    ┆ 5      ┆ 2017-09-16 15:01:43.157 │\n",
       "└─────────┴───────────┴────────┴─────────────────────────┘"
      ]
     },
     "execution_count": 41,
     "metadata": {},
     "output_type": "execute_result"
    }
   ],
   "source": [
    "df_interaction.filter(pl.col(\"user_id\") == '8542392')"
   ]
  },
  {
   "cell_type": "code",
   "execution_count": null,
   "id": "961b25e3",
   "metadata": {},
   "outputs": [
    {
     "name": "stderr",
     "output_type": "stream",
     "text": [
      "C:\\Users\\Renato\\AppData\\Local\\Temp\\ipykernel_21336\\1096177825.py:16: DeprecationWarning: `GroupBy.count` was renamed; use `GroupBy.len` instead\n",
      "  .count()\n"
     ]
    },
    {
     "name": "stdout",
     "output_type": "stream",
     "text": [
      "No se detectaron llaves duplicadas entre splits.\n",
      "Resumen interacciones por split:\n",
      "shape: (4, 3)\n",
      "┌───────┬─────────┬──────────┐\n",
      "│ split ┆ count   ┆ fraction │\n",
      "│ ---   ┆ ---     ┆ ---      │\n",
      "│ str   ┆ u32     ┆ f64      │\n",
      "╞═══════╪═════════╪══════════╡\n",
      "│ none  ┆ 2700158 ┆ 0.711691 │\n",
      "│ train ┆ 676946  ┆ 0.178425 │\n",
      "│ test  ┆ 283440  ┆ 0.074707 │\n",
      "│ valid ┆ 133459  ┆ 0.035176 │\n",
      "└───────┴─────────┴──────────┘\n",
      "Interacciones que matchean un split: 1093845 / 3794003 (28.83%)\n",
      "Resumen interacciones por split:\n",
      "shape: (4, 3)\n",
      "┌───────┬─────────┬──────────┐\n",
      "│ split ┆ count   ┆ fraction │\n",
      "│ ---   ┆ ---     ┆ ---      │\n",
      "│ str   ┆ u32     ┆ f64      │\n",
      "╞═══════╪═════════╪══════════╡\n",
      "│ none  ┆ 2700158 ┆ 0.711691 │\n",
      "│ train ┆ 676946  ┆ 0.178425 │\n",
      "│ test  ┆ 283440  ┆ 0.074707 │\n",
      "│ valid ┆ 133459  ┆ 0.035176 │\n",
      "└───────┴─────────┴──────────┘\n",
      "Interacciones que matchean un split: 1093845 / 3794003 (28.83%)\n"
     ]
    },
    {
     "name": "stderr",
     "output_type": "stream",
     "text": [
      "C:\\Users\\Renato\\AppData\\Local\\Temp\\ipykernel_21336\\1096177825.py:38: DeprecationWarning: `GroupBy.count` was renamed; use `GroupBy.len` instead\n",
      "  .count()\n"
     ]
    }
   ],
   "source": [
    "\n",
    "ratings_all = pl.concat([\n",
    "    df_train_rating.select([\"user_id\", \"recipe_id\", \"dateLastModified\"]).with_columns(pl.lit(\"train\").alias(\"split\")),\n",
    "    df_valid_rating.select([\"user_id\", \"recipe_id\", \"dateLastModified\"]).with_columns(pl.lit(\"valid\").alias(\"split\")),\n",
    "    df_test_rating.select([\"user_id\", \"recipe_id\", \"dateLastModified\"]).with_columns(pl.lit(\"test\").alias(\"split\")),\n",
    "])\n",
    "\n",
    "key_cols = [\"user_id\", \"recipe_id\", \"dateLastModified\"]\n",
    "duplicados = (\n",
    "    ratings_all\n",
    "    .group_by(key_cols)\n",
    "    .count()\n",
    "    .filter(pl.col(\"count\") > 1)\n",
    ")\n",
    "if duplicados.height > 0:\n",
    "    print(\"duplicados en el join:\", duplicados.height)\n",
    "else:\n",
    "    print(\"no se detectaron llaves duplicadas entre splits\")\n",
    "\n",
    "ratings_all = ratings_all.unique(key_cols)\n",
    "\n",
    "df_interaction = df_interaction.join(ratings_all, on=key_cols, how=\"left\")\n",
    "\n",
    "df_interaction = df_interaction.with_columns(pl.col(\"split\").fill_null(\"none\"))\n",
    "\n",
    "split_summary = (\n",
    "    df_interaction\n",
    "    .group_by(\"split\")\n",
    "    .count()\n",
    "    .with_columns((pl.col(\"count\") / df_interaction.height).alias(\"fraction\"))\n",
    "    .sort(\"count\", descending=True)\n",
    ")\n",
    "\n",
    "print(\"Resumen interacciones por split:\")\n",
    "print(split_summary)\n",
    "\n",
    "matched = df_interaction.filter(pl.col(\"split\") != \"none\").height\n",
    "print(f\"Interacciones que matchean un split: {matched} / {df_interaction.height} ({matched/df_interaction.height:.2%})\")\n",
    "\n",
    "# df_interaction.head()  # descomenta para inspeccionar"
   ]
  },
  {
   "cell_type": "code",
   "execution_count": 44,
   "id": "2d8732dc",
   "metadata": {},
   "outputs": [
    {
     "data": {
      "text/html": [
       "<div><style>\n",
       ".dataframe > thead > tr,\n",
       ".dataframe > tbody > tr {\n",
       "  text-align: right;\n",
       "  white-space: pre-wrap;\n",
       "}\n",
       "</style>\n",
       "<small>shape: (5, 6)</small><table border=\"1\" class=\"dataframe\"><thead><tr><th>user_id</th><th>recipe_id</th><th>rating</th><th>dateLastModified</th><th>split</th><th>split_right</th></tr><tr><td>str</td><td>str</td><td>i64</td><td>datetime[μs]</td><td>str</td><td>str</td></tr></thead><tbody><tr><td>&quot;8542392&quot;</td><td>&quot;222388&quot;</td><td>5</td><td>2017-04-22 12:46:43.663</td><td>&quot;none&quot;</td><td>null</td></tr><tr><td>&quot;11174581&quot;</td><td>&quot;222388&quot;</td><td>5</td><td>2013-06-20 15:50:25.960</td><td>&quot;none&quot;</td><td>null</td></tr><tr><td>&quot;8262477&quot;</td><td>&quot;222388&quot;</td><td>5</td><td>2015-02-14 07:27:51.307</td><td>&quot;none&quot;</td><td>null</td></tr><tr><td>&quot;3574785&quot;</td><td>&quot;240488&quot;</td><td>5</td><td>2017-10-07 18:20:08.973</td><td>&quot;none&quot;</td><td>null</td></tr><tr><td>&quot;12145410&quot;</td><td>&quot;240488&quot;</td><td>2</td><td>2018-01-06 00:06:09.563</td><td>&quot;none&quot;</td><td>null</td></tr></tbody></table></div>"
      ],
      "text/plain": [
       "shape: (5, 6)\n",
       "┌──────────┬───────────┬────────┬─────────────────────────┬───────┬─────────────┐\n",
       "│ user_id  ┆ recipe_id ┆ rating ┆ dateLastModified        ┆ split ┆ split_right │\n",
       "│ ---      ┆ ---       ┆ ---    ┆ ---                     ┆ ---   ┆ ---         │\n",
       "│ str      ┆ str       ┆ i64    ┆ datetime[μs]            ┆ str   ┆ str         │\n",
       "╞══════════╪═══════════╪════════╪═════════════════════════╪═══════╪═════════════╡\n",
       "│ 8542392  ┆ 222388    ┆ 5      ┆ 2017-04-22 12:46:43.663 ┆ none  ┆ null        │\n",
       "│ 11174581 ┆ 222388    ┆ 5      ┆ 2013-06-20 15:50:25.960 ┆ none  ┆ null        │\n",
       "│ 8262477  ┆ 222388    ┆ 5      ┆ 2015-02-14 07:27:51.307 ┆ none  ┆ null        │\n",
       "│ 3574785  ┆ 240488    ┆ 5      ┆ 2017-10-07 18:20:08.973 ┆ none  ┆ null        │\n",
       "│ 12145410 ┆ 240488    ┆ 2      ┆ 2018-01-06 00:06:09.563 ┆ none  ┆ null        │\n",
       "└──────────┴───────────┴────────┴─────────────────────────┴───────┴─────────────┘"
      ]
     },
     "execution_count": 44,
     "metadata": {},
     "output_type": "execute_result"
    }
   ],
   "source": [
    "df_interaction.head()"
   ]
  },
  {
   "cell_type": "code",
   "execution_count": 45,
   "id": "d62384c3",
   "metadata": {},
   "outputs": [
    {
     "name": "stdout",
     "output_type": "stream",
     "text": [
      "shape: (0, 4)\n",
      "┌─────────┬───────────┬────────┬──────────────────┐\n",
      "│ user_id ┆ recipe_id ┆ rating ┆ dateLastModified │\n",
      "│ ---     ┆ ---       ┆ ---    ┆ ---              │\n",
      "│ str     ┆ str       ┆ i64    ┆ datetime[μs]     │\n",
      "╞═════════╪═══════════╪════════╪══════════════════╡\n",
      "└─────────┴───────────┴────────┴──────────────────┘\n",
      "shape: (0, 4)\n",
      "┌─────────┬───────────┬────────┬──────────────────┐\n",
      "│ user_id ┆ recipe_id ┆ rating ┆ dateLastModified │\n",
      "│ ---     ┆ ---       ┆ ---    ┆ ---              │\n",
      "│ str     ┆ str       ┆ i64    ┆ datetime[μs]     │\n",
      "╞═════════╪═══════════╪════════╪══════════════════╡\n",
      "└─────────┴───────────┴────────┴──────────────────┘\n",
      "shape: (0, 4)\n",
      "┌─────────┬───────────┬────────┬──────────────────┐\n",
      "│ user_id ┆ recipe_id ┆ rating ┆ dateLastModified │\n",
      "│ ---     ┆ ---       ┆ ---    ┆ ---              │\n",
      "│ str     ┆ str       ┆ i64    ┆ datetime[μs]     │\n",
      "╞═════════╪═══════════╪════════╪══════════════════╡\n",
      "└─────────┴───────────┴────────┴──────────────────┘\n"
     ]
    }
   ],
   "source": [
    "print(df_train_rating.filter(\n",
    "    (pl.col(\"user_id\") == \"8542392\") & (pl.col(\"recipe_id\") == \"222388\") \n",
    "))\n",
    "\n",
    "print(df_test_rating.filter(\n",
    "    (pl.col(\"user_id\") == \"8542392\") & (pl.col(\"recipe_id\") == \"222388\") \n",
    "))\n",
    "\n",
    "print(df_valid_rating.filter(\n",
    "    (pl.col(\"user_id\") == \"8542392\") & (pl.col(\"recipe_id\") == \"222388\") \n",
    "))\n"
   ]
  },
  {
   "cell_type": "code",
   "execution_count": 39,
   "id": "e1920fe7",
   "metadata": {},
   "outputs": [
    {
     "name": "stdout",
     "output_type": "stream",
     "text": [
      "Random recipe id 150435\n",
      "Recipe info\n",
      "shape: (1, 9)\n",
      "┌──────────┬──────────┬──────────┬──────────┬──────────┬──────────┬──────────┬──────────┬──────────┐\n",
      "│ recipe_i ┆ recipe_n ┆ aver_rat ┆ image_ur ┆ review_n ┆ ingredie ┆ cooking_ ┆ nutritio ┆ reviews  │\n",
      "│ d        ┆ ame      ┆ e        ┆ l        ┆ ums      ┆ nts      ┆ directio ┆ ns       ┆ ---      │\n",
      "│ ---      ┆ ---      ┆ ---      ┆ ---      ┆ ---      ┆ ---      ┆ ns       ┆ ---      ┆ str      │\n",
      "│ str      ┆ str      ┆ f64      ┆ str      ┆ i64      ┆ str      ┆ ---      ┆ str      ┆          │\n",
      "│          ┆          ┆          ┆          ┆          ┆          ┆ str      ┆          ┆          │\n",
      "╞══════════╪══════════╪══════════╪══════════╪══════════╪══════════╪══════════╪══════════╪══════════╡\n",
      "│ 150435   ┆ Cheesy   ┆ 3.527778 ┆ https:// ┆ 31       ┆ condense ┆ {'direct ┆ {u'niaci ┆ {1292160 │\n",
      "│          ┆ Tuna     ┆          ┆ images.m ┆          ┆ d cream  ┆ ions':   ┆ n': {u'h ┆ 5: {'rat │\n",
      "│          ┆ Dinner   ┆          ┆ edia-all ┆          ┆ of       ┆ u'Prep\\n ┆ asComple ┆ ing': 4, │\n",
      "│          ┆          ┆          ┆ recipe…  ┆          ┆ mushroom ┆ 5 m\\nCo… ┆ teData…  ┆ 'foll…   │\n",
      "│          ┆          ┆          ┆          ┆          ┆ so…      ┆          ┆          ┆          │\n",
      "└──────────┴──────────┴──────────┴──────────┴──────────┴──────────┴──────────┴──────────┴──────────┘\n",
      "Interactions for that recipe\n",
      "(31, 4)\n",
      "Train ratings for that recipe\n",
      "(8, 4)\n",
      "Valid ratings for that recipe\n",
      "(0, 4)\n",
      "Test ratings for that recipe\n",
      "(2, 4)\n"
     ]
    }
   ],
   "source": [
    "random_recipe = df_recipe.sample(n=1, with_replacement=False, seed=42).select(pl.col(\"recipe_id\")).to_series()[0]\n",
    "print(f\"Random recipe id {random_recipe}\")\n",
    "\n",
    "print(\"Recipe info\")\n",
    "print(df_recipe.filter(pl.col(\"recipe_id\") == random_recipe))\n",
    "\n",
    "print(\"Interactions for that recipe\")\n",
    "print(df_interaction.filter(pl.col(\"recipe_id\") == random_recipe).shape)\n",
    "\n",
    "print(\"Train ratings for that recipe\")\n",
    "print(df_train_rating.filter(pl.col(\"recipe_id\") == random_recipe).shape)\n",
    "print(\"Valid ratings for that recipe\")\n",
    "print(df_valid_rating.filter(pl.col(\"recipe_id\") == random_recipe).shape)\n",
    "print(\"Test ratings for that recipe\")\n",
    "print(df_test_rating.filter(pl.col(\"recipe_id\") == random_recipe).shape)"
   ]
  }
 ],
 "metadata": {
  "kernelspec": {
   "display_name": "base",
   "language": "python",
   "name": "python3"
  },
  "language_info": {
   "codemirror_mode": {
    "name": "ipython",
    "version": 3
   },
   "file_extension": ".py",
   "mimetype": "text/x-python",
   "name": "python",
   "nbconvert_exporter": "python",
   "pygments_lexer": "ipython3",
   "version": "3.12.4"
  }
 },
 "nbformat": 4,
 "nbformat_minor": 5
}
