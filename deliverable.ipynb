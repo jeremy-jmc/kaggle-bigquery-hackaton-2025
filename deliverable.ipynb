{
 "cells": [
  {
   "cell_type": "markdown",
   "id": "58ae122a",
   "metadata": {},
   "source": [
    "- **Project Title:** *LLM-as-a-Judge in Recommendations using BigQuery AI: From Profiles to Insights*\n",
    "- **Problem Statement:** Most recommendation systems function as “black boxes,” surfacing items without offering context or transparency. This project uses BigQuery AI to automatically generate structured profiles of users and items, transform them into embeddings, and apply vector search to retrieve the most relevant matches. Each recommendation is then paired with an LLM-generated judgement, providing narrative reasoning that makes the system’s suggestions more interpretable.\n",
    "- **Impact Statement:** This solution shows how organizations can build scalable, explainable recommendation engines directly within BigQuery without the need for specialized machine learning teams. By combining personalization with transparency, the approach improves user trust, helps businesses uncover actionable behavioral patterns, and extends seamlessly to domains such as e-commerce and media.\n",
    "- **Project Highlights**\n",
    "    - Developed adaptable, structured profiles for users and recipes using BigQuery AI, enabling easy customization for various business domains.\n",
    "    - Demonstrated that a straightforward recommendation system powered by BigQuery AI can slightly outperform the ALS baseline, simplifying implementation and highlighting the potential of LLMs in recommendation workflows.\n",
    "    - Created an interactive UI for users to browse personalized recommendations alongside clear, LLM-generated explanations."
   ]
  },
  {
   "cell_type": "markdown",
   "id": "622911ca",
   "metadata": {},
   "source": [
    "# User & Recipe Profiles with BigQuery AI: From Embeddings to \"Explainable\" Recommendations"
   ]
  },
  {
   "cell_type": "markdown",
   "id": "9356df23",
   "metadata": {},
   "source": [
    "\n",
    "Inspired by the DoorDash blog post on [Profile Generation with LLMs](https://careersatdoordash.com/blog/doordash-profile-generation-llms-understanding-consumers-merchants-and-items/), this notebook showcases how to build user and recipe profiles leveraging BigQuery AI. It also outlines a workflow for generating potential recommendations, each paired with an \"LLM-generated hypothesis\" to provide narrative context for the suggestions.\n",
    "\n",
    "This project addresses the challenges of **Approach 1 (The AI Architect)** and **Approach 2 (The Semantic Detective)** as described in the [Kaggle BigQuery Hackathon 2025](https://www.kaggle.com/competitions/bigquery-ai-hackathon/overview).\n",
    "\n",
    "This notebook is structured as follows:\n",
    "\n",
    "1. Data Sources\n",
    "    - Datasets used (including sources and descriptions)\n",
    "    - Preprocessing, splitting and uploading to BigQuery\n",
    "\n",
    "2. (Approach 1) Recipe Profiles Generation\n",
    "    - Profile schema design & prompt engineering\n",
    "    - Using BigQuery AI to generate recipe profiles\n",
    "\n",
    "3. (Approach 1) User Profiles Generation\n",
    "    - Profile schema design & prompt engineering\n",
    "    - Using BigQuery AI to generate user profiles\n",
    "\n",
    "4. (Approach 2) Vector Search vs ALS\n",
    "    - Using BigQuery AI to generate text embeddings\n",
    "    - Vector search for recommendations\n",
    "    - Comparing results with ALS baseline\n",
    "\n",
    "5. (Approach 1) LLM-as-a-Judge as middle ground between Offline Metrics and A/B Testing\n",
    "    - Pointwise LLM Judgement\n",
    "    - Pairwise LLM Judgement\n",
    "\n",
    "6. UI\n",
    "\n",
    "7. Summary and Conclusions\n",
    "    - Feedback on BigQuery AI features\n",
    "    - User Survey on BigQuery AI features"
   ]
  },
  {
   "cell_type": "markdown",
   "id": "2595f34d",
   "metadata": {},
   "source": [
    "## Setup & Project Creation"
   ]
  },
  {
   "cell_type": "code",
   "execution_count": 2,
   "id": "86dc428f",
   "metadata": {},
   "outputs": [
    {
     "data": {
      "text/plain": [
       "True"
      ]
     },
     "execution_count": 2,
     "metadata": {},
     "output_type": "execute_result"
    }
   ],
   "source": [
    "import ast\n",
    "import seaborn as sns\n",
    "from tqdm import tqdm\n",
    "import os, json\n",
    "import matplotlib.pyplot as plt\n",
    "from IPython.display import display\n",
    "from pydantic import BaseModel, Field\n",
    "from typing import List, Dict, Optional\n",
    "import os, ast, numpy as np, pandas as pd\n",
    "import random\n",
    "from scipy import sparse\n",
    "from sklearn.feature_extraction.text import TfidfVectorizer\n",
    "from sklearn.preprocessing import StandardScaler\n",
    "from dotenv import load_dotenv\n",
    "import subprocess\n",
    "import bigframes.pandas as bpd\n",
    "from google.cloud import bigquery\n",
    "\n",
    "np.set_printoptions(suppress=True, precision=2)\n",
    "pd.set_option(\"display.float_format\", \"{:.3f}\".format)\n",
    "\n",
    "load_dotenv()"
   ]
  },
  {
   "cell_type": "code",
   "execution_count": 3,
   "id": "825cb3cb",
   "metadata": {},
   "outputs": [
    {
     "name": "stderr",
     "output_type": "stream",
     "text": [
      "Your browser has been opened to visit:\n",
      "\n",
      "    https://accounts.google.com/o/oauth2/auth?response_type=code&client_id=32555940559.apps.googleusercontent.com&redirect_uri=http%3A%2F%2Flocalhost%3A8085%2F&scope=openid+https%3A%2F%2Fwww.googleapis.com%2Fauth%2Fuserinfo.email+https%3A%2F%2Fwww.googleapis.com%2Fauth%2Fcloud-platform+https%3A%2F%2Fwww.googleapis.com%2Fauth%2Fappengine.admin+https%3A%2F%2Fwww.googleapis.com%2Fauth%2Fsqlservice.login+https%3A%2F%2Fwww.googleapis.com%2Fauth%2Fcompute+https%3A%2F%2Fwww.googleapis.com%2Fauth%2Faccounts.reauth&state=lNJrinfwffGKwylOffOjsCB5q4MY0q&access_type=offline&code_challenge=I2ApFWM31fDy_3f3NNhKqF8X5CJMdQCUpIPlHDx_aa4&code_challenge_method=S256\n",
      "\n"
     ]
    },
    {
     "name": "stdout",
     "output_type": "stream",
     "text": [
      "Opening in existing browser session.\n"
     ]
    },
    {
     "name": "stderr",
     "output_type": "stream",
     "text": [
      "\n",
      "You are now logged in as [jeremy.matos@utec.edu.pe].\n",
      "Your current project is [kaggle-bigquery-471522].  You can change this setting by running:\n",
      "  $ gcloud config set project PROJECT_ID\n",
      "Updated property [core/project].\n",
      "\n",
      "Credentials saved to file: [/home/tenken/.config/gcloud/application_default_credentials.json]\n",
      "\n",
      "These credentials will be used by any library that requests Application Default Credentials (ADC).\n",
      "\n",
      "Quota project \"kaggle-bigquery-471522\" was added to ADC which can be used by Google client libraries for billing and quota. Note that some services may still bill the project owning the resource.\n"
     ]
    }
   ],
   "source": [
    "os.environ['PROJECT_ID'] = input(\"Enter your Google Cloud Project ID: \")\n",
    "PROJECT_ID = os.environ['PROJECT_ID']\n",
    "\n",
    "subprocess.run(['gcloud', 'auth', 'login'])\n",
    "subprocess.run(['gcloud', 'config', 'set', 'project', PROJECT_ID])\n",
    "subprocess.run(['gcloud', 'auth', 'application-default', 'set-quota-project', PROJECT_ID])\n",
    "\n",
    "bpd.options.bigquery.project = PROJECT_ID\n",
    "\n",
    "random.seed(0)\n",
    "\n",
    "CONNECTION_ID = 'us.kaggle-connection'\n",
    "SCHEMA_NAME = 'deliverable'\n",
    "\n",
    "VALID_INTERACTIONS = f\"{PROJECT_ID}.{SCHEMA_NAME}.valid_interactions_windowed\"\n",
    "TRAIN_INTERACTIONS = f\"{PROJECT_ID}.{SCHEMA_NAME}.train_interactions_windowed\"\n",
    "SUBSET_RECIPE_IDS = f\"{PROJECT_ID}.{SCHEMA_NAME}.final_recipes\"\n",
    "SUBSET_USERS_IDS = f\"{PROJECT_ID}.{SCHEMA_NAME}.final_users\"\n",
    "\n",
    "RECIPES_ALL = f\"{PROJECT_ID}.{SCHEMA_NAME}.recipes\"\n",
    "OUT_DIM = 1024\n",
    "\n",
    "RECIPES_PARSED = f'{SCHEMA_NAME}.recipes_parsed'\n",
    "RECIPES_PROFILES_TABLE = f\"{SCHEMA_NAME}.recipe_profiles\"\n",
    "\n",
    "USERS_PARSED = f'{SCHEMA_NAME}.users_parsed'\n",
    "USERS_PROFILES_TABLE = f\"{SCHEMA_NAME}.user_profiles\"\n",
    "\n",
    "VECTOR_SEARCH_RESULTS_TABLE = f\"{SCHEMA_NAME}.vector_search_results\""
   ]
  },
  {
   "cell_type": "markdown",
   "id": "9b88f30a",
   "metadata": {},
   "source": [
    "We use a [BigQuery client](https://cloud.google.com/bigquery/docs/datasets) to interact with the service in a more Pythonic way"
   ]
  },
  {
   "cell_type": "code",
   "execution_count": 4,
   "id": "fd66e8ae",
   "metadata": {},
   "outputs": [],
   "source": [
    "client = bigquery.Client()"
   ]
  },
  {
   "cell_type": "code",
   "execution_count": 4,
   "id": "7a26e4a4",
   "metadata": {},
   "outputs": [
    {
     "name": "stdout",
     "output_type": "stream",
     "text": [
      "409 POST https://bigquery.googleapis.com/bigquery/v2/projects/kaggle-bigquery-471522/datasets?prettyPrint=false: Already Exists: Dataset kaggle-bigquery-471522:deliverable\n"
     ]
    }
   ],
   "source": [
    "dataset = bigquery.Dataset(f\"{client.project}.{SCHEMA_NAME}\")\n",
    "dataset.location = \"US\"\n",
    "\n",
    "try:\n",
    "    dataset = client.create_dataset(dataset, timeout=30)\n",
    "    print(\"Created dataset {}.{}\".format(client.project, dataset.dataset_id))\n",
    "except Exception as e:\n",
    "    print(e)"
   ]
  },
  {
   "cell_type": "markdown",
   "id": "44fb70b5",
   "metadata": {},
   "source": [
    "We create a Cloud Resource connection to interact with Vertex AI services"
   ]
  },
  {
   "cell_type": "code",
   "execution_count": 5,
   "id": "9763acab",
   "metadata": {},
   "outputs": [
    {
     "name": "stdout",
     "output_type": "stream",
     "text": [
      "BigQuery error in mk operation: Already Exists: Connection\n",
      "projects/352240171839/locations/us/connections/kaggle-connection\n"
     ]
    },
    {
     "data": {
      "text/plain": [
       "CompletedProcess(args=['bq', 'mk', '--connection', '--location=us', '--connection_type=CLOUD_RESOURCE', 'kaggle-connection'], returncode=2)"
      ]
     },
     "execution_count": 5,
     "metadata": {},
     "output_type": "execute_result"
    }
   ],
   "source": [
    "subprocess.run(['bq', 'mk', '--connection', '--location=us', '--connection_type=CLOUD_RESOURCE', f'{CONNECTION_ID.replace(\"us.\", \"\")}'])"
   ]
  },
  {
   "cell_type": "markdown",
   "id": "5e6b9457",
   "metadata": {},
   "source": [
    "Following the tutorials on [GitHub](https://github.com/GoogleCloudPlatform/generative-ai/blob/main/gemini/use-cases/applying-llms-to-data/bigquery_embeddings_vector_search.ipynb) we create a remote connection to the Text Embedding model"
   ]
  },
  {
   "cell_type": "code",
   "execution_count": 6,
   "id": "86acbae1",
   "metadata": {},
   "outputs": [
    {
     "data": {
      "text/plain": [
       "<google.cloud.bigquery.table.RowIterator at 0x72f0d2945390>"
      ]
     },
     "execution_count": 6,
     "metadata": {},
     "output_type": "execute_result"
    }
   ],
   "source": [
    "client.query_and_wait(f\"\"\"\n",
    "CREATE OR REPLACE MODEL `{SCHEMA_NAME}.text_embedding_model`\n",
    "REMOTE WITH \n",
    "    CONNECTION `{CONNECTION_ID}`\n",
    "    OPTIONS (ENDPOINT = 'gemini-embedding-001');\n",
    "\"\"\")"
   ]
  },
  {
   "cell_type": "markdown",
   "id": "f28699f8",
   "metadata": {},
   "source": [
    "# Data Sources"
   ]
  },
  {
   "cell_type": "markdown",
   "id": "2179a96d",
   "metadata": {},
   "source": [
    "For the dataset selection, three considerations were made:\n",
    "- The datasets are publicly available (in line with the competition guidelines)\n",
    "- The dataset should align with the goal of addressing a real-world problem using solutions that integrate naturally with SQL workflows.\n",
    "- The dataset needs to include unstructured, messy, and mixed data\n",
    "\n",
    "\n",
    "We utilize the [FoodRecSysV1](https://www.kaggle.com/datasets/elisaxxygao/foodrecsysv1) dataset from Kaggle, which provides comprehensive user interactions with recipes; including ratings, comments, and rich recipe metadata. This dataset closely mirrors the real-world challenges encountered by platforms such as Cookpad, DoorDash, UberEats, and Rappi.\n",
    "\n",
    "Other datasets like [MealRec](https://arxiv.org/abs/2205.12133) and [MealRec++](https://github.com/WUT-IDEA/MealRecPlus) were also considered (and we can apply the same methodology of this notebook), but for the sake of simplicity and ease to start, we opted for FoodRecSysV1.\n"
   ]
  },
  {
   "cell_type": "code",
   "execution_count": 7,
   "id": "105e2ea8",
   "metadata": {},
   "outputs": [
    {
     "name": "stdout",
     "output_type": "stream",
     "text": [
      "Path to dataset files: /home/tenken/.cache/kagglehub/datasets/elisaxxygao/foodrecsysv1/versions/1\n"
     ]
    }
   ],
   "source": [
    "import kagglehub\n",
    "\n",
    "path = kagglehub.dataset_download(\"elisaxxygao/foodrecsysv1\")\n",
    "\n",
    "print(\"Path to dataset files:\", path)"
   ]
  },
  {
   "cell_type": "code",
   "execution_count": 8,
   "id": "a4b8df08",
   "metadata": {},
   "outputs": [
    {
     "data": {
      "text/plain": [
       "['raw-data_interaction.csv',\n",
       " 'core-data-valid_rating.csv',\n",
       " 'core-data_recipe.csv',\n",
       " 'raw-data-images',\n",
       " 'core-data-test_rating.csv',\n",
       " 'core-data-train_rating.csv',\n",
       " 'core-data-images',\n",
       " 'raw-data_recipe.csv']"
      ]
     },
     "execution_count": 8,
     "metadata": {},
     "output_type": "execute_result"
    }
   ],
   "source": [
    "os.listdir(path)"
   ]
  },
  {
   "cell_type": "code",
   "execution_count": 9,
   "id": "e6529d8f",
   "metadata": {},
   "outputs": [
    {
     "data": {
      "text/plain": [
       "'train'"
      ]
     },
     "metadata": {},
     "output_type": "display_data"
    },
    {
     "data": {
      "text/plain": [
       "user_id                     object\n",
       "recipe_id                   object\n",
       "rating                     float64\n",
       "dateLastModified    datetime64[ns]\n",
       "month                        int32\n",
       "quarter                      int32\n",
       "dtype: object"
      ]
     },
     "metadata": {},
     "output_type": "display_data"
    },
    {
     "data": {
      "text/html": [
       "<div>\n",
       "<style scoped>\n",
       "    .dataframe tbody tr th:only-of-type {\n",
       "        vertical-align: middle;\n",
       "    }\n",
       "\n",
       "    .dataframe tbody tr th {\n",
       "        vertical-align: top;\n",
       "    }\n",
       "\n",
       "    .dataframe thead th {\n",
       "        text-align: right;\n",
       "    }\n",
       "</style>\n",
       "<table border=\"1\" class=\"dataframe\">\n",
       "  <thead>\n",
       "    <tr style=\"text-align: right;\">\n",
       "      <th></th>\n",
       "      <th>rating</th>\n",
       "      <th>dateLastModified</th>\n",
       "      <th>month</th>\n",
       "      <th>quarter</th>\n",
       "    </tr>\n",
       "  </thead>\n",
       "  <tbody>\n",
       "    <tr>\n",
       "      <th>count</th>\n",
       "      <td>676946.000</td>\n",
       "      <td>676946</td>\n",
       "      <td>676946.000</td>\n",
       "      <td>676946.000</td>\n",
       "    </tr>\n",
       "    <tr>\n",
       "      <th>mean</th>\n",
       "      <td>4.469</td>\n",
       "      <td>2008-10-12 19:03:51.871918336</td>\n",
       "      <td>6.496</td>\n",
       "      <td>2.502</td>\n",
       "    </tr>\n",
       "    <tr>\n",
       "      <th>min</th>\n",
       "      <td>1.000</td>\n",
       "      <td>2000-02-08 12:09:11.987000</td>\n",
       "      <td>1.000</td>\n",
       "      <td>1.000</td>\n",
       "    </tr>\n",
       "    <tr>\n",
       "      <th>25%</th>\n",
       "      <td>4.000</td>\n",
       "      <td>2007-07-20 09:30:30.988250112</td>\n",
       "      <td>3.000</td>\n",
       "      <td>1.000</td>\n",
       "    </tr>\n",
       "    <tr>\n",
       "      <th>50%</th>\n",
       "      <td>5.000</td>\n",
       "      <td>2009-05-15 03:51:38.998499840</td>\n",
       "      <td>7.000</td>\n",
       "      <td>3.000</td>\n",
       "    </tr>\n",
       "    <tr>\n",
       "      <th>75%</th>\n",
       "      <td>5.000</td>\n",
       "      <td>2010-08-31 19:02:24.820499968</td>\n",
       "      <td>10.000</td>\n",
       "      <td>4.000</td>\n",
       "    </tr>\n",
       "    <tr>\n",
       "      <th>max</th>\n",
       "      <td>5.000</td>\n",
       "      <td>2011-10-14 17:43:08.433000</td>\n",
       "      <td>12.000</td>\n",
       "      <td>4.000</td>\n",
       "    </tr>\n",
       "    <tr>\n",
       "      <th>std</th>\n",
       "      <td>0.860</td>\n",
       "      <td>NaN</td>\n",
       "      <td>3.574</td>\n",
       "      <td>1.148</td>\n",
       "    </tr>\n",
       "  </tbody>\n",
       "</table>\n",
       "</div>"
      ],
      "text/plain": [
       "          rating               dateLastModified      month    quarter\n",
       "count 676946.000                         676946 676946.000 676946.000\n",
       "mean       4.469  2008-10-12 19:03:51.871918336      6.496      2.502\n",
       "min        1.000     2000-02-08 12:09:11.987000      1.000      1.000\n",
       "25%        4.000  2007-07-20 09:30:30.988250112      3.000      1.000\n",
       "50%        5.000  2009-05-15 03:51:38.998499840      7.000      3.000\n",
       "75%        5.000  2010-08-31 19:02:24.820499968     10.000      4.000\n",
       "max        5.000     2011-10-14 17:43:08.433000     12.000      4.000\n",
       "std        0.860                            NaN      3.574      1.148"
      ]
     },
     "metadata": {},
     "output_type": "display_data"
    },
    {
     "name": "stdout",
     "output_type": "stream",
     "text": [
      "core_train_rating.shape=(676946, 6)\n"
     ]
    },
    {
     "data": {
      "text/plain": [
       "'test'"
      ]
     },
     "metadata": {},
     "output_type": "display_data"
    },
    {
     "data": {
      "text/plain": [
       "user_id                     object\n",
       "recipe_id                   object\n",
       "rating                     float64\n",
       "dateLastModified    datetime64[ns]\n",
       "month                        int32\n",
       "quarter                      int32\n",
       "dtype: object"
      ]
     },
     "metadata": {},
     "output_type": "display_data"
    },
    {
     "data": {
      "text/html": [
       "<div>\n",
       "<style scoped>\n",
       "    .dataframe tbody tr th:only-of-type {\n",
       "        vertical-align: middle;\n",
       "    }\n",
       "\n",
       "    .dataframe tbody tr th {\n",
       "        vertical-align: top;\n",
       "    }\n",
       "\n",
       "    .dataframe thead th {\n",
       "        text-align: right;\n",
       "    }\n",
       "</style>\n",
       "<table border=\"1\" class=\"dataframe\">\n",
       "  <thead>\n",
       "    <tr style=\"text-align: right;\">\n",
       "      <th></th>\n",
       "      <th>rating</th>\n",
       "      <th>dateLastModified</th>\n",
       "      <th>month</th>\n",
       "      <th>quarter</th>\n",
       "    </tr>\n",
       "  </thead>\n",
       "  <tbody>\n",
       "    <tr>\n",
       "      <th>count</th>\n",
       "      <td>283440.000</td>\n",
       "      <td>283440</td>\n",
       "      <td>283440.000</td>\n",
       "      <td>283440.000</td>\n",
       "    </tr>\n",
       "    <tr>\n",
       "      <th>mean</th>\n",
       "      <td>4.510</td>\n",
       "      <td>2015-02-09 01:26:51.432288512</td>\n",
       "      <td>6.310</td>\n",
       "      <td>2.438</td>\n",
       "    </tr>\n",
       "    <tr>\n",
       "      <th>min</th>\n",
       "      <td>1.000</td>\n",
       "      <td>2013-01-31 22:55:07.660000</td>\n",
       "      <td>1.000</td>\n",
       "      <td>1.000</td>\n",
       "    </tr>\n",
       "    <tr>\n",
       "      <th>25%</th>\n",
       "      <td>4.000</td>\n",
       "      <td>2013-11-26 10:55:44.029000192</td>\n",
       "      <td>3.000</td>\n",
       "      <td>1.000</td>\n",
       "    </tr>\n",
       "    <tr>\n",
       "      <th>50%</th>\n",
       "      <td>5.000</td>\n",
       "      <td>2014-11-15 07:59:59.511500032</td>\n",
       "      <td>6.000</td>\n",
       "      <td>2.000</td>\n",
       "    </tr>\n",
       "    <tr>\n",
       "      <th>75%</th>\n",
       "      <td>5.000</td>\n",
       "      <td>2016-03-13 10:05:13.634749952</td>\n",
       "      <td>10.000</td>\n",
       "      <td>4.000</td>\n",
       "    </tr>\n",
       "    <tr>\n",
       "      <th>max</th>\n",
       "      <td>5.000</td>\n",
       "      <td>2018-03-15 03:09:12.853000</td>\n",
       "      <td>12.000</td>\n",
       "      <td>4.000</td>\n",
       "    </tr>\n",
       "    <tr>\n",
       "      <th>std</th>\n",
       "      <td>0.851</td>\n",
       "      <td>NaN</td>\n",
       "      <td>3.595</td>\n",
       "      <td>1.161</td>\n",
       "    </tr>\n",
       "  </tbody>\n",
       "</table>\n",
       "</div>"
      ],
      "text/plain": [
       "          rating               dateLastModified      month    quarter\n",
       "count 283440.000                         283440 283440.000 283440.000\n",
       "mean       4.510  2015-02-09 01:26:51.432288512      6.310      2.438\n",
       "min        1.000     2013-01-31 22:55:07.660000      1.000      1.000\n",
       "25%        4.000  2013-11-26 10:55:44.029000192      3.000      1.000\n",
       "50%        5.000  2014-11-15 07:59:59.511500032      6.000      2.000\n",
       "75%        5.000  2016-03-13 10:05:13.634749952     10.000      4.000\n",
       "max        5.000     2018-03-15 03:09:12.853000     12.000      4.000\n",
       "std        0.851                            NaN      3.595      1.161"
      ]
     },
     "metadata": {},
     "output_type": "display_data"
    },
    {
     "data": {
      "text/plain": [
       "'val'"
      ]
     },
     "metadata": {},
     "output_type": "display_data"
    },
    {
     "data": {
      "text/plain": [
       "user_id                     object\n",
       "recipe_id                   object\n",
       "rating                     float64\n",
       "dateLastModified    datetime64[ns]\n",
       "month                        int32\n",
       "quarter                      int32\n",
       "dtype: object"
      ]
     },
     "metadata": {},
     "output_type": "display_data"
    },
    {
     "data": {
      "text/html": [
       "<div>\n",
       "<style scoped>\n",
       "    .dataframe tbody tr th:only-of-type {\n",
       "        vertical-align: middle;\n",
       "    }\n",
       "\n",
       "    .dataframe tbody tr th {\n",
       "        vertical-align: top;\n",
       "    }\n",
       "\n",
       "    .dataframe thead th {\n",
       "        text-align: right;\n",
       "    }\n",
       "</style>\n",
       "<table border=\"1\" class=\"dataframe\">\n",
       "  <thead>\n",
       "    <tr style=\"text-align: right;\">\n",
       "      <th></th>\n",
       "      <th>rating</th>\n",
       "      <th>dateLastModified</th>\n",
       "      <th>month</th>\n",
       "      <th>quarter</th>\n",
       "    </tr>\n",
       "  </thead>\n",
       "  <tbody>\n",
       "    <tr>\n",
       "      <th>count</th>\n",
       "      <td>133459.000</td>\n",
       "      <td>133459</td>\n",
       "      <td>133459.000</td>\n",
       "      <td>133459.000</td>\n",
       "    </tr>\n",
       "    <tr>\n",
       "      <th>mean</th>\n",
       "      <td>4.506</td>\n",
       "      <td>2012-05-23 09:30:25.575911936</td>\n",
       "      <td>6.870</td>\n",
       "      <td>2.643</td>\n",
       "    </tr>\n",
       "    <tr>\n",
       "      <th>min</th>\n",
       "      <td>1.000</td>\n",
       "      <td>2011-10-14 17:46:56.443000</td>\n",
       "      <td>1.000</td>\n",
       "      <td>1.000</td>\n",
       "    </tr>\n",
       "    <tr>\n",
       "      <th>25%</th>\n",
       "      <td>4.000</td>\n",
       "      <td>2012-01-16 12:26:58.273499904</td>\n",
       "      <td>3.000</td>\n",
       "      <td>1.000</td>\n",
       "    </tr>\n",
       "    <tr>\n",
       "      <th>50%</th>\n",
       "      <td>5.000</td>\n",
       "      <td>2012-05-11 17:51:50.223000064</td>\n",
       "      <td>7.000</td>\n",
       "      <td>3.000</td>\n",
       "    </tr>\n",
       "    <tr>\n",
       "      <th>75%</th>\n",
       "      <td>5.000</td>\n",
       "      <td>2012-09-24 14:10:02.375000064</td>\n",
       "      <td>11.000</td>\n",
       "      <td>4.000</td>\n",
       "    </tr>\n",
       "    <tr>\n",
       "      <th>max</th>\n",
       "      <td>5.000</td>\n",
       "      <td>2013-01-31 22:23:27.613000</td>\n",
       "      <td>12.000</td>\n",
       "      <td>4.000</td>\n",
       "    </tr>\n",
       "    <tr>\n",
       "      <th>std</th>\n",
       "      <td>0.830</td>\n",
       "      <td>NaN</td>\n",
       "      <td>3.978</td>\n",
       "      <td>1.245</td>\n",
       "    </tr>\n",
       "  </tbody>\n",
       "</table>\n",
       "</div>"
      ],
      "text/plain": [
       "          rating               dateLastModified      month    quarter\n",
       "count 133459.000                         133459 133459.000 133459.000\n",
       "mean       4.506  2012-05-23 09:30:25.575911936      6.870      2.643\n",
       "min        1.000     2011-10-14 17:46:56.443000      1.000      1.000\n",
       "25%        4.000  2012-01-16 12:26:58.273499904      3.000      1.000\n",
       "50%        5.000  2012-05-11 17:51:50.223000064      7.000      3.000\n",
       "75%        5.000  2012-09-24 14:10:02.375000064     11.000      4.000\n",
       "max        5.000     2013-01-31 22:23:27.613000     12.000      4.000\n",
       "std        0.830                            NaN      3.978      1.245"
      ]
     },
     "metadata": {},
     "output_type": "display_data"
    }
   ],
   "source": [
    "def clean_df(core: pd.DataFrame) -> pd.DataFrame:\n",
    "    core['user_id'] = core['user_id'].astype(str)\n",
    "    core['recipe_id'] = core['recipe_id'].astype(str)\n",
    "    core['dateLastModified'] = core['dateLastModified'].apply(lambda v: v.replace('\\n', ''))\n",
    "    core['dateLastModified'] = pd.to_datetime(core['dateLastModified'], format='ISO8601')\n",
    "    core['month'] = core['dateLastModified'].dt.month\n",
    "    core['quarter'] = core['dateLastModified'].dt.quarter\n",
    "    core['rating'] = core['rating'].astype(float)\n",
    "    \n",
    "    core = core.dropna(how='any').sort_values(by=['dateLastModified'], ascending=[True])\n",
    "    return core\n",
    "\n",
    "core_train_rating = pd.read_csv(f'{path}/core-data-train_rating.csv')\n",
    "core_train_rating = clean_df(core_train_rating)\n",
    "display('train', core_train_rating.dtypes, core_train_rating.describe())\n",
    "print(f\"{core_train_rating.shape=}\")\n",
    "\n",
    "\n",
    "core_test_rating = pd.read_csv(f'{path}/core-data-test_rating.csv')\n",
    "core_test_rating = clean_df(core_test_rating)\n",
    "display('test', core_test_rating.dtypes, core_test_rating.describe())\n",
    "\n",
    "\n",
    "core_val_rating = pd.read_csv(f'{path}/core-data-valid_rating.csv')\n",
    "core_val_rating = clean_df(core_val_rating)\n",
    "display('val', core_val_rating.dtypes, core_val_rating.describe())\n",
    "\n",
    "recipes = pd.read_csv('./data/food_recsys/raw-data_recipe.csv')\n",
    "recipes['recipe_id'] = recipes['recipe_id'].astype(str)"
   ]
  },
  {
   "cell_type": "markdown",
   "id": "94bd0b26",
   "metadata": {},
   "source": [
    "We select a focused subset of the dataset, prioritizing the most engaged users and popular recipes to ensure our experiments are both manageable and representative. The filtered training set covers 24 weeks (about 6 months), while the filtered validation set spans 4 weeks (1 month) and includes only positive ratings (≥ 3 stars). To guarantee sufficient data for generating and evaluating profiles, we exclude users with fewer than 5 interactions in either set."
   ]
  },
  {
   "cell_type": "code",
   "execution_count": 10,
   "id": "c72f4a47",
   "metadata": {},
   "outputs": [
    {
     "name": "stdout",
     "output_type": "stream",
     "text": [
      "Using last 24 weeks of training data to predict next 4 weeks of ratings, with at least 5 interactions in training and 5 interactions in validation for each user\n",
      "From 2011-04-29 17:43:08.433000 to 2011-11-11 17:46:56.443000\n"
     ]
    }
   ],
   "source": [
    "PREV_WEEKS = 24\n",
    "POST_WEEKS = 4\n",
    "MIN_INTERACTIONS_TRAIN = 5\n",
    "MIN_INTERACTIONS_VAL = 5\n",
    "print(f\"Using last {PREV_WEEKS} weeks of training data to predict next {POST_WEEKS} weeks of ratings, with at least {MIN_INTERACTIONS_TRAIN} interactions in training and {MIN_INTERACTIONS_VAL} interactions in validation for each user\")\n",
    "\n",
    "min_date_val = core_train_rating['dateLastModified'].max() - pd.Timedelta(weeks=PREV_WEEKS)\n",
    "max_date_val = core_val_rating['dateLastModified'].min() + pd.Timedelta(weeks=POST_WEEKS)\n",
    "\n",
    "print(f\"From {min_date_val} to {max_date_val}\")"
   ]
  },
  {
   "cell_type": "code",
   "execution_count": 11,
   "id": "d30af3dc",
   "metadata": {},
   "outputs": [
    {
     "name": "stdout",
     "output_type": "stream",
     "text": [
      "len(common_users)=3729, len(common_recipes)=3764\n",
      "len(common_users)=2942, len(common_recipes)=2628\n",
      "Final datasets: 2730 train interactions, 1066 val interactions\n",
      "Min interactions per user in train: 5\n",
      "Min interactions per user in val: 5\n"
     ]
    },
    {
     "data": {
      "text/plain": [
       "'train_users'"
      ]
     },
     "metadata": {},
     "output_type": "display_data"
    },
    {
     "data": {
      "text/plain": [
       "user_id\n",
       "1037986    176\n",
       "2043209    105\n",
       "2448319    104\n",
       "2702518     80\n",
       "2995814     70\n",
       "          ... \n",
       "2233245      5\n",
       "6392312      5\n",
       "3500863      5\n",
       "2524829      5\n",
       "4053273      5\n",
       "Name: count, Length: 131, dtype: int64"
      ]
     },
     "metadata": {},
     "output_type": "display_data"
    },
    {
     "data": {
      "text/plain": [
       "'val_users'"
      ]
     },
     "metadata": {},
     "output_type": "display_data"
    },
    {
     "data": {
      "text/plain": [
       "user_id\n",
       "1037986    31\n",
       "2995814    29\n",
       "2043209    29\n",
       "2448319    24\n",
       "6067445    21\n",
       "           ..\n",
       "3047421     5\n",
       "484578      5\n",
       "5017867     5\n",
       "301943      5\n",
       "1054570     5\n",
       "Name: count, Length: 131, dtype: int64"
      ]
     },
     "metadata": {},
     "output_type": "display_data"
    },
    {
     "name": "stdout",
     "output_type": "stream",
     "text": [
      "Users: 131, Recipes: 2048\n"
     ]
    }
   ],
   "source": [
    "# Use training data of last N weeks only\n",
    "core_train_rating = core_train_rating.loc[\n",
    "    lambda df: df['dateLastModified'] >= min_date_val\n",
    "]\n",
    "\n",
    "# Reduce val predictions to next POST_WEEKS only\n",
    "core_val_rating = core_val_rating.loc[\n",
    "    lambda df: (df['dateLastModified'] <= max_date_val) & (df['rating'] >= 3)\n",
    "]\n",
    "\n",
    "# Find common users and recipes first\n",
    "common_users = set(core_train_rating['user_id']).intersection(set(core_val_rating['user_id']))\n",
    "common_recipes = set(core_train_rating['recipe_id']).intersection(set(core_val_rating['recipe_id']))\n",
    "print(f\"{len(common_users)=}, {len(common_recipes)=}\")\n",
    "\n",
    "# Filter both datasets to only include common users and recipes\n",
    "train_users = core_train_rating[\n",
    "    core_train_rating['user_id'].isin(common_users) & \n",
    "    core_train_rating['recipe_id'].isin(common_recipes)\n",
    "]\n",
    "val_users = core_val_rating[\n",
    "    core_val_rating['user_id'].isin(common_users) & \n",
    "    core_val_rating['recipe_id'].isin(common_recipes)\n",
    "]\n",
    "\n",
    "common_users = set(train_users['user_id']).intersection(set(val_users['user_id']))\n",
    "common_recipes = set(train_users['recipe_id']).intersection(set(val_users['recipe_id']))\n",
    "print(f\"{len(common_users)=}, {len(common_recipes)=}\")\n",
    "\n",
    "# Now filter by minimum interactions AFTER filtering by common users/recipes\n",
    "train_user_counts = train_users['user_id'].value_counts()\n",
    "val_user_counts = val_users['user_id'].value_counts()\n",
    "train_recipe_counts = train_users['recipe_id'].value_counts()\n",
    "val_recipe_counts = val_users['recipe_id'].value_counts()\n",
    "\n",
    "# Users and recipes with at least MIN_INTERACTIONS interactions in FINAL filtered datasets\n",
    "users_min_it_train = set(train_user_counts[train_user_counts >= MIN_INTERACTIONS_TRAIN].index)\n",
    "users_min_it_val = set(val_user_counts[val_user_counts >= MIN_INTERACTIONS_VAL].index)\n",
    "\n",
    "# Final common users and recipes with minimum interactions\n",
    "final_users = users_min_it_train.intersection(users_min_it_val)\n",
    "\n",
    "# Apply final filter\n",
    "train_users = train_users[train_users['user_id'].isin(final_users)]\n",
    "val_users = val_users[(val_users['user_id'].isin(final_users))]\n",
    "final_recipes = set(train_users['recipe_id'].values).union(set(val_users['recipe_id'].values))\n",
    "\n",
    "# Use final recipes for all recipe datasets\n",
    "train_recipes = val_recipes = recipes[recipes['recipe_id'].isin(final_recipes)]\n",
    "\n",
    "\n",
    "print(f\"Final datasets: {len(train_users)} train interactions, {len(val_users)} val interactions\")\n",
    "\n",
    "# Verify minimum interactions constraint\n",
    "print(f\"Min interactions per user in train: {train_users['user_id'].value_counts().min()}\")\n",
    "print(f\"Min interactions per user in val: {val_users['user_id'].value_counts().min()}\")\n",
    "\n",
    "display('train_users', train_users['user_id'].value_counts().sort_values(ascending=False))\n",
    "display('val_users', val_users['user_id'].value_counts().sort_values(ascending=False))\n",
    "print(f\"Users: {len(final_users)}, Recipes: {len(final_recipes)}\")\n"
   ]
  },
  {
   "cell_type": "markdown",
   "id": "a59dd96f",
   "metadata": {},
   "source": [
    "We'll finally use a total of 131 users and 2048 recipes, a size that balances data volume and execution time for demonstration purposes.\n"
   ]
  },
  {
   "cell_type": "code",
   "execution_count": null,
   "id": "beb05c15",
   "metadata": {},
   "outputs": [
    {
     "name": "stderr",
     "output_type": "stream",
     "text": [
      "/tmp/ipykernel_5601/349922751.py:3: FutureWarning: to_gbq is deprecated and will be removed in a future version. Please use pandas_gbq.to_gbq instead: https://pandas-gbq.readthedocs.io/en/latest/api.html#pandas_gbq.to_gbq\n",
      "  train_users.to_gbq(TRAIN_INTERACTIONS, if_exists='replace')\n",
      "100%|██████████| 1/1 [00:00<00:00, 12122.27it/s]\n",
      "/tmp/ipykernel_5601/349922751.py:4: FutureWarning: to_gbq is deprecated and will be removed in a future version. Please use pandas_gbq.to_gbq instead: https://pandas-gbq.readthedocs.io/en/latest/api.html#pandas_gbq.to_gbq\n",
      "  val_users.to_gbq(VALID_INTERACTIONS, if_exists='replace')\n",
      "100%|██████████| 1/1 [00:00<00:00, 10230.01it/s]\n",
      "/tmp/ipykernel_5601/349922751.py:5: FutureWarning: to_gbq is deprecated and will be removed in a future version. Please use pandas_gbq.to_gbq instead: https://pandas-gbq.readthedocs.io/en/latest/api.html#pandas_gbq.to_gbq\n",
      "  train_recipes[['recipe_id']].to_gbq(SUBSET_RECIPE_IDS, if_exists='replace')\n",
      "100%|██████████| 1/1 [00:00<00:00, 9709.04it/s]\n",
      "/tmp/ipykernel_5601/349922751.py:6: FutureWarning: to_gbq is deprecated and will be removed in a future version. Please use pandas_gbq.to_gbq instead: https://pandas-gbq.readthedocs.io/en/latest/api.html#pandas_gbq.to_gbq\n",
      "  pd.DataFrame({'user_id': list(final_users)}).to_gbq(SUBSET_USERS_IDS, if_exists='replace')\n",
      "100%|██████████| 1/1 [00:00<00:00, 7884.03it/s]\n"
     ]
    }
   ],
   "source": [
    "# Upload tables to BigQuery\n",
    "train_users.to_gbq(TRAIN_INTERACTIONS, if_exists='replace')\n",
    "val_users.to_gbq(VALID_INTERACTIONS, if_exists='replace')\n",
    "train_recipes[['recipe_id']].to_gbq(SUBSET_RECIPE_IDS, if_exists='replace')\n",
    "pd.DataFrame({'user_id': list(final_users)}).to_gbq(SUBSET_USERS_IDS, if_exists='replace')"
   ]
  },
  {
   "cell_type": "code",
   "execution_count": 13,
   "id": "d1bf359b",
   "metadata": {},
   "outputs": [
    {
     "name": "stderr",
     "output_type": "stream",
     "text": [
      "/tmp/ipykernel_5601/1013056983.py:1: FutureWarning: to_gbq is deprecated and will be removed in a future version. Please use pandas_gbq.to_gbq instead: https://pandas-gbq.readthedocs.io/en/latest/api.html#pandas_gbq.to_gbq\n",
      "  recipes.to_gbq(RECIPES_ALL, if_exists='replace')\n",
      "100%|██████████| 1/1 [00:00<00:00, 7219.11it/s]\n"
     ]
    }
   ],
   "source": [
    "recipes.to_gbq(RECIPES_ALL, if_exists='replace')"
   ]
  },
  {
   "cell_type": "markdown",
   "id": "771c4f8c",
   "metadata": {},
   "source": [
    "Next, we'll generate profiles following the approach described in the [Spotify blog](https://research.atspotify.com/2025/9/profile-aware-llm-as-a-judge-for-podcasts-a-better-middle-ground-between). As highlighted in the blog, this method primarily simplifies prompt complexity and preserves alignment. Before proceeding, let's define some utility functions:"
   ]
  },
  {
   "cell_type": "code",
   "execution_count": 20,
   "id": "19c94fb7",
   "metadata": {},
   "outputs": [],
   "source": [
    "def schema_to_prompt_with_descriptions(model_class) -> str:\n",
    "    prompt = \"\"\n",
    "    for k, v in model_class.model_json_schema()['properties'].items():\n",
    "        desc = v.get('description', '')\n",
    "        prompt += f\" {k} ({desc}) \"\n",
    "    return f\"[ {prompt} ]\""
   ]
  },
  {
   "cell_type": "markdown",
   "id": "ad24b5bb",
   "metadata": {},
   "source": [
    "# Recipe Profiles Generation"
   ]
  },
  {
   "cell_type": "markdown",
   "id": "fbf54445",
   "metadata": {},
   "source": [
    "We start cleaning and parsing some columns to make them suitable and more understandable for the LLM."
   ]
  },
  {
   "cell_type": "code",
   "execution_count": 15,
   "id": "abb42144",
   "metadata": {},
   "outputs": [],
   "source": [
    "def prep_ingredients(text: str) -> str:\n",
    "    if pd.isna(text): return \"\"\n",
    "    return \"\\n\".join([f\"- {v}\" for v in str(text).split('^')])\n",
    "\n",
    "\n",
    "def prep_directions(text: str) -> str:\n",
    "    if pd.isna(text): return \"\"\n",
    "    s = str(text)\n",
    "    # Some rows look like dict-strings with 'directions' inside; just fall back to raw text\n",
    "    # Optionally, try to parse if it starts with \"{\"\n",
    "    if s.strip().startswith(\"{\"):\n",
    "        try:\n",
    "            d = ast.literal_eval(s)\n",
    "            # common keys: 'directions' (string) or list\n",
    "            v = d.get('directions', \"\")\n",
    "            v = str(v).split('\\n')\n",
    "            v = [x.strip() for x in v if len(x.strip()) > 0]\n",
    "            v = [f\". {x}\" if x and x[0].isupper() else x for x in v]\n",
    "\n",
    "            return \" \".join(v).strip(\".\").replace(\" . \", \". \").replace(\"..\", \".\").strip()\n",
    "        except Exception:\n",
    "            return s.lower()\n",
    "    return s.lower()\n"
   ]
  },
  {
   "cell_type": "code",
   "execution_count": 16,
   "id": "c5c1bef9",
   "metadata": {},
   "outputs": [],
   "source": [
    "df_recipes = bpd.read_gbq(f\"\"\"\n",
    "SELECT * FROM `{SUBSET_RECIPE_IDS}`\n",
    "LEFT JOIN `{RECIPES_ALL}` USING(recipe_id)\n",
    "\"\"\")\n",
    "\n",
    "# Convert to pandas DataFrame to use custom functions, then back to BigFrames\n",
    "df_recipes_pandas = df_recipes.to_pandas()"
   ]
  },
  {
   "cell_type": "markdown",
   "id": "70803c3f",
   "metadata": {},
   "source": [
    "We create `parsed_ingredients` and `parsed_recipe` columns to then insert it into the prompt for profile generation."
   ]
  },
  {
   "cell_type": "code",
   "execution_count": 17,
   "id": "c194da04",
   "metadata": {},
   "outputs": [
    {
     "name": "stderr",
     "output_type": "stream",
     "text": [
      "100%|██████████| 2048/2048 [00:01<00:00, 1874.92it/s]\n"
     ]
    },
    {
     "data": {
      "text/html": [
       "Load job 04b89c5e-1ccf-412b-8193-3bc1506a6b51 is DONE. <a target=\"_blank\" href=\"https://console.cloud.google.com/bigquery?project=kaggle-bigquery-471522&j=bq:US:04b89c5e-1ccf-412b-8193-3bc1506a6b51&page=queryresults\">Open Job</a>"
      ],
      "text/plain": [
       "<IPython.core.display.HTML object>"
      ]
     },
     "metadata": {},
     "output_type": "display_data"
    },
    {
     "data": {
      "text/html": [
       "Query job 5e308e63-e6b9-49c0-9a93-3499acbd422b is DONE. 1.1 GB processed. <a target=\"_blank\" href=\"https://console.cloud.google.com/bigquery?project=kaggle-bigquery-471522&j=bq:US:5e308e63-e6b9-49c0-9a93-3499acbd422b&page=queryresults\">Open Job</a>"
      ],
      "text/plain": [
       "<IPython.core.display.HTML object>"
      ]
     },
     "metadata": {},
     "output_type": "display_data"
    },
    {
     "data": {
      "text/plain": [
       "'kaggle-bigquery-471522.deliverable.recipes_parsed'"
      ]
     },
     "execution_count": 17,
     "metadata": {},
     "output_type": "execute_result"
    }
   ],
   "source": [
    "nutrition_values = []\n",
    "for idx, row in tqdm(df_recipes_pandas.iterrows(), total=len(df_recipes_pandas)):\n",
    "    nutritions_dict = ast.literal_eval(row['nutritions'])\n",
    "    \n",
    "    row_info = {'recipe_id': row['recipe_id']}\n",
    "    nutritions_info = {}\n",
    "    for k in ['niacin', 'sugars', 'sodium', 'carbohydrates', 'vitaminB6', 'calories', 'thiamin', 'fat', 'folate', 'caloriesFromFat', 'calcium', 'fiber', 'magnesium', 'iron', 'cholesterol', 'protein', 'vitaminA', 'potassium', 'saturatedFat', 'vitaminC']:\n",
    "        if k in nutritions_dict:\n",
    "            nutritions_info[k] = nutritions_dict[k].get('percentDailyValue', -1)\n",
    "            if nutritions_info[k] is not None:\n",
    "                v = str(nutritions_info[k]).strip()\n",
    "                if v == '< 1':\n",
    "                    nutritions_info[k] = 0.0\n",
    "                # if v == '-':\n",
    "                #     nutritions_info[k] = -1\n",
    "                \n",
    "                try:\n",
    "                    nutritions_info[k] = f\"{nutritions_info[k]} percent\"\n",
    "                except Exception:\n",
    "                    pass\n",
    "    \n",
    "    row_info['percent_daily_values'] = \"\\n\".join([f\"{k}: {v}\" for k, v in nutritions_info.items()])\n",
    "    nutrition_values.append(row_info)\n",
    "\n",
    "nutrition_df = pd.DataFrame(nutrition_values).fillna(-2)\n",
    "\n",
    "df_recipes_pandas['parsed_ingredients'] = df_recipes_pandas['ingredients'].apply(prep_ingredients)\n",
    "df_recipes_pandas['parsed_recipe'] = df_recipes_pandas['cooking_directions'].apply(prep_directions)\n",
    "df_recipes_pandas = df_recipes_pandas.merge(nutrition_df, how='left', on='recipe_id')\n",
    "df_recipes_pandas['title'] = df_recipes_pandas['recipe_name']\n",
    "df_recipes = bpd.DataFrame(df_recipes_pandas)\n",
    "\n",
    "# Upload the new table in BigQuery\n",
    "df_recipes.to_gbq(\n",
    "    destination_table=f\"{PROJECT_ID}.{RECIPES_PARSED}\",\n",
    "    if_exists='replace',\n",
    ")"
   ]
  },
  {
   "cell_type": "markdown",
   "id": "53e35ffb",
   "metadata": {},
   "source": [
    "Following the [DoorDash blog](https://careersatdoordash.com/blog/doordash-profile-generation-llms-understanding-consumers-merchants-and-items/) we define the structure and attributes of the \"Recipe Profile\" (item profiles). In this case we use a Pydantic model to define the schema, which then parsed as part of the prompt using the function `schema_to_prompt_with_descriptions`."
   ]
  },
  {
   "cell_type": "code",
   "execution_count": 18,
   "id": "70b85692",
   "metadata": {},
   "outputs": [],
   "source": [
    "class RecipeProfile(BaseModel):\n",
    "    food_type: str = Field(description=\"Type of food, e.g., dessert, main course, appetizer\")\n",
    "    cuisine_type: str = Field(description=\"Cuisine type, e.g., Italian, Chinese, Mexican, American\")\n",
    "    dietary_preferences: List[str] = Field(description=\"Dietary preferences, e.g., omnivore, vegetarian, vegan, gluten-free\")\n",
    "    flavor_profile: List[str] = Field(description=\"Flavor profile, e.g., spicy, sweet, savory\")\n",
    "    serving_daypart: List[str] = Field(description=\"Suitable dayparts, e.g., breakfast, lunch, dinner\")\n",
    "    notes: str = Field(description=\"Short rationale summarizing the recipe profile\")\n",
    "    target_audience: str = Field(description=\"Types of users who would likely enjoy this recipe based on cooking skill level, flavor intensity, dietary needs, and lifestyle preferences. Helps recommendation systems match recipes to appropriate user profiles.\")\n",
    "    justification: str = Field(description=\"Detailed explanation of how the profile was determined Describe why the food type, cuisine type, dietary preferences, flavor profile, and serving daypart were chosen based on the ingredients and cooking directions. Is not allowed to use quotes or complex punctuation in this field.\")\n"
   ]
  },
  {
   "cell_type": "markdown",
   "id": "d04fa17e",
   "metadata": {},
   "source": [
    "This schema could be enhanced by using more restrictive field types, such as `Enums` or `Literal` for categorical attributes. This would make it easier to apply business logic based on the extracted category metadata generated by the LLM in future iterations. \n",
    "\n",
    "Then, we define the prompt template for recipe profile generation, including explicit instructions to avoid issues with quotes, punctuation, and special characters - challenges encountered when using `AI.GENERATE` with limited output tokens."
   ]
  },
  {
   "cell_type": "code",
   "execution_count": 19,
   "id": "744fd3b1",
   "metadata": {},
   "outputs": [
    {
     "name": "stdout",
     "output_type": "stream",
     "text": [
      "Based on the title, ingredients, cooking directions and percent daily values provided, create a recipe profile that summarizes the key characteristics of this recipe. Your response must follow this exact structure: [  food_type (Type of food, e.g., dessert, main course, appetizer)  cuisine_type (Cuisine type, e.g., Italian, Chinese, Mexican, American)  dietary_preferences (Dietary preferences, e.g., omnivore, vegetarian, vegan, gluten-free)  flavor_profile (Flavor profile, e.g., spicy, sweet, savory)  serving_daypart (Suitable dayparts, e.g., breakfast, lunch, dinner)  notes (Short rationale summarizing the recipe profile)  target_audience (Types of users who would likely enjoy this recipe based on cooking skill level, flavor intensity, dietary needs, and lifestyle preferences. Helps recommendation systems match recipes to appropriate user profiles.)  justification (Detailed explanation of how the profile was determined Describe why the food type, cuisine type, dietary preferences, flavor profile, and serving daypart were chosen based on the ingredients and cooking directions. Is not allowed to use quotes or complex punctuation in this field.)  ]. IMPORTANT: Do not use quotation marks or complex punctuation in your response. Use simple words and avoid any quotes, apostrophes, or special characters.\n"
     ]
    }
   ],
   "source": [
    "recipe_profile_prompt = f\"\"\"Based on the title, ingredients, cooking directions and percent daily values provided, create a recipe profile that summarizes the key characteristics of this recipe. Your response must follow this exact structure: {schema_to_prompt_with_descriptions(RecipeProfile)}. IMPORTANT: Do not use quotation marks or complex punctuation in your response. Use simple words and avoid any quotes, apostrophes, or special characters.\"\"\"\n",
    "\n",
    "print(recipe_profile_prompt)"
   ]
  },
  {
   "cell_type": "markdown",
   "id": "736780c7",
   "metadata": {},
   "source": [
    "We set the `temperature` parameter to **1.0** to promote creativity and encourage the model to explore a wide range of recipe characteristics during profile generation. The `maxOutputTokens` is set to `2048` to stay within the [Gemini Embedding Model's input token limit](https://cloud.google.com/vertex-ai/generative-ai/docs/embeddings/get-text-embeddings). Additionally, we allocate up to `1024` thinking tokens to leverage the model’s reasoning abilities, aiming for a balance between accuracy and latency. Finally, we choose `gemini-2.5-flash` model for speed and cost efficiency.\n",
    "\n",
    "<!-- https://developers.googleblog.com/en/gemini-embedding-available-gemini-api/ -->"
   ]
  },
  {
   "cell_type": "code",
   "execution_count": 20,
   "id": "fb9f7763",
   "metadata": {},
   "outputs": [
    {
     "name": "stdout",
     "output_type": "stream",
     "text": [
      "\n",
      "WITH ai_responses AS (\n",
      "  SELECT \n",
      "    s.recipe_id, \n",
      "    s.title, \n",
      "    s.ingredients, \n",
      "    s.cooking_directions, \n",
      "    s.nutritions, \n",
      "    s.reviews, \n",
      "    s.parsed_ingredients, \n",
      "    s.parsed_recipe,\n",
      "    AI.GENERATE(('Based on the title, ingredients, cooking directions and percent daily values provided, create a recipe profile that summarizes the key characteristics of this recipe. Your response must follow this exact structure: [  food_type (Type of food, e.g., dessert, main course, appetizer)  cuisine_type (Cuisine type, e.g., Italian, Chinese, Mexican, American)  dietary_preferences (Dietary preferences, e.g., omnivore, vegetarian, vegan, gluten-free)  flavor_profile (Flavor profile, e.g., spicy, sweet, savory)  serving_daypart (Suitable dayparts, e.g., breakfast, lunch, dinner)  notes (Short rationale summarizing the recipe profile)  target_audience (Types of users who would likely enjoy this recipe based on cooking skill level, flavor intensity, dietary needs, and lifestyle preferences. Helps recommendation systems match recipes to appropriate user profiles.)  justification (Detailed explanation of how the profile was determined Describe why the food type, cuisine type, dietary preferences, flavor profile, and serving daypart were chosen based on the ingredients and cooking directions. Is not allowed to use quotes or complex punctuation in this field.)  ]. IMPORTANT: Do not use quotation marks or complex punctuation in your response. Use simple words and avoid any quotes, apostrophes, or special characters.', s.parsed_ingredients, s.parsed_recipe, s.percent_daily_values),\n",
      "        connection_id => 'us.kaggle-connection',\n",
      "        endpoint => 'gemini-2.5-flash',\n",
      "        model_params => JSON '{\"generationConfig\":{\"temperature\": 1.0, \"maxOutputTokens\": 2048, \"thinking_config\": {\"thinking_budget\": 1024} } }',\n",
      "        output_schema => 'food_type STRING, cuisine_type STRING, dietary_preferences ARRAY<STRING>, flavor_profile ARRAY<STRING>, serving_daypart ARRAY<STRING>, notes STRING, target_audience STRING, justification STRING'\n",
      "    ) AS ai_result\n",
      "  FROM (SELECT * FROM `deliverable.recipes_parsed`) s\n",
      ")\n",
      "SELECT \n",
      "  *,\n",
      "  ai_result.full_response AS recipe_profile,\n",
      "  JSON_EXTRACT_SCALAR(ai_result.full_response, '$.candidates[0].content.parts[0].text') AS recipe_profile_text\n",
      "FROM ai_responses\n",
      "\n"
     ]
    }
   ],
   "source": [
    "recipe_profile_generation_query = f\"\"\"\n",
    "WITH ai_responses AS (\n",
    "  SELECT \n",
    "    s.recipe_id, \n",
    "    s.title, \n",
    "    s.ingredients, \n",
    "    s.cooking_directions, \n",
    "    s.nutritions, \n",
    "    s.reviews, \n",
    "    s.parsed_ingredients, \n",
    "    s.parsed_recipe,\n",
    "    AI.GENERATE(('{recipe_profile_prompt}', s.parsed_ingredients, s.parsed_recipe, s.percent_daily_values),\n",
    "        connection_id => '{CONNECTION_ID}',\n",
    "        endpoint => 'gemini-2.5-flash',\n",
    "        model_params => JSON '{{\"generationConfig\":{{\"temperature\": 1.0, \"maxOutputTokens\": 2048, \"thinking_config\": {{\"thinking_budget\": 1024}} }} }}',\n",
    "        output_schema => 'food_type STRING, cuisine_type STRING, dietary_preferences ARRAY<STRING>, flavor_profile ARRAY<STRING>, serving_daypart ARRAY<STRING>, notes STRING, target_audience STRING, justification STRING'\n",
    "    ) AS ai_result\n",
    "  FROM (SELECT * FROM `{RECIPES_PARSED}`) s\n",
    ")\n",
    "SELECT \n",
    "  *,\n",
    "  ai_result.full_response AS recipe_profile,\n",
    "  JSON_EXTRACT_SCALAR(ai_result.full_response, '$.candidates[0].content.parts[0].text') AS recipe_profile_text\n",
    "FROM ai_responses\n",
    "\"\"\"\n",
    "\n",
    "print(recipe_profile_generation_query)"
   ]
  },
  {
   "cell_type": "markdown",
   "id": "bdf85209",
   "metadata": {},
   "source": [
    "With this prompt, we can execute the SQL query using the BigQuery client. We encountered some challenges when specifying the prompt directly within the SQL query, such as issues with quotation marks (to highlight words), punctuation and line breaks, which are common in longer prompts. To mitigate these problems, we define the prompt as a single paragraph. It would be helpful if there were a way to use multi-line strings directly in SQL queries. Finally we saved the results in a new table."
   ]
  },
  {
   "cell_type": "code",
   "execution_count": 21,
   "id": "8586b0ca",
   "metadata": {},
   "outputs": [
    {
     "name": "stdout",
     "output_type": "stream",
     "text": [
      "{\n",
      "  \"candidates\": [\n",
      "    {\n",
      "      \"avg_logprobs\": -0.9889099980743838,\n",
      "      \"content\": {\n",
      "        \"parts\": [\n",
      "          {\n",
      "            \"text\": \"{\\n  \\\"cuisine_type\\\": \\\"Mexican\\\",\\n  \\\"dietary_preferences\\\": [\\n    \\\"vegetarian\\\"\\n  ],\\n  \\\"flavor_profile\\\": [\\n    \\\"sweet\\\",\\n    \\\"savory\\\",\\n    \\\"tangy\\\"\\n  ],\\n  \\\"food_type\\\": \\\"main course\\\",\\n  \\\"justification\\\": \\\"The food type is main course because the recipe involves substantial ingredients like sweet potatoes black beans and cheese enclosed in tortillas cooked and served in wedges making it a filling meal. The cuisine type is Mexican due to the prominent use of tortillas black beans and salsa which are staples in Mexican and Tex-Mex cooking along with the quesadilla preparation method. Dietary preferences are vegetarian because the ingredients include sweet potatoes black beans and tortillas which are plant-based along with cheddar cheese which is dairy but no meat or poultry is present. The flavor profile is sweet from the sweet potatoes savory from the black beans tortillas and cheese and tangy from the cheddar cheese and optional salsa. Serving daypart includes lunch dinner and snack as quesadillas are versatile and can be enjoyed for a quick meal or a substantial snack at various times of the day.\\\",\\n  \\\"notes\\\": \\\"A satisfying vegetarian Mexican inspired quesadilla combining sweet potatoes black beans and cheddar cheese offering a balanced sweet and savory flavor profile ideal for various meal times.\\\",\\n  \\\"serving_daypart\\\": [\\n    \\\"lunch\\\",\\n    \\\"dinner\\\",\\n    \\\"snack\\\"\\n  ],\\n  \\\"target_audience\\\": \\\"Vegetarians and omnivores looking for a comforting flavorful and easy-to-prepare meal or substantial snack This recipe is well-suited for beginner to intermediate cooks and families who enjoy a blend of sweet and savory tastes with a mild flavor intensity\\\"\\n}\"\n",
      "          }\n",
      "        ],\n",
      "        \"role\": \"model\"\n",
      "      },\n",
      "      \"finish_reason\": \"STOP\",\n",
      "      \"score\": -351.06304931640625\n",
      "    }\n",
      "  ],\n",
      "  \"create_time\": \"2025-09-21T01:57:38.346709Z\",\n",
      "  \"model_version\": \"gemini-2.5-flash\",\n",
      "  \"response_id\": \"klvPaNWUFdujhMIPvYWI2A4\",\n",
      "  \"usage_metadata\": {\n",
      "    \"billable_prompt_usage\": {\n",
      "      \"text_count\": 2407\n",
      "    },\n",
      "    \"candidates_token_count\": 355,\n",
      "    \"candidates_tokens_details\": [\n",
      "      {\n",
      "        \"modality\": \"TEXT\",\n",
      "        \"token_count\": 355\n",
      "      }\n",
      "    ],\n",
      "    \"prompt_token_count\": 699,\n",
      "    \"prompt_tokens_details\": [\n",
      "      {\n",
      "        \"modality\": \"TEXT\",\n",
      "        \"token_count\": 699\n",
      "      }\n",
      "    ],\n",
      "    \"thoughts_token_count\": 821,\n",
      "    \"total_token_count\": 1875,\n",
      "    \"traffic_type\": \"ON_DEMAND\"\n",
      "  }\n",
      "}\n",
      "{\n",
      "  \"cuisine_type\": \"Mexican\",\n",
      "  \"dietary_preferences\": [\n",
      "    \"vegetarian\"\n",
      "  ],\n",
      "  \"flavor_profile\": [\n",
      "    \"sweet\",\n",
      "    \"savory\",\n",
      "    \"tangy\"\n",
      "  ],\n",
      "  \"food_type\": \"main course\",\n",
      "  \"justification\": \"The food type is main course because the recipe involves substantial ingredients like sweet potatoes black beans and cheese enclosed in tortillas cooked and served in wedges making it a filling meal. The cuisine type is Mexican due to the prominent use of tortillas black beans and salsa which are staples in Mexican and Tex-Mex cooking along with the quesadilla preparation method. Dietary preferences are vegetarian because the ingredients include sweet potatoes black beans and tortillas which are plant-based along with cheddar cheese which is dairy but no meat or poultry is present. The flavor profile is sweet from the sweet potatoes savory from the black beans tortillas and cheese and tangy from the cheddar cheese and optional salsa. Serving daypart includes lunch dinner and snack as quesadillas are versatile and can be enjoyed for a quick meal or a substantial snack at various times of the day.\",\n",
      "  \"notes\": \"A satisfying vegetarian Mexican inspired quesadilla combining sweet potatoes black beans and cheddar cheese offering a balanced sweet and savory flavor profile ideal for various meal times.\",\n",
      "  \"serving_daypart\": [\n",
      "    \"lunch\",\n",
      "    \"dinner\",\n",
      "    \"snack\"\n",
      "  ],\n",
      "  \"target_audience\": \"Vegetarians and omnivores looking for a comforting flavorful and easy-to-prepare meal or substantial snack This recipe is well-suited for beginner to intermediate cooks and families who enjoy a blend of sweet and savory tastes with a mild flavor intensity\"\n",
      "}\n",
      "r_profile={'cuisine_type': 'Mexican', 'dietary_preferences': ['vegetarian'], 'flavor_profile': ['sweet', 'savory', 'tangy'], 'food_type': 'main course', 'justification': 'The food type is main course because the recipe involves substantial ingredients like sweet potatoes black beans and cheese enclosed in tortillas cooked and served in wedges making it a filling meal. The cuisine type is Mexican due to the prominent use of tortillas black beans and salsa which are staples in Mexican and Tex-Mex cooking along with the quesadilla preparation method. Dietary preferences are vegetarian because the ingredients include sweet potatoes black beans and tortillas which are plant-based along with cheddar cheese which is dairy but no meat or poultry is present. The flavor profile is sweet from the sweet potatoes savory from the black beans tortillas and cheese and tangy from the cheddar cheese and optional salsa. Serving daypart includes lunch dinner and snack as quesadillas are versatile and can be enjoyed for a quick meal or a substantial snack at various times of the day.', 'notes': 'A satisfying vegetarian Mexican inspired quesadilla combining sweet potatoes black beans and cheddar cheese offering a balanced sweet and savory flavor profile ideal for various meal times.', 'serving_daypart': ['lunch', 'dinner', 'snack'], 'target_audience': 'Vegetarians and omnivores looking for a comforting flavorful and easy-to-prepare meal or substantial snack This recipe is well-suited for beginner to intermediate cooks and families who enjoy a blend of sweet and savory tastes with a mild flavor intensity'}\n"
     ]
    },
    {
     "name": "stderr",
     "output_type": "stream",
     "text": [
      "/tmp/ipykernel_5601/584357236.py:11: FutureWarning: to_gbq is deprecated and will be removed in a future version. Please use pandas_gbq.to_gbq instead: https://pandas-gbq.readthedocs.io/en/latest/api.html#pandas_gbq.to_gbq\n",
      "  df_recipes_profiles.to_gbq(\n",
      "100%|██████████| 1/1 [00:00<00:00, 8192.00it/s]\n"
     ]
    }
   ],
   "source": [
    "recipe_rows = client.query_and_wait(recipe_profile_generation_query)\n",
    "df_recipes_profiles = recipe_rows.to_dataframe()\n",
    "\n",
    "response = json.loads(df_recipes_profiles['recipe_profile'].iloc[0])\n",
    "r_profile = json.loads(response['candidates'][0]['content']['parts'][0]['text'])\n",
    "                      \n",
    "print(json.dumps(response, indent=2))\n",
    "print(json.dumps(json.loads(df_recipes_profiles['recipe_profile_text'].iloc[0]), indent=2))\n",
    "print(f\"{r_profile=}\")\n",
    "\n",
    "df_recipes_profiles.to_gbq(\n",
    "    destination_table=f\"{PROJECT_ID}.{RECIPES_PROFILES_TABLE}\",\n",
    "    if_exists='replace',\n",
    ")"
   ]
  },
  {
   "cell_type": "markdown",
   "id": "095acf73",
   "metadata": {},
   "source": [
    "# User Profiles Generation"
   ]
  },
  {
   "cell_type": "markdown",
   "id": "d13e1573",
   "metadata": {},
   "source": [
    "In this section, we generate user profiles based on their historical interactions with recipes. The interactions include ratings, comments, and timestamps that we provide in the prompt."
   ]
  },
  {
   "cell_type": "code",
   "execution_count": 22,
   "id": "0a978888",
   "metadata": {},
   "outputs": [
    {
     "name": "stderr",
     "output_type": "stream",
     "text": [
      "100%|██████████| 2048/2048 [01:13<00:00, 27.90it/s] \n"
     ]
    }
   ],
   "source": [
    "df_recipe_metadata = client.query_and_wait(f\"\"\"SELECT recipe_id, title, parsed_ingredients, parsed_recipe, recipe_profile_text, reviews FROM `{RECIPES_PROFILES_TABLE}`\"\"\").to_dataframe()\n",
    "\n",
    "reviews = []\n",
    "for idx, row in tqdm(df_recipe_metadata.iterrows(), total=len(df_recipe_metadata)):\n",
    "    recipe_id = row['recipe_id']\n",
    "    interactions_dict = ast.literal_eval(row['reviews'])\n",
    "    for k, v in interactions_dict.items():\n",
    "        reviews.append({\n",
    "            'recipe_id': recipe_id,\n",
    "            'user_id': str(k),\n",
    "            **v\n",
    "        })\n",
    "reviews_df = pd.DataFrame(reviews)\n",
    "reviews_df.columns = reviews_df.columns.str.lower()\n",
    "reviews_df['datelastmodified'] = pd.to_datetime(reviews_df['datelastmodified'], format='mixed')"
   ]
  },
  {
   "cell_type": "code",
   "execution_count": 5,
   "id": "2ad24dac",
   "metadata": {},
   "outputs": [],
   "source": [
    "SUBSET_COLS = 'user_id, recipe_id, rating, datelastmodified'"
   ]
  },
  {
   "cell_type": "code",
   "execution_count": null,
   "id": "9055c1d6",
   "metadata": {},
   "outputs": [],
   "source": [
    "df_train_users = client.query_and_wait(f\"\"\"SELECT {SUBSET_COLS} FROM `{TRAIN_INTERACTIONS}`\"\"\").to_dataframe()\n",
    "df_valid_users = client.query_and_wait(f\"\"\"SELECT {SUBSET_COLS} FROM `{VALID_INTERACTIONS}`\"\"\").to_dataframe()"
   ]
  },
  {
   "cell_type": "markdown",
   "id": "b806f906",
   "metadata": {},
   "source": [
    "We drop `user_id`s that are not present in both train and validation sets to ensure consistency when generating and evaluating recommendation between Vector Search and ALS."
   ]
  },
  {
   "cell_type": "code",
   "execution_count": null,
   "id": "8ce1314b",
   "metadata": {},
   "outputs": [],
   "source": [
    "# Drop users in valid not present in train_set\n",
    "FINAL_USERS = set(df_train_users['user_id'].unique()).intersection(set(df_valid_users['user_id'].unique()))\n",
    "\n",
    "# Adding user comments from reviews\n",
    "df_users_history = df_train_users[df_train_users['user_id'].isin(FINAL_USERS)].reset_index(drop=True)\n",
    "df_users_history['datelastmodified'] = pd.to_datetime(df_users_history['datelastmodified'])\n",
    "df_users_history = df_users_history.merge(\n",
    "    reviews_df[['user_id', 'recipe_id', 'datelastmodified', 'text']], how='left', \n",
    "    on=['user_id', 'recipe_id', 'datelastmodified'],\n",
    "    validate='one_to_one'\n",
    ").rename(columns={'text': 'user_comment'})\n",
    "\n",
    "df_valid_users = df_valid_users[df_valid_users['user_id'].isin(FINAL_USERS)].reset_index(drop=True)\n"
   ]
  },
  {
   "cell_type": "code",
   "execution_count": null,
   "id": "46ada9f9",
   "metadata": {},
   "outputs": [
    {
     "name": "stdout",
     "output_type": "stream",
     "text": [
      "Final users: 131\n",
      "        rating            datelastmodified\n",
      "count 2730.000                        2730\n",
      "mean     4.496  2011-07-27 01:47:37.662131\n",
      "min      1.000  2011-04-29 18:43:20.453000\n",
      "25%      4.000  2011-06-14 12:31:13.382750\n",
      "50%      5.000  2011-07-29 09:15:59.395000\n",
      "75%      5.000  2011-09-07 19:15:58.460500\n",
      "max      5.000  2011-10-14 17:24:08.330000\n",
      "std      0.757                         NaN\n",
      "        rating            datelastmodified\n",
      "count 1066.000                        1066\n",
      "mean     4.559  2011-10-29 01:36:00.828909\n",
      "min      3.000  2011-10-14 20:03:19.147000\n",
      "25%      4.000  2011-10-22 12:28:31.182000\n",
      "50%      5.000  2011-10-28 18:52:05.890000\n",
      "75%      5.000  2011-11-05 06:16:04.777250\n",
      "max      5.000  2011-11-11 17:43:12.483000\n",
      "std      0.629                         NaN\n"
     ]
    }
   ],
   "source": [
    "print(f\"Final users: {len(FINAL_USERS)}\")\n",
    "\n",
    "print(df_users_history.describe())\n",
    "print(df_valid_users.describe())\n",
    "\n",
    "df_users_to_profile = df_valid_users.groupby('user_id').agg({'recipe_id': 'unique'}).reset_index().rename(columns={\n",
    "    'recipe_id': 'rec_gt'\n",
    "})  # , 'datelastmodified'"
   ]
  },
  {
   "cell_type": "markdown",
   "id": "952ec940",
   "metadata": {},
   "source": [
    "To generate user profiles, we leverage the large context window of Gemini models by including each user's historical interactions, such as ratings and comments, directly in the prompt. We cap the history at 25 interactions (we could tune this argument) to keep the context manageable and ensure faster response times. The interactions are formatted as a bulleted list to help the LLM interpret the information more effectively."
   ]
  },
  {
   "cell_type": "code",
   "execution_count": null,
   "id": "7714df31",
   "metadata": {},
   "outputs": [],
   "source": [
    "def get_user_history(user_id: int, n: int = 25, k_min: int = 5) -> list:\n",
    "    \"\"\"Get the top-n most recent recipes the user has interacted with.\"\"\"\n",
    "    user_history = df_users_history[df_users_history['user_id'] == user_id]\n",
    "    user_history = user_history.sort_values(by='datelastmodified', ascending=False).head(n)\n",
    "    assert len(user_history) >= k_min, f\"User {user_id} has less than {k_min} interactions in the training set.\"\n",
    "\n",
    "    user_history['date'] = user_history['datelastmodified'].dt.strftime('%Y-%m-%d')\n",
    "\n",
    "    return user_history[['recipe_id', 'rating', 'date', 'user_comment']].to_dict('records')\n",
    "\n",
    "\n",
    "def format_user_history(user_history: list[dict]) -> str:\n",
    "    \"\"\"Format the user history as a bulleted list.\"\"\"\n",
    "\n",
    "    user_info = \"\"\n",
    "    avg_rating = 0\n",
    "    for entry in user_history:\n",
    "        recipe_metadata = df_recipe_metadata.loc[lambda df: df['recipe_id'] == entry['recipe_id'], ['recipe_id', 'title', 'parsed_ingredients', 'parsed_recipe', 'recipe_profile_text']].reset_index(drop=True).iloc[0]\n",
    "        avg_rating += entry['rating']\n",
    "\n",
    "        user_info += (\n",
    "            f\"\\n>>> Recipe Title: {recipe_metadata['title']}\\n\"\n",
    "            f\">>> User Rating: {entry['rating']}\\n\"\n",
    "            f\">>> Date of Interaction: {entry['date']}\\n\\n\"\n",
    "            f\">>> User Comment: {entry['user_comment']}\\n\\n\"\n",
    "            # TODO: Those columns are missing\n",
    "            # f\"Recipe Average Rating: {row['aver_rate']}\\n\"\n",
    "            f\">>> Ingredients:\\n{recipe_metadata['parsed_ingredients']}\\n\\n\"\n",
    "            f\">>> Cooking Directions:\\n{recipe_metadata['parsed_recipe']}\\n\"\n",
    "        )\n",
    "        user_info += \"--------------------------------------------\\n\"\n",
    "    avg_rating /= len(user_history)\n",
    "    user_info = f\"The user has rated {len(user_history)} recipes, with an average rating of {avg_rating:.2f}.\\n{user_info}\"\n",
    "    user_info = \"########################################### USER HISTORY START ###########################################\\n\" + user_info\n",
    "    user_info += \"########################################### USER HISTORY END ###########################################\\n\"\n",
    "    \n",
    "    return user_info"
   ]
  },
  {
   "cell_type": "code",
   "execution_count": 26,
   "id": "609a89d9",
   "metadata": {},
   "outputs": [
    {
     "data": {
      "text/html": [
       "Load job 1c805cc1-12c5-4154-ab47-92618c79b7c4 is DONE. <a target=\"_blank\" href=\"https://console.cloud.google.com/bigquery?project=kaggle-bigquery-471522&j=bq:US:1c805cc1-12c5-4154-ab47-92618c79b7c4&page=queryresults\">Open Job</a>"
      ],
      "text/plain": [
       "<IPython.core.display.HTML object>"
      ]
     },
     "metadata": {},
     "output_type": "display_data"
    },
    {
     "data": {
      "text/html": [
       "Query job eefa4c7f-6a58-4f5e-8e00-a6a93c551e3b is DONE. 3.3 MB processed. <a target=\"_blank\" href=\"https://console.cloud.google.com/bigquery?project=kaggle-bigquery-471522&j=bq:US:eefa4c7f-6a58-4f5e-8e00-a6a93c551e3b&page=queryresults\">Open Job</a>"
      ],
      "text/plain": [
       "<IPython.core.display.HTML object>"
      ]
     },
     "metadata": {},
     "output_type": "display_data"
    },
    {
     "data": {
      "text/plain": [
       "'kaggle-bigquery-471522.deliverable.users_parsed'"
      ]
     },
     "execution_count": 26,
     "metadata": {},
     "output_type": "execute_result"
    },
    {
     "data": {
      "image/png": "[encoded data removed]",
      "text/plain": [
       "<Figure size 640x480 with 1 Axes>"
      ]
     },
     "metadata": {},
     "output_type": "display_data"
    }
   ],
   "source": [
    "df_users_to_profile['user_history'] = df_users_to_profile['user_id'].apply(get_user_history)\n",
    "df_users_to_profile['n_history'] = df_users_to_profile['user_history'].apply(len)\n",
    "\n",
    "df_users_to_profile['n_history'].plot.hist(bins=30)\n",
    "\n",
    "# print(format_user_history(df_users_to_profile['user_history'].iloc[0]))\n",
    "df_users_to_profile['history_string'] = df_users_to_profile['user_history'].apply(format_user_history)\n",
    "\n",
    "bpd.DataFrame(df_users_to_profile).to_gbq(\n",
    "    destination_table=f\"{PROJECT_ID}.{USERS_PARSED}\",\n",
    "    if_exists='replace',\n",
    ")"
   ]
  },
  {
   "cell_type": "markdown",
   "id": "1f51563b",
   "metadata": {},
   "source": [
    "As in the recipe profiles, we define a Pydantic model, that it can be improved and adapted to the specific business case."
   ]
  },
  {
   "cell_type": "code",
   "execution_count": 27,
   "id": "c64122a7",
   "metadata": {},
   "outputs": [],
   "source": [
    "class UserProfile(BaseModel):\n",
    "    liked_cuisines: List[str] = Field(description=\"List of cuisines the user enjoys most, ranked by preference based on their interaction history and ratings\")\n",
    "    cuisine_preference: str = Field(description=\"Primary cuisine type the user gravitates towards (e.g., Mediterranean, Asian Fusion, Traditional American)\")\n",
    "    dietary_preference: str = Field(description=\"Main dietary restriction or lifestyle the user follows (e.g., Vegetarian, Low-carb, No restrictions)\")\n",
    "\n",
    "    food_preferences: List[str] = Field(description=\"Preferred food categories and meal types (e.g., comfort food, healthy salads, baked goods, grilled meats)\")\n",
    "    top_cuisine_choices: List[str] = Field(description=\"Specific regional or ethnic cuisines the user frequently rates highly (e.g., Thai, Southern BBQ, French pastry)\")\n",
    "    dietary_preferences: List[str] = Field(description=\"Dietary restrictions, health considerations, or eating patterns (e.g., gluten-free, plant-based, high-protein, dairy-free)\")\n",
    "    flavor_preferences: List[str] = Field(description=\"Dominant taste profiles and flavor characteristics the user seeks (e.g., bold and spicy, mild and creamy, tangy and citrusy)\")\n",
    "    daypart_preferences: List[str] = Field(description=\"Preferred times of day for different meal types based on rating patterns (e.g., hearty breakfast, light lunch, elaborate dinner)\")\n",
    "    lifestyle_tags: List[str] = Field(description=\"Behavioral patterns and cooking style indicators inferred from recipe choices (e.g., quick meals, entertainer, health-conscious, experimental cook)\")\n",
    "    convenience_preference: str = Field(description=\"Preference for recipe complexity (e.g., quick and easy, gourmet elaborate)\")\n",
    "    diversity_openness: str = Field(description=\"Willingness to try new cuisines (e.g., adventurous, selective, traditionalist, not defined)\")\n",
    "\n",
    "    notes: str = Field(description=\"Brief summary explaining the users overall food personality and any notable patterns in their preferences\")\n",
    "    justification: str = Field(description=\"Detailed explanation of how the profile was determined based on the users interaction history and ratings. Describe why the liked cuisines, cuisine preference, dietary preference, food preferences, cuisine preferences, dietary preferences, flavor preferences, daypart preferences, and lifestyle tags were chosen. Is not allowed to use quotes or complex punctuation in this field. Keep it between 100 and 200 words not more.\")\n",
    "    user_story: str = Field(description=\"Predictive narrative about the user s culinary evolution and potential future preferences. Describes their food journey, emerging patterns, and likely directions for taste exploration. Written to help predict what they might enjoy next based on their current trajectory and evolving palate.\")\n",
    "    future_preferences: str = Field(description=\"Speculative insights into the types of recipes and cuisines the user may be inclined to explore in the future. Based on their current preferences, suggest new food categories, cooking styles, or dietary trends they might be open to trying next. This helps in anticipating their evolving culinary interests.\")\n"
   ]
  },
  {
   "cell_type": "code",
   "execution_count": 28,
   "id": "68e46f58",
   "metadata": {},
   "outputs": [
    {
     "name": "stdout",
     "output_type": "stream",
     "text": [
      "Generate a structured user profile that captures their culinary tastes, dietary preferences, flavor inclinations, among others. This user profile will be used then for a Recommendation System. Ensure the profile is concise, reasonable and accurately reflects the users food personality based on their interaction history. Please provide a structured profile of the user using the following format: [  liked_cuisines (List of cuisines the user enjoys most, ranked by preference based on their interaction history and ratings)  cuisine_preference (Primary cuisine type the user gravitates towards (e.g., Mediterranean, Asian Fusion, Traditional American))  dietary_preference (Main dietary restriction or lifestyle the user follows (e.g., Vegetarian, Low-carb, No restrictions))  food_preferences (Preferred food categories and meal types (e.g., comfort food, healthy salads, baked goods, grilled meats))  top_cuisine_choices (Specific regional or ethnic cuisines the user frequently rates highly (e.g., Thai, Southern BBQ, French pastry))  dietary_preferences (Dietary restrictions, health considerations, or eating patterns (e.g., gluten-free, plant-based, high-protein, dairy-free))  flavor_preferences (Dominant taste profiles and flavor characteristics the user seeks (e.g., bold and spicy, mild and creamy, tangy and citrusy))  daypart_preferences (Preferred times of day for different meal types based on rating patterns (e.g., hearty breakfast, light lunch, elaborate dinner))  lifestyle_tags (Behavioral patterns and cooking style indicators inferred from recipe choices (e.g., quick meals, entertainer, health-conscious, experimental cook))  convenience_preference (Preference for recipe complexity (e.g., quick and easy, gourmet elaborate))  diversity_openness (Willingness to try new cuisines (e.g., adventurous, selective, traditionalist, not defined))  notes (Brief summary explaining the users overall food personality and any notable patterns in their preferences)  justification (Detailed explanation of how the profile was determined based on the users interaction history and ratings. Describe why the liked cuisines, cuisine preference, dietary preference, food preferences, cuisine preferences, dietary preferences, flavor preferences, daypart preferences, and lifestyle tags were chosen. Is not allowed to use quotes or complex punctuation in this field. Keep it between 100 and 200 words not more.)  user_story (Predictive narrative about the user s culinary evolution and potential future preferences. Describes their food journey, emerging patterns, and likely directions for taste exploration. Written to help predict what they might enjoy next based on their current trajectory and evolving palate.)  future_preferences (Speculative insights into the types of recipes and cuisines the user may be inclined to explore in the future. Based on their current preferences, suggest new food categories, cooking styles, or dietary trends they might be open to trying next. This helps in anticipating their evolving culinary interests.)  ]. Each fill of the structured output doesnt need to take more than 200 words keep it in mind. IMPORTANT: Do not use quotation marks or complex punctuation in your response. Use simple words and avoid any quotes, apostrophes, or special characters. Use the following interaction history as reference:\n"
     ]
    }
   ],
   "source": [
    "user_profile_prompt = f\"\"\"Generate a structured user profile that captures their culinary tastes, dietary preferences, flavor inclinations, among others. This user profile will be used then for a Recommendation System. Ensure the profile is concise, reasonable and accurately reflects the users food personality based on their interaction history. Please provide a structured profile of the user using the following format: {schema_to_prompt_with_descriptions(UserProfile)}. Each fill of the structured output doesnt need to take more than 200 words keep it in mind. IMPORTANT: Do not use quotation marks or complex punctuation in your response. Use simple words and avoid any quotes, apostrophes, or special characters. Use the following interaction history as reference:\"\"\"\n",
    "\n",
    "print(user_profile_prompt)"
   ]
  },
  {
   "cell_type": "markdown",
   "id": "27a66ab5",
   "metadata": {},
   "source": [
    "We use the same parameter settings as in the recipe profiles generation."
   ]
  },
  {
   "cell_type": "code",
   "execution_count": 29,
   "id": "b60f6005",
   "metadata": {},
   "outputs": [
    {
     "name": "stdout",
     "output_type": "stream",
     "text": [
      "\n",
      "WITH ai_responses AS (\n",
      "  SELECT \n",
      "    s.user_id, \n",
      "    s.n_history,\n",
      "    s.history_string,\n",
      "    AI.GENERATE(('Generate a structured user profile that captures their culinary tastes, dietary preferences, flavor inclinations, among others. This user profile will be used then for a Recommendation System. Ensure the profile is concise, reasonable and accurately reflects the users food personality based on their interaction history. Please provide a structured profile of the user using the following format: [  liked_cuisines (List of cuisines the user enjoys most, ranked by preference based on their interaction history and ratings)  cuisine_preference (Primary cuisine type the user gravitates towards (e.g., Mediterranean, Asian Fusion, Traditional American))  dietary_preference (Main dietary restriction or lifestyle the user follows (e.g., Vegetarian, Low-carb, No restrictions))  food_preferences (Preferred food categories and meal types (e.g., comfort food, healthy salads, baked goods, grilled meats))  top_cuisine_choices (Specific regional or ethnic cuisines the user frequently rates highly (e.g., Thai, Southern BBQ, French pastry))  dietary_preferences (Dietary restrictions, health considerations, or eating patterns (e.g., gluten-free, plant-based, high-protein, dairy-free))  flavor_preferences (Dominant taste profiles and flavor characteristics the user seeks (e.g., bold and spicy, mild and creamy, tangy and citrusy))  daypart_preferences (Preferred times of day for different meal types based on rating patterns (e.g., hearty breakfast, light lunch, elaborate dinner))  lifestyle_tags (Behavioral patterns and cooking style indicators inferred from recipe choices (e.g., quick meals, entertainer, health-conscious, experimental cook))  convenience_preference (Preference for recipe complexity (e.g., quick and easy, gourmet elaborate))  diversity_openness (Willingness to try new cuisines (e.g., adventurous, selective, traditionalist, not defined))  notes (Brief summary explaining the users overall food personality and any notable patterns in their preferences)  justification (Detailed explanation of how the profile was determined based on the users interaction history and ratings. Describe why the liked cuisines, cuisine preference, dietary preference, food preferences, cuisine preferences, dietary preferences, flavor preferences, daypart preferences, and lifestyle tags were chosen. Is not allowed to use quotes or complex punctuation in this field. Keep it between 100 and 200 words not more.)  user_story (Predictive narrative about the user s culinary evolution and potential future preferences. Describes their food journey, emerging patterns, and likely directions for taste exploration. Written to help predict what they might enjoy next based on their current trajectory and evolving palate.)  future_preferences (Speculative insights into the types of recipes and cuisines the user may be inclined to explore in the future. Based on their current preferences, suggest new food categories, cooking styles, or dietary trends they might be open to trying next. This helps in anticipating their evolving culinary interests.)  ]. Each fill of the structured output doesnt need to take more than 200 words keep it in mind. IMPORTANT: Do not use quotation marks or complex punctuation in your response. Use simple words and avoid any quotes, apostrophes, or special characters. Use the following interaction history as reference:', s.history_string),\n",
      "        connection_id => 'us.kaggle-connection',\n",
      "        endpoint => 'gemini-2.5-flash',\n",
      "        model_params => JSON '{\"generationConfig\":{\"temperature\": 1.0, \"maxOutputTokens\": 2048, \"thinking_config\": {\"thinking_budget\": 1024} } }',\n",
      "        output_schema => 'liked_cuisines ARRAY<STRING>, cuisine_preference STRING, dietary_preference STRING, food_preferences ARRAY<STRING>, top_cuisine_choices ARRAY<STRING>, dietary_preferences ARRAY<STRING>, flavor_preferences ARRAY<STRING>, daypart_preferences ARRAY<STRING>, lifestyle_tags ARRAY<STRING>, convenience_preference STRING, diversity_openness STRING, notes STRING, justification STRING, user_story STRING, future_preferences STRING'\n",
      "    ) AS ai_result\n",
      "  FROM (SELECT * FROM `deliverable.users_parsed`) s\n",
      ")\n",
      "SELECT \n",
      "  *,\n",
      "  ai_result.full_response AS user_profile,\n",
      "  JSON_EXTRACT_SCALAR(ai_result.full_response, '$.candidates[0].content.parts[0].text') AS user_profile_text\n",
      "FROM ai_responses\n",
      "\n"
     ]
    }
   ],
   "source": [
    "user_profile_generation_query = f\"\"\"\n",
    "WITH ai_responses AS (\n",
    "  SELECT \n",
    "    s.user_id, \n",
    "    s.n_history,\n",
    "    s.history_string,\n",
    "    AI.GENERATE(('{user_profile_prompt}', s.history_string),\n",
    "        connection_id => '{CONNECTION_ID}',\n",
    "        endpoint => 'gemini-2.5-flash',\n",
    "        model_params => JSON '{{\"generationConfig\":{{\"temperature\": 1.0, \"maxOutputTokens\": 2048, \"thinking_config\": {{\"thinking_budget\": 1024}} }} }}',\n",
    "        output_schema => 'liked_cuisines ARRAY<STRING>, cuisine_preference STRING, dietary_preference STRING, food_preferences ARRAY<STRING>, top_cuisine_choices ARRAY<STRING>, dietary_preferences ARRAY<STRING>, flavor_preferences ARRAY<STRING>, daypart_preferences ARRAY<STRING>, lifestyle_tags ARRAY<STRING>, convenience_preference STRING, diversity_openness STRING, notes STRING, justification STRING, user_story STRING, future_preferences STRING'\n",
    "    ) AS ai_result\n",
    "  FROM (SELECT * FROM `{USERS_PARSED}`) s\n",
    ")\n",
    "SELECT \n",
    "  *,\n",
    "  ai_result.full_response AS user_profile,\n",
    "  JSON_EXTRACT_SCALAR(ai_result.full_response, '$.candidates[0].content.parts[0].text') AS user_profile_text\n",
    "FROM ai_responses\n",
    "\"\"\"\n",
    "\n",
    "print(user_profile_generation_query)"
   ]
  },
  {
   "cell_type": "code",
   "execution_count": 30,
   "id": "10a8f298",
   "metadata": {},
   "outputs": [
    {
     "name": "stdout",
     "output_type": "stream",
     "text": [
      "\n",
      "WITH ai_responses AS (\n",
      "  SELECT \n",
      "    s.user_id, \n",
      "    s.n_history,\n",
      "    s.history_string,\n",
      "    AI.GENERATE(('Generate a structured user profile that captures their culinary tastes, dietary preferences, flavor inclinations, among others. This user profile will be used then for a Recommendation System. Ensure the profile is concise, reasonable and accurately reflects the users food personality based on their interaction history. Please provide a structured profile of the user using the following format: [  liked_cuisines (List of cuisines the user enjoys most, ranked by preference based on their interaction history and ratings)  cuisine_preference (Primary cuisine type the user gravitates towards (e.g., Mediterranean, Asian Fusion, Traditional American))  dietary_preference (Main dietary restriction or lifestyle the user follows (e.g., Vegetarian, Low-carb, No restrictions))  food_preferences (Preferred food categories and meal types (e.g., comfort food, healthy salads, baked goods, grilled meats))  top_cuisine_choices (Specific regional or ethnic cuisines the user frequently rates highly (e.g., Thai, Southern BBQ, French pastry))  dietary_preferences (Dietary restrictions, health considerations, or eating patterns (e.g., gluten-free, plant-based, high-protein, dairy-free))  flavor_preferences (Dominant taste profiles and flavor characteristics the user seeks (e.g., bold and spicy, mild and creamy, tangy and citrusy))  daypart_preferences (Preferred times of day for different meal types based on rating patterns (e.g., hearty breakfast, light lunch, elaborate dinner))  lifestyle_tags (Behavioral patterns and cooking style indicators inferred from recipe choices (e.g., quick meals, entertainer, health-conscious, experimental cook))  convenience_preference (Preference for recipe complexity (e.g., quick and easy, gourmet elaborate))  diversity_openness (Willingness to try new cuisines (e.g., adventurous, selective, traditionalist, not defined))  notes (Brief summary explaining the users overall food personality and any notable patterns in their preferences)  justification (Detailed explanation of how the profile was determined based on the users interaction history and ratings. Describe why the liked cuisines, cuisine preference, dietary preference, food preferences, cuisine preferences, dietary preferences, flavor preferences, daypart preferences, and lifestyle tags were chosen. Is not allowed to use quotes or complex punctuation in this field. Keep it between 100 and 200 words not more.)  user_story (Predictive narrative about the user s culinary evolution and potential future preferences. Describes their food journey, emerging patterns, and likely directions for taste exploration. Written to help predict what they might enjoy next based on their current trajectory and evolving palate.)  future_preferences (Speculative insights into the types of recipes and cuisines the user may be inclined to explore in the future. Based on their current preferences, suggest new food categories, cooking styles, or dietary trends they might be open to trying next. This helps in anticipating their evolving culinary interests.)  ]. Each fill of the structured output doesnt need to take more than 200 words keep it in mind. IMPORTANT: Do not use quotation marks or complex punctuation in your response. Use simple words and avoid any quotes, apostrophes, or special characters. Use the following interaction history as reference:', s.history_string),\n",
      "        connection_id => 'us.kaggle-connection',\n",
      "        endpoint => 'gemini-2.5-flash',\n",
      "        model_params => JSON '{\"generationConfig\":{\"temperature\": 1.0, \"maxOutputTokens\": 2048, \"thinking_config\": {\"thinking_budget\": 1024} } }',\n",
      "        output_schema => 'liked_cuisines ARRAY<STRING>, cuisine_preference STRING, dietary_preference STRING, food_preferences ARRAY<STRING>, top_cuisine_choices ARRAY<STRING>, dietary_preferences ARRAY<STRING>, flavor_preferences ARRAY<STRING>, daypart_preferences ARRAY<STRING>, lifestyle_tags ARRAY<STRING>, convenience_preference STRING, diversity_openness STRING, notes STRING, justification STRING, user_story STRING, future_preferences STRING'\n",
      "    ) AS ai_result\n",
      "  FROM (SELECT * FROM `deliverable.users_parsed`) s\n",
      ")\n",
      "SELECT \n",
      "  *,\n",
      "  ai_result.full_response AS user_profile,\n",
      "  JSON_EXTRACT_SCALAR(ai_result.full_response, '$.candidates[0].content.parts[0].text') AS user_profile_text\n",
      "FROM ai_responses\n",
      "\n",
      "{\n",
      "  \"convenience_preference\": \"quick and easy\",\n",
      "  \"cuisine_preference\": \"comfort American\",\n",
      "  \"daypart_preferences\": [\n",
      "    \"dinner\",\n",
      "    \"lunch\"\n",
      "  ],\n",
      "  \"dietary_preference\": \"no restrictions\",\n",
      "  \"dietary_preferences\": [\n",
      "    \"meat eater\",\n",
      "    \"dairy friendly\"\n",
      "  ],\n",
      "  \"diversity_openness\": \"selective\",\n",
      "  \"flavor_preferences\": [\n",
      "    \"savory\",\n",
      "    \"cheesy\",\n",
      "    \"bold\",\n",
      "    \"spicy\",\n",
      "    \"garlicky\",\n",
      "    \"crispy\"\n",
      "  ],\n",
      "  \"food_preferences\": [\n",
      "    \"comfort food\",\n",
      "    \"hearty meals\",\n",
      "    \"family friendly\",\n",
      "    \"pasta dishes\",\n",
      "    \"fried foods\"\n",
      "  ],\n",
      "  \"future_preferences\": \"This user may enjoy exploring variations within their favorite comfort food genres such as different regional Mexican dishes or diverse Italian pasta preparations. They might also appreciate hearty stews casseroles or slow-cooker meals that offer rich flavors and are suitable for family dinners. Exploring more robust spice blends in their current favorite cuisines could also be appealing. Given their adaptability with ingredients they might be open to recipes that encourage creative substitutions while maintaining a familiar comfort food feel. They could also be introduced to global comfort foods that align with their savory cheesy or spicy preferences such as Indian curries or British pies.\",\n",
      "  \"justification\": \"Based on five-star ratings for Mexican burritos Italian sausage pasta American fried chicken and egg salad. The user consistently enjoys comfort food dishes that are hearty and family friendly. Their comments show a preference for robust flavors like extra garlic and spices. They are an adaptable cook willing to make small changes like using green pepper or different beer. Prep and cook times are generally short reflecting a convenience preference. The lower rating for pumpkin pasta indicates some selectivity and a preference for savory over potentially sweet savory combinations. Their overall food personality is family centric and flavor driven preferring familiar yet customizable dishes.\",\n",
      "  \"lifestyle_tags\": [\n",
      "    \"family focused\",\n",
      "    \"adaptable cook\",\n",
      "    \"comfort food seeker\",\n",
      "    \"quick meals\"\n",
      "  ],\n",
      "  \"liked_cuisines\": [\n",
      "    \"Mexican\",\n",
      "    \"American Southern\",\n",
      "    \"Italian\",\n",
      "    \"American Deli\"\n",
      "  ],\n",
      "  \"notes\": \"This user enjoys hearty, family-friendly comfort food with robust and savory flavors. They are an adaptable cook, making minor substitutions to recipes to suit their taste or available ingredients. They appreciate quick and easy preparation.\",\n",
      "  \"top_cuisine_choices\": [\n",
      "    \"Tex-Mex\",\n",
      "    \"Southern American\",\n",
      "    \"Italian-American\"\n",
      "  ],\n",
      "  \"user_story\": \"This user's culinary journey began with a strong foundation in comforting, family-friendly meals. Initially gravitating towards classic American and Tex-Mex dishes, they've shown a consistent preference for hearty, flavor-rich recipes that can be easily adapted. Their enjoyment of robust spices and savory profiles has grown, leading them to experiment with adding extra garlic or adjusting spice levels. They value efficiency in the kitchen, often choosing recipes with short preparation times, but are not afraid to make small changes to improve flavor or texture. In the future, this user will likely continue to explore variations of their beloved comfort foods, perhaps delving into more regional specific dishes within Mexican or Italian cuisines, or discovering new global comfort foods that resonate with their preference for bold, savory tastes and family appeal. Their palate is evolving towards a broader appreciation of well-seasoned and satisfying meals.\"\n",
      "}\n"
     ]
    },
    {
     "name": "stderr",
     "output_type": "stream",
     "text": [
      "/tmp/ipykernel_5601/2933704288.py:7: FutureWarning: to_gbq is deprecated and will be removed in a future version. Please use pandas_gbq.to_gbq instead: https://pandas-gbq.readthedocs.io/en/latest/api.html#pandas_gbq.to_gbq\n",
      "  df_users_profiles.to_gbq(\n",
      "100%|██████████| 1/1 [00:00<00:00, 8004.40it/s]\n"
     ]
    }
   ],
   "source": [
    "print(user_profile_generation_query)\n",
    "user_rows = client.query_and_wait(user_profile_generation_query)\n",
    "df_users_profiles = user_rows.to_dataframe()\n",
    "\n",
    "print(json.dumps(json.loads(df_users_profiles['user_profile_text'].iloc[0]), indent=2))\n",
    "\n",
    "df_users_profiles.to_gbq(\n",
    "    destination_table=f\"{PROJECT_ID}.{USERS_PROFILES_TABLE}\",\n",
    "    if_exists='replace',\n",
    ")"
   ]
  },
  {
   "cell_type": "markdown",
   "id": "0f1244d8",
   "metadata": {},
   "source": [
    "# Vector Search vs ALS\n"
   ]
  },
  {
   "cell_type": "markdown",
   "id": "f2585d06",
   "metadata": {},
   "source": [
    "We begin creating the text embeddings for both user and recipe **profiles**, as follow:"
   ]
  },
  {
   "cell_type": "code",
   "execution_count": 31,
   "id": "a34726e4",
   "metadata": {},
   "outputs": [
    {
     "data": {
      "text/plain": [
       "<google.cloud.bigquery.table._EmptyRowIterator at 0x72ee74fcf640>"
      ]
     },
     "execution_count": 31,
     "metadata": {},
     "output_type": "execute_result"
    }
   ],
   "source": [
    "client.query_and_wait(f\"\"\"\n",
    "ALTER TABLE `{PROJECT_ID}.{USERS_PROFILES_TABLE}`\n",
    "ADD COLUMN text_embedding ARRAY<FLOAT64>\n",
    "\"\"\")\n",
    "\n",
    "client.query_and_wait(f\"\"\"\n",
    "UPDATE `{PROJECT_ID}.{USERS_PROFILES_TABLE}` AS t\n",
    "SET t.text_embedding = s.ml_generate_embedding_result\n",
    "FROM (\n",
    "  SELECT\n",
    "    user_id,\n",
    "    ml_generate_embedding_result\n",
    "  FROM\n",
    "    ML.GENERATE_EMBEDDING(\n",
    "      MODEL `{SCHEMA_NAME}.text_embedding_model`,\n",
    "      (\n",
    "        SELECT\n",
    "          user_id,\n",
    "          user_profile_text AS content\n",
    "        FROM `{PROJECT_ID}.{USERS_PROFILES_TABLE}`\n",
    "      ),\n",
    "      STRUCT(TRUE AS flatten_json_output, {OUT_DIM} AS OUTPUT_DIMENSIONALITY, 'RETRIEVAL_QUERY' AS task_type)\n",
    "    )\n",
    ") AS s\n",
    "WHERE t.user_id = s.user_id\n",
    "\"\"\")"
   ]
  },
  {
   "cell_type": "code",
   "execution_count": 32,
   "id": "e244142d",
   "metadata": {},
   "outputs": [
    {
     "data": {
      "text/plain": [
       "<google.cloud.bigquery.table._EmptyRowIterator at 0x72f0cc895960>"
      ]
     },
     "execution_count": 32,
     "metadata": {},
     "output_type": "execute_result"
    }
   ],
   "source": [
    "client.query_and_wait(f\"\"\"\n",
    "ALTER TABLE `{PROJECT_ID}.{RECIPES_PROFILES_TABLE}`\n",
    "ADD COLUMN text_embedding ARRAY<FLOAT64>\n",
    "\"\"\")\n",
    "\n",
    "# Create Vector Embeddings for the recipe profiles\n",
    "client.query_and_wait(f\"\"\"\n",
    "UPDATE `{PROJECT_ID}.{RECIPES_PROFILES_TABLE}` AS t\n",
    "SET t.text_embedding = s.ml_generate_embedding_result\n",
    "FROM (\n",
    "  SELECT\n",
    "    recipe_id,\n",
    "    ml_generate_embedding_result\n",
    "  FROM\n",
    "    ML.GENERATE_EMBEDDING(\n",
    "      MODEL `{SCHEMA_NAME}.text_embedding_model`,\n",
    "      (\n",
    "        SELECT\n",
    "          recipe_id,\n",
    "          recipe_profile_text AS content\n",
    "        FROM `{PROJECT_ID}.{RECIPES_PROFILES_TABLE}`\n",
    "      ),\n",
    "      STRUCT(TRUE AS flatten_json_output, {OUT_DIM} AS OUTPUT_DIMENSIONALITY, 'RETRIEVAL_DOCUMENT' AS task_type)\n",
    "    )\n",
    ") AS s\n",
    "WHERE t.recipe_id = s.recipe_id\n",
    "\"\"\")"
   ]
  },
  {
   "cell_type": "markdown",
   "id": "a86fd3d2",
   "metadata": {},
   "source": [
    "We also combine some columns to facilitate model evaluation later on."
   ]
  },
  {
   "cell_type": "code",
   "execution_count": 33,
   "id": "cb4bffbb",
   "metadata": {},
   "outputs": [
    {
     "name": "stderr",
     "output_type": "stream",
     "text": [
      "/tmp/ipykernel_5601/2211945682.py:9: FutureWarning: to_gbq is deprecated and will be removed in a future version. Please use pandas_gbq.to_gbq instead: https://pandas-gbq.readthedocs.io/en/latest/api.html#pandas_gbq.to_gbq\n",
      "  df.to_gbq(\n",
      "100%|██████████| 1/1 [00:00<00:00, 8256.50it/s]\n"
     ]
    },
    {
     "data": {
      "text/plain": [
       "<google.cloud.bigquery.table.RowIterator at 0x72ee74d73ee0>"
      ]
     },
     "execution_count": 33,
     "metadata": {},
     "output_type": "execute_result"
    }
   ],
   "source": [
    "# Parse column to exclude recipe_history from vector search\n",
    "df = client.query_and_wait(f\"\"\"\n",
    "SELECT * FROM `{PROJECT_ID}.{USERS_PARSED}`\n",
    "\"\"\").to_dataframe()\n",
    "\n",
    "df['recipes_to_exclude'] = df['user_history'].apply(lambda x: [entry['recipe_id'] for entry in x])\n",
    "\n",
    "# Update entire table with the new column\n",
    "df.to_gbq(\n",
    "    destination_table=f\"{PROJECT_ID}.{USERS_PARSED}\",\n",
    "    if_exists='replace',\n",
    ")\n",
    "\n",
    "# Add new column to user profiles table via left join\n",
    "client.query_and_wait(f\"\"\"\n",
    "CREATE OR REPLACE TABLE `{PROJECT_ID}.{USERS_PROFILES_TABLE}` AS\n",
    "SELECT u.*, p.recipes_to_exclude, p.rec_gt\n",
    "FROM `{PROJECT_ID}.{USERS_PROFILES_TABLE}` u\n",
    "LEFT JOIN `{PROJECT_ID}.{USERS_PARSED}` p USING(user_id)\n",
    "\"\"\")"
   ]
  },
  {
   "cell_type": "code",
   "execution_count": 1,
   "id": "915d1035",
   "metadata": {},
   "outputs": [],
   "source": [
    "TOP_K = 20\n",
    "N_NEIGHBORS = 20\n",
    "PLOT = True"
   ]
  },
  {
   "cell_type": "markdown",
   "id": "a4cc8de5",
   "metadata": {},
   "source": [
    "We observed that the `gemini-embedding-001` model returns empty embeddings (arrays of zeros) for some recipes. The cause of this behavior is unclear for us, but to prevent downstream issues, we exclude these recipes from the recommendation pipeline (retrieval, ALS and evaluation)."
   ]
  },
  {
   "cell_type": "code",
   "execution_count": 6,
   "id": "02f88f61",
   "metadata": {},
   "outputs": [
    {
     "name": "stdout",
     "output_type": "stream",
     "text": [
      "user_queries['len'].value_counts()=len\n",
      "1024    131\n",
      "Name: count, dtype: int64\n",
      "df_recipe_profiles['len'].value_counts()=len\n",
      "1024    1359\n",
      "0        689\n",
      "Name: count, dtype: int64\n",
      "Excluding 689 recipes with empty embeddings\n"
     ]
    }
   ],
   "source": [
    "user_queries = client.query_and_wait(f\"\"\"\n",
    "SELECT user_id, recipes_to_exclude, text_embedding FROM `{PROJECT_ID}.{USERS_PROFILES_TABLE}`\n",
    "\"\"\").to_dataframe()\n",
    "user_queries['len'] = user_queries['text_embedding'].apply(len)\n",
    "print(f\"{user_queries['len'].value_counts()=}\")\n",
    "\n",
    "df_recipe_profiles = client.query_and_wait(f\"\"\"\n",
    "  SELECT recipe_id, recipe_profile_text, text_embedding FROM `{PROJECT_ID}.{RECIPES_PROFILES_TABLE}`\n",
    "\"\"\").to_dataframe()\n",
    "df_recipe_profiles['len'] = df_recipe_profiles['text_embedding'].apply(len)\n",
    "print(f\"{df_recipe_profiles['len'].value_counts()=}\")\n",
    "\n",
    "excluded_recipes = df_recipe_profiles[df_recipe_profiles['len'] == 0]['recipe_id'].tolist()\n",
    "print(f\"Excluding {len(excluded_recipes)} recipes with empty embeddings\")"
   ]
  },
  {
   "cell_type": "markdown",
   "id": "3adda804",
   "metadata": {},
   "source": [
    "## Vector Search powered by BigQuery AI and Gemini Embeddings"
   ]
  },
  {
   "cell_type": "markdown",
   "id": "1efed1ef",
   "metadata": {},
   "source": [
    "After the time intensive preprocessing steps of building profiles and generating embeddings, we can run a vector search to match user profiles with recipe profiles. In `query_vector_search`, we compare only embeddings with nonzero length, as noted earlier. This semantic search helps with cold start by recommending new, unrated recipes based on their content and their similarity to the user’s profile."
   ]
  },
  {
   "cell_type": "code",
   "execution_count": 7,
   "id": "12543735",
   "metadata": {},
   "outputs": [
    {
     "name": "stdout",
     "output_type": "stream",
     "text": [
      "\n",
      "SELECT * FROM\n",
      "VECTOR_SEARCH(\n",
      "    (\n",
      "        SELECT\n",
      "        title, recipe_id, recipe_profile_text, parsed_ingredients, parsed_recipe, text_embedding\n",
      "        FROM `kaggle-bigquery-471522.deliverable.recipe_profiles`\n",
      "        WHERE text_embedding IS NOT NULL \n",
      "        AND ARRAY_LENGTH(text_embedding) > 0\n",
      "    ),\n",
      "    'text_embedding',\n",
      "    (\n",
      "        SELECT\n",
      "        text_embedding, n_history, user_id, rec_gt, recipes_to_exclude, user_profile_text\n",
      "        FROM `kaggle-bigquery-471522.deliverable.user_profiles`\n",
      "        WHERE text_embedding IS NOT NULL \n",
      "        AND ARRAY_LENGTH(text_embedding) > 0\n",
      "    ),\n",
      "    'text_embedding',\n",
      "    top_k => 20,\n",
      "    distance_type => 'COSINE'\n",
      ")\n",
      "\n"
     ]
    }
   ],
   "source": [
    "query_vector_search = f\"\"\"\n",
    "SELECT * FROM\n",
    "VECTOR_SEARCH(\n",
    "    (\n",
    "        SELECT\n",
    "        title, recipe_id, recipe_profile_text, parsed_ingredients, parsed_recipe, text_embedding\n",
    "        FROM `{PROJECT_ID}.{RECIPES_PROFILES_TABLE}`\n",
    "        WHERE text_embedding IS NOT NULL \n",
    "        AND ARRAY_LENGTH(text_embedding) > 0\n",
    "    ),\n",
    "    'text_embedding',\n",
    "    (\n",
    "        SELECT\n",
    "        text_embedding, n_history, user_id, rec_gt, recipes_to_exclude, user_profile_text\n",
    "        FROM `{PROJECT_ID}.{USERS_PROFILES_TABLE}`\n",
    "        WHERE text_embedding IS NOT NULL \n",
    "        AND ARRAY_LENGTH(text_embedding) > 0\n",
    "    ),\n",
    "    'text_embedding',\n",
    "    top_k => {TOP_K},\n",
    "    distance_type => 'COSINE'\n",
    ")\n",
    "\"\"\"\n",
    "print(query_vector_search)"
   ]
  },
  {
   "cell_type": "code",
   "execution_count": 8,
   "id": "1992d017",
   "metadata": {},
   "outputs": [
    {
     "data": {
      "text/html": [
       "<div>\n",
       "<style scoped>\n",
       "    .dataframe tbody tr th:only-of-type {\n",
       "        vertical-align: middle;\n",
       "    }\n",
       "\n",
       "    .dataframe tbody tr th {\n",
       "        vertical-align: top;\n",
       "    }\n",
       "\n",
       "    .dataframe thead th {\n",
       "        text-align: right;\n",
       "    }\n",
       "</style>\n",
       "<table border=\"1\" class=\"dataframe\">\n",
       "  <thead>\n",
       "    <tr style=\"text-align: right;\">\n",
       "      <th></th>\n",
       "      <th>distance</th>\n",
       "      <th>user_text_embedding</th>\n",
       "      <th>n_history</th>\n",
       "      <th>user_id</th>\n",
       "      <th>rec_gt</th>\n",
       "      <th>recipes_to_exclude</th>\n",
       "      <th>user_profile_text</th>\n",
       "      <th>title</th>\n",
       "      <th>recipe_id</th>\n",
       "      <th>recipe_profile_text</th>\n",
       "      <th>parsed_ingredients</th>\n",
       "      <th>parsed_recipe</th>\n",
       "      <th>recipe_text_embedding</th>\n",
       "    </tr>\n",
       "  </thead>\n",
       "  <tbody>\n",
       "    <tr>\n",
       "      <th>0</th>\n",
       "      <td>0.185</td>\n",
       "      <td>[0.02171381749212742, 0.0064751687459647655, 0...</td>\n",
       "      <td>25</td>\n",
       "      <td>2100575</td>\n",
       "      <td>[6989, 84109, 20808, 24740, 9926, 179582, 21387]</td>\n",
       "      <td>[70343, 217010, 180711, 218863, 24786, 21174, ...</td>\n",
       "      <td>{\\n  \"convenience_preference\": \"quick and easy...</td>\n",
       "      <td>Slow Cooker Taco Soup</td>\n",
       "      <td>16678</td>\n",
       "      <td>{\\n  \"cuisine_type\": \"American\",\\n  \"dietary_p...</td>\n",
       "      <td>- ground beef\\n- onion\\n- chili beans\\n- kidne...</td>\n",
       "      <td>Prep 10 m. Cook 8 h. Ready In 8 h 10 m. In a m...</td>\n",
       "      <td>[0.004327426664531231, 0.005563921760767698, 0...</td>\n",
       "    </tr>\n",
       "    <tr>\n",
       "      <th>1</th>\n",
       "      <td>0.185</td>\n",
       "      <td>[0.02171381749212742, 0.0064751687459647655, 0...</td>\n",
       "      <td>25</td>\n",
       "      <td>2100575</td>\n",
       "      <td>[6989, 84109, 20808, 24740, 9926, 179582, 21387]</td>\n",
       "      <td>[70343, 217010, 180711, 218863, 24786, 21174, ...</td>\n",
       "      <td>{\\n  \"convenience_preference\": \"quick and easy...</td>\n",
       "      <td>Slow Cooker Chicken and Dumplings</td>\n",
       "      <td>8941</td>\n",
       "      <td>{\\n  \"cuisine_type\": \"American\",\\n  \"dietary_p...</td>\n",
       "      <td>- skinless boneless chicken breast halves\\n- b...</td>\n",
       "      <td>Prep 10 m. Cook 6 h. Ready In 6 h 10 m. Place ...</td>\n",
       "      <td>[-6.112962000770494e-05, 0.008067025803029537,...</td>\n",
       "    </tr>\n",
       "    <tr>\n",
       "      <th>2</th>\n",
       "      <td>0.186</td>\n",
       "      <td>[0.02171381749212742, 0.0064751687459647655, 0...</td>\n",
       "      <td>25</td>\n",
       "      <td>2100575</td>\n",
       "      <td>[6989, 84109, 20808, 24740, 9926, 179582, 21387]</td>\n",
       "      <td>[70343, 217010, 180711, 218863, 24786, 21174, ...</td>\n",
       "      <td>{\\n  \"convenience_preference\": \"quick and easy...</td>\n",
       "      <td>Super Easy Chicken and Dumplings</td>\n",
       "      <td>218562</td>\n",
       "      <td>{\\n  \"cuisine_type\": \"American\",\\n  \"dietary_p...</td>\n",
       "      <td>- cream of chicken soup\\n- chicken broth\\n- sh...</td>\n",
       "      <td>Prep 5 m. Cook 15 m. Ready In 20 m. Stir the c...</td>\n",
       "      <td>[-0.009826376102864742, 0.005186413414776325, ...</td>\n",
       "    </tr>\n",
       "    <tr>\n",
       "      <th>3</th>\n",
       "      <td>0.186</td>\n",
       "      <td>[0.02171381749212742, 0.0064751687459647655, 0...</td>\n",
       "      <td>25</td>\n",
       "      <td>2100575</td>\n",
       "      <td>[6989, 84109, 20808, 24740, 9926, 179582, 21387]</td>\n",
       "      <td>[70343, 217010, 180711, 218863, 24786, 21174, ...</td>\n",
       "      <td>{\\n  \"convenience_preference\": \"quick and easy...</td>\n",
       "      <td>Plain Cake Doughnuts</td>\n",
       "      <td>43051</td>\n",
       "      <td>{\\n  \"cuisine_type\": \"American\",\\n  \"dietary_p...</td>\n",
       "      <td>- all-purpose flour\\n- white sugar\\n- salt\\n- ...</td>\n",
       "      <td>Prep 10 m. Cook 15 m. Ready In 25 m. Heat oil ...</td>\n",
       "      <td>[-0.00031834832043386996, -0.00466002384200692...</td>\n",
       "    </tr>\n",
       "    <tr>\n",
       "      <th>4</th>\n",
       "      <td>0.186</td>\n",
       "      <td>[0.02171381749212742, 0.0064751687459647655, 0...</td>\n",
       "      <td>25</td>\n",
       "      <td>2100575</td>\n",
       "      <td>[6989, 84109, 20808, 24740, 9926, 179582, 21387]</td>\n",
       "      <td>[70343, 217010, 180711, 218863, 24786, 21174, ...</td>\n",
       "      <td>{\\n  \"convenience_preference\": \"quick and easy...</td>\n",
       "      <td>Awesome Slow Cooker Pot Roast</td>\n",
       "      <td>16066</td>\n",
       "      <td>{\\n  \"cuisine_type\": \"American\",\\n  \"dietary_p...</td>\n",
       "      <td>- condensed cream of mushroom soup\\n- dry onio...</td>\n",
       "      <td>Prep 10 m. Cook 8 h. Ready In 8 h 10 m. In a s...</td>\n",
       "      <td>[0.004063889849931002, 0.011246340349316597, 0...</td>\n",
       "    </tr>\n",
       "  </tbody>\n",
       "</table>\n",
       "</div>"
      ],
      "text/plain": [
       "   distance                                user_text_embedding  n_history  \\\n",
       "0     0.185  [0.02171381749212742, 0.0064751687459647655, 0...         25   \n",
       "1     0.185  [0.02171381749212742, 0.0064751687459647655, 0...         25   \n",
       "2     0.186  [0.02171381749212742, 0.0064751687459647655, 0...         25   \n",
       "3     0.186  [0.02171381749212742, 0.0064751687459647655, 0...         25   \n",
       "4     0.186  [0.02171381749212742, 0.0064751687459647655, 0...         25   \n",
       "\n",
       "   user_id                                            rec_gt  \\\n",
       "0  2100575  [6989, 84109, 20808, 24740, 9926, 179582, 21387]   \n",
       "1  2100575  [6989, 84109, 20808, 24740, 9926, 179582, 21387]   \n",
       "2  2100575  [6989, 84109, 20808, 24740, 9926, 179582, 21387]   \n",
       "3  2100575  [6989, 84109, 20808, 24740, 9926, 179582, 21387]   \n",
       "4  2100575  [6989, 84109, 20808, 24740, 9926, 179582, 21387]   \n",
       "\n",
       "                                  recipes_to_exclude  \\\n",
       "0  [70343, 217010, 180711, 218863, 24786, 21174, ...   \n",
       "1  [70343, 217010, 180711, 218863, 24786, 21174, ...   \n",
       "2  [70343, 217010, 180711, 218863, 24786, 21174, ...   \n",
       "3  [70343, 217010, 180711, 218863, 24786, 21174, ...   \n",
       "4  [70343, 217010, 180711, 218863, 24786, 21174, ...   \n",
       "\n",
       "                                   user_profile_text  \\\n",
       "0  {\\n  \"convenience_preference\": \"quick and easy...   \n",
       "1  {\\n  \"convenience_preference\": \"quick and easy...   \n",
       "2  {\\n  \"convenience_preference\": \"quick and easy...   \n",
       "3  {\\n  \"convenience_preference\": \"quick and easy...   \n",
       "4  {\\n  \"convenience_preference\": \"quick and easy...   \n",
       "\n",
       "                               title recipe_id  \\\n",
       "0              Slow Cooker Taco Soup     16678   \n",
       "1  Slow Cooker Chicken and Dumplings      8941   \n",
       "2   Super Easy Chicken and Dumplings    218562   \n",
       "3               Plain Cake Doughnuts     43051   \n",
       "4      Awesome Slow Cooker Pot Roast     16066   \n",
       "\n",
       "                                 recipe_profile_text  \\\n",
       "0  {\\n  \"cuisine_type\": \"American\",\\n  \"dietary_p...   \n",
       "1  {\\n  \"cuisine_type\": \"American\",\\n  \"dietary_p...   \n",
       "2  {\\n  \"cuisine_type\": \"American\",\\n  \"dietary_p...   \n",
       "3  {\\n  \"cuisine_type\": \"American\",\\n  \"dietary_p...   \n",
       "4  {\\n  \"cuisine_type\": \"American\",\\n  \"dietary_p...   \n",
       "\n",
       "                                  parsed_ingredients  \\\n",
       "0  - ground beef\\n- onion\\n- chili beans\\n- kidne...   \n",
       "1  - skinless boneless chicken breast halves\\n- b...   \n",
       "2  - cream of chicken soup\\n- chicken broth\\n- sh...   \n",
       "3  - all-purpose flour\\n- white sugar\\n- salt\\n- ...   \n",
       "4  - condensed cream of mushroom soup\\n- dry onio...   \n",
       "\n",
       "                                       parsed_recipe  \\\n",
       "0  Prep 10 m. Cook 8 h. Ready In 8 h 10 m. In a m...   \n",
       "1  Prep 10 m. Cook 6 h. Ready In 6 h 10 m. Place ...   \n",
       "2  Prep 5 m. Cook 15 m. Ready In 20 m. Stir the c...   \n",
       "3  Prep 10 m. Cook 15 m. Ready In 25 m. Heat oil ...   \n",
       "4  Prep 10 m. Cook 8 h. Ready In 8 h 10 m. In a s...   \n",
       "\n",
       "                               recipe_text_embedding  \n",
       "0  [0.004327426664531231, 0.005563921760767698, 0...  \n",
       "1  [-6.112962000770494e-05, 0.008067025803029537,...  \n",
       "2  [-0.009826376102864742, 0.005186413414776325, ...  \n",
       "3  [-0.00031834832043386996, -0.00466002384200692...  \n",
       "4  [0.004063889849931002, 0.011246340349316597, 0...  "
      ]
     },
     "metadata": {},
     "output_type": "display_data"
    }
   ],
   "source": [
    "matches_vs = client.query_and_wait(query_vector_search).to_dataframe()\n",
    "\n",
    "df_query = pd.json_normalize(matches_vs[\"query\"]).rename(columns={\n",
    "    'text_embedding': 'user_text_embedding',\n",
    "})\n",
    "df_base = pd.json_normalize(matches_vs[\"base\"]).rename(columns={\n",
    "    'text_embedding': 'recipe_text_embedding',\n",
    "})\n",
    "matches_vs = pd.concat([matches_vs.drop([\"query\",\"base\"], axis=1), df_query, df_base], axis=1)\n",
    "\n",
    "display(matches_vs.head(5))"
   ]
  },
  {
   "cell_type": "markdown",
   "id": "d999d2c9",
   "metadata": {},
   "source": [
    "We could then reduce the search space of the vector search query using business logic. For example, we could filter recipes by cuisine, meal type, or dietary restrictions based on the user's preferences. This would help in retrieving more relevant recommendations. But, it is out of the scope of this notebook.\n",
    "\n",
    "Now, we calculate how many retrieved elements (`TOP_K = 20` as in [LlamaRec](https://arxiv.org/pdf/2311.02089)) were actually rated positive by the user in the validation set."
   ]
  },
  {
   "cell_type": "code",
   "execution_count": 9,
   "id": "3325d93d",
   "metadata": {},
   "outputs": [
    {
     "name": "stdout",
     "output_type": "stream",
     "text": [
      "GEMINI EMBEDDINGS avg_hit_prop=0.02 std_hit_prop=0.05\n"
     ]
    },
    {
     "data": {
      "image/png": "[encoded data removed]",
      "text/plain": [
       "<Figure size 640x480 with 1 Axes>"
      ]
     },
     "metadata": {},
     "output_type": "display_data"
    }
   ],
   "source": [
    "df_matches_vs = matches_vs.groupby('user_id', as_index=False).agg({\n",
    "    'rec_gt': 'first', \n",
    "    'recipe_id': list,\n",
    "    'recipe_profile_text': list,\n",
    "    'title': list,\n",
    "    'user_profile_text': 'first',   # or unique\n",
    "    'n_history': 'first'\n",
    "})\n",
    "df_matches_vs['rec_gt'] = df_matches_vs['rec_gt'].apply(lambda x: [v for v in x if v not in excluded_recipes])\n",
    "df_matches_vs['hit_count'] = df_matches_vs.apply(lambda row: sum(1 for r in row['rec_gt'] if r in row['recipe_id']), axis=1)\n",
    "df_matches_vs['hit'] = df_matches_vs['hit_count'] > 0\n",
    "df_matches_vs['hit_proportion'] = df_matches_vs['hit_count'] / df_matches_vs['rec_gt'].apply(len)\n",
    "\n",
    "avg_hit_prop = df_matches_vs['hit_proportion'].mean()\n",
    "std_hit_prop = df_matches_vs['hit_proportion'].std()\n",
    "print(f\"GEMINI EMBEDDINGS {avg_hit_prop=:.2f} {std_hit_prop=:.2f}\")\n",
    "\n",
    "if PLOT:\n",
    "    df_matches_vs['hit_proportion'].plot(kind='hist', bins=20, title=f'VS Gemini Hit Proportion @ {TOP_K} -> {avg_hit_prop:.5f}')\n",
    "    plt.show()\n"
   ]
  },
  {
   "cell_type": "markdown",
   "id": "f45289bc",
   "metadata": {},
   "source": [
    "We obtain a `0.01680` in our metric (`recall@20`), which can seem small at first glance. However, in other work such as the [H\\&M](https://www.kaggle.com/code/julian3833/h-m-implicit-als-model-0-014) competition and the [LlamaRec](https://arxiv.org/pdf/2311.02089) paper, recommendation metrics are typically small, and gains often show up in the second or third decimal place. Our implementation shows that BigQuery AI with vector search can cut the build time for a recommender from weeks to hours.\n",
    "\n",
    "With a stronger retrieval stage, no matter the algorithm or heuristic, we can use `AI.GENERATE` to re rank the candidates, following a strategy like [LlamaRec](https://arxiv.org/pdf/2311.02089). For more ideas, see advanced techniques in [LRU](https://arxiv.org/pdf/2310.02367) and [Generative Retrieval](https://papers.neurips.cc/paper_files/paper/2023/file/20dcab0f14046a5c6b02b61da9f13229-Paper-Conference.pdf).\n",
    "\n",
    "This approach also fits a hybrid recommender that blends collaborative filtering with content based filtering. You can even feed the embeddings as features to a neural network. The use of embeddings opens up many possibilities and BigQuery AI makes it easy to experiment with them.\n",
    "\n",
    "Next we compare the results to an ALS baseline.\n"
   ]
  },
  {
   "cell_type": "markdown",
   "id": "429c05b4",
   "metadata": {},
   "source": [
    "## ALS"
   ]
  },
  {
   "cell_type": "markdown",
   "id": "7ffc7ad7",
   "metadata": {},
   "source": [
    "Traditional Rec Sys methods fail to determine why a recommendation is relevant to a user. For this notebook, we use ALS as a fast, scalable baseline to compare against our vector search approach. It delivers top-K rankings we can compare against our vector search results."
   ]
  },
  {
   "cell_type": "code",
   "execution_count": null,
   "id": "11a9506c",
   "metadata": {},
   "outputs": [],
   "source": [
    "import implicit\n",
    "from implicit.evaluation import precision_at_k, mean_average_precision_at_k, ndcg_at_k\n",
    "from implicit.nearest_neighbours import bm25_weight, tfidf_weight\n",
    "from scipy.sparse import coo_matrix"
   ]
  },
  {
   "cell_type": "code",
   "execution_count": 11,
   "id": "7fd3a2bc",
   "metadata": {},
   "outputs": [
    {
     "name": "stdout",
     "output_type": "stream",
     "text": [
      "[TRAIN] User-Item Matrix: (131, 1575)\n",
      "[TRAIN] Non-zero elements: 2730\n",
      "[TRAIN] Non-zero proportion: 0.013231552162849873\n"
     ]
    },
    {
     "name": "stderr",
     "output_type": "stream",
     "text": [
      "/home/tenken/Desktop/kaggle-bigquery-hackaton-2025/venv11/lib/python3.10/site-packages/implicit/utils.py:164: ParameterWarning: Method expects CSR input, and was passed coo_matrix instead. Converting to CSR took 0.0016307830810546875 seconds\n",
      "  warnings.warn(\n"
     ]
    },
    {
     "data": {
      "application/vnd.jupyter.widget-view+json": {
       "model_id": "e403145fac74442db40a05323917bb21",
       "version_major": 2,
       "version_minor": 0
      },
      "text/plain": [
       "  0%|          | 0/500 [00:00<?, ?it/s]"
      ]
     },
     "metadata": {},
     "output_type": "display_data"
    }
   ],
   "source": [
    "df_train_users = client.query_and_wait(f\"\"\"\n",
    "SELECT {SUBSET_COLS} FROM `{TRAIN_INTERACTIONS}`\n",
    "WHERE user_id IN (SELECT user_id FROM `{PROJECT_ID}.{USERS_PARSED}`)\n",
    "\"\"\").to_dataframe()\n",
    "\n",
    "df_valid_users = client.query_and_wait(f\"\"\"\n",
    "SELECT {SUBSET_COLS} FROM `{VALID_INTERACTIONS}`\n",
    "WHERE user_id IN (SELECT user_id FROM `{PROJECT_ID}.{USERS_PARSED}`)\n",
    "\"\"\").to_dataframe()\n",
    "\n",
    "user_ids = df_train_users['user_id'].astype('category')\n",
    "recipe_ids = df_train_users['recipe_id'].astype('category')\n",
    "\n",
    "user_map = dict(enumerate(user_ids.cat.categories))  # idx -> user_id\n",
    "recipe_map = dict(enumerate(recipe_ids.cat.categories))  # idx -> recipe_id\n",
    "\n",
    "rows = user_ids.cat.codes.values\n",
    "cols = recipe_ids.cat.codes.values\n",
    "\n",
    "data = df_train_users['rating'].astype(float).values\n",
    "\n",
    "# Build sparse matrix: users x items\n",
    "train_matrix = coo_matrix((data, (rows, cols)), shape=(len(user_map), len(recipe_map)))\n",
    "print(\"[TRAIN] User-Item Matrix:\", train_matrix.shape)\n",
    "print(\"[TRAIN] Non-zero elements:\", train_matrix.nnz)\n",
    "print(\"[TRAIN] Non-zero proportion:\", train_matrix.nnz / (train_matrix.shape[0] * train_matrix.shape[1]))\n",
    "\n",
    "als_model = implicit.als.AlternatingLeastSquares(\n",
    "    factors=32,          # latent dims\n",
    "    regularization=0.05, # L2 reg\n",
    "    iterations=500,       # ALS steps\n",
    "    alpha=2.0,          # confidence scaling\n",
    "    calculate_training_loss=True,\n",
    "    random_state=0\n",
    ")\n",
    "\n",
    "als_model.fit(train_matrix.T)"
   ]
  },
  {
   "cell_type": "code",
   "execution_count": 12,
   "id": "eafede23",
   "metadata": {},
   "outputs": [
    {
     "name": "stdout",
     "output_type": "stream",
     "text": [
      "ALS avg_hit_prop_als=0.01 std_hit_prop_als=0.04\n"
     ]
    },
    {
     "data": {
      "image/png": "[encoded data removed]",
      "text/plain": [
       "<Figure size 640x480 with 1 Axes>"
      ]
     },
     "metadata": {},
     "output_type": "display_data"
    }
   ],
   "source": [
    "def get_recommendations(user_id: str, N: int = TOP_K, model = als_model):\n",
    "    if user_id not in user_ids.cat.categories:\n",
    "        raise ValueError(f\"User ID {user_id} not found in training data.\")\n",
    "    \n",
    "    user_idx = int(user_ids.cat.categories.get_loc(user_id))\n",
    "    user_items = train_matrix.tocsr()[user_idx]\n",
    "    \n",
    "    recs = model.recommend(\n",
    "        user_idx,\n",
    "        user_items,\n",
    "        N=N,\n",
    "        filter_already_liked_items=True,\n",
    "        recalculate_user=False\n",
    "    )\n",
    "    \n",
    "    # recommended_recipes = [(recipe_map[i], score) for i, score in zip(*recs)]\n",
    "    recommended_recipes = [recipe_map[r_i] for r_i, score in zip(*recs)]\n",
    "    return recommended_recipes\n",
    "\n",
    "df_matches_als = (\n",
    "    df_valid_users.loc[lambda df: df['user_id'].isin(df_train_users['user_id'].values)]\n",
    "    .groupby('user_id', as_index=False)\n",
    "    .agg({'recipe_id': list})\n",
    ").rename(columns={'recipe_id': 'rec_gt'})\n",
    "df_matches_als['rec_gt'] = df_matches_als['rec_gt'].apply(lambda x: [v for v in x if v not in excluded_recipes])\n",
    "\n",
    "df_matches_als['als_recommendations'] = df_matches_als['user_id'].apply(get_recommendations)\n",
    "df_matches_als['hit_count'] = df_matches_als.apply(lambda row: sum(1 for r in row['rec_gt'] if r in row['als_recommendations']), axis=1)\n",
    "df_matches_als['hit_proportion'] = df_matches_als['hit_count'] / df_matches_als['rec_gt'].apply(len)\n",
    "\n",
    "avg_hit_prop_als = df_matches_als['hit_proportion'].mean()\n",
    "std_hit_prop_als = df_matches_als['hit_proportion'].std()\n",
    "\n",
    "print(f\"ALS {avg_hit_prop_als=:.2f} {std_hit_prop_als=:.2f}\")\n",
    "\n",
    "if PLOT:\n",
    "    df_matches_als['hit_proportion'].plot(kind='hist', bins=20, title=f'ALS Hit Proportion @ {TOP_K} -> {avg_hit_prop_als:.5f}')\n",
    "    plt.show()\n"
   ]
  },
  {
   "cell_type": "markdown",
   "id": "0df0bd36",
   "metadata": {},
   "source": [
    "# LLM-as-a-Judge as middle ground between Offline Metrics and A/B Testing"
   ]
  },
  {
   "cell_type": "markdown",
   "id": "b5a3c27f",
   "metadata": {},
   "source": [
    "Following the ideas of the [Spotify paper](https://dl.acm.org/doi/pdf/10.1145/3705328.3759305) accepted on RecSys'25 conference, we can use LLMs as offline judges to assess the quality of recommendations, in contrast to traditional offline metrics (e.g., recall@K) that suffer from exposure bias. This methodology could be considered as an intermediate step between offline metrics and online A/B testing, which is often costly and time-consuming, providing a more efficient way to evaluate and compare recommendation systems."
   ]
  },
  {
   "cell_type": "code",
   "execution_count": 13,
   "id": "e26b82f8",
   "metadata": {},
   "outputs": [],
   "source": [
    "ALS_RECOMMENDATIONS_TABLE = f\"{SCHEMA_NAME}.als_recommendations\"\n",
    "VS_RECOMMENDATIONS_TABLE = f\"{SCHEMA_NAME}.vs_recommendations\"\n",
    "MODEL_COMPARISON_TABLE = f\"{SCHEMA_NAME}.model_comparison\""
   ]
  },
  {
   "cell_type": "markdown",
   "id": "f0b928e5",
   "metadata": {},
   "source": [
    "We select a subset of users to be judged by the LLM, due to time inference and cost limitations."
   ]
  },
  {
   "cell_type": "code",
   "execution_count": 16,
   "id": "f28390be",
   "metadata": {},
   "outputs": [
    {
     "name": "stdout",
     "output_type": "stream",
     "text": [
      "Users to judge: 11\n"
     ]
    }
   ],
   "source": [
    "users_to_judge = df_matches_vs.loc[lambda df : df['hit_proportion'] >= 0.1]['user_id'].values\n",
    "print(\"Users to judge:\", len(users_to_judge))"
   ]
  },
  {
   "cell_type": "markdown",
   "id": "c7ac8dcc",
   "metadata": {},
   "source": [
    "As you will see, this experiment can be reproduced at scale using only BigQueryAI, with scheduled jobs or using more native tools and options that BigQuery offers.\n",
    "\n",
    "But before, let's prepare the subset of recommendations to be evaluated."
   ]
  },
  {
   "cell_type": "code",
   "execution_count": 17,
   "id": "f23587d4",
   "metadata": {},
   "outputs": [
    {
     "name": "stderr",
     "output_type": "stream",
     "text": [
      "/tmp/ipykernel_6322/1887638735.py:6: FutureWarning: to_gbq is deprecated and will be removed in a future version. Please use pandas_gbq.to_gbq instead: https://pandas-gbq.readthedocs.io/en/latest/api.html#pandas_gbq.to_gbq\n",
      "  vs_to_evaluate.to_gbq(\n",
      "100%|██████████| 1/1 [00:00<00:00, 9279.43it/s]\n"
     ]
    }
   ],
   "source": [
    "# * Vector Search subset\n",
    "vs_to_evaluate = matches_vs.loc[\n",
    "    lambda df: df['user_id'].isin(users_to_judge)\n",
    "][['user_id', 'recipe_id', 'user_profile_text', 'recipe_profile_text', 'title']].sort_values(by=['user_id'])\n",
    "\n",
    "vs_to_evaluate.to_gbq(\n",
    "    destination_table=f\"{PROJECT_ID}.{VS_RECOMMENDATIONS_TABLE}\",\n",
    "    if_exists='replace',\n",
    ")"
   ]
  },
  {
   "cell_type": "code",
   "execution_count": 51,
   "id": "34f9c7eb",
   "metadata": {},
   "outputs": [
    {
     "data": {
      "text/html": [
       "<div>\n",
       "<style scoped>\n",
       "    .dataframe tbody tr th:only-of-type {\n",
       "        vertical-align: middle;\n",
       "    }\n",
       "\n",
       "    .dataframe tbody tr th {\n",
       "        vertical-align: top;\n",
       "    }\n",
       "\n",
       "    .dataframe thead th {\n",
       "        text-align: right;\n",
       "    }\n",
       "</style>\n",
       "<table border=\"1\" class=\"dataframe\">\n",
       "  <thead>\n",
       "    <tr style=\"text-align: right;\">\n",
       "      <th></th>\n",
       "      <th>user_id</th>\n",
       "      <th>recipe_id</th>\n",
       "      <th>user_profile_text</th>\n",
       "      <th>recipe_profile_text</th>\n",
       "      <th>title</th>\n",
       "    </tr>\n",
       "  </thead>\n",
       "  <tbody>\n",
       "    <tr>\n",
       "      <th>1978</th>\n",
       "      <td>1153011</td>\n",
       "      <td>11786</td>\n",
       "      <td>{\\n  \"convenience_preference\": \"prefers practi...</td>\n",
       "      <td>{\\n  \"cuisine_type\": \"Italian\",\\n  \"dietary_pr...</td>\n",
       "      <td>Hearty Vegetable Lasagna</td>\n",
       "    </tr>\n",
       "    <tr>\n",
       "      <th>1962</th>\n",
       "      <td>1153011</td>\n",
       "      <td>11815</td>\n",
       "      <td>{\\n  \"convenience_preference\": \"prefers practi...</td>\n",
       "      <td>{\\n  \"cuisine_type\": \"Italian American\",\\n  \"d...</td>\n",
       "      <td>Penne with Spicy Vodka Tomato Cream Sauce</td>\n",
       "    </tr>\n",
       "    <tr>\n",
       "      <th>1963</th>\n",
       "      <td>1153011</td>\n",
       "      <td>218794</td>\n",
       "      <td>{\\n  \"convenience_preference\": \"prefers practi...</td>\n",
       "      <td>{\\n  \"cuisine_type\": \"Italian\",\\n  \"dietary_pr...</td>\n",
       "      <td>Chicken and Gnocchi Soup</td>\n",
       "    </tr>\n",
       "    <tr>\n",
       "      <th>1964</th>\n",
       "      <td>1153011</td>\n",
       "      <td>21013</td>\n",
       "      <td>{\\n  \"convenience_preference\": \"prefers practi...</td>\n",
       "      <td>{\\n  \"cuisine_type\": \"Italian\",\\n  \"dietary_pr...</td>\n",
       "      <td>Sweet Potato Minestrone</td>\n",
       "    </tr>\n",
       "    <tr>\n",
       "      <th>1965</th>\n",
       "      <td>1153011</td>\n",
       "      <td>165350</td>\n",
       "      <td>{\\n  \"convenience_preference\": \"prefers practi...</td>\n",
       "      <td>{\\n  \"cuisine_type\": \"Italian-American\",\\n  \"d...</td>\n",
       "      <td>Baked Ziti with Sausage</td>\n",
       "    </tr>\n",
       "  </tbody>\n",
       "</table>\n",
       "</div>"
      ],
      "text/plain": [
       "      user_id recipe_id                                  user_profile_text  \\\n",
       "1978  1153011     11786  {\\n  \"convenience_preference\": \"prefers practi...   \n",
       "1962  1153011     11815  {\\n  \"convenience_preference\": \"prefers practi...   \n",
       "1963  1153011    218794  {\\n  \"convenience_preference\": \"prefers practi...   \n",
       "1964  1153011     21013  {\\n  \"convenience_preference\": \"prefers practi...   \n",
       "1965  1153011    165350  {\\n  \"convenience_preference\": \"prefers practi...   \n",
       "\n",
       "                                    recipe_profile_text  \\\n",
       "1978  {\\n  \"cuisine_type\": \"Italian\",\\n  \"dietary_pr...   \n",
       "1962  {\\n  \"cuisine_type\": \"Italian American\",\\n  \"d...   \n",
       "1963  {\\n  \"cuisine_type\": \"Italian\",\\n  \"dietary_pr...   \n",
       "1964  {\\n  \"cuisine_type\": \"Italian\",\\n  \"dietary_pr...   \n",
       "1965  {\\n  \"cuisine_type\": \"Italian-American\",\\n  \"d...   \n",
       "\n",
       "                                          title  \n",
       "1978                   Hearty Vegetable Lasagna  \n",
       "1962  Penne with Spicy Vodka Tomato Cream Sauce  \n",
       "1963                   Chicken and Gnocchi Soup  \n",
       "1964                    Sweet Potato Minestrone  \n",
       "1965                    Baked Ziti with Sausage  "
      ]
     },
     "execution_count": 51,
     "metadata": {},
     "output_type": "execute_result"
    }
   ],
   "source": [
    "vs_to_evaluate.head(5)"
   ]
  },
  {
   "cell_type": "code",
   "execution_count": 18,
   "id": "8d64b366",
   "metadata": {},
   "outputs": [
    {
     "name": "stdout",
     "output_type": "stream",
     "text": [
      "Hit Proportion in ALS subset: 0.00\n"
     ]
    },
    {
     "name": "stderr",
     "output_type": "stream",
     "text": [
      "/tmp/ipykernel_6322/1060322887.py:32: FutureWarning: to_gbq is deprecated and will be removed in a future version. Please use pandas_gbq.to_gbq instead: https://pandas-gbq.readthedocs.io/en/latest/api.html#pandas_gbq.to_gbq\n",
      "  als_to_evaluate.to_gbq(\n",
      "100%|██████████| 1/1 [00:00<00:00, 10837.99it/s]\n"
     ]
    }
   ],
   "source": [
    "# * ALS subset\n",
    "als_to_evaluate = df_matches_als.loc[\n",
    "    lambda df: df['user_id'].isin(users_to_judge)\n",
    "][['user_id', 'als_recommendations', 'hit_proportion']]\n",
    "\n",
    "\n",
    "print(f\"Hit Proportion in ALS subset: {als_to_evaluate['hit_proportion'].mean():.2f}\")\n",
    "als_to_evaluate = als_to_evaluate.drop(columns=['hit_proportion']).explode('als_recommendations').rename(columns={'als_recommendations': 'recipe_id'})\n",
    "\n",
    "als_to_evaluate = (\n",
    "    als_to_evaluate.reset_index(drop=True).merge(\n",
    "        vs_to_evaluate[['user_id', 'user_profile_text']].drop_duplicates(keep='first'),\n",
    "        how='left',\n",
    "        on=['user_id']\n",
    "    )\n",
    ")\n",
    "\n",
    "recipe_ids_str = \"(\" + \",\".join([f\"'{rid}'\" for rid in als_to_evaluate['recipe_id'].unique()]) + \")\"\n",
    "recipes_to_join = client.query_and_wait(f\"\"\"\n",
    "SELECT recipe_id, recipe_profile_text, title FROM `{PROJECT_ID}.{RECIPES_PROFILES_TABLE}`\n",
    "WHERE recipe_id IN {recipe_ids_str}\n",
    "\"\"\").to_dataframe()\n",
    "\n",
    "als_to_evaluate = (\n",
    "    als_to_evaluate.merge(\n",
    "        recipes_to_join,\n",
    "        how='left',\n",
    "        on=['recipe_id']\n",
    "    )\n",
    ").sort_values(by=['user_id'])\n",
    "\n",
    "als_to_evaluate.to_gbq(\n",
    "    destination_table=f\"{PROJECT_ID}.{ALS_RECOMMENDATIONS_TABLE}\",\n",
    "    if_exists='replace',\n",
    ")"
   ]
  },
  {
   "cell_type": "code",
   "execution_count": 52,
   "id": "cc6c9476",
   "metadata": {},
   "outputs": [
    {
     "data": {
      "text/html": [
       "<div>\n",
       "<style scoped>\n",
       "    .dataframe tbody tr th:only-of-type {\n",
       "        vertical-align: middle;\n",
       "    }\n",
       "\n",
       "    .dataframe tbody tr th {\n",
       "        vertical-align: top;\n",
       "    }\n",
       "\n",
       "    .dataframe thead th {\n",
       "        text-align: right;\n",
       "    }\n",
       "</style>\n",
       "<table border=\"1\" class=\"dataframe\">\n",
       "  <thead>\n",
       "    <tr style=\"text-align: right;\">\n",
       "      <th></th>\n",
       "      <th>user_id</th>\n",
       "      <th>recipe_id</th>\n",
       "      <th>user_profile_text</th>\n",
       "      <th>recipe_profile_text</th>\n",
       "      <th>title</th>\n",
       "    </tr>\n",
       "  </thead>\n",
       "  <tbody>\n",
       "    <tr>\n",
       "      <th>0</th>\n",
       "      <td>1153011</td>\n",
       "      <td>12074</td>\n",
       "      <td>{\\n  \"convenience_preference\": \"prefers practi...</td>\n",
       "      <td>{\\n  \"cuisine_type\": \"Italian\",\\n  \"dietary_pr...</td>\n",
       "      <td>Pasta e Olio</td>\n",
       "    </tr>\n",
       "    <tr>\n",
       "      <th>19</th>\n",
       "      <td>1153011</td>\n",
       "      <td>10759</td>\n",
       "      <td>{\\n  \"convenience_preference\": \"prefers practi...</td>\n",
       "      <td>{\\n  \"cuisine_type\": \"American\",\\n  \"dietary_p...</td>\n",
       "      <td>Oatmeal Peanut Butter Cookies III</td>\n",
       "    </tr>\n",
       "    <tr>\n",
       "      <th>18</th>\n",
       "      <td>1153011</td>\n",
       "      <td>127491</td>\n",
       "      <td>{\\n  \"convenience_preference\": \"prefers practi...</td>\n",
       "      <td>{\\n  \"cuisine_type\": \"American\",\\n  \"dietary_p...</td>\n",
       "      <td>Easy OREO Truffles</td>\n",
       "    </tr>\n",
       "    <tr>\n",
       "      <th>17</th>\n",
       "      <td>1153011</td>\n",
       "      <td>12733</td>\n",
       "      <td>{\\n  \"convenience_preference\": \"prefers practi...</td>\n",
       "      <td>{\\n  \"cuisine_type\": \"American\",\\n  \"dietary_p...</td>\n",
       "      <td>Crab Quiche I</td>\n",
       "    </tr>\n",
       "    <tr>\n",
       "      <th>16</th>\n",
       "      <td>1153011</td>\n",
       "      <td>104806</td>\n",
       "      <td>{\\n  \"convenience_preference\": \"prefers practi...</td>\n",
       "      <td>{\\n  \"cuisine_type\": \"Italian\",\\n  \"dietary_pr...</td>\n",
       "      <td>Tomato and Mozzarella Bites</td>\n",
       "    </tr>\n",
       "  </tbody>\n",
       "</table>\n",
       "</div>"
      ],
      "text/plain": [
       "    user_id recipe_id                                  user_profile_text  \\\n",
       "0   1153011     12074  {\\n  \"convenience_preference\": \"prefers practi...   \n",
       "19  1153011     10759  {\\n  \"convenience_preference\": \"prefers practi...   \n",
       "18  1153011    127491  {\\n  \"convenience_preference\": \"prefers practi...   \n",
       "17  1153011     12733  {\\n  \"convenience_preference\": \"prefers practi...   \n",
       "16  1153011    104806  {\\n  \"convenience_preference\": \"prefers practi...   \n",
       "\n",
       "                                  recipe_profile_text  \\\n",
       "0   {\\n  \"cuisine_type\": \"Italian\",\\n  \"dietary_pr...   \n",
       "19  {\\n  \"cuisine_type\": \"American\",\\n  \"dietary_p...   \n",
       "18  {\\n  \"cuisine_type\": \"American\",\\n  \"dietary_p...   \n",
       "17  {\\n  \"cuisine_type\": \"American\",\\n  \"dietary_p...   \n",
       "16  {\\n  \"cuisine_type\": \"Italian\",\\n  \"dietary_pr...   \n",
       "\n",
       "                                title  \n",
       "0                        Pasta e Olio  \n",
       "19  Oatmeal Peanut Butter Cookies III  \n",
       "18                 Easy OREO Truffles  \n",
       "17                      Crab Quiche I  \n",
       "16        Tomato and Mozzarella Bites  "
      ]
     },
     "execution_count": 52,
     "metadata": {},
     "output_type": "execute_result"
    }
   ],
   "source": [
    "als_to_evaluate.head(5)"
   ]
  },
  {
   "cell_type": "markdown",
   "id": "ed3203f0",
   "metadata": {},
   "source": [
    "We implement the two complementary evaluation modes of the [paper](https://dl.acm.org/doi/pdf/10.1145/3705328.3759305):\n",
    "- **Pointwise:** The LLM judges the relevance of each recommendation independently.\n",
    "- **Pairwise:** The LLM compares two recommendation lists and selects the one it judges overall better, letting us choose the top model by its criteria."
   ]
  },
  {
   "cell_type": "markdown",
   "id": "d2026f14",
   "metadata": {},
   "source": [
    "## Pointwise LLM Judgement"
   ]
  },
  {
   "cell_type": "markdown",
   "id": "27d60499",
   "metadata": {},
   "source": [
    "As in the previous sections, we define the `Pydantic` model, the prompt and the SQL query to execute the pointwise judgement. In this setting, we choose `gemini-2.5-pro`, as the best model, it could offer more reliable responses in comparison to its smaller counterparts. We also set a limit of tokens to `4096` and a temperature of `0.0` to get more deterministic responses."
   ]
  },
  {
   "cell_type": "code",
   "execution_count": 38,
   "id": "22bc4e1a",
   "metadata": {},
   "outputs": [],
   "source": [
    "class PointwiseJudgement(BaseModel):\n",
    "    would_like: bool = Field(description=\"True if the user would likely enjoy the recipe, False otherwise\")\n",
    "    confidence: str = Field(description=\"Confidence level in the judgement (e.g., high, medium, low)\")\n",
    "    justification: str = Field(description=\"Brief explanation of why the recipe is likely to be liked or not based on the user s profile and preferences\")\n",
    "\n",
    "\n",
    "pointwise_judgement_prompt = (\n",
    "    \"You are a strict impartial judge your task is to decide if the user would genuinely like the recipe based only on the user profile and the recipe profile \"\n",
    "    \"default to would_like = False unless there is very strong and explicit evidence of clear alignment between user preferences and recipe characteristics \"\n",
    "    \"be skeptical rigorous and never generous with positive judgements if the information is weak ambiguous or incomplete always output False \"\n",
    "    \"always include would_like confidence and justification the justification must be concise factual and point out exact matches or mismatches between user and recipe \"\n",
    "    \"do not use quotation marks commas periods semicolons or any other punctuation marks in your response only plain words \"\n",
    "    \"format the response exactly as \"\n",
    "    f\"{schema_to_prompt_with_descriptions(PointwiseJudgement)}\"\n",
    ")\n",
    "\n",
    "\n",
    "pointwise_judgement_query = f\"\"\"\n",
    "WITH ai_responses AS (\n",
    "  SELECT \n",
    "    s.user_id, \n",
    "    s.title, \n",
    "    s.recipe_id, \n",
    "    s.user_profile_text, \n",
    "    s.recipe_profile_text,\n",
    "    AI.GENERATE(('{pointwise_judgement_prompt}', s.user_profile_text, s.recipe_profile_text),\n",
    "        connection_id => '{CONNECTION_ID}',\n",
    "        endpoint => 'gemini-2.5-pro',\n",
    "        model_params => JSON '{{\"generationConfig\":{{\"temperature\": 0.0, \"maxOutputTokens\": 4096 }} }}',\n",
    "        output_schema => 'would_like BOOL, confidence STRING, justification STRING'\n",
    "    ) AS ai_result \n",
    "    FROM (SELECT * FROM `THE_TABLE`) s\n",
    ")\n",
    "SELECT\n",
    "    *,\n",
    "    ai_result.full_response AS pointwise_judgement,\n",
    "    JSON_EXTRACT_SCALAR(ai_result.full_response, '$.candidates[0].content.parts[0].text') AS pointwise_judgement_text\n",
    "FROM ai_responses\n",
    "\"\"\""
   ]
  },
  {
   "cell_type": "code",
   "execution_count": 39,
   "id": "c1bca9e1",
   "metadata": {},
   "outputs": [
    {
     "name": "stdout",
     "output_type": "stream",
     "text": [
      "You are a strict impartial judge your task is to decide if the user would genuinely like the recipe based only on the user profile and the recipe profile default to would_like = False unless there is very strong and explicit evidence of clear alignment between user preferences and recipe characteristics be skeptical rigorous and never generous with positive judgements if the information is weak ambiguous or incomplete always output False always include would_like confidence and justification the justification must be concise factual and point out exact matches or mismatches between user and recipe do not use quotation marks commas periods semicolons or any other punctuation marks in your response only plain words format the response exactly as [  would_like (True if the user would likely enjoy the recipe, False otherwise)  confidence (Confidence level in the judgement (e.g., high, medium, low))  justification (Brief explanation of why the recipe is likely to be liked or not based on the user s profile and preferences)  ]\n"
     ]
    }
   ],
   "source": [
    "print(pointwise_judgement_prompt)"
   ]
  },
  {
   "cell_type": "code",
   "execution_count": 53,
   "id": "fe0f3c83",
   "metadata": {},
   "outputs": [
    {
     "name": "stdout",
     "output_type": "stream",
     "text": [
      "\n",
      "WITH ai_responses AS (\n",
      "  SELECT \n",
      "    s.user_id, \n",
      "    s.title, \n",
      "    s.recipe_id, \n",
      "    s.user_profile_text, \n",
      "    s.recipe_profile_text,\n",
      "    AI.GENERATE(('You are a strict impartial judge your task is to decide if the user would genuinely like the recipe based only on the user profile and the recipe profile default to would_like = False unless there is very strong and explicit evidence of clear alignment between user preferences and recipe characteristics be skeptical rigorous and never generous with positive judgements if the information is weak ambiguous or incomplete always output False always include would_like confidence and justification the justification must be concise factual and point out exact matches or mismatches between user and recipe do not use quotation marks commas periods semicolons or any other punctuation marks in your response only plain words format the response exactly as [  would_like (True if the user would likely enjoy the recipe, False otherwise)  confidence (Confidence level in the judgement (e.g., high, medium, low))  justification (Brief explanation of why the recipe is likely to be liked or not based on the user s profile and preferences)  ]', s.user_profile_text, s.recipe_profile_text),\n",
      "        connection_id => 'us.kaggle-connection',\n",
      "        endpoint => 'gemini-2.5-pro',\n",
      "        model_params => JSON '{\"generationConfig\":{\"temperature\": 0.0, \"maxOutputTokens\": 4096 } }',\n",
      "        output_schema => 'would_like BOOL, confidence STRING, justification STRING'\n",
      "    ) AS ai_result \n",
      "    FROM (SELECT * FROM `THE_TABLE`) s\n",
      ")\n",
      "SELECT\n",
      "    *,\n",
      "    ai_result.full_response AS pointwise_judgement,\n",
      "    JSON_EXTRACT_SCALAR(ai_result.full_response, '$.candidates[0].content.parts[0].text') AS pointwise_judgement_text\n",
      "FROM ai_responses\n",
      "\n"
     ]
    }
   ],
   "source": [
    "print(pointwise_judgement_query)"
   ]
  },
  {
   "cell_type": "markdown",
   "id": "88a125f0",
   "metadata": {},
   "source": [
    "Run Pointwise Judgement for both sets of recommendations"
   ]
  },
  {
   "cell_type": "code",
   "execution_count": 40,
   "id": "267e1a89",
   "metadata": {},
   "outputs": [
    {
     "name": "stdout",
     "output_type": "stream",
     "text": [
      "{\n",
      "\"confidence\": \"high\",\n",
      "\"justification\": \"The recipe is American comfort food featuring bold savory and tangy flavors from beef and blue cheese which directly aligns with the user's preferences for American comfort food bold flavors and real cheese\",\n",
      "\"would_like\": true\n",
      "}\n"
     ]
    }
   ],
   "source": [
    "vs_results = client.query_and_wait(pointwise_judgement_query.replace('THE_TABLE', VS_RECOMMENDATIONS_TABLE)).to_dataframe()\n",
    "print(vs_results.iloc[0]['pointwise_judgement_text'])\n",
    "\n",
    "vs_results['judge_veredict'] = vs_results['pointwise_judgement_text'].apply(lambda x: json.loads(x)['would_like'])"
   ]
  },
  {
   "cell_type": "code",
   "execution_count": 41,
   "id": "5e7ba747",
   "metadata": {},
   "outputs": [
    {
     "name": "stdout",
     "output_type": "stream",
     "text": [
      "{\n",
      "\"confidence\": \"high\",\n",
      "\"justification\": \"user likes baked goods desserts and American comfort food which directly aligns with the recipe being an American dessert\",\n",
      "\"would_like\": true\n",
      "}\n"
     ]
    }
   ],
   "source": [
    "als_results = client.query_and_wait(pointwise_judgement_query.replace('THE_TABLE', ALS_RECOMMENDATIONS_TABLE)).to_dataframe()\n",
    "print(als_results.iloc[0]['pointwise_judgement_text'])\n",
    "\n",
    "als_results['judge_veredict'] = als_results['pointwise_judgement_text'].apply(lambda x: json.loads(x)['would_like'])"
   ]
  },
  {
   "cell_type": "code",
   "execution_count": 42,
   "id": "0be85b69",
   "metadata": {},
   "outputs": [
    {
     "name": "stderr",
     "output_type": "stream",
     "text": [
      "/tmp/ipykernel_6322/1245774309.py:2: FutureWarning: to_gbq is deprecated and will be removed in a future version. Please use pandas_gbq.to_gbq instead: https://pandas-gbq.readthedocs.io/en/latest/api.html#pandas_gbq.to_gbq\n",
      "  vs_results.to_gbq(\n",
      "100%|██████████| 1/1 [00:00<00:00, 6492.73it/s]\n",
      "/tmp/ipykernel_6322/1245774309.py:7: FutureWarning: to_gbq is deprecated and will be removed in a future version. Please use pandas_gbq.to_gbq instead: https://pandas-gbq.readthedocs.io/en/latest/api.html#pandas_gbq.to_gbq\n",
      "  als_results.to_gbq(\n",
      "100%|██████████| 1/1 [00:00<00:00, 6472.69it/s]\n"
     ]
    }
   ],
   "source": [
    "# Update tables with the judge veredict\n",
    "vs_results.to_gbq(\n",
    "    destination_table=f\"{PROJECT_ID}.{VS_RECOMMENDATIONS_TABLE}\",\n",
    "    if_exists='replace',\n",
    ")\n",
    "\n",
    "als_results.to_gbq(\n",
    "    destination_table=f\"{PROJECT_ID}.{ALS_RECOMMENDATIONS_TABLE}\",\n",
    "    if_exists='replace',\n",
    ")"
   ]
  },
  {
   "cell_type": "markdown",
   "id": "8ab6014a",
   "metadata": {},
   "source": [
    "After calculate the judgement for each recommendation individually, we can compute the average score for each model to determine which one performs better according to the LLM's criteria."
   ]
  },
  {
   "cell_type": "code",
   "execution_count": null,
   "id": "9895ee38",
   "metadata": {},
   "outputs": [
    {
     "data": {
      "text/html": [
       "<div>\n",
       "<style scoped>\n",
       "    .dataframe tbody tr th:only-of-type {\n",
       "        vertical-align: middle;\n",
       "    }\n",
       "\n",
       "    .dataframe tbody tr th {\n",
       "        vertical-align: top;\n",
       "    }\n",
       "\n",
       "    .dataframe thead th {\n",
       "        text-align: right;\n",
       "    }\n",
       "</style>\n",
       "<table border=\"1\" class=\"dataframe\">\n",
       "  <thead>\n",
       "    <tr style=\"text-align: right;\">\n",
       "      <th></th>\n",
       "      <th>user_id</th>\n",
       "      <th>judge_veredict_vs</th>\n",
       "      <th>recipe_id_vs</th>\n",
       "      <th>llm_quality_score_vs</th>\n",
       "      <th>judge_veredict_als</th>\n",
       "      <th>recipe_id_als</th>\n",
       "      <th>llm_quality_score_als</th>\n",
       "    </tr>\n",
       "  </thead>\n",
       "  <tbody>\n",
       "    <tr>\n",
       "      <th>0</th>\n",
       "      <td>1153011</td>\n",
       "      <td>16</td>\n",
       "      <td>20</td>\n",
       "      <td>0.800</td>\n",
       "      <td>14</td>\n",
       "      <td>20</td>\n",
       "      <td>0.700</td>\n",
       "    </tr>\n",
       "    <tr>\n",
       "      <th>1</th>\n",
       "      <td>1446852</td>\n",
       "      <td>4</td>\n",
       "      <td>20</td>\n",
       "      <td>0.200</td>\n",
       "      <td>4</td>\n",
       "      <td>20</td>\n",
       "      <td>0.200</td>\n",
       "    </tr>\n",
       "    <tr>\n",
       "      <th>2</th>\n",
       "      <td>2338929</td>\n",
       "      <td>18</td>\n",
       "      <td>20</td>\n",
       "      <td>0.900</td>\n",
       "      <td>10</td>\n",
       "      <td>20</td>\n",
       "      <td>0.500</td>\n",
       "    </tr>\n",
       "    <tr>\n",
       "      <th>3</th>\n",
       "      <td>2402648</td>\n",
       "      <td>20</td>\n",
       "      <td>20</td>\n",
       "      <td>1.000</td>\n",
       "      <td>17</td>\n",
       "      <td>20</td>\n",
       "      <td>0.850</td>\n",
       "    </tr>\n",
       "    <tr>\n",
       "      <th>4</th>\n",
       "      <td>2552683</td>\n",
       "      <td>19</td>\n",
       "      <td>20</td>\n",
       "      <td>0.950</td>\n",
       "      <td>19</td>\n",
       "      <td>20</td>\n",
       "      <td>0.950</td>\n",
       "    </tr>\n",
       "    <tr>\n",
       "      <th>5</th>\n",
       "      <td>3746251</td>\n",
       "      <td>20</td>\n",
       "      <td>20</td>\n",
       "      <td>1.000</td>\n",
       "      <td>6</td>\n",
       "      <td>20</td>\n",
       "      <td>0.300</td>\n",
       "    </tr>\n",
       "    <tr>\n",
       "      <th>6</th>\n",
       "      <td>4012560</td>\n",
       "      <td>16</td>\n",
       "      <td>20</td>\n",
       "      <td>0.800</td>\n",
       "      <td>10</td>\n",
       "      <td>20</td>\n",
       "      <td>0.500</td>\n",
       "    </tr>\n",
       "    <tr>\n",
       "      <th>7</th>\n",
       "      <td>4099655</td>\n",
       "      <td>15</td>\n",
       "      <td>20</td>\n",
       "      <td>0.750</td>\n",
       "      <td>11</td>\n",
       "      <td>20</td>\n",
       "      <td>0.550</td>\n",
       "    </tr>\n",
       "    <tr>\n",
       "      <th>8</th>\n",
       "      <td>4368963</td>\n",
       "      <td>16</td>\n",
       "      <td>20</td>\n",
       "      <td>0.800</td>\n",
       "      <td>3</td>\n",
       "      <td>20</td>\n",
       "      <td>0.150</td>\n",
       "    </tr>\n",
       "    <tr>\n",
       "      <th>9</th>\n",
       "      <td>484578</td>\n",
       "      <td>20</td>\n",
       "      <td>20</td>\n",
       "      <td>1.000</td>\n",
       "      <td>16</td>\n",
       "      <td>20</td>\n",
       "      <td>0.800</td>\n",
       "    </tr>\n",
       "    <tr>\n",
       "      <th>10</th>\n",
       "      <td>6017014</td>\n",
       "      <td>18</td>\n",
       "      <td>20</td>\n",
       "      <td>0.900</td>\n",
       "      <td>6</td>\n",
       "      <td>20</td>\n",
       "      <td>0.300</td>\n",
       "    </tr>\n",
       "  </tbody>\n",
       "</table>\n",
       "</div>"
      ],
      "text/plain": [
       "    user_id  judge_veredict_vs  recipe_id_vs  llm_quality_score_vs  \\\n",
       "0   1153011                 16            20                 0.800   \n",
       "1   1446852                  4            20                 0.200   \n",
       "2   2338929                 18            20                 0.900   \n",
       "3   2402648                 20            20                 1.000   \n",
       "4   2552683                 19            20                 0.950   \n",
       "5   3746251                 20            20                 1.000   \n",
       "6   4012560                 16            20                 0.800   \n",
       "7   4099655                 15            20                 0.750   \n",
       "8   4368963                 16            20                 0.800   \n",
       "9    484578                 20            20                 1.000   \n",
       "10  6017014                 18            20                 0.900   \n",
       "\n",
       "    judge_veredict_als  recipe_id_als  llm_quality_score_als  \n",
       "0                   14             20                  0.700  \n",
       "1                    4             20                  0.200  \n",
       "2                   10             20                  0.500  \n",
       "3                   17             20                  0.850  \n",
       "4                   19             20                  0.950  \n",
       "5                    6             20                  0.300  \n",
       "6                   10             20                  0.500  \n",
       "7                   11             20                  0.550  \n",
       "8                    3             20                  0.150  \n",
       "9                   16             20                  0.800  \n",
       "10                   6             20                  0.300  "
      ]
     },
     "metadata": {},
     "output_type": "display_data"
    }
   ],
   "source": [
    "def calculate_pointwise_metrics(vs_results: pd.DataFrame, als_results: pd.DataFrame) -> pd.DataFrame:\n",
    "    lmbd_trnsform = lambda df: (\n",
    "        df.groupby('user_id', as_index=False)\n",
    "        .agg({'judge_veredict': 'sum', 'recipe_id': 'count'})\n",
    "        .assign(llm_quality_score=lambda x: x['judge_veredict'] / x['recipe_id'])\n",
    "    )\n",
    "    df_join = lmbd_trnsform(vs_results).merge(\n",
    "        lmbd_trnsform(als_results), on=['user_id'], suffixes=('_vs', '_als')\n",
    "    )\n",
    "    \n",
    "    return df_join\n",
    "\n",
    "df_metrics = calculate_pointwise_metrics(vs_results, als_results)\n",
    "display(df_metrics)"
   ]
  },
  {
   "cell_type": "markdown",
   "id": "eb20e3ea",
   "metadata": {},
   "source": [
    "From the table, the LLM tends to favor the Vector Search model over the ALS baseline. This suggests the semantic information in the embeddings and vector search matches the LLM’s criteria better than a method (ALS) that only uses the user item interaction matrix. \n",
    "\n",
    "We can see a sample in the following cell, but it could be more easily explored in the UI we also prepared."
   ]
  },
  {
   "cell_type": "code",
   "execution_count": 44,
   "id": "df95411f",
   "metadata": {},
   "outputs": [
    {
     "name": "stdout",
     "output_type": "stream",
     "text": [
      "{\n",
      "  \"convenience_preference\": \"Open to moderate effort, prioritizes quality and flavor over extreme speed\",\n",
      "  \"cuisine_preference\": \"American Comfort Food\",\n",
      "  \"daypart_preferences\": [\n",
      "    \"Savory breakfasts or brunch items\",\n",
      "    \"Hearty and flavorful lunches\",\n",
      "    \"Elaborate or comforting dinners\",\n",
      "    \"Kid-friendly snacks\"\n",
      "  ],\n",
      "  \"dietary_preference\": \"No restrictions\",\n",
      "  \"dietary_preferences\": [\n",
      "    \"No processed ingredients\",\n",
      "    \"Prefers fresh ingredients\"\n",
      "  ],\n",
      "  \"diversity_openness\": \"Selective\",\n",
      "  \"flavor_preferences\": [\n",
      "    \"Bold and savory\",\n",
      "    \"Rich and creamy with real cheese\",\n",
      "    \"Homemade sauces\",\n",
      "    \"Spicy notes from fresh peppers or spices\"\n",
      "  ],\n",
      "  \"food_preferences\": [\n",
      "    \"Comfort food\",\n",
      "    \"Grilled meats\",\n",
      "    \"Baked pasta dishes\",\n",
      "    \"Customizable meals\",\n",
      "    \"Homemade desserts with reduced sugar\"\n",
      "  ],\n",
      "  \"future_preferences\": \"This user may be interested in exploring regional American dishes with a focus on fresh, high-quality ingredients and traditional preparation methods. They might enjoy recipes that encourage homemade components over pre-packaged ones. Exploring different types of grilled foods, from steaks to chicken and vegetables, with robust marinades or rubs could appeal. Artisan bread recipes or homemade pasta dishes could also align with their appreciation for quality ingredients and hands-on preparation. They might also be open to international comfort foods that offer rich savory flavors and opportunities for customization, similar to their past modifications.\",\n",
      "  \"justification\": \"The user frequently rates recipes low due to blandness or the use of processed ingredients like canned soup or milk. They consistently suggest improvements to enhance flavor such as adding beef base sharper cheese or fresh spices. High ratings are given to dishes allowing for customization or incorporating rich elements like baked mac and cheese or homemade ravioli. Their comments often highlight a preference for authenticity and proper cooking techniques. The blue cheese chicken comment shows a willingness to adapt strong flavors to their palate. The general aversion to excessive sugar and processed items points to a focus on natural robust tastes and quality ingredients. Their engagement with recipes like English muffin pizzas indicates a fondness for classic customizable comfort foods.\",\n",
      "  \"lifestyle_tags\": [\n",
      "    \"Flavor seeker\",\n",
      "    \"Quality conscious\",\n",
      "    \"Recipe modifier\",\n",
      "    \"Comfort food enthusiast\",\n",
      "    \"Home cook\",\n",
      "    \"Kid-friendly cook\"\n",
      "  ],\n",
      "  \"liked_cuisines\": [\n",
      "    \"Italian-American\",\n",
      "    \"Classic American\",\n",
      "    \"French\"\n",
      "  ],\n",
      "  \"notes\": \"This user is a discerning home cook who prioritizes authentic flavors, fresh ingredients, and proper cooking techniques. They are not afraid to modify recipes to suit their taste, often seeking richer, bolder, and less processed versions of classic dishes. They have a strong aversion to blandness and processed foods.\",\n",
      "  \"top_cuisine_choices\": [\n",
      "    \"Italian-American (Baked Pasta)\",\n",
      "    \"American (Comfort Food)\",\n",
      "    \"French (Crepes)\"\n",
      "  ],\n",
      "  \"user_story\": \"The user's culinary journey began with an appreciation for classic American comfort foods but quickly evolved into a quest for flavor and authenticity. Early experiences with bland or inauthentic dishes fueled a desire to understand and improve recipes. They moved from simply following instructions to actively modifying recipes, adding their personal touch to enhance taste and avoid processed ingredients. This user enjoys the hands-on process of cooking, preferring to make components from scratch rather than relying on shortcuts. Their palate is now attuned to bold savory profiles, and they value quality ingredients. This trajectory suggests a future where they will continue to explore traditional and regional cuisines, always seeking to refine and personalize dishes, perhaps even venturing into more complex culinary techniques to achieve their desired flavor depth.\"\n",
      "}\n",
      "{\n",
      "  \"cuisine_type\": \"American\",\n",
      "  \"dietary_preferences\": [\n",
      "    \"omnivore\"\n",
      "  ],\n",
      "  \"flavor_profile\": [\n",
      "    \"savory\",\n",
      "    \"cheesy\"\n",
      "  ],\n",
      "  \"food_type\": \"main course\",\n",
      "  \"justification\": \"The food type is a main course because it contains protein from chicken and vegetables from broccoli making it a complete meal The cuisine type is American due to the use of common comfort food ingredients like cream of broccoli soup cheddar cheese and chicken The dietary preferences are omnivore as it includes chicken meat This recipe is not vegetarian or vegan The flavor profile is savory and cheesy from the soup and cheddar cheese The serving daypart is lunch or dinner because it is a hearty and fulfilling meal suitable for either time\",\n",
      "  \"notes\": \"A simple and comforting baked chicken and broccoli casserole with cheese and bread crumbs perfect for a family meal\",\n",
      "  \"serving_daypart\": [\n",
      "    \"lunch\",\n",
      "    \"dinner\"\n",
      "  ],\n",
      "  \"target_audience\": \"This recipe is ideal for individuals or families looking for a straightforward and comforting meal It suits novice to intermediate cooks as the directions are clear and ingredients are common It caters to those who enjoy classic American comfort food flavors and is suitable for a weeknight family dinner due to its ease of preparation and popular ingredients\"\n",
      "}\n",
      "The user explicitly dislikes processed ingredients and specifically canned soup which is a key component of this recipe\n"
     ]
    }
   ],
   "source": [
    "sample = vs_results.loc[lambda df: df['judge_veredict'] == False].reset_index(drop=True).iloc[0]\n",
    "\n",
    "print(sample['user_profile_text'])\n",
    "print(sample['recipe_profile_text'])\n",
    "print(json.loads(sample['pointwise_judgement_text'])['justification'])"
   ]
  },
  {
   "cell_type": "markdown",
   "id": "3714c46e",
   "metadata": {},
   "source": [
    "## Pairwise LLM Judgement"
   ]
  },
  {
   "cell_type": "markdown",
   "id": "e847b1c1",
   "metadata": {},
   "source": [
    "In this setting, we leverage the LLM's ability to compare two recommendation lists directly. The LLM will choose which list it finds more relevant for the user, providing a straightforward way to determine the superior recommendation method, in our case between Vector Search and ALS."
   ]
  },
  {
   "cell_type": "code",
   "execution_count": 45,
   "id": "2a542bb3",
   "metadata": {},
   "outputs": [],
   "source": [
    "# In a setup analogous to A/B testing, the Judge compares two ranked episode lists, each from a different model, and select the one better aligned with the profile.\n",
    "\n",
    "vs_to_judge = client.query_and_wait(f\"\"\"\n",
    "SELECT * FROM `{PROJECT_ID}.{VS_RECOMMENDATIONS_TABLE}`\n",
    "\"\"\").to_dataframe()\n",
    "als_to_judge = client.query_and_wait(f\"\"\"\n",
    "SELECT * FROM `{PROJECT_ID}.{ALS_RECOMMENDATIONS_TABLE}`\n",
    "\"\"\").to_dataframe()"
   ]
  },
  {
   "cell_type": "markdown",
   "id": "0165813e",
   "metadata": {},
   "source": [
    "To ensure a fairer comparison, we randomize the order of the recommendation lists in the prompt so the LLM doesn’t favor the first or second list. This follows prior work aimed at reducing position bias."
   ]
  },
  {
   "cell_type": "code",
   "execution_count": 46,
   "id": "242aa680",
   "metadata": {},
   "outputs": [
    {
     "name": "stdout",
     "output_type": "stream",
     "text": [
      "USER PROFILE:\n",
      "{\n",
      "  \"convenience_preference\": \"prefers practical yet adaptable recipes often making them more elaborate and flavorful than written\",\n",
      "  \"cuisine_preference\": \"Italian-American and Southern/Cajun with an appreciation for Asian flavors when customized\",\n",
      "  \"daypart_preferences\": [\n",
      "    \"versatile dishes suitable for multiple meals\",\n",
      "    \"hearty comfort foods for dinner\",\n",
      "    \"baked goods for treats\"\n",
      "  ],\n",
      "  \"dietary_preference\": \"no specific restriction but sensitive to high spice levels and mindful of starch intake for general health\",\n",
      "  \"dietary_preferences\": [\n",
      "    \"low spice or mild flavor profiles\",\n",
      "    \"occasional low starch modifications\",\n",
      "    \"fresh ingredients preferred\"\n",
      "  ],\n",
      "  \"diversity_openness\": \"adventurous and open to trying new cuisines but will modify recipes to suit personal taste and dietary needs\",\n",
      "  \"flavor_preferences\": [\n",
      "    \"rich and creamy\",\n",
      "    \"savory and umami\",\n",
      "    \"subtle and balanced\",\n",
      "    \"tangy and citrusy\",\n",
      "    \"complex with fresh herbs and garlic\"\n",
      "  ],\n",
      "  \"food_preferences\": [\n",
      "    \"comfort food classics\",\n",
      "    \"grilled meats and seafood\",\n",
      "    \"hearty soups and stews\",\n",
      "    \"baked goods and desserts\",\n",
      "    \"flavorful side dishes\"\n",
      "  ],\n",
      "  \"future_preferences\": \"This user may explore more international fusion cuisine that allows for customization. They might also be interested in regional American dishes with a focus on fresh seasonal ingredients. Experimenting with different cooking methods like smoking or sous vide for proteins could appeal to their desire for refined flavors. Expanding into different types of seafood beyond shrimp is also a possibility. Healthier versions of comfort food or gourmet twists on classic desserts could also align with their evolving palate.\",\n",
      "  \"justification\": \"Liked cuisines are Italian and Cajun Southern based on frequent high ratings for dishes like meatballs jambalaya and various shrimp preparations. Cuisine preference leans to these hearty flavorful styles. Dietary preference is noted by reducing cayenne in several recipes and mentions of limiting starch. Food preferences include comfort items baked goods and grilled options like chicken and shrimp. Top cuisine choices are specifically Italian with pasta and cheese dishes and Cajun Southern for its distinct flavors. Dietary preferences reflect a conscious effort to adjust spice and starch. Flavor preferences are described as rich balanced and favoring fresh herbs. Daypart preferences are inferred from comments about meals for dinner and future use. Lifestyle tags suggest an experimental cook who adapts recipes for optimal taste and sometimes health. Convenience preference is for manageable recipes that can be elevated. Diversity openness is high due to trying new cuisines like jambalaya but with a strong inclination to personalize. Notes summarize these patterns showing a discerning adaptable home cook.\",\n",
      "  \"lifestyle_tags\": [\n",
      "    \"experimental cook\",\n",
      "    \"health-conscious\",\n",
      "    \"entertainer\",\n",
      "    \"practical cook\",\n",
      "    \"ingredient-focused\"\n",
      "  ],\n",
      "  \"liked_cuisines\": [\n",
      "    \"Italian\",\n",
      "    \"Cajun/Southern\",\n",
      "    \"American Comfort\",\n",
      "    \"Asian\"\n",
      "  ],\n",
      "  \"notes\": \"A discerning home cook who appreciates rich, flavorful comfort food, particularly Italian and Cajun/Southern dishes. They are open to new cuisines but often customize recipes to suit personal taste, prefer less spice, and frequently use fresh ingredients. There is a strong emphasis on achieving optimal flavor and texture, even if it means altering a recipe substantially.\",\n",
      "  \"top_cuisine_choices\": [\n",
      "    \"Italian-American\",\n",
      "    \"Cajun\",\n",
      "    \"Southern BBQ\",\n",
      "    \"American Comfort Food\"\n",
      "  ],\n",
      "  \"user_story\": \"This user's culinary journey began rooted in traditional comfort foods and Italian classics passed down through generations. Their palate has expanded to embrace the bold flavors of Cajun and Southern cuisine while retaining a preference for less heat. They are not content with following recipes exactly but see them as a canvas for creative adaptation often enhancing flavor with fresh ingredients and personal touches. The user's cooking reflects a balance between practicality and a desire for gourmet results often cooking for two but appreciating dishes that yield leftovers. Their future path points towards a continued exploration of regional American and international dishes especially those offering opportunities for customization and incorporating fresh seasonal produce. They will likely seek out new grilling techniques and perhaps venture into more complex baking projects, always striving for that perfect balance of familiar comfort and exciting new flavors.\"\n",
      "}Compare the two lists of recommended recipes below and determine which list better aligns with the user's profile and preferences.\n",
      "\n",
      "\n",
      "======================= BEGIN LIST of MODEL A =======================\n",
      ">>> Rank 0\n",
      ">>> Recipe Title: Linda's Lasagna\n",
      ">>> Recipe Profile: {\n",
      "  \"cuisine_type\": \"Italian\",\n",
      "  \"dietary_preferences\": [\n",
      "    \"omnivore\"\n",
      "  ],\n",
      "  \"flavor_profile\": [\n",
      "    \"savory\",\n",
      "    \"rich\",\n",
      "    \"slightly sweet\",\n",
      "    \"tangy\"\n",
      "  ],\n",
      "  \"food_type\": \"main course\",\n",
      "  \"justification\": \"The food type is main course because this recipe includes meat pasta and cheese making it a substantial and complete meal. The cuisine type is Italian as evidenced by key ingredients like lasagna noodles tomato based sauce with oregano Parmesan cheese and mozzarella cheese which are all fundamental to Italian cooking. Dietary preferences are omnivore due to the clear presence of lean ground beef and eggs which are animal products. The flavor profile is savory and rich from the beef and cheeses slightly sweet from the white sugar balancing the tomato acidity and tangy from the cheeses and tomatoes. Serving daypart is dinner and lunch because lasagna is a hearty dish that typically requires a longer preparation and cooking time suitable for a substantial meal.\",\n",
      "  \"notes\": \"A classic Italian beef lasagna featuring rich tomato sauce multiple cheeses and tender noodles perfect for a comforting family meal.\",\n",
      "  \"serving_daypart\": [\n",
      "    \"dinner\",\n",
      "    \"lunch\"\n",
      "  ],\n",
      "  \"target_audience\": \"Families home cooks who enjoy traditional hearty Italian comfort food and are comfortable with multi step recipes\"\n",
      "}\n",
      "--------------------------------------------\n",
      ">>> Rank 1\n",
      ">>> Recipe Title: Andrea's Pasta Fagioli\n",
      ">>> Recipe Profile: {\n",
      "  \"cuisine_type\": \"Italian\",\n",
      "  \"dietary_preferences\": [\n",
      "    \"vegetarian\",\n",
      "    \"omnivore\"\n",
      "  ],\n",
      "  \"flavor_profile\": [\n",
      "    \"savory\",\n",
      "    \"herbaceous\",\n",
      "    \"umami\"\n",
      "  ],\n",
      "  \"food_type\": \"main course\",\n",
      "  \"justification\": \"The food type is a main course because it is a hearty soup with pasta and beans making it a substantial meal. The cuisine type is Italian due to the use of classic Italian ingredients such as olive oil garlic tomato sauce basil oregano Parmesan cheese and ditalini pasta. Dietary preferences include vegetarian as the recipe contains no meat or poultry but does include dairy in the form of Parmesan cheese making it unsuitable for vegans. It is also suitable for omnivores. The flavor profile is savory herbaceous and umami derived from the combination of tomato sauce garlic onion and herbs like basil and oregano complemented by the Parmesan cheese. Serving daypart is lunch and dinner as this comforting and filling soup is well-suited for a midday or evening meal.\",\n",
      "  \"notes\": \"A comforting and hearty Italian vegetarian bean and pasta soup with savory and herbaceous flavors perfect for a wholesome lunch or dinner.\",\n",
      "  \"serving_daypart\": [\n",
      "    \"lunch\",\n",
      "    \"dinner\"\n",
      "  ],\n",
      "  \"target_audience\": \"Beginner to intermediate cooks families and vegetarians looking for a comforting and flavorful Italian soup that requires minimal technique but a longer cooking time for rich flavor development\"\n",
      "}\n",
      "--------------------------------------------\n",
      ">>> Rank 2\n",
      ">>> Recipe Title: Sweet Potato Minestrone\n",
      ">>> Recipe Profile: {\n",
      "  \"cuisine_type\": \"Italian\",\n",
      "  \"dietary_preferences\": [\n",
      "    \"vegetarian\",\n",
      "    \"vegan\",\n",
      "    \"gluten-free\"\n",
      "  ],\n",
      "  \"flavor_profile\": [\n",
      "    \"savory\",\n",
      "    \"aromatic\",\n",
      "    \"mildly sweet\"\n",
      "  ],\n",
      "  \"food_type\": \"soup\",\n",
      "  \"justification\": \"Food type is soup due to the use of a soup pot broth and simmering cooking method. Cuisine type is Italian because of Italian seasoning and Italian-style diced tomatoes. Dietary preferences are vegetarian and vegan as all listed ingredients are plant based including vegetable oil and vegetable broth. It is naturally gluten-free as no gluten containing ingredients are present. Flavor profile is savory and aromatic with a hint of sweetness from the sweet potatoes and carrots balanced by garlic Italian seasoning and tomatoes. Serving daypart is lunch or dinner because soup is commonly served as a comforting and substantial meal during these times.\",\n",
      "  \"notes\": \"A simple healthy and flavorful Italian-style vegetable soup perfect for a comforting meal.\",\n",
      "  \"serving_daypart\": [\n",
      "    \"lunch\",\n",
      "    \"dinner\"\n",
      "  ],\n",
      "  \"target_audience\": \"This recipe is suitable for home cooks of all skill levels. It caters to individuals seeking healthy plant-based meals including vegetarians vegans and those on a gluten-free diet. Its mild yet aromatic flavor profile appeals to families and those who enjoy comforting vegetable-rich dishes. It is a good option for busy individuals looking for a wholesome meal that can be prepared in about an hour.\"\n",
      "}\n",
      "--------------------------------------------\n",
      ">>> Rank 3\n",
      ">>> Recipe Title: Ratatouille Bake\n",
      ">>> Recipe Profile: {\n",
      "  \"cuisine_type\": \"Italian\",\n",
      "  \"dietary_preferences\": [\n",
      "    \"vegetarian\"\n",
      "  ],\n",
      "  \"flavor_profile\": [\n",
      "    \"savory\",\n",
      "    \"aromatic\"\n",
      "  ],\n",
      "  \"food_type\": \"main course\",\n",
      "  \"justification\": \"The food type is a main course because it is a substantial dish combining pasta vegetables and cheese suitable as a primary meal. The cuisine type is Italian due to the use of ravioli basil and tomatoes which are staples in Italian cooking. Dietary preferences are vegetarian because the recipe specifies cheese ravioli and includes only vegetables herbs and cheese without any meat products. The flavor profile is savory and aromatic from the garlic onion bell pepper basil parsley and salt and black pepper. Serving daypart includes lunch and dinner as it is a hearty and satisfying meal appropriate for either.\",\n",
      "  \"notes\": \"A hearty baked Italian dish with cheese ravioli and mixed vegetables perfect for a savory meal.\",\n",
      "  \"serving_daypart\": [\n",
      "    \"lunch\",\n",
      "    \"dinner\"\n",
      "  ],\n",
      "  \"target_audience\": \"Home cooks seeking a comforting and relatively easy vegetarian Italian meal. Good for families or those who enjoy savory vegetable rich dishes with pasta. Suitable for beginner to intermediate cooks.\"\n",
      "}\n",
      "--------------------------------------------\n",
      ">>> Rank 4\n",
      ">>> Recipe Title: Penne with Spicy Vodka Tomato Cream Sauce\n",
      ">>> Recipe Profile: {\n",
      "  \"cuisine_type\": \"Italian American\",\n",
      "  \"dietary_preferences\": [\n",
      "    \"omnivore\"\n",
      "  ],\n",
      "  \"flavor_profile\": [\n",
      "    \"spicy\",\n",
      "    \"savory\",\n",
      "    \"rich\"\n",
      "  ],\n",
      "  \"food_type\": \"main course\",\n",
      "  \"justification\": \"Food type is main course because it features pasta and meat making it a substantial meal. Cuisine type is Italian American due to the use of penne pasta Italian sausage and a creamy tomato vodka sauce. Dietary preferences are omnivore as it contains pork sausage and dairy cream. Flavor profile includes spicy from red pepper flakes savory from sausage garlic and tomatoes and rich from heavy cream. Serving daypart is lunch and dinner because it is a hearty pasta dish typically consumed during these times.\",\n",
      "  \"notes\": \"A quick and flavorful Italian American pasta dish featuring sweet Italian sausage in a creamy spicy tomato vodka sauce perfect for a weeknight meal.\",\n",
      "  \"serving_daypart\": [\n",
      "    \"lunch\",\n",
      "    \"dinner\"\n",
      "  ],\n",
      "  \"target_audience\": \"This recipe targets busy individuals or families seeking a quick and satisfying meal. It appeals to those who enjoy classic Italian American flavors a balance of savory and spicy elements and have no strict dietary restrictions. The cooking skill level required is basic to intermediate.\"\n",
      "}\n",
      "--------------------------------------------\n",
      ">>> Rank 5\n",
      ">>> Recipe Title: Pesto Pasta with Chicken\n",
      ">>> Recipe Profile: {\n",
      "  \"cuisine_type\": \"Italian\",\n",
      "  \"dietary_preferences\": [\n",
      "    \"omnivore\"\n",
      "  ],\n",
      "  \"flavor_profile\": [\n",
      "    \"savory\",\n",
      "    \"herby\",\n",
      "    \"spicy\"\n",
      "  ],\n",
      "  \"food_type\": \"main course\",\n",
      "  \"justification\": \"The food type is main course because it combines pasta a staple carbohydrate with chicken a protein source forming a complete meal. The cuisine type is Italian due to key ingredients such as bow tie pasta pesto sauce and sun-dried tomatoes which are all hallmarks of Italian cooking. Dietary preferences are omnivore because the recipe explicitly includes boneless skinless chicken breasts. The flavor profile is savory from the chicken and garlic herby from the pesto and spicy due to the inclusion of crushed red pepper flakes. The serving daypart is lunch and dinner as pasta dishes with protein are typically eaten for these meals.\",\n",
      "  \"notes\": \"A quick and flavorful Italian chicken and pasta dish featuring pesto and sun-dried tomatoes with a hint of spice.\",\n",
      "  \"serving_daypart\": [\n",
      "    \"lunch\",\n",
      "    \"dinner\"\n",
      "  ],\n",
      "  \"target_audience\": \"Busy home cooks or individuals seeking a quick and easy yet flavorful Italian meal. It suits those who enjoy savory herby and mildly spicy flavors and are comfortable with basic cooking techniques. This recipe is also suitable for families due to its common ingredients and short preparation time.\"\n",
      "}\n",
      "--------------------------------------------\n",
      ">>> Rank 6\n",
      ">>> Recipe Title: Tuscan Chard and Cannellini Bean Soup\n",
      ">>> Recipe Profile: {\n",
      "  \"cuisine_type\": \"Italian\",\n",
      "  \"dietary_preferences\": [\n",
      "    \"omnivore\"\n",
      "  ],\n",
      "  \"flavor_profile\": [\n",
      "    \"savory\",\n",
      "    \"aromatic\"\n",
      "  ],\n",
      "  \"food_type\": \"soup\",\n",
      "  \"justification\": \"The food type is soup because the directions describe simmering ingredients in broth and serving it in bowls. The cuisine type is Italian due to the presence of cannellini beans parmesan cheese sun-dried tomatoes pasta basil and sage. Dietary preferences are omnivore as the recipe contains smoked bacon and chicken broth. The flavor profile is savory and aromatic from bacon garlic onion Parmesan and fresh herbs. It is suitable for lunch and dinner as a hearty filling meal.\",\n",
      "  \"notes\": \"A robust Italian-inspired soup featuring bacon beans pasta and greens.\",\n",
      "  \"serving_daypart\": [\n",
      "    \"lunch\",\n",
      "    \"dinner\"\n",
      "  ],\n",
      "  \"target_audience\": \"Individuals seeking a comforting and flavorful Italian soup not suitable for vegetarians or vegans cooks with basic to intermediate skills\"\n",
      "}\n",
      "--------------------------------------------\n",
      ">>> Rank 7\n",
      ">>> Recipe Title: Super-Delicious Zuppa Toscana\n",
      ">>> Recipe Profile: {\n",
      "  \"cuisine_type\": \"Italian\",\n",
      "  \"dietary_preferences\": [\n",
      "    \"omnivore\"\n",
      "  ],\n",
      "  \"flavor_profile\": [\n",
      "    \"savory\",\n",
      "    \"rich\",\n",
      "    \"spicy\"\n",
      "  ],\n",
      "  \"food_type\": \"main course\",\n",
      "  \"justification\": \"The food type is main course because it is a hearty soup with meat and potatoes designed to be a substantial meal. The cuisine type is Italian due to the use of mild Italian sausage as a key ingredient. Dietary preferences are omnivore as the recipe includes Italian sausage bacon and chicken broth. The flavor profile is savory from the meats and broth rich from heavy cream and spicy due to crushed red pepper flakes. Serving daypart is lunch and dinner because it is a filling and comforting meal suitable for either. This detailed explanation highlights how ingredients and cooking method inform each category.\",\n",
      "  \"notes\": \"A hearty Italian-inspired omnivore soup with savory rich and slightly spicy flavors perfect for lunch or dinner.\",\n",
      "  \"serving_daypart\": [\n",
      "    \"lunch\",\n",
      "    \"dinner\"\n",
      "  ],\n",
      "  \"target_audience\": \"Home cooks or intermediate cooks seeking a comforting and hearty omnivore meal with moderate flavor intensity suitable for family dinners or meal prep.\"\n",
      "}\n",
      "--------------------------------------------\n",
      ">>> Rank 8\n",
      ">>> Recipe Title: Chicken and Gnocchi Soup\n",
      ">>> Recipe Profile: {\n",
      "  \"cuisine_type\": \"Italian\",\n",
      "  \"dietary_preferences\": [\n",
      "    \"omnivore\"\n",
      "  ],\n",
      "  \"flavor_profile\": [\n",
      "    \"savory\",\n",
      "    \"creamy\"\n",
      "  ],\n",
      "  \"food_type\": \"main course\",\n",
      "  \"justification\": \"The recipe is explicitly referred to as a soup multiple times in the directions which typically serves as a main course due to its hearty ingredients like chicken and gnocchi. The use of gnocchi is a key Italian ingredient and the combination with olive oil garlic and celery fits an Italian inspired comfort food profile. Cooked chicken breast is a primary ingredient making it an omnivore dish. The ingredients like onion garlic celery chicken broth salt and pepper provide a savory base while the addition of half-and-half cream contributes to a creamy texture. Soup is a common dish for both lunch and dinner making it suitable for either daypart.\",\n",
      "  \"notes\": \"A savory creamy Italian inspired chicken and gnocchi soup perfect for a comforting lunch or dinner.\",\n",
      "  \"serving_daypart\": [\n",
      "    \"lunch\",\n",
      "    \"dinner\"\n",
      "  ],\n",
      "  \"target_audience\": \"home cooks looking for a quick and comforting meal families people who enjoy creamy savory flavors\"\n",
      "}\n",
      "--------------------------------------------\n",
      ">>> Rank 9\n",
      ">>> Recipe Title: Baked Ziti with Sausage\n",
      ">>> Recipe Profile: {\n",
      "  \"cuisine_type\": \"Italian-American\",\n",
      "  \"dietary_preferences\": [\n",
      "    \"omnivore\"\n",
      "  ],\n",
      "  \"flavor_profile\": [\n",
      "    \"savory\",\n",
      "    \"cheesy\"\n",
      "  ],\n",
      "  \"food_type\": \"main course\",\n",
      "  \"justification\": \"The food type is main course because it is a hearty baked pasta dish with meat and cheese designed to be a complete meal. The cuisine type is Italian-American due to the use of ziti pasta Italian sausage ricotta cheese spaghetti sauce and an Italian cheese blend. Dietary preferences are omnivore because the recipe explicitly includes mild Italian sausage as well as egg and multiple types of cheese. The flavor profile is savory and cheesy because ingredients like Italian sausage garlic oregano and basil provide a savory base complemented by the rich flavors of ricotta and shredded Italian cheese. Serving daypart is lunch and dinner as baked pasta dishes are traditionally served as a substantial meal during these times.\",\n",
      "  \"notes\": \"A classic baked ziti dish featuring Italian sausage ricotta and melted cheese perfect for a comforting family meal.\",\n",
      "  \"serving_daypart\": [\n",
      "    \"lunch\",\n",
      "    \"dinner\"\n",
      "  ],\n",
      "  \"target_audience\": \"This recipe is suitable for beginner to intermediate cooks looking for a comforting and satisfying meal. It appeals to families and individuals who enjoy savory and cheesy Italian-American comfort food. It caters to omnivores and those who appreciate hearty portions. It is great for everyday family meals or casual gatherings due to its straightforward preparation and broad appeal.\"\n",
      "}\n",
      "--------------------------------------------\n",
      ">>> Rank 10\n",
      ">>> Recipe Title: World's Best Lasagna\n",
      ">>> Recipe Profile: {\n",
      "  \"cuisine_type\": \"Italian\",\n",
      "  \"dietary_preferences\": [\n",
      "    \"omnivore\"\n",
      "  ],\n",
      "  \"flavor_profile\": [\n",
      "    \"savory\",\n",
      "    \"sweet\",\n",
      "    \"rich\"\n",
      "  ],\n",
      "  \"food_type\": \"main course\",\n",
      "  \"justification\": \"The food type is main course because lasagna is a substantial layered pasta dish typically served as the primary meal. The cuisine type is Italian due to key ingredients like Italian sausage ricotta cheese parmesan cheese basil fennel seeds and crushed tomatoes and the dish itself being lasagna. Dietary preferences are omnivore because the recipe explicitly includes sweet Italian sausage and lean ground beef. The flavor profile is savory sweet and rich due to the combination of meats cheeses and tomato products with a touch of sugar and sweet Italian sausage. The serving daypart is lunch and dinner given the significant preparation and cooking time and the hearty nature of the dish which makes it suitable for a main meal.\",\n",
      "  \"notes\": \"A hearty and comforting Italian lasagna featuring a savory and slightly sweet meat sauce with cheese layers suitable for omnivores for lunch or dinner.\",\n",
      "  \"serving_daypart\": [\n",
      "    \"lunch\",\n",
      "    \"dinner\"\n",
      "  ],\n",
      "  \"target_audience\": \"Individuals or families seeking a traditional comforting Italian meal. This recipe is suitable for those with intermediate cooking skills due to multiple steps and layering. It appeals to omnivores who enjoy rich savory and slightly sweet flavors. Best for people who have ample time for cooking and want a substantial fulfilling dish often for gatherings or family meals.\"\n",
      "}\n",
      "--------------------------------------------\n",
      ">>> Rank 11\n",
      ">>> Recipe Title: Chicken Meatballs and Spaghetti\n",
      ">>> Recipe Profile: {\n",
      "  \"cuisine_type\": \"Italian American\",\n",
      "  \"dietary_preferences\": [\n",
      "    \"omnivore\"\n",
      "  ],\n",
      "  \"flavor_profile\": [\n",
      "    \"savory\",\n",
      "    \"rich\"\n",
      "  ],\n",
      "  \"food_type\": \"main course\",\n",
      "  \"justification\": \"The food type is main course because the recipe combines a meat component chicken meatballs with a carbohydrate base spaghetti and a sauce making it a complete and satisfying meal. The cuisine type is Italian American due to the use of spaghetti Parmesan cheese Italian seasoning basil and a tomato based sauce. Dietary preferences are omnivore as the recipe includes ground chicken and Parmesan cheese. The flavor profile is savory and rich from the tomatoes basil Italian seasoning salt and pepper. Serving daypart is lunch and dinner because spaghetti and meatballs are traditionally a hearty meal commonly consumed during these times.\",\n",
      "  \"notes\": \"A comforting Italian American dish featuring ground chicken meatballs simmered in a robust tomato sauce and served over whole wheat spaghetti.\",\n",
      "  \"serving_daypart\": [\n",
      "    \"lunch\",\n",
      "    \"dinner\"\n",
      "  ],\n",
      "  \"target_audience\": \"Home cooks of all skill levels seeking a family friendly meal. Individuals who enjoy classic Italian American comfort food. Those looking for a hearty and satisfying omnivore dinner.\"\n",
      "}\n",
      "--------------------------------------------\n",
      ">>> Rank 12\n",
      ">>> Recipe Title: Sausage and Peppers Lasagna\n",
      ">>> Recipe Profile: {\n",
      "  \"cuisine_type\": \"Italian\",\n",
      "  \"dietary_preferences\": [\n",
      "    \"omnivore\"\n",
      "  ],\n",
      "  \"flavor_profile\": [\n",
      "    \"savory\"\n",
      "  ],\n",
      "  \"food_type\": \"main course\",\n",
      "  \"justification\": \"The food type is a main course because the recipe describes a layered pasta dish with meat and cheese which is typically served as a substantial meal. The cuisine type is Italian due to the use of classic ingredients like Italian sausage spaghetti sauce lasagna noodles mozzarella and parmesan cheese. Dietary preferences are omnivore because the recipe prominently features Italian sausage and dairy products like cream cheese and milk. The flavor profile is savory attributed to the Italian sausage rich spaghetti sauce and various cheeses. Serving daypart includes both lunch and dinner because lasagna is a hearty dish suitable for either a substantial midday meal or an evening main course.\",\n",
      "  \"notes\": \"A classic savory Italian lasagna featuring Italian sausage bell peppers and a blend of mozzarella parmesan and cream cheeses baked to perfection.\",\n",
      "  \"serving_daypart\": [\n",
      "    \"lunch\",\n",
      "    \"dinner\"\n",
      "  ],\n",
      "  \"target_audience\": \"This recipe is for individuals or families who enjoy classic Italian comfort food. It suits those with basic to intermediate cooking skills willing to invest an hour and a half of their time for a hearty satisfying meal. It is ideal for omnivores who appreciate rich savory flavors and substantial portions.\"\n",
      "}\n",
      "--------------------------------------------\n",
      ">>> Rank 13\n",
      ">>> Recipe Title: Best Italian Sausage Soup\n",
      ">>> Recipe Profile: {\n",
      "  \"cuisine_type\": \"Italian\",\n",
      "  \"dietary_preferences\": [\n",
      "    \"omnivore\"\n",
      "  ],\n",
      "  \"flavor_profile\": [\n",
      "    \"savory\",\n",
      "    \"aromatic\"\n",
      "  ],\n",
      "  \"food_type\": \"main course\",\n",
      "  \"justification\": \"food type is main course because it combines meat pasta and vegetables making a complete meal cuisine type is Italian due to the use of sweet Italian sausage fettuccine pasta peeled tomatoes dried basil and dried oregano dietary preferences are omnivore because the recipe contains sweet Italian sausage and beef broth flavor profile is savory and aromatic from the garlic onions herbs red wine and tomatoes serving daypart is dinner because it is a hearty slow cooked meal suitable for an evening meal\",\n",
      "  \"notes\": \"A hearty Italian slow cooker meal with sausage pasta and vegetables offering savory and aromatic flavors perfect for dinner\",\n",
      "  \"serving_daypart\": [\n",
      "    \"dinner\",\n",
      "    \"lunch\"\n",
      "  ],\n",
      "  \"target_audience\": \"This recipe is ideal for busy individuals or families looking for a comforting home-cooked meal without extensive hands-on time The slow cooker method makes it accessible for cooks of all skill levels particularly those who appreciate classic Italian flavors and a savory profile It suits a lifestyle that values meal preparation with a long unattended cooking duration\"\n",
      "}\n",
      "--------------------------------------------\n",
      ">>> Rank 14\n",
      ">>> Recipe Title: Roasted Chicken with Risotto and Caramelized Onions\n",
      ">>> Recipe Profile: {\"cuisine_type\": \"Italian\", \"dietary_preferences\": [\"omnivore\"], \"flavor_profile\": [\"savory\", \"aromatic\"], \"food_type\": \"main course\", \"justification\": \"Food type chosen as main course because it combines a protein chicken with a substantial grain arborio rice creating a complete and filling meal suitable as the primary dish. Cuisine type identified as Italian due to the use of arborio rice dry white wine and balsamic vinegar key ingredients commonly found in Italian risotto dishes. The cooking method of gradually adding broth also aligns with traditional risotto preparation. Dietary preferences classified as omnivore because the recipe explicitly includes chopped cooked chicken breast which is a meat product and butter which is a dairy product making it unsuitable for vegetarians or vegans. Flavor profile described as savory and aromatic. The savory aspect comes from the browned onions chicken and broth. The balsamic vinegar adds a tangy dimension and the fresh thyme and dry white wine provide distinct aromatic qualities. Serving daypart suitable for lunch and dinner because it is a hearty and satisfying dish that fits well as a main meal for either of these dayparts rather than a lighter breakfast or snack.\", \"notes\": \"A savory chicken and balsamic risotto, perfect for a comforting Italian-inspired meal.\", \"serving_daypart\": [\"lunch\", \"dinner\"], \"target_audience\": \"Home cooks who enjoy Italian flavors and are comfortable with a moderately involved cooking process like risotto. People seeking a rich savory meal.\"}\n",
      "--------------------------------------------\n",
      ">>> Rank 15\n",
      ">>> Recipe Title: Gourmet Mushroom Risotto\n",
      ">>> Recipe Profile: {\n",
      "  \"cuisine_type\": \"Italian\",\n",
      "  \"dietary_preferences\": [\n",
      "    \"omnivore\"\n",
      "  ],\n",
      "  \"flavor_profile\": [\n",
      "    \"savory\",\n",
      "    \"umami\"\n",
      "  ],\n",
      "  \"food_type\": \"main course\",\n",
      "  \"justification\": \"The food type is main course because risotto with its rich ingredients like Arborio rice mushrooms and cheese is a substantial dish often served as the main part of a meal The cuisine type is Italian as risotto is a classic Italian rice dish The dietary preferences are omnivore due to the inclusion of chicken broth butter and Parmesan cheese which are animal products The flavor profile is savory and umami given the presence of mushrooms shallots and Parmesan cheese which contribute to a rich and earthy taste without being sweet or spicy The serving daypart is lunch and dinner as this type of hearty dish is typically enjoyed during these meal times\",\n",
      "  \"notes\": \"A savory and umami Italian risotto main course suitable for omnivores for lunch or dinner.\",\n",
      "  \"serving_daypart\": [\n",
      "    \"lunch\",\n",
      "    \"dinner\"\n",
      "  ],\n",
      "  \"target_audience\": \"Individuals who appreciate classic Italian comfort food are comfortable with intermediate cooking techniques and enjoy rich savory flavors This recipe is well suited for omnivores looking for a satisfying and warming meal\"\n",
      "}\n",
      "--------------------------------------------\n",
      ">>> Rank 16\n",
      ">>> Recipe Title: Cheesy Butternut Squash Pasta Sauce\n",
      ">>> Recipe Profile: {\n",
      "  \"cuisine_type\": \"Italian\",\n",
      "  \"dietary_preferences\": [\n",
      "    \"omnivore\"\n",
      "  ],\n",
      "  \"flavor_profile\": [\n",
      "    \"savory\",\n",
      "    \"sweet\",\n",
      "    \"creamy\"\n",
      "  ],\n",
      "  \"food_type\": \"soup\",\n",
      "  \"justification\": \"The recipe features butternut squash, apple, and an Italian cheese blend, indicating a sweet and savory flavor profile with an Italian influence. The inclusion of chicken broth, butter, milk, and cheese categorizes it as omnivore. The preparation method of simmering ingredients to form a liquid base points to it being a soup. The dish is hearty and flavorful, making it suitable for lunch or dinner.\",\n",
      "  \"notes\": \"A creamy and comforting Italian-inspired butternut squash soup, balancing sweet and savory flavors, perfect for a warming meal.\",\n",
      "  \"serving_daypart\": [\n",
      "    \"lunch\",\n",
      "    \"dinner\"\n",
      "  ],\n",
      "  \"target_audience\": \"This recipe is suitable for home cooks with basic to intermediate skills. It appeals to families and individuals who enjoy comforting, warm, and flavorful dishes with a balance of sweet and savory notes. It is appropriate for those without strict dietary restrictions, particularly omnivores who appreciate Italian-influenced cuisine and creamy vegetable-based soups.\"\n",
      "}\n",
      "--------------------------------------------\n",
      ">>> Rank 17\n",
      ">>> Recipe Title: Hearty Vegetable Lasagna\n",
      ">>> Recipe Profile: {\n",
      "  \"cuisine_type\": \"Italian\",\n",
      "  \"dietary_preferences\": [\n",
      "    \"vegetarian\"\n",
      "  ],\n",
      "  \"flavor_profile\": [\n",
      "    \"savory\",\n",
      "    \"umami\"\n",
      "  ],\n",
      "  \"food_type\": \"main course\",\n",
      "  \"justification\": \"The food type is main course because lasagna is a substantial and fulfilling dish usually eaten as the primary meal. The cuisine type is Italian as lasagna is a traditional Italian pasta dish. Dietary preferences are vegetarian because the ingredients list includes no meat products only vegetables cheeses and eggs making it suitable for a vegetarian diet. The flavor profile is savory and umami due to the rich pasta sauce aromatic vegetables like garlic and onion mushrooms and various cheeses. The serving daypart includes lunch and dinner because this hearty dish is appropriate for a substantial mid day meal or a family evening meal.\",\n",
      "  \"notes\": \"This is a savory Italian vegetarian lasagna featuring pasta sauce vegetables and cheeses suitable for lunch or dinner.\",\n",
      "  \"serving_daypart\": [\n",
      "    \"lunch\",\n",
      "    \"dinner\"\n",
      "  ],\n",
      "  \"target_audience\": \"This recipe is suitable for home cooks of intermediate skill levels looking for a comforting and hearty vegetarian Italian meal. It caters to families and individuals who enjoy classic savory flavors and cheese based dishes. It is a good option for those seeking a substantial meal for lunch or dinner and is vegetarian friendly.\"\n",
      "}\n",
      "--------------------------------------------\n",
      ">>> Rank 18\n",
      ">>> Recipe Title: Eggplant Supper Soup\n",
      ">>> Recipe Profile: {\n",
      "  \"cuisine_type\": \"Italian American\",\n",
      "  \"dietary_preferences\": [\n",
      "    \"omnivore\"\n",
      "  ],\n",
      "  \"flavor_profile\": [\n",
      "    \"savory\",\n",
      "    \"comforting\"\n",
      "  ],\n",
      "  \"food_type\": \"main course\",\n",
      "  \"justification\": \"The food type is main course because it combines ground beef macaroni and several vegetables creating a substantial and balanced meal. The cuisine type is Italian American due to the prominent use of Italian diced tomatoes macaroni and Parmesan cheese which are key elements in Italian inspired comfort food common in America. Dietary preferences are omnivore as the recipe features ground beef. The flavor profile is savory from the beef garlic onions and spices with a comforting warmth expected from a macaroni dish. Serving daypart is lunch and dinner because it is a hearty and fulfilling meal suitable for either of these main eating occasions.\",\n",
      "  \"notes\": \"A comforting Italian American inspired dish featuring ground beef vegetables and macaroni perfect for a hearty meal.\",\n",
      "  \"serving_daypart\": [\n",
      "    \"lunch\",\n",
      "    \"dinner\"\n",
      "  ],\n",
      "  \"target_audience\": \"Home cooks and families seeking a straightforward and hearty meal with familiar savory flavors. People who enjoy classic comfort food with an Italian twist would appreciate this recipe.\"\n",
      "}\n",
      "--------------------------------------------\n",
      ">>> Rank 19\n",
      ">>> Recipe Title: White Cheese Chicken Lasagna\n",
      ">>> Recipe Profile: {\n",
      "  \"cuisine_type\": \"Italian\",\n",
      "  \"dietary_preferences\": [\n",
      "    \"omnivore\"\n",
      "  ],\n",
      "  \"flavor_profile\": [\n",
      "    \"savory\",\n",
      "    \"rich\"\n",
      "  ],\n",
      "  \"food_type\": \"main course\",\n",
      "  \"justification\": \"The food type is main course because lasagna is a substantial dish designed to be the primary meal. The cuisine type is Italian because lasagna is a classic dish originating from Italy using traditional Italian ingredients and layering techniques. Dietary preferences are omnivore as the recipe clearly contains chicken meat dairy products like milk mozzarella ricotta and parmesan cheese and butter. The flavor profile is savory and rich due to the presence of onion garlic basil oregano cheeses and chicken. The serving daypart is lunch and dinner because lasagna is a hearty and fulfilling meal typically enjoyed during these times.\",\n",
      "  \"notes\": \"A hearty and classic chicken and spinach lasagna featuring a creamy cheesy sauce.\",\n",
      "  \"serving_daypart\": [\n",
      "    \"lunch\",\n",
      "    \"dinner\"\n",
      "  ],\n",
      "  \"target_audience\": \"Families comfort food lovers home cooks those who enjoy hearty Italian American dishes\"\n",
      "}\n",
      "--------------------------------------------\n",
      "\n",
      "======================= END LIST =======================\n",
      "\n",
      "======================= BEGIN LIST of MODEL B =======================\n",
      ">>> Rank 0\n",
      ">>> Recipe Title: Mom's Ginger Snaps\n",
      ">>> Recipe Profile: {\n",
      "  \"cuisine_type\": \"American\",\n",
      "  \"dietary_preferences\": [\n",
      "    \"omnivore\"\n",
      "  ],\n",
      "  \"flavor_profile\": [\n",
      "    \"sweet\",\n",
      "    \"spiced\"\n",
      "  ],\n",
      "  \"food_type\": \"dessert\",\n",
      "  \"justification\": \"The food type is identified as a dessert because the recipe involves rolling dough into balls baking them on cookie sheets and cooling them on racks which are characteristic steps for making cookies. The cuisine type is American due to the use of common ingredients like molasses brown sugar ginger cinnamon and cloves which are staples in traditional American baking particularly for spiced cookies. Dietary preferences are omnivore because the recipe explicitly includes egg and all purpose flour making it unsuitable for vegan or gluten free diets. The flavor profile is clearly sweet from the packed brown sugar molasses and white sugar for decoration and spiced due to the inclusion of ground cloves ground cinnamon and ground ginger which provide distinct warming spice notes. The serving daypart includes snack and dessert as cookies are typically enjoyed as a sweet treat between meals or after a main course.\",\n",
      "  \"notes\": \"A classic American spiced cookie sweet and aromatic suitable for a snack or dessert.\",\n",
      "  \"serving_daypart\": [\n",
      "    \"snack\",\n",
      "    \"dessert\"\n",
      "  ],\n",
      "  \"target_audience\": \"This recipe is ideal for home bakers of all skill levels including beginners due to its straightforward preparation and short cooking time. It caters to families and individuals who appreciate traditional comforting flavors. People who enjoy sweet and spiced treats will find this appealing. It is suitable for those seeking an easy to make dessert or snack.\"\n",
      "}\n",
      "--------------------------------------------\n",
      ">>> Rank 1\n",
      ">>> Recipe Title: Iced Pumpkin Cookies\n",
      ">>> Recipe Profile: {\n",
      "  \"cuisine_type\": \"American\",\n",
      "  \"dietary_preferences\": [\n",
      "    \"omnivore\"\n",
      "  ],\n",
      "  \"flavor_profile\": [\n",
      "    \"sweet\",\n",
      "    \"spiced\"\n",
      "  ],\n",
      "  \"food_type\": \"dessert\",\n",
      "  \"justification\": \"The food type is dessert because the recipe clearly outlines the preparation of cookies with a glaze. The cuisine type is American due to the use of common baking ingredients like all-purpose flour butter sugar pumpkin puree and traditional spices such as cinnamon nutmeg and cloves which are staples in American baking especially for seasonal treats. Dietary preferences are omnivore as the recipe contains butter egg and milk which are animal products. The flavor profile is sweet and spiced because the ingredients include white sugar confectioners sugar pumpkin puree cinnamon nutmeg and cloves all contributing to a sweet aromatic taste. The serving daypart is dessert or snack as cookies are typically consumed after meals or as a light treat.\",\n",
      "  \"notes\": \"A comforting sweet and spiced pumpkin cookie with a simple glaze, perfect for a treat.\",\n",
      "  \"serving_daypart\": [\n",
      "    \"dessert\",\n",
      "    \"snack\"\n",
      "  ],\n",
      "  \"target_audience\": \"home bakers families and individuals seeking a comforting sweet treat\"\n",
      "}\n",
      "--------------------------------------------\n",
      ">>> Rank 2\n",
      ">>> Recipe Title: Spicy Slow Cooker Black Bean Soup\n",
      ">>> Recipe Profile: {\n",
      "  \"cuisine_type\": \"Mexican\",\n",
      "  \"dietary_preferences\": [\n",
      "    \"omnivore\"\n",
      "  ],\n",
      "  \"flavor_profile\": [\n",
      "    \"spicy\",\n",
      "    \"savory\"\n",
      "  ],\n",
      "  \"food_type\": \"Main Course\",\n",
      "  \"justification\": \"The recipe primarily consists of black beans and is heavily spiced with ingredients like chili powder cumin cayenne pepper and hot pepper sauce which are characteristic of Mexican cuisine. The inclusion of chicken broth makes it suitable for omnivores. The strong presence of various chili components confirms a spicy and savory flavor. The long slow cooking time indicates it is designed to be prepared for a substantial meal like lunch or dinner.\",\n",
      "  \"notes\": \"A spicy and savory Mexican black bean dish prepared in a slow cooker ideal for omnivores for lunch or dinner.\",\n",
      "  \"serving_daypart\": [\n",
      "    \"lunch\",\n",
      "    \"dinner\"\n",
      "  ],\n",
      "  \"target_audience\": \"Individuals who enjoy spicy flavors and Mexican cuisine. Busy people looking for convenient hands-off cooking with a slow cooker. Those who appreciate hearty and flavorful bean dishes. Beginner to intermediate cooks will find this recipe manageable.\"\n",
      "}\n",
      "--------------------------------------------\n",
      ">>> Rank 3\n",
      ">>> Recipe Title: Granola Energy Bars\n",
      ">>> Recipe Profile: {\n",
      "  \"cuisine_type\": \"American\",\n",
      "  \"dietary_preferences\": [\n",
      "    \"omnivore\"\n",
      "  ],\n",
      "  \"flavor_profile\": [\n",
      "    \"sweet\",\n",
      "    \"nutty\"\n",
      "  ],\n",
      "  \"food_type\": \"snack\",\n",
      "  \"justification\": \"The food type is snack because the recipe describes cutting the final product into bars which is a common form for snacks. The cuisine type is American due to the use of common American ingredients like oatmeal peanut butter honey and chocolate chips. Dietary preferences are omnivore because the recipe includes butter and semisweet chocolate chips which typically contain dairy. The flavor profile is sweet from honey and chocolate chips and nutty from peanut butter sunflower seeds and sesame seeds. Serving daypart includes breakfast snack and dessert because these bars are versatile and suitable for a quick morning bite an afternoon energy boost or a sweet treat after a meal.\",\n",
      "  \"notes\": \"An American style sweet and nutty snack bar suitable for omnivores perfect for breakfast or an anytime treat.\",\n",
      "  \"serving_daypart\": [\n",
      "    \"breakfast\",\n",
      "    \"snack\",\n",
      "    \"dessert\"\n",
      "  ],\n",
      "  \"target_audience\": \"This recipe is ideal for busy individuals and families looking for an easy to make delicious snack or quick breakfast option. It appeals to those who enjoy sweet and nutty flavors and appreciate simple home baked treats. The recipe is straightforward so it suits cooks of all skill levels.\"\n",
      "}\n",
      "--------------------------------------------\n",
      ">>> Rank 4\n",
      ">>> Recipe Title: Pasta e Olio\n",
      ">>> Recipe Profile: {\n",
      "  \"cuisine_type\": \"Italian\",\n",
      "  \"dietary_preferences\": [\n",
      "    \"vegetarian\",\n",
      "    \"omnivore\"\n",
      "  ],\n",
      "  \"flavor_profile\": [\n",
      "    \"savory\",\n",
      "    \"slightly spicy\"\n",
      "  ],\n",
      "  \"food_type\": \"main course\",\n",
      "  \"justification\": \"The food type is main course because spaghetti is a substantial dish typically served as a primary meal. The cuisine type is Italian because spaghetti is a traditional Italian pasta. The dietary preferences include vegetarian because the ingredients list only includes pasta, vegetables, olive oil, and butter, with no meat products. It also includes omnivore as it fits that diet. The flavor profile is savory due to the garlic, olive oil, and parsley, and slightly spicy from the crushed red pepper flakes. The serving daypart is lunch and dinner as pasta dishes are commonly consumed during these times.\",\n",
      "  \"notes\": \"A simple and quick pasta dish with garlic, parsley, and a hint of spice.\",\n",
      "  \"serving_daypart\": [\n",
      "    \"lunch\",\n",
      "    \"dinner\"\n",
      "  ],\n",
      "  \"target_audience\": \"This recipe is suitable for individuals seeking a quick and easy vegetarian meal. It appeals to home cooks of all skill levels, especially beginners, due to its straightforward preparation. The savory and mildly spicy flavor profile is broadly appealing. It is a good choice for busy individuals or families looking for a flavorful yet simple weeknight dinner.\"\n",
      "}\n",
      "--------------------------------------------\n",
      ">>> Rank 5\n",
      ">>> Recipe Title: Lemon Pie Bars\n",
      ">>> Recipe Profile: {\n",
      "  \"cuisine_type\": \"American\",\n",
      "  \"dietary_preferences\": [\n",
      "    \"omnivore\"\n",
      "  ],\n",
      "  \"flavor_profile\": [\n",
      "    \"sweet\",\n",
      "    \"tart\",\n",
      "    \"citrus\"\n",
      "  ],\n",
      "  \"food_type\": \"dessert\",\n",
      "  \"justification\": \"The food type is dessert because it uses typical baking ingredients like flour sugar butter and eggs to create sweet bars. The cuisine type is American as lemon bars are a popular and classic American baked good. Dietary preferences are omnivore due to the inclusion of butter and eggs. The flavor profile is sweet and tart citrus because of the prominent use of sugar lemon juice and lemon zest. Serving daypart includes snack and dessert as these baked bars are commonly enjoyed after meals or as a sweet treat throughout the day.\",\n",
      "  \"notes\": \"A classic sweet and tart lemon bar recipe suitable for dessert or snack.\",\n",
      "  \"serving_daypart\": [\n",
      "    \"snack\",\n",
      "    \"dessert\"\n",
      "  ],\n",
      "  \"target_audience\": \"This recipe appeals to home bakers of all skill levels who enjoy sweet and tangy flavors. It is ideal for families potlucks or as an everyday treat.\"\n",
      "}\n",
      "--------------------------------------------\n",
      ">>> Rank 6\n",
      ">>> Recipe Title: Jim's Macaroni Salad\n",
      ">>> Recipe Profile: {\n",
      "  \"cuisine_type\": \"American\",\n",
      "  \"dietary_preferences\": [\n",
      "    \"omnivore\"\n",
      "  ],\n",
      "  \"flavor_profile\": [\n",
      "    \"savory\",\n",
      "    \"tangy\",\n",
      "    \"creamy\"\n",
      "  ],\n",
      "  \"food_type\": \"pasta salad\",\n",
      "  \"justification\": \"The food type is pasta salad because it combines cooked macaroni with various chopped vegetables cheese and eggs all mixed with a creamy dressing. The cuisine type is American as this style of macaroni salad with mayonnaise and common ingredients like pickles and processed cheese is a staple of American comfort food and picnic dishes. Dietary preferences are omnivore due to the inclusion of macaroni eggs and processed cheese which are not suitable for vegan vegetarian or gluten-free diets. The flavor profile is savory tangy and creamy derived from the mayonnaise vinegar pickles olives and cheese seasoned with salt and pepper. Serving daypart includes lunch and dinner because pasta salads are versatile and commonly served as a main dish or side dish for these meals or at gatherings.\",\n",
      "  \"notes\": \"A classic American macaroni salad with a savory and tangy flavor profile suitable for omnivores. It is easy to prepare and perfect for a casual meal or gathering.\",\n",
      "  \"serving_daypart\": [\n",
      "    \"lunch\",\n",
      "    \"dinner\"\n",
      "  ],\n",
      "  \"target_audience\": \"This recipe is ideal for beginner to intermediate cooks looking for a quick and easy side dish or a light main course. It caters to omnivores who enjoy classic comfort food flavors that are savory and tangy without being overly intense. It is perfect for families casual gatherings picnics or anyone seeking a straightforward and satisfying meal.\"\n",
      "}\n",
      "--------------------------------------------\n",
      ">>> Rank 7\n",
      ">>> Recipe Title: Mom's Best Spaghetti Sauce\n",
      ">>> Recipe Profile: {\n",
      "  \"cuisine_type\": \"Italian\",\n",
      "  \"dietary_preferences\": [\n",
      "    \"vegetarian\",\n",
      "    \"gluten-free\"\n",
      "  ],\n",
      "  \"flavor_profile\": [\n",
      "    \"savory\"\n",
      "  ],\n",
      "  \"food_type\": \"side dish\",\n",
      "  \"justification\": \"The food type is a side dish because it is a sauce typically served alongside or as a component of a main meal. The cuisine type is Italian due to key ingredients like tomatoes basil and Parmesan cheese which are staples of Italian cooking. Dietary preferences include vegetarian as no meat products are listed and gluten-free because there are no gluten containing ingredients. The flavor profile is savory attributed to the robust combination of tomatoes garlic onions and Parmesan cheese with sugar used for balance not sweetness. The serving dayparts are lunch and dinner as a rich sauce like this is traditionally enjoyed as part of these larger meals.\",\n",
      "  \"notes\": \"A rich savory Italian tomato sauce that is vegetarian and gluten-free perfect for lunch or dinner.\",\n",
      "  \"serving_daypart\": [\n",
      "    \"lunch\",\n",
      "    \"dinner\"\n",
      "  ],\n",
      "  \"target_audience\": \"Home cooks and intermediate chefs who enjoy slow cooking and rich savory Italian flavors. This recipe is suitable for vegetarians and those following a gluten-free diet and is great for meal prepping due to its overnight refrigeration step.\"\n",
      "}\n",
      "--------------------------------------------\n",
      ">>> Rank 8\n",
      ">>> Recipe Title: Easy OREO Truffles\n",
      ">>> Recipe Profile: {\n",
      "  \"cuisine_type\": \"American\",\n",
      "  \"dietary_preferences\": [\n",
      "    \"omnivore\"\n",
      "  ],\n",
      "  \"flavor_profile\": [\n",
      "    \"sweet\",\n",
      "    \"chocolatey\",\n",
      "    \"creamy\"\n",
      "  ],\n",
      "  \"food_type\": \"dessert\",\n",
      "  \"justification\": \"The food type is dessert because the recipe creates sweet confectionary balls known as truffles. The cuisine type is American due to the use of popular American brand ingredients like OREO cookies and Philadelphia cream cheese in a dessert context. Dietary preferences are omnivore as the recipe includes dairy from cream cheese making it unsuitable for vegan or dairy free diets. The flavor profile is sweet and chocolatey because the main ingredients are OREO chocolate sandwich cookies and semi-sweet baking chocolate both contributing intense sweetness and chocolate flavor. The cream cheese adds a creamy element. The serving daypart is dessert and snack because truffles are typically enjoyed as a sweet treat after meals or as a bite sized snack at any time.\",\n",
      "  \"notes\": \"A simple and sweet American dessert using chocolate sandwich cookies cream cheese and melted chocolate perfect for a quick treat or party.\",\n",
      "  \"serving_daypart\": [\n",
      "    \"dessert\",\n",
      "    \"snack\",\n",
      "    \"anytime\"\n",
      "  ],\n",
      "  \"target_audience\": \"Beginner cooks families partygoers sweet tooths\"\n",
      "}\n",
      "--------------------------------------------\n",
      ">>> Rank 9\n",
      ">>> Recipe Title: Easy Pizza Sauce I\n",
      ">>> Recipe Profile: {\n",
      "  \"cuisine_type\": \"Italian\",\n",
      "  \"dietary_preferences\": [\n",
      "    \"vegan\",\n",
      "    \"vegetarian\",\n",
      "    \"gluten-free\"\n",
      "  ],\n",
      "  \"flavor_profile\": [\n",
      "    \"savory\",\n",
      "    \"aromatic\"\n",
      "  ],\n",
      "  \"food_type\": \"sauce\",\n",
      "  \"justification\": \"The food type is a sauce because the ingredients are a base like tomato paste with flavorings and the directions state to spread it on dough. The cuisine type is Italian due to the prominent use of tomato paste oregano basil and rosemary. Dietary preferences include vegan vegetarian and gluten-free as all ingredients are plant based and naturally free of animal products and gluten. The flavor profile is savory and aromatic from the garlic and various dried herbs. Serving daypart is lunch and dinner as this type of sauce is typically used for main meals like pasta or pizza.\",\n",
      "  \"notes\": \"A simple no-cook Italian herb and tomato sauce perfect for quick meal preparation.\",\n",
      "  \"serving_daypart\": [\n",
      "    \"lunch\",\n",
      "    \"dinner\"\n",
      "  ],\n",
      "  \"target_audience\": \"Beginner cooks busy individuals vegans vegetarians gluten-free individuals and those who enjoy savory Italian flavors.\"\n",
      "}\n",
      "--------------------------------------------\n",
      ">>> Rank 10\n",
      ">>> Recipe Title: Best Chocolate Chip Cookies\n",
      ">>> Recipe Profile: {\n",
      "  \"cuisine_type\": \"American\",\n",
      "  \"dietary_preferences\": [\n",
      "    \"omnivore\"\n",
      "  ],\n",
      "  \"flavor_profile\": [\n",
      "    \"sweet\",\n",
      "    \"nutty\"\n",
      "  ],\n",
      "  \"food_type\": \"baked good\",\n",
      "  \"justification\": \"The food type is a baked good specifically cookies because the ingredients include flour sugar butter and eggs which are typical baking components and the directions involve dropping spoonfuls onto pans and baking. The cuisine type is American as the combination of ingredients like chocolate chips walnuts and the method of creaming butter and sugar are classic elements of American cookie recipes. Dietary preferences are omnivore due to the inclusion of butter eggs and semiskim chocolate chips which are animal derived products and it is not plant-based or gluten-free. The flavor profile is sweet from the white sugar brown sugar and chocolate chips with a nutty element from the chopped walnuts. Serving daypart includes snack and dessert because cookies are commonly enjoyed as a sweet treat between meals or as an end to a meal.\",\n",
      "  \"notes\": \"A comforting sweet baked good popular as a snack or dessert made with classic American ingredients like chocolate chips and walnuts.\",\n",
      "  \"serving_daypart\": [\n",
      "    \"snack\",\n",
      "    \"dessert\"\n",
      "  ],\n",
      "  \"target_audience\": \"Families and home bakers looking for a comforting sweet treat that is easy to make and universally appealing\"\n",
      "}\n",
      "--------------------------------------------\n",
      ">>> Rank 11\n",
      ">>> Recipe Title: Bacon and Potato Soup\n",
      ">>> Recipe Profile: {\n",
      "  \"cuisine_type\": \"American\",\n",
      "  \"dietary_preferences\": [\n",
      "    \"omnivore\"\n",
      "  ],\n",
      "  \"flavor_profile\": [\n",
      "    \"savory\",\n",
      "    \"spicy\"\n",
      "  ],\n",
      "  \"food_type\": \"soup\",\n",
      "  \"justification\": \"The food type is soup because it is a liquid-based dish with vegetables and meat simmered in broth. The cuisine type is American due to the use of common comfort food ingredients like bacon potatoes cheddar cheese and basic vegetables. Dietary preferences are omnivore because the recipe contains bacon and chicken broth. The flavor profile is savory from the bacon broth and cheese with a hint of spice from the cayenne pepper. Serving dayparts are lunch and dinner as soup is a common meal for these times.\",\n",
      "  \"notes\": \"A savory and slightly spicy American bacon potato cheese soup suitable for omnivores for lunch or dinner.\",\n",
      "  \"serving_daypart\": [\n",
      "    \"lunch\",\n",
      "    \"dinner\"\n",
      "  ],\n",
      "  \"target_audience\": \"Beginner to intermediate cooks families and individuals seeking a comforting hearty and flavorful meal with a touch of spice.\"\n",
      "}\n",
      "--------------------------------------------\n",
      ">>> Rank 12\n",
      ">>> Recipe Title: Gramma's Date Squares\n",
      ">>> Recipe Profile: {\n",
      "  \"cuisine_type\": \"American\",\n",
      "  \"dietary_preferences\": [\n",
      "    \"omnivore\"\n",
      "  ],\n",
      "  \"flavor_profile\": [\n",
      "    \"sweet\",\n",
      "    \"tart\",\n",
      "    \"rich\"\n",
      "  ],\n",
      "  \"food_type\": \"dessert\",\n",
      "  \"justification\": \"The food type is dessert or snack because the recipe produces sweet baked squares made from oats flour and a date filling. The cuisine type is American due to the common use of ingredients like oats butter brown sugar and dates in classic home baking. Dietary preferences are omnivore because it contains butter a dairy product and wheat flour but no meat or fish. It is naturally vegetarian friendly. The flavor profile is sweet from brown sugar and dates tart from lemon juice and rich from butter and oats. Serving dayparts include snack dessert or even a casual breakfast item because it is a versatile sweet baked good.\",\n",
      "  \"notes\": \"Sweet and tart date squares with an oat crumb topping perfect for a comforting snack or dessert.\",\n",
      "  \"serving_daypart\": [\n",
      "    \"snack\",\n",
      "    \"dessert\",\n",
      "    \"breakfast\"\n",
      "  ],\n",
      "  \"target_audience\": \"This recipe is ideal for home bakers of all skill levels including beginners who enjoy comforting familiar flavors. It caters to those who appreciate sweet and slightly tart baked goods especially with fruit fillings. It is suitable for families and individuals looking for a wholesome homemade treat or snack. It is not suitable for those following gluten free or vegan diets.\"\n",
      "}\n",
      "--------------------------------------------\n",
      ">>> Rank 13\n",
      ">>> Recipe Title: Tomato and Mozzarella Bites\n",
      ">>> Recipe Profile: {\n",
      "  \"cuisine_type\": \"Italian\",\n",
      "  \"dietary_preferences\": [\n",
      "    \"vegetarian\",\n",
      "    \"gluten-free\"\n",
      "  ],\n",
      "  \"flavor_profile\": [\n",
      "    \"sweet\",\n",
      "    \"savory\",\n",
      "    \"tangy\",\n",
      "    \"fresh\"\n",
      "  ],\n",
      "  \"food_type\": \"appetizer\",\n",
      "  \"justification\": \"The food type is an appetizer because it consists of small ingredients speared on toothpicks perfect for a starter or snack The cuisine type is Italian due to the prominent use of fresh mozzarella basil and balsamic vinegar which are classic Italian components It is vegetarian as it contains dairy from the mozzarella but no meat Gluten-free because it contains no gluten-containing grains The flavor profile combines the sweetness of grapes the savory notes from salt and cheese the tanginess of balsamic vinegar and the freshness of basil The serving daypart is lunch or dinner as it is typically served as a light pre-meal item or a snack.\",\n",
      "  \"notes\": \"A simple and fresh appetizer combining sweet grapes creamy mozzarella and fragrant basil with a tangy balsamic dressing perfect for quick preparation.\",\n",
      "  \"serving_daypart\": [\n",
      "    \"lunch\",\n",
      "    \"dinner\",\n",
      "    \"snack\"\n",
      "  ],\n",
      "  \"target_audience\": \"home cooks looking for easy recipes food enthusiasts appreciating fresh ingredients individuals following vegetarian or gluten-free diets\"\n",
      "}\n",
      "--------------------------------------------\n",
      ">>> Rank 14\n",
      ">>> Recipe Title: German Spaetzle Dumplings\n",
      ">>> Recipe Profile: {\n",
      "  \"cuisine_type\": \"German\",\n",
      "  \"dietary_preferences\": [\n",
      "    \"omnivore\"\n",
      "  ],\n",
      "  \"flavor_profile\": [\n",
      "    \"savory\",\n",
      "    \"rich\"\n",
      "  ],\n",
      "  \"food_type\": \"side dish\",\n",
      "  \"justification\": \"The food type is a side dish because spaetzle is traditionally served alongside a main protein or vegetable. The cuisine type is German as spaetzle is a classic German and Central European noodle or dumpling. Dietary preferences are omnivore due to the inclusion of milk eggs and butter. The flavor profile is savory and rich from the use of salt white pepper nutmeg and butter for sauteing. Serving daypart is lunch or dinner as this is a common time for such a side dish.\",\n",
      "  \"notes\": \"A simple savory and rich German spaetzle side dish suitable for lunch or dinner.\",\n",
      "  \"serving_daypart\": [\n",
      "    \"lunch\",\n",
      "    \"dinner\"\n",
      "  ],\n",
      "  \"target_audience\": \"This recipe is suitable for home cooks looking for a comforting and traditional European side dish. It appeals to families and those who enjoy savory and rich flavors without being overly complex to prepare. It is not suitable for vegans or those with dairy or egg allergies.\"\n",
      "}\n",
      "--------------------------------------------\n",
      ">>> Rank 15\n",
      ">>> Recipe Title: Simple, Classic Chicken Potpie\n",
      ">>> Recipe Profile: {\n",
      "  \"cuisine_type\": \"American\",\n",
      "  \"dietary_preferences\": [\n",
      "    \"omnivore\"\n",
      "  ],\n",
      "  \"flavor_profile\": [\n",
      "    \"savory\",\n",
      "    \"rich\"\n",
      "  ],\n",
      "  \"food_type\": \"main course\",\n",
      "  \"justification\": \"The food type is main course because a potpie is a substantial and complete meal. The cuisine type is American due to the classic preparation of a savory pie with a creamy chicken and vegetable filling which is a hallmark of American comfort food. Dietary preferences are omnivore as the recipe prominently features roasted shredded rotisserie chicken and dairy products like butter and evaporated milk. The flavor profile is savory and rich because of the combination of chicken vegetables herbs like thyme and a creamy sauce made with butter flour and evaporated milk seasoned with salt and pepper. Serving daypart is lunch and dinner given its hearty and fulfilling nature making it suitable for a main meal rather than breakfast.\",\n",
      "  \"notes\": \"A classic American comfort food featuring tender chicken and vegetables in a rich creamy sauce all baked under a flaky pie crust. It is a hearty and satisfying main dish.\",\n",
      "  \"serving_daypart\": [\n",
      "    \"lunch\",\n",
      "    \"dinner\"\n",
      "  ],\n",
      "  \"target_audience\": \"This recipe is for individuals or families seeking comforting and hearty meals. It appeals to those who enjoy classic American dishes and rich savory flavors. It is suitable for home cooks of varying skill levels due to straightforward instructions and common ingredients. Perfect for family dinners or meal prepping with its freezer-friendly option.\"\n",
      "}\n",
      "--------------------------------------------\n",
      ">>> Rank 16\n",
      ">>> Recipe Title: Fruit Pizza II\n",
      ">>> Recipe Profile: {\n",
      "  \"cuisine_type\": \"American\",\n",
      "  \"dietary_preferences\": [\n",
      "    \"omnivore\"\n",
      "  ],\n",
      "  \"flavor_profile\": [\n",
      "    \"sweet\",\n",
      "    \"fruity\",\n",
      "    \"creamy\"\n",
      "  ],\n",
      "  \"food_type\": \"dessert\",\n",
      "  \"justification\": \"The recipe involves baking a cookie crust spreading a creamy layer arranging fruit and topping with a sweet glaze which are characteristic steps for a dessert or sweet tart. Ingredients like refrigerated sugar cookie dough cream cheese whipped topping and the overall concept of a fruit pizza are common in American baking and home cooking. The inclusion of cream cheese and whipped topping indicates dairy products and the cookie dough likely contains eggs and butter making it suitable for omnivores. It is not vegan vegetarian or gluten-free. The recipe uses sugar strawberries orange juice and lemon juice along with cream cheese and whipped topping resulting in a sweet and fruity dessert with a creamy texture. The orange zest adds a bright aromatic note. This type of sweet item is traditionally served as a dessert after lunch or dinner or as a snack during the day or at social gatherings.\",\n",
      "  \"notes\": \"A sweet creamy fruit tart with a cookie crust and citrus glaze perfect for a refreshing treat.\",\n",
      "  \"serving_daypart\": [\n",
      "    \"snack\",\n",
      "    \"dessert\"\n",
      "  ],\n",
      "  \"target_audience\": \"This recipe is suitable for beginner to intermediate cooks due to its use of pre-made cookie dough and straightforward steps. Its sweet and fruity flavors have broad appeal making it popular among families and children. It caters to omnivores and is ideal for casual gatherings potlucks or as a refreshing treat during warmer weather. It is not suitable for those avoiding dairy gluten or eggs.\"\n",
      "}\n",
      "--------------------------------------------\n",
      ">>> Rank 17\n",
      ">>> Recipe Title: Oatmeal Peanut Butter Cookies III\n",
      ">>> Recipe Profile: {\n",
      "  \"cuisine_type\": \"American\",\n",
      "  \"dietary_preferences\": [\n",
      "    \"omnivore\"\n",
      "  ],\n",
      "  \"flavor_profile\": [\n",
      "    \"sweet\",\n",
      "    \"nutty\"\n",
      "  ],\n",
      "  \"food_type\": \"dessert\",\n",
      "  \"justification\": \"The food type is dessert because the recipe makes peanut butter sandwich cookies which are a sweet treat. The cuisine type is American due to the use of classic baking ingredients like all purpose flour butter sugar and peanut butter which are staples in American baking. The dietary preferences are omnivore because the recipe includes butter and egg making it unsuitable for vegetarian vegan or gluten free diets. The flavor profile is sweet and nutty as key ingredients are peanut butter white sugar brown sugar and confectioners sugar. The serving daypart is snack and dessert because cookies are typically enjoyed during these times.\",\n",
      "  \"notes\": \"Classic American peanut butter sandwich cookies sweet and nutty perfect as a snack or dessert.\",\n",
      "  \"serving_daypart\": [\n",
      "    \"snack\",\n",
      "    \"dessert\"\n",
      "  ],\n",
      "  \"target_audience\": \"Families casual bakers and individuals who enjoy classic comfort foods especially peanut butter flavored desserts. This recipe is relatively quick and easy to make appealing to those with basic baking skills or limited time.\"\n",
      "}\n",
      "--------------------------------------------\n",
      ">>> Rank 18\n",
      ">>> Recipe Title: Crab Quiche I\n",
      ">>> Recipe Profile: {\n",
      "  \"cuisine_type\": \"American\",\n",
      "  \"dietary_preferences\": [\n",
      "    \"omnivore\"\n",
      "  ],\n",
      "  \"flavor_profile\": [\n",
      "    \"savory\",\n",
      "    \"rich\"\n",
      "  ],\n",
      "  \"food_type\": \"main course\",\n",
      "  \"justification\": \"The recipe involves preparing a filling with crab meat and cheese baked in a pie crust which is characteristic of a savory pie or quiche a common main course The ingredients like crab Swiss cheese and mayonnaise are broadly found in American cooking without strong ties to other specific cuisines The presence of crab eggs milk and cheese confirms it is an omnivore dish The flavor profile is savory and rich due to the seafood cheese and creamy base without any sweet or spicy elements Savory pies are often served for lunch dinner or brunch making it versatile for various dayparts\",\n",
      "  \"notes\": \"A savory American crab and cheese pie suitable for omnivores at lunch or dinner\",\n",
      "  \"serving_daypart\": [\n",
      "    \"lunch\",\n",
      "    \"dinner\",\n",
      "    \"brunch\"\n",
      "  ],\n",
      "  \"target_audience\": \"This recipe is suitable for general home cooks as it involves basic mixing and baking techniques It appeals to those who enjoy savory comforting dishes with seafood and cheese It is a good choice for families or individuals looking for a straightforward and flavorful meal\"\n",
      "}\n",
      "--------------------------------------------\n",
      ">>> Rank 19\n",
      ">>> Recipe Title: Baked Ziti I\n",
      ">>> Recipe Profile: {\n",
      "  \"cuisine_type\": \"american\",\n",
      "  \"dietary_preferences\": [\n",
      "    \"omnivore\"\n",
      "  ],\n",
      "  \"flavor_profile\": [\n",
      "    \"savory\"\n",
      "  ],\n",
      "  \"food_type\": \"main course\",\n",
      "  \"justification\": \"The recipe uses ziti pasta ground beef and various cheeses baked together which clearly indicates it is a main course dish. The combination of pasta spaghetti sauce and cheeses like provolone mozzarella and parmesan points to an American interpretation of Italian cuisine making it an American dish. Ground beef is a primary ingredient meaning the recipe is suitable for omnivores. The ingredients such as beef tomato sauce and multiple cheeses contribute to a rich and savory flavor profile without any spicy or sweet elements. This hearty and filling dish featuring pasta and meat is best served as a substantial meal for lunch or dinner.\",\n",
      "  \"notes\": \"A savory American main course suitable for lunch or dinner appealing to omnivores seeking a comforting and classic pasta bake.\",\n",
      "  \"serving_daypart\": [\n",
      "    \"lunch\",\n",
      "    \"dinner\"\n",
      "  ],\n",
      "  \"target_audience\": \"Families and individuals looking for a comforting and hearty meal. It is straightforward to prepare appealing to home cooks of varying skill levels. Those who enjoy classic Americanized Italian dishes will appreciate this recipe. It suits omnivores who do not have specific dietary restrictions.\"\n",
      "}\n",
      "--------------------------------------------\n",
      "\n",
      "======================= END LIST =======================\n",
      "\n"
     ]
    },
    {
     "name": "stderr",
     "output_type": "stream",
     "text": [
      "/tmp/ipykernel_6322/3886247449.py:38: FutureWarning: to_gbq is deprecated and will be removed in a future version. Please use pandas_gbq.to_gbq instead: https://pandas-gbq.readthedocs.io/en/latest/api.html#pandas_gbq.to_gbq\n",
      "  pairwise_df.to_gbq(\n",
      "100%|██████████| 1/1 [00:00<00:00, 8371.86it/s]\n"
     ]
    }
   ],
   "source": [
    "def create_comparison_pairs(row: pd.Series):\n",
    "    \"\"\"This function create a part of the prompt to compare indistinctly two lists of recommendations originated from different models\"\"\"\n",
    "    models_permutation = np.random.permutation(['als', 'vs']).tolist()\n",
    "\n",
    "    sub_prompt = (\n",
    "        f\"USER PROFILE:\\n{row['user_profile_text']}\"\n",
    "        \"Compare the two lists of recommended recipes below and determine which list better aligns with the user's profile and preferences.\\n\\n\"\n",
    "    )\n",
    "\n",
    "    for id_model, model in zip([\"A\", \"B\"], models_permutation):\n",
    "        sub_prompt += f\"\"\"\\n======================= BEGIN LIST of MODEL {id_model} =======================\\n\"\"\"\n",
    "\n",
    "        for idx, (title, recipe_profile) in enumerate(zip(row[f'title_{model}'], row[f'recipe_profile_text_{model}'])):\n",
    "            sub_prompt += f\"\"\">>> Rank {idx}\\n>>> Recipe Title: {title}\\n>>> Recipe Profile: {recipe_profile}\\n--------------------------------------------\\n\"\"\"\n",
    "        \n",
    "        sub_prompt += \"\\n======================= END LIST =======================\\n\"\n",
    "\n",
    "    return models_permutation, sub_prompt\n",
    "\n",
    "\n",
    "pairwise_df = (\n",
    "    vs_to_judge\n",
    "    .groupby('user_id', as_index=False)\n",
    "    .agg({'recipe_id': list, 'user_profile_text': 'first', 'title': list, 'recipe_profile_text': list})\n",
    "    .merge(\n",
    "        als_to_judge.groupby('user_id', as_index=False).agg({'recipe_id': list, 'title': list, 'recipe_profile_text': list}),\n",
    "        on='user_id',\n",
    "        suffixes=('_vs', '_als'),\n",
    "        how='inner',\n",
    "        validate='one_to_one'\n",
    "    )\n",
    ")\n",
    " \n",
    "pairwise_df['models_permutation'], pairwise_df['comparison_prompt'] = zip(*pairwise_df.apply(create_comparison_pairs, axis=1))\n",
    "\n",
    "print(pairwise_df['comparison_prompt'].iloc[0])\n",
    "\n",
    "pairwise_df.to_gbq(\n",
    "    destination_table=f\"{PROJECT_ID}.{MODEL_COMPARISON_TABLE}\",\n",
    "    if_exists='replace',\n",
    ")"
   ]
  },
  {
   "cell_type": "markdown",
   "id": "b65723f6",
   "metadata": {},
   "source": [
    "As in the `Pointwise` setting, we run `gemini-2.5-pro` with a 4096 token limit and a temperature of 0.0 to make the outputs more deterministic. Because the prompt is larger, we allocate 2048 thinking tokens to better use the model’s reasoning ability."
   ]
  },
  {
   "cell_type": "code",
   "execution_count": null,
   "id": "191771da",
   "metadata": {},
   "outputs": [],
   "source": [
    "class PairwiseJudgement(BaseModel):\n",
    "    preferred_model: str = Field(description='Either \"A\" or \"B\", indicating which list of recommendations is better aligned with the user s profile')\n",
    "    confidence: str = Field(description=\"Confidence level in the judgement (e.g., high, medium, low)\")\n",
    "    justification: str = Field(description=\"Brief explanation of why one list is preferred over the other based on alignment with the user s profile and preferences\")\n",
    "\n",
    "\n",
    "modelwise_judgement_prompt = (\n",
    "    \"You are a strict impartial judge your task is to decide which of the two lists of recommended recipes aligns better with the user s inferred preferences \"\n",
    "    \"You need to choose between List A and List B, where each list contains a series of recipes recommended by different models \"\n",
    "    \"You cannot choose both or neither you must pick the one that best matches the user s profile \"\n",
    "    \"Base your decision solely on the information provided in the user profile and the recipe profiles in each list \"\n",
    "    f\"Format the response exactly as {schema_to_prompt_with_descriptions(PairwiseJudgement)}\"\n",
    ")\n",
    "\n",
    "query_pairwise_judgement = f\"\"\"\n",
    "WITH ai_responses AS (\n",
    "  SELECT \n",
    "    s.user_id,\n",
    "    s.models_permutation,\n",
    "    s.comparison_prompt,\n",
    "    AI.GENERATE(('{modelwise_judgement_prompt}', s.comparison_prompt),\n",
    "        connection_id => '{CONNECTION_ID}',\n",
    "        endpoint => 'gemini-2.5-pro',\n",
    "        model_params => JSON '{{\"generationConfig\":{{\"temperature\": 0.0, \"maxOutputTokens\": 4096, \"thinking_config\": {{\"thinking_budget\": 2048}}  }} }}',\n",
    "        output_schema => 'preferred_model STRING, confidence STRING, justification STRING'\n",
    "    ) AS ai_result\n",
    "    FROM (SELECT * FROM `{PROJECT_ID}.{MODEL_COMPARISON_TABLE}`) s\n",
    ")\n",
    "SELECT\n",
    "    *,\n",
    "    ai_result.full_response AS pairwise_judgement,\n",
    "    JSON_EXTRACT_SCALAR(ai_result.full_response, '$.candidates[0].content.parts[0].text') AS pairwise_judgement_text\n",
    "FROM ai_responses\n",
    "\"\"\""
   ]
  },
  {
   "cell_type": "code",
   "execution_count": 54,
   "id": "a57e68ce",
   "metadata": {},
   "outputs": [
    {
     "name": "stdout",
     "output_type": "stream",
     "text": [
      "You are a strict impartial judge your task is to decide which of the two lists of recommended recipes aligns better with the user s inferred preferences You need to choose between List A and List B, where each list contains a series of recipes recommended by different models You cannot choose both or neither you must pick the one that best matches the user s profile Base your decision solely on the information provided in the user profile and the recipe profiles in each list Format the response exactly as [  preferred_model (Either \"A\" or \"B\", indicating which list of recommendations is better aligned with the user s profile)  confidence (Confidence level in the judgement (e.g., high, medium, low))  justification (Brief explanation of why one list is preferred over the other based on alignment with the user s profile and preferences)  ]\n"
     ]
    }
   ],
   "source": [
    "print(modelwise_judgement_prompt)"
   ]
  },
  {
   "cell_type": "code",
   "execution_count": 55,
   "id": "276d6ea6",
   "metadata": {},
   "outputs": [
    {
     "name": "stdout",
     "output_type": "stream",
     "text": [
      "\n",
      "WITH ai_responses AS (\n",
      "  SELECT \n",
      "    s.user_id,\n",
      "    s.models_permutation,\n",
      "    s.comparison_prompt,\n",
      "    AI.GENERATE(('You are a strict impartial judge your task is to decide which of the two lists of recommended recipes aligns better with the user s inferred preferences You need to choose between List A and List B, where each list contains a series of recipes recommended by different models You cannot choose both or neither you must pick the one that best matches the user s profile Base your decision solely on the information provided in the user profile and the recipe profiles in each list Format the response exactly as [  preferred_model (Either \"A\" or \"B\", indicating which list of recommendations is better aligned with the user s profile)  confidence (Confidence level in the judgement (e.g., high, medium, low))  justification (Brief explanation of why one list is preferred over the other based on alignment with the user s profile and preferences)  ]', s.comparison_prompt),\n",
      "        connection_id => 'us.kaggle-connection',\n",
      "        endpoint => 'gemini-2.5-pro',\n",
      "        model_params => JSON '{\"generationConfig\":{\"temperature\": 0.0, \"maxOutputTokens\": 4096, \"thinking_config\": {\"thinking_budget\": 2048}  } }',\n",
      "        output_schema => 'preferred_model STRING, confidence STRING, justification STRING'\n",
      "    ) AS ai_result\n",
      "    FROM (SELECT * FROM `kaggle-bigquery-471522.deliverable.model_comparison`) s\n",
      ")\n",
      "SELECT\n",
      "    *,\n",
      "    ai_result.full_response AS pairwise_judgement,\n",
      "    JSON_EXTRACT_SCALAR(ai_result.full_response, '$.candidates[0].content.parts[0].text') AS pairwise_judgement_text\n",
      "FROM ai_responses\n",
      "\n"
     ]
    }
   ],
   "source": [
    "print(query_pairwise_judgement)"
   ]
  },
  {
   "cell_type": "markdown",
   "id": "465d4fed",
   "metadata": {},
   "source": [
    "We can see a sample result of the pairwise judgement in the following cell."
   ]
  },
  {
   "cell_type": "code",
   "execution_count": 48,
   "id": "5fe7dbb3",
   "metadata": {},
   "outputs": [
    {
     "name": "stdout",
     "output_type": "stream",
     "text": [
      "{\n",
      "  \"confidence\": \"high\",\n",
      "  \"justification\": \"List A is an excellent match for the user's profile. It is dominated by Mexican, Tex-Mex, and Italian recipes, which are the user's top cuisine choices. The flavor profiles consistently feature 'spicy,' 'savory,' and 'tangy' elements, aligning perfectly with the user's preference for bold flavors. Furthermore, the list includes numerous soups, stews, and taco variations, and makes extensive use of the slow cooker, all of which are explicitly mentioned as preferences or lifestyle tags in the user profile. In contrast, List B is a very poor match, consisting mainly of sweet American desserts and mild, creamy main courses, which completely disregard the user's stated preferences for spicy, savory, and globally-inspired meals for lunch and dinner.\",\n",
      "  \"preferred_model\": \"A\"\n",
      "}\n"
     ]
    }
   ],
   "source": [
    "pairwise_results = client.query_and_wait(query_pairwise_judgement).to_dataframe()\n",
    "pairwise_results['model_selected'] = pairwise_results.apply(\n",
    "    lambda row: row['models_permutation'][0] if json.loads(row['pairwise_judgement_text'])['preferred_model'] == 'A' else row['models_permutation'][1],\n",
    "    axis=1\n",
    ")\n",
    "print(pairwise_results.iloc[0]['pairwise_judgement_text'])"
   ]
  },
  {
   "cell_type": "markdown",
   "id": "8ca2d7cc",
   "metadata": {},
   "source": [
    "The results can be examined in an administrator UI, where stakeholders review recommendations, their judgments, and user profiles to uncover patterns and insights that inform new business strategies.\n",
    "\n",
    "In our shorter experiment, the LLM favored the Vector Search model in most cases, matching the pointwise findings and strengthening the claim that semantic embeddings produce more relevant recommendations than the ALS baseline in this setting. A larger study could deepen the analysis.\n"
   ]
  },
  {
   "cell_type": "code",
   "execution_count": 49,
   "id": "4507bf60",
   "metadata": {},
   "outputs": [
    {
     "data": {
      "text/plain": [
       "model_selected\n",
       "vs     10\n",
       "als     1\n",
       "Name: count, dtype: int64"
      ]
     },
     "execution_count": 49,
     "metadata": {},
     "output_type": "execute_result"
    }
   ],
   "source": [
    "pairwise_results['model_selected'].value_counts()"
   ]
  },
  {
   "cell_type": "code",
   "execution_count": null,
   "id": "5477b8ac",
   "metadata": {},
   "outputs": [
    {
     "name": "stderr",
     "output_type": "stream",
     "text": [
      "/tmp/ipykernel_6322/962658920.py:1: FutureWarning: to_gbq is deprecated and will be removed in a future version. Please use pandas_gbq.to_gbq instead: https://pandas-gbq.readthedocs.io/en/latest/api.html#pandas_gbq.to_gbq\n",
      "  pairwise_results.to_gbq(\n",
      "100%|██████████| 1/1 [00:00<00:00, 7096.96it/s]\n"
     ]
    }
   ],
   "source": [
    "pairwise_results.to_gbq(\n",
    "    destination_table=f\"{PROJECT_ID}.{MODEL_COMPARISON_TABLE}\",\n",
    "    if_exists='replace',\n",
    ")"
   ]
  },
  {
   "cell_type": "markdown",
   "id": "16c7d8d2",
   "metadata": {},
   "source": [
    "# UI\n",
    "\n",
    "We additionally develop a simple UI to facilitate the exploration of recommendations and their associated LLM-generated judgements. We based on the following user Stories \n",
    "## 🎯 User Stories\n",
    "\n",
    "- **Discovering New Recipes**\n",
    "    - *Necessity:* Browse a curated catalog of recipes to discover new dishes to try at home.\n",
    "    - *Criteria:*\n",
    "        - View recipe cards with images, ratings, and descriptions\n",
    "        - Filter recipes by categories (Meat, Salads, Pasta, Soups, Desserts, Breakfasts)\n",
    "        - See real user ratings from the community\n",
    "        - Browse with intuitive category-based navigation\n",
    "\n",
    "- **Smart Recipe Search**\n",
    "    - *Necessity:* Search for recipes using natural language to quickly find desired dishes.\n",
    "    - *Criteria:*\n",
    "        - Search using semantic search powered by BigQuery ML embeddings\n",
    "        - Get relevant results even with partial or descriptive queries\n",
    "        - Fallback to text-based search if semantic search fails\n",
    "        - Filter search results by category after searching\n",
    "\n",
    "- **Visual Recipe Discovery**\n",
    "    - *Necessity:* See appetizing images of recipes to better understand what to cook.\n",
    "    - *Criteria:*\n",
    "        - High-quality recipe images from Google Cloud Storage\n",
    "        - Graceful fallback to placeholder images when photos aren't available\n",
    "        - Consistent visual presentation across all recipe cards\n",
    "\n",
    "- **Personalized Recommendations**\n",
    "    - *Necessity:* Receive personalized recipe recommendations that match user taste profiles.\n",
    "    - *Criteria:*\n",
    "        - View AI-generated recommendations based on user profile\n",
    "        - See explanations for why recipes were recommended\n",
    "        - Access both approved and experimental recommendations\n",
    "        - Recommendations adapt based on interaction history\n",
    "\n",
    "- **Profile Management**\n",
    "    - *Necessity:* View and manage food preferences for better recommendations.\n",
    "    - *Criteria:*\n",
    "        - View user profile with AI-analyzed preferences\n",
    "        - See cuisine preferences, dietary restrictions, and lifestyle tags\n",
    "        - Understand how preferences were determined from history\n",
    "\n",
    "- **Recipe History Tracking**\n",
    "    - *Necessity:* Track recipe history to remember past experiences and ratings.\n",
    "    - *Criteria:*\n",
    "        - View chronological list of recipes interacted with\n",
    "        - See ratings and comments for each recipe\n",
    "        - Understand cooking patterns over time\n",
    "\n",
    "- **Recommendation Management**\n",
    "    - *Necessity:* Manage and validate AI recommendations to ensure quality control.\n",
    "    - *Criteria:*\n",
    "        - Review AI-generated recommendations before they go live\n",
    "        - Monitor recommendation system performance\n",
    "        - Adjust recommendation algorithms based on user feedback\n",
    "\n",
    "Following this User Stories, we develop the following arquitecture for the UI:\n",
    "\n",
    "## 🏗️ Technical Architecture\n",
    "\n",
    "### Frontend (Next.js 15.5.3)\n",
    "- **React 19** with modern hooks and server components\n",
    "- **Tailwind CSS 4** for responsive, modern UI design\n",
    "- **Client-side routing** with Next.js App Router\n",
    "- **Responsive design** with mobile-first approach\n",
    "\n",
    "### Backend Integration\n",
    "- **BigQuery ML** for semantic search and embeddings\n",
    "- **Google Cloud Storage** for recipe image management\n",
    "- **RESTful APIs** for data fetching and user interactions\n",
    "- **Real-time search** with semantic and text-based fallbacks\n",
    "\n",
    "### Data Sources\n",
    "- **BigQuery Dataset:** `kaggle-bigquery-471522.foodrecsys`\n",
    "  - `recipes` - Recipe details and user reviews\n",
    "  - `recipe_profiles` - ML embeddings for semantic search\n",
    "  - `vs_recommendations` - AI-generated recommendations\n",
    "  - `user_profiles` - User preference analysis\n",
    "  - `users_parsed` - User interaction history\n",
    "\n",
    "## Blocks Diagram\n",
    "<img src=\"image/Arquitecture_connections.svg\" alt=\"UI Architecture Connections\" width=\"500\"/>\n",
    "\n",
    "## API Flow\n",
    "<img src=\"image/API_Flow.svg\" alt=\"UI API Flow\" width=\"500\"/>\n",
    "\n",
    "## Views of endpoints\n",
    "### Catalogue\n",
    "<img src=\"image/Catalogue.png\" alt=\"Catalogue View\" width=\"500\"/>\n",
    "\n",
    "Here we have the Search bar to realize the semantic search, also by default we show the recipes recommended by model without Verification of the Judge. Also implement a basic filter by the category of the Recipe.\n",
    "\n",
    "### Profile\n",
    "<img src=\"image/Profile.png\" alt=\"Catalogue View\" width=\"500\"/>\n",
    "\n",
    "In profile we show Important information of the user as Address, cellphone number and User profile key values as cuisine, food type, among others.\n",
    "\n",
    "### Admin Recommendations\n",
    "<img src=\"image/Admin_recommendations.png\" alt=\"Catalogue View\" width=\"500\"/>\n",
    "\n",
    "We show the recommendations for the specific user but giving the key value of the reason why the product is recommended to the user to evaluate if the model is recommended well based on user profile. \n",
    "\n",
    "### User Recommendations\n",
    "<img src=\"image/User_recommendations.png\" alt=\"Catalogue View\" width=\"500\"/>\n",
    "\n",
    "Similar to admin recommendations, but differs in showing the user profile to the user understands why some recipes recommendations and the ingredients for each recipe,\n",
    "\n",
    "### Recipe History\n",
    "<img src=\"image/Recipe_History.png\" alt=\"Catalogue View\" width=\"500\"/>\n",
    "\n",
    "List all the recipes the user rate by the time, its comments, the date and the stars the user gives. "
   ]
  },
  {
   "cell_type": "markdown",
   "id": "6711751a",
   "metadata": {},
   "source": [
    "# Summary and Conclusions"
   ]
  },
  {
   "cell_type": "markdown",
   "id": "65980f1c",
   "metadata": {},
   "source": [
    "## Feedback on BigQuery AI features\n",
    "- Passing Pydantic attribute descriptions as LLM schemas was difficult at first, so we wrote a helper that injects each field’s description into the prompt. A more direct mapping from Pydantic (including field names, data type, descriptions and constraints) to schemas would help. Pydantic is widely used in the Python ecosystem, including in popular libraries like LangChain and Instructor, so this would be a valuable enhancement.\n",
    "- LLM calls were slow even with lightweight models, so we limited the number of recipes and users. Faster execution and built-in progress reporting would be valuable.\n",
    "- When outputs exceed the token limit, quoting errors can appear. Clearer messages and partial-result handling would ease debugging and prevent entire queries from failing.\n",
    "- Gemini Embedding 001 sometimes returns empty embeddings for certain inputs; the cause remains unclear.\n",
    "\n",
    "## User Survey on BigQuery AI features\n",
    "\n",
    "* `jeremy.matos@utec.edu.pe`\n",
    "  * BigQuery AI experience: about 1 month (this competition)\n",
    "  * Google Cloud experience: 3 months\n",
    "  * I authored all feedback above, reflecting my hands-on work with BigQuery AI in this project.\n",
    "* `luis.gutierrez.g@utec.edu.pe`\n",
    "  * BigQuery AI experience: 1 month (API connector, semantic search, embeddings)\n",
    "  * Google Cloud experience: 1 months (IAM, BigQuery, GCS integration)\n",
    "  * I designed and implemented the web UI, semantic search, and integrated BigQuery AI embeddings for personalized recommendations in this project. My feedback is based on building the end-to-end user-facing application and connecting it to BigQuery AI services."
   ]
  },
  {
   "cell_type": "markdown",
   "id": "562e4dee",
   "metadata": {},
   "source": [
    "Thank you for taking the time to read our submission! I hope you found it interesting and useful. If you have any questions, feedback or are experiencing technical issues evaluating this notebook, please do not hesitate to contact us."
   ]
  }
 ],
 "metadata": {
  "kernelspec": {
   "display_name": "venv11",
   "language": "python",
   "name": "python3"
  },
  "language_info": {
   "codemirror_mode": {
    "name": "ipython",
    "version": 3
   },
   "file_extension": ".py",
   "mimetype": "text/x-python",
   "name": "python",
   "nbconvert_exporter": "python",
   "pygments_lexer": "ipython3",
   "version": "3.10.12"
  }
 },
 "nbformat": 4,
 "nbformat_minor": 5
}
