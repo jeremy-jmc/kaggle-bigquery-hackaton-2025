{
 "cells": [
  {
   "cell_type": "code",
   "execution_count": 48,
   "id": "b310e2f4",
   "metadata": {},
   "outputs": [],
   "source": [
    "from ydata_profiling import ProfileReport\n",
    "import polars as pl\n",
    "import os "
   ]
  },
  {
   "cell_type": "code",
   "execution_count": 49,
   "id": "2d77c170",
   "metadata": {},
   "outputs": [
    {
     "data": {
      "text/plain": [
       "polars.config.Config"
      ]
     },
     "execution_count": 49,
     "metadata": {},
     "output_type": "execute_result"
    }
   ],
   "source": [
    "pl.Config.set_tbl_cols(10)"
   ]
  },
  {
   "cell_type": "code",
   "execution_count": 127,
   "id": "6bfbf92a",
   "metadata": {},
   "outputs": [],
   "source": [
    "DATA_PATH = \"../data/food_recsys\""
   ]
  },
  {
   "cell_type": "code",
   "execution_count": 51,
   "id": "fd4060b6",
   "metadata": {},
   "outputs": [],
   "source": [
    "df_recipe = pl.read_csv(os.path.join(DATA_PATH, \"raw\",\"raw-data_recipe.csv\"))\n",
    "df_interaction = pl.read_csv(os.path.join(DATA_PATH, \"raw\", \"raw-data_interaction.csv\"))\n",
    "df_test_rating = pl.read_csv(os.path.join(DATA_PATH, \"raw\",\"core-data-test_rating.csv\"))\n",
    "df_train_rating = pl.read_csv(os.path.join(DATA_PATH, \"raw\",\"core-data-train_rating.csv\"))\n",
    "df_valid_rating = pl.read_csv(os.path.join(DATA_PATH, \"raw\",\"core-data-valid_rating.csv\"))"
   ]
  },
  {
   "cell_type": "code",
   "execution_count": 52,
   "id": "2a91912f",
   "metadata": {},
   "outputs": [
    {
     "data": {
      "text/html": [
       "<div><style>\n",
       ".dataframe > thead > tr,\n",
       ".dataframe > tbody > tr {\n",
       "  text-align: right;\n",
       "  white-space: pre-wrap;\n",
       "}\n",
       "</style>\n",
       "<small>shape: (5, 9)</small><table border=\"1\" class=\"dataframe\"><thead><tr><th>recipe_id</th><th>recipe_name</th><th>aver_rate</th><th>image_url</th><th>review_nums</th><th>ingredients</th><th>cooking_directions</th><th>nutritions</th><th>reviews</th></tr><tr><td>i64</td><td>str</td><td>f64</td><td>str</td><td>i64</td><td>str</td><td>str</td><td>str</td><td>str</td></tr></thead><tbody><tr><td>222388</td><td>&quot;Homemade Bacon&quot;</td><td>5.0</td><td>&quot;https://images.media-allrecipe…</td><td>3</td><td>&quot;pork belly^smoked paprika^kosh…</td><td>&quot;{&#x27;directions&#x27;: u&#x27;Prep\\n5 m\\nCo…</td><td>&quot;{u&#x27;niacin&#x27;: {u&#x27;hasCompleteData…</td><td>&quot;{8542392: {&#x27;rating&#x27;: 5, &#x27;follo…</td></tr><tr><td>240488</td><td>&quot;Pork Loin, Apples, and Sauerkr…</td><td>4.764706</td><td>&quot;https://images.media-allrecipe…</td><td>29</td><td>&quot;sauerkraut drained^Granny Smit…</td><td>&quot;{&#x27;directions&#x27;: u&#x27;Prep\\n15 m\\nC…</td><td>&quot;{u&#x27;niacin&#x27;: {u&#x27;hasCompleteData…</td><td>&quot;{3574785: {&#x27;rating&#x27;: 5, &#x27;follo…</td></tr><tr><td>218939</td><td>&quot;Foolproof Rosemary Chicken Win…</td><td>4.571429</td><td>&quot;https://images.media-allrecipe…</td><td>12</td><td>&quot;chicken wings^sprigs rosemary^…</td><td>&quot;{&#x27;directions&#x27;: u&quot;Prep\\n20 m\\nC…</td><td>&quot;{u&#x27;niacin&#x27;: {u&#x27;hasCompleteData…</td><td>&quot;{13774946: {&#x27;rating&#x27;: 5, &#x27;foll…</td></tr><tr><td>87211</td><td>&quot;Chicken Pesto Paninis&quot;</td><td>4.625</td><td>&quot;https://images.media-allrecipe…</td><td>163</td><td>&quot;focaccia bread quartered^prepa…</td><td>&quot;{&#x27;directions&#x27;: u&#x27;Prep\\n15 m\\nC…</td><td>&quot;{u&#x27;niacin&#x27;: {u&#x27;hasCompleteData…</td><td>&quot;{1563136: {&#x27;rating&#x27;: 5, &#x27;follo…</td></tr><tr><td>245714</td><td>&quot;Potato Bacon Pizza&quot;</td><td>4.5</td><td>&quot;https://images.media-allrecipe…</td><td>2</td><td>&quot;red potatoes^strips bacon^Sauc…</td><td>&quot;{&#x27;directions&#x27;: u&#x27;Prep\\n20 m\\nC…</td><td>&quot;{u&#x27;niacin&#x27;: {u&#x27;hasCompleteData…</td><td>&quot;{2945555: {&#x27;rating&#x27;: 5, &#x27;follo…</td></tr></tbody></table></div>"
      ],
      "text/plain": [
       "shape: (5, 9)\n",
       "┌──────────┬──────────┬──────────┬──────────┬──────────┬──────────┬──────────┬──────────┬──────────┐\n",
       "│ recipe_i ┆ recipe_n ┆ aver_rat ┆ image_ur ┆ review_n ┆ ingredie ┆ cooking_ ┆ nutritio ┆ reviews  │\n",
       "│ d        ┆ ame      ┆ e        ┆ l        ┆ ums      ┆ nts      ┆ directio ┆ ns       ┆ ---      │\n",
       "│ ---      ┆ ---      ┆ ---      ┆ ---      ┆ ---      ┆ ---      ┆ ns       ┆ ---      ┆ str      │\n",
       "│ i64      ┆ str      ┆ f64      ┆ str      ┆ i64      ┆ str      ┆ ---      ┆ str      ┆          │\n",
       "│          ┆          ┆          ┆          ┆          ┆          ┆ str      ┆          ┆          │\n",
       "╞══════════╪══════════╪══════════╪══════════╪══════════╪══════════╪══════════╪══════════╪══════════╡\n",
       "│ 222388   ┆ Homemade ┆ 5.0      ┆ https:// ┆ 3        ┆ pork bel ┆ {'direct ┆ {u'niaci ┆ {8542392 │\n",
       "│          ┆ Bacon    ┆          ┆ images.m ┆          ┆ ly^smoke ┆ ions':   ┆ n': {u'h ┆ : {'rati │\n",
       "│          ┆          ┆          ┆ edia-all ┆          ┆ d paprik ┆ u'Prep\\n ┆ asComple ┆ ng': 5,  │\n",
       "│          ┆          ┆          ┆ recipe…  ┆          ┆ a^kosh…  ┆ 5 m\\nCo… ┆ teData…  ┆ 'follo…  │\n",
       "│ 240488   ┆ Pork     ┆ 4.764706 ┆ https:// ┆ 29       ┆ sauerkra ┆ {'direct ┆ {u'niaci ┆ {3574785 │\n",
       "│          ┆ Loin,    ┆          ┆ images.m ┆          ┆ ut drain ┆ ions':   ┆ n': {u'h ┆ : {'rati │\n",
       "│          ┆ Apples,  ┆          ┆ edia-all ┆          ┆ ed^Grann ┆ u'Prep\\n ┆ asComple ┆ ng': 5,  │\n",
       "│          ┆ and      ┆          ┆ recipe…  ┆          ┆ y Smit…  ┆ 15 m\\nC… ┆ teData…  ┆ 'follo…  │\n",
       "│          ┆ Sauerkr… ┆          ┆          ┆          ┆          ┆          ┆          ┆          │\n",
       "│ 218939   ┆ Foolproo ┆ 4.571429 ┆ https:// ┆ 12       ┆ chicken  ┆ {'direct ┆ {u'niaci ┆ {1377494 │\n",
       "│          ┆ f        ┆          ┆ images.m ┆          ┆ wings^sp ┆ ions':   ┆ n': {u'h ┆ 6: {'rat │\n",
       "│          ┆ Rosemary ┆          ┆ edia-all ┆          ┆ rigs ros ┆ u\"Prep\\n ┆ asComple ┆ ing': 5, │\n",
       "│          ┆ Chicken  ┆          ┆ recipe…  ┆          ┆ emary^…  ┆ 20 m\\nC… ┆ teData…  ┆ 'foll…   │\n",
       "│          ┆ Win…     ┆          ┆          ┆          ┆          ┆          ┆          ┆          │\n",
       "│ 87211    ┆ Chicken  ┆ 4.625    ┆ https:// ┆ 163      ┆ focaccia ┆ {'direct ┆ {u'niaci ┆ {1563136 │\n",
       "│          ┆ Pesto    ┆          ┆ images.m ┆          ┆ bread    ┆ ions':   ┆ n': {u'h ┆ : {'rati │\n",
       "│          ┆ Paninis  ┆          ┆ edia-all ┆          ┆ quartere ┆ u'Prep\\n ┆ asComple ┆ ng': 5,  │\n",
       "│          ┆          ┆          ┆ recipe…  ┆          ┆ d^prepa… ┆ 15 m\\nC… ┆ teData…  ┆ 'follo…  │\n",
       "│ 245714   ┆ Potato   ┆ 4.5      ┆ https:// ┆ 2        ┆ red pota ┆ {'direct ┆ {u'niaci ┆ {2945555 │\n",
       "│          ┆ Bacon    ┆          ┆ images.m ┆          ┆ toes^str ┆ ions':   ┆ n': {u'h ┆ : {'rati │\n",
       "│          ┆ Pizza    ┆          ┆ edia-all ┆          ┆ ips baco ┆ u'Prep\\n ┆ asComple ┆ ng': 5,  │\n",
       "│          ┆          ┆          ┆ recipe…  ┆          ┆ n^Sauc…  ┆ 20 m\\nC… ┆ teData…  ┆ 'follo…  │\n",
       "└──────────┴──────────┴──────────┴──────────┴──────────┴──────────┴──────────┴──────────┴──────────┘"
      ]
     },
     "execution_count": 52,
     "metadata": {},
     "output_type": "execute_result"
    }
   ],
   "source": [
    "df_recipe.head()"
   ]
  },
  {
   "cell_type": "code",
   "execution_count": 53,
   "id": "c60bcb88",
   "metadata": {},
   "outputs": [
    {
     "data": {
      "text/html": [
       "<div><style>\n",
       ".dataframe > thead > tr,\n",
       ".dataframe > tbody > tr {\n",
       "  text-align: right;\n",
       "  white-space: pre-wrap;\n",
       "}\n",
       "</style>\n",
       "<small>shape: (5, 4)</small><table border=\"1\" class=\"dataframe\"><thead><tr><th>user_id</th><th>recipe_id</th><th>rating</th><th>dateLastModified</th></tr><tr><td>i64</td><td>i64</td><td>i64</td><td>str</td></tr></thead><tbody><tr><td>8542392</td><td>222388</td><td>5</td><td>&quot;2017-04-22T12:46:43.663\n",
       "&quot;</td></tr><tr><td>11174581</td><td>222388</td><td>5</td><td>&quot;2013-06-20T15:50:25.96\n",
       "&quot;</td></tr><tr><td>8262477</td><td>222388</td><td>5</td><td>&quot;2015-02-14T07:27:51.307\n",
       "&quot;</td></tr><tr><td>3574785</td><td>240488</td><td>5</td><td>&quot;2017-10-07T18:20:08.973\n",
       "&quot;</td></tr><tr><td>12145410</td><td>240488</td><td>2</td><td>&quot;2018-01-06T00:06:09.563\n",
       "&quot;</td></tr></tbody></table></div>"
      ],
      "text/plain": [
       "shape: (5, 4)\n",
       "┌──────────┬───────────┬────────┬─────────────────────────┐\n",
       "│ user_id  ┆ recipe_id ┆ rating ┆ dateLastModified        │\n",
       "│ ---      ┆ ---       ┆ ---    ┆ ---                     │\n",
       "│ i64      ┆ i64       ┆ i64    ┆ str                     │\n",
       "╞══════════╪═══════════╪════════╪═════════════════════════╡\n",
       "│ 8542392  ┆ 222388    ┆ 5      ┆ 2017-04-22T12:46:43.663 │\n",
       "│          ┆           ┆        ┆                         │\n",
       "│ 11174581 ┆ 222388    ┆ 5      ┆ 2013-06-20T15:50:25.96  │\n",
       "│          ┆           ┆        ┆                         │\n",
       "│ 8262477  ┆ 222388    ┆ 5      ┆ 2015-02-14T07:27:51.307 │\n",
       "│          ┆           ┆        ┆                         │\n",
       "│ 3574785  ┆ 240488    ┆ 5      ┆ 2017-10-07T18:20:08.973 │\n",
       "│          ┆           ┆        ┆                         │\n",
       "│ 12145410 ┆ 240488    ┆ 2      ┆ 2018-01-06T00:06:09.563 │\n",
       "│          ┆           ┆        ┆                         │\n",
       "└──────────┴───────────┴────────┴─────────────────────────┘"
      ]
     },
     "execution_count": 53,
     "metadata": {},
     "output_type": "execute_result"
    }
   ],
   "source": [
    "df_interaction.head()"
   ]
  },
  {
   "cell_type": "code",
   "execution_count": 54,
   "id": "54f7f945",
   "metadata": {},
   "outputs": [],
   "source": [
    "df_recipe = df_recipe.with_columns(pl.col(\"recipe_id\").cast(pl.Utf8))\n",
    "df_interaction = df_interaction.with_columns(pl.col(\"user_id\").cast(pl.Utf8), pl.col(\"recipe_id\").cast(pl.Utf8), pl.col(\"dateLastModified\").cast(pl.Datetime))\n",
    "df_test_rating = df_test_rating.with_columns(pl.col(\"dateLastModified\").cast(pl.Datetime), pl.col(\"user_id\").cast(pl.Utf8), pl.col(\"recipe_id\").cast(pl.Utf8))\n",
    "df_train_rating = df_train_rating.with_columns(pl.col(\"dateLastModified\").cast(pl.Datetime), pl.col(\"user_id\").cast(pl.Utf8), pl.col(\"recipe_id\").cast(pl.Utf8))\n",
    "df_valid_rating = df_valid_rating.with_columns(pl.col(\"dateLastModified\").cast(pl.Datetime), pl.col(\"user_id\").cast(pl.Utf8), pl.col(\"recipe_id\").cast(pl.Utf8))"
   ]
  },
  {
   "cell_type": "code",
   "execution_count": 55,
   "id": "eaf518c8",
   "metadata": {},
   "outputs": [
    {
     "name": "stdout",
     "output_type": "stream",
     "text": [
      "TRAIN\n",
      "shape: (1, 2)\n",
      "┌─────────────────────────┬─────────────────────────┐\n",
      "│ min                     ┆ max                     │\n",
      "│ ---                     ┆ ---                     │\n",
      "│ datetime[μs]            ┆ datetime[μs]            │\n",
      "╞═════════════════════════╪═════════════════════════╡\n",
      "│ 2000-02-08 12:09:11.987 ┆ 2011-10-14 17:43:08.433 │\n",
      "└─────────────────────────┴─────────────────────────┘\n",
      "(676946, 4)\n",
      "VALID\n",
      "shape: (1, 2)\n",
      "┌─────────────────────────┬─────────────────────────┐\n",
      "│ min                     ┆ max                     │\n",
      "│ ---                     ┆ ---                     │\n",
      "│ datetime[μs]            ┆ datetime[μs]            │\n",
      "╞═════════════════════════╪═════════════════════════╡\n",
      "│ 2011-10-14 17:46:56.443 ┆ 2013-01-31 22:23:27.613 │\n",
      "└─────────────────────────┴─────────────────────────┘\n",
      "(133459, 4)\n",
      "TEST\n",
      "shape: (1, 2)\n",
      "┌─────────────────────────┬─────────────────────────┐\n",
      "│ min                     ┆ max                     │\n",
      "│ ---                     ┆ ---                     │\n",
      "│ datetime[μs]            ┆ datetime[μs]            │\n",
      "╞═════════════════════════╪═════════════════════════╡\n",
      "│ 2013-01-31 22:55:07.660 ┆ 2018-03-15 03:09:12.853 │\n",
      "└─────────────────────────┴─────────────────────────┘\n",
      "(283440, 4)\n",
      "INTERACTION\n",
      "shape: (1, 2)\n",
      "┌─────────────────────────┬─────────────────────────┐\n",
      "│ min                     ┆ max                     │\n",
      "│ ---                     ┆ ---                     │\n",
      "│ datetime[μs]            ┆ datetime[μs]            │\n",
      "╞═════════════════════════╪═════════════════════════╡\n",
      "│ 2000-02-07 21:06:30.137 ┆ 2018-03-16 07:19:52.260 │\n",
      "└─────────────────────────┴─────────────────────────┘\n",
      "(3794003, 4)\n"
     ]
    }
   ],
   "source": [
    "# dates in train test and val \n",
    "print(\"TRAIN\")\n",
    "print(df_train_rating.select(pl.col(\"dateLastModified\").min().alias(\"min\"), pl.col(\"dateLastModified\").max().alias(\"max\")))\n",
    "print(df_train_rating.shape)\n",
    "print(\"VALID\")\n",
    "print(df_valid_rating.select(pl.col(\"dateLastModified\").min().alias(\"min\"), pl.col(\"dateLastModified\").max().alias(\"max\")))\n",
    "print(df_valid_rating.shape)\n",
    "print(\"TEST\")\n",
    "print(df_test_rating.select(pl.col(\"dateLastModified\").min().alias(\"min\"), pl.col(\"dateLastModified\").max().alias(\"max\")))\n",
    "print(df_test_rating.shape)\n",
    "print(\"INTERACTION\")\n",
    "print(df_interaction.select(pl.col(\"dateLastModified\").min().alias(\"min\"), pl.col(\"dateLastModified\").max().alias(\"max\")))\n",
    "print(df_interaction.shape)"
   ]
  },
  {
   "cell_type": "code",
   "execution_count": 56,
   "id": "39149c4a",
   "metadata": {},
   "outputs": [
    {
     "name": "stdout",
     "output_type": "stream",
     "text": [
      " train valid test 1093845 VS total interactions 3794003\n"
     ]
    }
   ],
   "source": [
    "print(f\" train valid test {df_train_rating.shape[0] + df_valid_rating.shape[0] + df_test_rating.shape[0]} VS total interactions {df_interaction.shape[0]}\")"
   ]
  },
  {
   "cell_type": "code",
   "execution_count": 57,
   "id": "33c99795",
   "metadata": {},
   "outputs": [
    {
     "name": "stdout",
     "output_type": "stream",
     "text": [
      "TRAIN\n",
      "shape: (1, 1)\n",
      "┌──────────────────┐\n",
      "│ n_unique_recipes │\n",
      "│ ---              │\n",
      "│ u32              │\n",
      "╞══════════════════╡\n",
      "│ 29093            │\n",
      "└──────────────────┘\n",
      "VALID\n",
      "shape: (1, 1)\n",
      "┌──────────────────┐\n",
      "│ n_unique_recipes │\n",
      "│ ---              │\n",
      "│ u32              │\n",
      "╞══════════════════╡\n",
      "│ 22684            │\n",
      "└──────────────────┘\n",
      "TEST\n",
      "shape: (1, 1)\n",
      "┌──────────────────┐\n",
      "│ n_unique_recipes │\n",
      "│ ---              │\n",
      "│ u32              │\n",
      "╞══════════════════╡\n",
      "│ 37342            │\n",
      "└──────────────────┘\n",
      "INTERACTION\n",
      "shape: (1, 1)\n",
      "┌──────────────────┐\n",
      "│ n_unique_recipes │\n",
      "│ ---              │\n",
      "│ u32              │\n",
      "╞══════════════════╡\n",
      "│ 49698            │\n",
      "└──────────────────┘\n"
     ]
    }
   ],
   "source": [
    "# checking availability of recipes in each split\n",
    "print(\"TRAIN\")\n",
    "print(df_train_rating.select(pl.col(\"recipe_id\").n_unique().alias(\"n_unique_recipes\")))\n",
    "print(\"VALID\")\n",
    "print(df_valid_rating.select(pl.col(\"recipe_id\").n_unique().alias(\"n_unique_recipes\")))\n",
    "print(\"TEST\")\n",
    "print(df_test_rating.select(pl.col(\"recipe_id\").n_unique().alias(\"n_unique_recipes\")))\n",
    "print(\"INTERACTION\")\n",
    "print(df_interaction.select(pl.col(\"recipe_id\").n_unique().alias(\"n_unique_recipes\")))"
   ]
  },
  {
   "cell_type": "code",
   "execution_count": 58,
   "id": "51fd595f",
   "metadata": {},
   "outputs": [
    {
     "data": {
      "text/html": [
       "<div><style>\n",
       ".dataframe > thead > tr,\n",
       ".dataframe > tbody > tr {\n",
       "  text-align: right;\n",
       "  white-space: pre-wrap;\n",
       "}\n",
       "</style>\n",
       "<small>shape: (5, 4)</small><table border=\"1\" class=\"dataframe\"><thead><tr><th>user_id</th><th>recipe_id</th><th>rating</th><th>dateLastModified</th></tr><tr><td>str</td><td>str</td><td>i64</td><td>datetime[μs]</td></tr></thead><tbody><tr><td>&quot;8542392&quot;</td><td>&quot;222388&quot;</td><td>5</td><td>2017-04-22 12:46:43.663</td></tr><tr><td>&quot;11174581&quot;</td><td>&quot;222388&quot;</td><td>5</td><td>2013-06-20 15:50:25.960</td></tr><tr><td>&quot;8262477&quot;</td><td>&quot;222388&quot;</td><td>5</td><td>2015-02-14 07:27:51.307</td></tr><tr><td>&quot;3574785&quot;</td><td>&quot;240488&quot;</td><td>5</td><td>2017-10-07 18:20:08.973</td></tr><tr><td>&quot;12145410&quot;</td><td>&quot;240488&quot;</td><td>2</td><td>2018-01-06 00:06:09.563</td></tr></tbody></table></div>"
      ],
      "text/plain": [
       "shape: (5, 4)\n",
       "┌──────────┬───────────┬────────┬─────────────────────────┐\n",
       "│ user_id  ┆ recipe_id ┆ rating ┆ dateLastModified        │\n",
       "│ ---      ┆ ---       ┆ ---    ┆ ---                     │\n",
       "│ str      ┆ str       ┆ i64    ┆ datetime[μs]            │\n",
       "╞══════════╪═══════════╪════════╪═════════════════════════╡\n",
       "│ 8542392  ┆ 222388    ┆ 5      ┆ 2017-04-22 12:46:43.663 │\n",
       "│ 11174581 ┆ 222388    ┆ 5      ┆ 2013-06-20 15:50:25.960 │\n",
       "│ 8262477  ┆ 222388    ┆ 5      ┆ 2015-02-14 07:27:51.307 │\n",
       "│ 3574785  ┆ 240488    ┆ 5      ┆ 2017-10-07 18:20:08.973 │\n",
       "│ 12145410 ┆ 240488    ┆ 2      ┆ 2018-01-06 00:06:09.563 │\n",
       "└──────────┴───────────┴────────┴─────────────────────────┘"
      ]
     },
     "execution_count": 58,
     "metadata": {},
     "output_type": "execute_result"
    }
   ],
   "source": [
    "df_interaction.head()"
   ]
  },
  {
   "cell_type": "code",
   "execution_count": 59,
   "id": "28afdb4f",
   "metadata": {},
   "outputs": [
    {
     "data": {
      "text/html": [
       "<div><style>\n",
       ".dataframe > thead > tr,\n",
       ".dataframe > tbody > tr {\n",
       "  text-align: right;\n",
       "  white-space: pre-wrap;\n",
       "}\n",
       "</style>\n",
       "<small>shape: (12, 4)</small><table border=\"1\" class=\"dataframe\"><thead><tr><th>user_id</th><th>recipe_id</th><th>rating</th><th>dateLastModified</th></tr><tr><td>str</td><td>str</td><td>i64</td><td>datetime[μs]</td></tr></thead><tbody><tr><td>&quot;8542392&quot;</td><td>&quot;222388&quot;</td><td>5</td><td>2017-04-22 12:46:43.663</td></tr><tr><td>&quot;8542392&quot;</td><td>&quot;84270&quot;</td><td>5</td><td>2014-01-04 12:25:35.080</td></tr><tr><td>&quot;8542392&quot;</td><td>&quot;218070&quot;</td><td>5</td><td>2015-05-01 18:28:47.667</td></tr><tr><td>&quot;8542392&quot;</td><td>&quot;245062&quot;</td><td>5</td><td>2017-02-20 02:36:27.923</td></tr><tr><td>&quot;8542392&quot;</td><td>&quot;213243&quot;</td><td>5</td><td>2015-09-11 17:34:46.550</td></tr><tr><td>&hellip;</td><td>&hellip;</td><td>&hellip;</td><td>&hellip;</td></tr><tr><td>&quot;8542392&quot;</td><td>&quot;213029&quot;</td><td>5</td><td>2016-01-01 04:11:05.970</td></tr><tr><td>&quot;8542392&quot;</td><td>&quot;204478&quot;</td><td>5</td><td>2017-01-22 04:20:05.610</td></tr><tr><td>&quot;8542392&quot;</td><td>&quot;13096&quot;</td><td>5</td><td>2018-02-18 21:05:54.630</td></tr><tr><td>&quot;8542392&quot;</td><td>&quot;234181&quot;</td><td>5</td><td>2015-02-12 18:07:34.940</td></tr><tr><td>&quot;8542392&quot;</td><td>&quot;245881&quot;</td><td>5</td><td>2017-09-16 15:01:43.157</td></tr></tbody></table></div>"
      ],
      "text/plain": [
       "shape: (12, 4)\n",
       "┌─────────┬───────────┬────────┬─────────────────────────┐\n",
       "│ user_id ┆ recipe_id ┆ rating ┆ dateLastModified        │\n",
       "│ ---     ┆ ---       ┆ ---    ┆ ---                     │\n",
       "│ str     ┆ str       ┆ i64    ┆ datetime[μs]            │\n",
       "╞═════════╪═══════════╪════════╪═════════════════════════╡\n",
       "│ 8542392 ┆ 222388    ┆ 5      ┆ 2017-04-22 12:46:43.663 │\n",
       "│ 8542392 ┆ 84270     ┆ 5      ┆ 2014-01-04 12:25:35.080 │\n",
       "│ 8542392 ┆ 218070    ┆ 5      ┆ 2015-05-01 18:28:47.667 │\n",
       "│ 8542392 ┆ 245062    ┆ 5      ┆ 2017-02-20 02:36:27.923 │\n",
       "│ 8542392 ┆ 213243    ┆ 5      ┆ 2015-09-11 17:34:46.550 │\n",
       "│ …       ┆ …         ┆ …      ┆ …                       │\n",
       "│ 8542392 ┆ 213029    ┆ 5      ┆ 2016-01-01 04:11:05.970 │\n",
       "│ 8542392 ┆ 204478    ┆ 5      ┆ 2017-01-22 04:20:05.610 │\n",
       "│ 8542392 ┆ 13096     ┆ 5      ┆ 2018-02-18 21:05:54.630 │\n",
       "│ 8542392 ┆ 234181    ┆ 5      ┆ 2015-02-12 18:07:34.940 │\n",
       "│ 8542392 ┆ 245881    ┆ 5      ┆ 2017-09-16 15:01:43.157 │\n",
       "└─────────┴───────────┴────────┴─────────────────────────┘"
      ]
     },
     "execution_count": 59,
     "metadata": {},
     "output_type": "execute_result"
    }
   ],
   "source": [
    "df_interaction.filter(pl.col(\"user_id\") == '8542392')"
   ]
  },
  {
   "cell_type": "markdown",
   "id": "fb443df0",
   "metadata": {},
   "source": [
    "Checking if user, recipe from **interactions** are in all the splits"
   ]
  },
  {
   "cell_type": "code",
   "execution_count": 97,
   "id": "2d8732dc",
   "metadata": {},
   "outputs": [
    {
     "name": "stdout",
     "output_type": "stream",
     "text": [
      "51283 8374422\n",
      "shape: (0, 4)\n",
      "┌─────────┬───────────┬────────┬──────────────────┐\n",
      "│ user_id ┆ recipe_id ┆ rating ┆ dateLastModified │\n",
      "│ ---     ┆ ---       ┆ ---    ┆ ---              │\n",
      "│ str     ┆ str       ┆ i64    ┆ datetime[μs]     │\n",
      "╞═════════╪═══════════╪════════╪══════════════════╡\n",
      "└─────────┴───────────┴────────┴──────────────────┘\n",
      "shape: (0, 4)\n",
      "┌─────────┬───────────┬────────┬──────────────────┐\n",
      "│ user_id ┆ recipe_id ┆ rating ┆ dateLastModified │\n",
      "│ ---     ┆ ---       ┆ ---    ┆ ---              │\n",
      "│ str     ┆ str       ┆ i64    ┆ datetime[μs]     │\n",
      "╞═════════╪═══════════╪════════╪══════════════════╡\n",
      "└─────────┴───────────┴────────┴──────────────────┘\n",
      "shape: (0, 4)\n",
      "┌─────────┬───────────┬────────┬──────────────────┐\n",
      "│ user_id ┆ recipe_id ┆ rating ┆ dateLastModified │\n",
      "│ ---     ┆ ---       ┆ ---    ┆ ---              │\n",
      "│ str     ┆ str       ┆ i64    ┆ datetime[μs]     │\n",
      "╞═════════╪═══════════╪════════╪══════════════════╡\n",
      "└─────────┴───────────┴────────┴──────────────────┘\n"
     ]
    }
   ],
   "source": [
    "sample = df_interaction.filter(pl.col(\"split\") == \"none\").sample(n=1, with_replacement=False).select(pl.col(\"recipe_id\", \"user_id\")) # x now only nones\n",
    "recipe = sample[\"recipe_id\"][0]\n",
    "user = sample[\"user_id\"][0]\n",
    "print(recipe, user)\n",
    "\n",
    "print(df_train_rating.filter(\n",
    "    (pl.col(\"user_id\") == user) & (pl.col(\"recipe_id\") == recipe) \n",
    "))\n",
    "\n",
    "print(df_test_rating.filter(\n",
    "    (pl.col(\"user_id\") == user) & (pl.col(\"recipe_id\") == recipe) \n",
    "))\n",
    "\n",
    "print(df_valid_rating.filter(\n",
    "    (pl.col(\"user_id\") == user) & (pl.col(\"recipe_id\") == recipe) \n",
    "))\n"
   ]
  },
  {
   "cell_type": "markdown",
   "id": "cf0b7a87",
   "metadata": {},
   "source": [
    "Checking review distribution of each recipe in each split "
   ]
  },
  {
   "cell_type": "code",
   "execution_count": 117,
   "id": "e1920fe7",
   "metadata": {},
   "outputs": [
    {
     "name": "stdout",
     "output_type": "stream",
     "text": [
      "Random recipe id 7916\n",
      "Recipe info\n",
      "shape: (1, 9)\n",
      "┌──────────┬──────────┬──────────┬──────────┬──────────┬──────────┬──────────┬──────────┬──────────┐\n",
      "│ recipe_i ┆ recipe_n ┆ aver_rat ┆ image_ur ┆ review_n ┆ ingredie ┆ cooking_ ┆ nutritio ┆ reviews  │\n",
      "│ d        ┆ ame      ┆ e        ┆ l        ┆ ums      ┆ nts      ┆ directio ┆ ns       ┆ ---      │\n",
      "│ ---      ┆ ---      ┆ ---      ┆ ---      ┆ ---      ┆ ---      ┆ ns       ┆ ---      ┆ str      │\n",
      "│ str      ┆ str      ┆ f64      ┆ str      ┆ i64      ┆ str      ┆ ---      ┆ str      ┆          │\n",
      "│          ┆          ┆          ┆          ┆          ┆          ┆ str      ┆          ┆          │\n",
      "╞══════════╪══════════╪══════════╪══════════╪══════════╪══════════╪══════════╪══════════╪══════════╡\n",
      "│ 7916     ┆ Mom's    ┆ 4.72     ┆ http://i ┆ 163      ┆ yellow   ┆ {'direct ┆ {u'niaci ┆ {693504: │\n",
      "│          ┆ Rum Cake ┆          ┆ mages.me ┆          ┆ cake mix ┆ ions':   ┆ n': {u'h ┆ {'rating │\n",
      "│          ┆          ┆          ┆ dia-allr ┆          ┆ ^instant ┆ u\"Prehea ┆ asComple ┆ ': 3,    │\n",
      "│          ┆          ┆          ┆ ecipes…  ┆          ┆ vanill…  ┆ t oven … ┆ teData…  ┆ 'follow… │\n",
      "└──────────┴──────────┴──────────┴──────────┴──────────┴──────────┴──────────┴──────────┴──────────┘\n",
      "Interactions for that recipe\n",
      "(163, 5)\n",
      "Train ratings for that recipe\n",
      "(33, 4)\n",
      "Valid ratings for that recipe\n",
      "(4, 4)\n",
      "Test ratings for that recipe\n",
      "(3, 4)\n"
     ]
    }
   ],
   "source": [
    "random_recipe = df_recipe.sample(n=1, with_replacement=False).select(pl.col(\"recipe_id\")).to_series()[0]\n",
    "print(f\"Random recipe id {random_recipe}\")\n",
    "\n",
    "print(\"Recipe info\")\n",
    "print(df_recipe.filter(pl.col(\"recipe_id\") == random_recipe))\n",
    "\n",
    "print(\"Interactions for that recipe\")\n",
    "print(df_interaction.filter(pl.col(\"recipe_id\") == random_recipe).shape)\n",
    "\n",
    "print(\"Train ratings for that recipe\")\n",
    "print(df_train_rating.filter(pl.col(\"recipe_id\") == random_recipe).shape)\n",
    "print(\"Valid ratings for that recipe\")\n",
    "print(df_valid_rating.filter(pl.col(\"recipe_id\") == random_recipe).shape)\n",
    "print(\"Test ratings for that recipe\")\n",
    "print(df_test_rating.filter(pl.col(\"recipe_id\") == random_recipe).shape)"
   ]
  },
  {
   "cell_type": "markdown",
   "id": "65082430",
   "metadata": {},
   "source": [
    "Adding split label of each review, and doing analysis "
   ]
  },
  {
   "cell_type": "code",
   "execution_count": 60,
   "id": "961b25e3",
   "metadata": {},
   "outputs": [
    {
     "name": "stderr",
     "output_type": "stream",
     "text": [
      "C:\\Users\\Renato\\AppData\\Local\\Temp\\ipykernel_21336\\2890624512.py:11: DeprecationWarning: `GroupBy.count` was renamed; use `GroupBy.len` instead\n",
      "  .count()\n"
     ]
    },
    {
     "name": "stdout",
     "output_type": "stream",
     "text": [
      "no se detectaron llaves duplicadas entre splits\n",
      "Resumen interacciones por split:\n",
      "shape: (4, 3)\n",
      "┌───────┬─────────┬──────────┐\n",
      "│ split ┆ count   ┆ fraction │\n",
      "│ ---   ┆ ---     ┆ ---      │\n",
      "│ str   ┆ u32     ┆ f64      │\n",
      "╞═══════╪═════════╪══════════╡\n",
      "│ none  ┆ 2700158 ┆ 0.711691 │\n",
      "│ train ┆ 676946  ┆ 0.178425 │\n",
      "│ test  ┆ 283440  ┆ 0.074707 │\n",
      "│ valid ┆ 133459  ┆ 0.035176 │\n",
      "└───────┴─────────┴──────────┘\n",
      "Interacciones que matchean un split: 1093845 / 3794003 (28.83%)\n",
      "Resumen interacciones por split:\n",
      "shape: (4, 3)\n",
      "┌───────┬─────────┬──────────┐\n",
      "│ split ┆ count   ┆ fraction │\n",
      "│ ---   ┆ ---     ┆ ---      │\n",
      "│ str   ┆ u32     ┆ f64      │\n",
      "╞═══════╪═════════╪══════════╡\n",
      "│ none  ┆ 2700158 ┆ 0.711691 │\n",
      "│ train ┆ 676946  ┆ 0.178425 │\n",
      "│ test  ┆ 283440  ┆ 0.074707 │\n",
      "│ valid ┆ 133459  ┆ 0.035176 │\n",
      "└───────┴─────────┴──────────┘\n",
      "Interacciones que matchean un split: 1093845 / 3794003 (28.83%)\n"
     ]
    },
    {
     "name": "stderr",
     "output_type": "stream",
     "text": [
      "C:\\Users\\Renato\\AppData\\Local\\Temp\\ipykernel_21336\\2890624512.py:28: DeprecationWarning: `GroupBy.count` was renamed; use `GroupBy.len` instead\n",
      "  .count()\n"
     ]
    }
   ],
   "source": [
    "\n",
    "ratings_all = pl.concat([\n",
    "    df_train_rating.select([\"user_id\", \"recipe_id\", \"dateLastModified\"]).with_columns(pl.lit(\"train\").alias(\"split\")),\n",
    "    df_valid_rating.select([\"user_id\", \"recipe_id\", \"dateLastModified\"]).with_columns(pl.lit(\"valid\").alias(\"split\")),\n",
    "    df_test_rating.select([\"user_id\", \"recipe_id\", \"dateLastModified\"]).with_columns(pl.lit(\"test\").alias(\"split\")),\n",
    "])\n",
    "\n",
    "key_cols = [\"user_id\", \"recipe_id\", \"dateLastModified\"]\n",
    "duplicados = (\n",
    "    ratings_all\n",
    "    .group_by(key_cols)\n",
    "    .count()\n",
    "    .filter(pl.col(\"count\") > 1)\n",
    ")\n",
    "if duplicados.height > 0:\n",
    "    print(\"duplicados en el join:\", duplicados.height)\n",
    "else:\n",
    "    print(\"no se detectaron llaves duplicadas entre splits\")\n",
    "\n",
    "ratings_all = ratings_all.unique(key_cols)\n",
    "\n",
    "df_interaction = df_interaction.join(ratings_all, on=key_cols, how=\"left\")\n",
    "\n",
    "df_interaction = df_interaction.with_columns(pl.col(\"split\").fill_null(\"none\"))\n",
    "\n",
    "split_summary = (\n",
    "    df_interaction\n",
    "    .group_by(\"split\")\n",
    "    .count()\n",
    "    .with_columns((pl.col(\"count\") / df_interaction.height).alias(\"fraction\"))\n",
    "    .sort(\"count\", descending=True)\n",
    ")\n",
    "\n",
    "print(\"Resumen interacciones por split:\")\n",
    "print(split_summary)\n",
    "\n",
    "matched = df_interaction.filter(pl.col(\"split\") != \"none\").height\n",
    "print(f\"Interacciones que matchean un split: {matched} / {df_interaction.height} ({matched/df_interaction.height:.2%})\")\n"
   ]
  },
  {
   "cell_type": "markdown",
   "id": "db3035d5",
   "metadata": {},
   "source": [
    "Cross with mealrec+ data "
   ]
  },
  {
   "cell_type": "code",
   "execution_count": 130,
   "id": "3a0a72aa",
   "metadata": {},
   "outputs": [
    {
     "data": {
      "text/plain": [
       "(3794003, 5)"
      ]
     },
     "execution_count": 130,
     "metadata": {},
     "output_type": "execute_result"
    }
   ],
   "source": [
    "df_interaction.shape"
   ]
  },
  {
   "cell_type": "code",
   "execution_count": 131,
   "id": "4c219fbe",
   "metadata": {},
   "outputs": [],
   "source": [
    "mealrec_user = \"39\"\n",
    "mealrec_recipe = \"61727\""
   ]
  },
  {
   "cell_type": "code",
   "execution_count": 134,
   "id": "2bfbb53b",
   "metadata": {},
   "outputs": [
    {
     "data": {
      "text/html": [
       "<div><style>\n",
       ".dataframe > thead > tr,\n",
       ".dataframe > tbody > tr {\n",
       "  text-align: right;\n",
       "  white-space: pre-wrap;\n",
       "}\n",
       "</style>\n",
       "<small>shape: (293, 5)</small><table border=\"1\" class=\"dataframe\"><thead><tr><th>user_id</th><th>recipe_id</th><th>rating</th><th>dateLastModified</th><th>split</th></tr><tr><td>str</td><td>str</td><td>i64</td><td>datetime[μs]</td><td>str</td></tr></thead><tbody><tr><td>&quot;39&quot;</td><td>&quot;14521&quot;</td><td>5</td><td>2000-05-08 21:43:50.913</td><td>&quot;train&quot;</td></tr><tr><td>&quot;39&quot;</td><td>&quot;222350&quot;</td><td>5</td><td>2012-05-28 18:35:40.320</td><td>&quot;valid&quot;</td></tr><tr><td>&quot;39&quot;</td><td>&quot;216981&quot;</td><td>5</td><td>2014-03-16 14:10:20.457</td><td>&quot;test&quot;</td></tr><tr><td>&quot;39&quot;</td><td>&quot;14731&quot;</td><td>4</td><td>2001-01-15 07:35:02.200</td><td>&quot;train&quot;</td></tr><tr><td>&quot;39&quot;</td><td>&quot;21430&quot;</td><td>5</td><td>2000-12-14 09:58:13.467</td><td>&quot;train&quot;</td></tr><tr><td>&hellip;</td><td>&hellip;</td><td>&hellip;</td><td>&hellip;</td><td>&hellip;</td></tr><tr><td>&quot;39&quot;</td><td>&quot;18322&quot;</td><td>5</td><td>2000-07-07 10:02:19.833</td><td>&quot;train&quot;</td></tr><tr><td>&quot;39&quot;</td><td>&quot;12974&quot;</td><td>4</td><td>2001-01-03 08:07:26.950</td><td>&quot;train&quot;</td></tr><tr><td>&quot;39&quot;</td><td>&quot;34357&quot;</td><td>5</td><td>2005-08-02 13:17:54.437</td><td>&quot;train&quot;</td></tr><tr><td>&quot;39&quot;</td><td>&quot;24887&quot;</td><td>5</td><td>2001-11-12 12:24:13.013</td><td>&quot;train&quot;</td></tr><tr><td>&quot;39&quot;</td><td>&quot;104416&quot;</td><td>5</td><td>2006-12-28 12:35:13.340</td><td>&quot;train&quot;</td></tr></tbody></table></div>"
      ],
      "text/plain": [
       "shape: (293, 5)\n",
       "┌─────────┬───────────┬────────┬─────────────────────────┬───────┐\n",
       "│ user_id ┆ recipe_id ┆ rating ┆ dateLastModified        ┆ split │\n",
       "│ ---     ┆ ---       ┆ ---    ┆ ---                     ┆ ---   │\n",
       "│ str     ┆ str       ┆ i64    ┆ datetime[μs]            ┆ str   │\n",
       "╞═════════╪═══════════╪════════╪═════════════════════════╪═══════╡\n",
       "│ 39      ┆ 14521     ┆ 5      ┆ 2000-05-08 21:43:50.913 ┆ train │\n",
       "│ 39      ┆ 222350    ┆ 5      ┆ 2012-05-28 18:35:40.320 ┆ valid │\n",
       "│ 39      ┆ 216981    ┆ 5      ┆ 2014-03-16 14:10:20.457 ┆ test  │\n",
       "│ 39      ┆ 14731     ┆ 4      ┆ 2001-01-15 07:35:02.200 ┆ train │\n",
       "│ 39      ┆ 21430     ┆ 5      ┆ 2000-12-14 09:58:13.467 ┆ train │\n",
       "│ …       ┆ …         ┆ …      ┆ …                       ┆ …     │\n",
       "│ 39      ┆ 18322     ┆ 5      ┆ 2000-07-07 10:02:19.833 ┆ train │\n",
       "│ 39      ┆ 12974     ┆ 4      ┆ 2001-01-03 08:07:26.950 ┆ train │\n",
       "│ 39      ┆ 34357     ┆ 5      ┆ 2005-08-02 13:17:54.437 ┆ train │\n",
       "│ 39      ┆ 24887     ┆ 5      ┆ 2001-11-12 12:24:13.013 ┆ train │\n",
       "│ 39      ┆ 104416    ┆ 5      ┆ 2006-12-28 12:35:13.340 ┆ train │\n",
       "└─────────┴───────────┴────────┴─────────────────────────┴───────┘"
      ]
     },
     "execution_count": 134,
     "metadata": {},
     "output_type": "execute_result"
    }
   ],
   "source": [
    "df_interaction.filter(\n",
    "    (pl.col(\"user_id\") == mealrec_user) \n",
    "    #(pl.col(\"recipe_id\") == mealrec_recipe)\n",
    ")"
   ]
  },
  {
   "cell_type": "code",
   "execution_count": 137,
   "id": "2ee62fd8",
   "metadata": {},
   "outputs": [
    {
     "data": {
      "text/html": [
       "<div><style>\n",
       ".dataframe > thead > tr,\n",
       ".dataframe > tbody > tr {\n",
       "  text-align: right;\n",
       "  white-space: pre-wrap;\n",
       "}\n",
       "</style>\n",
       "<small>shape: (5, 9)</small><table border=\"1\" class=\"dataframe\"><thead><tr><th>recipe_id</th><th>recipe_name</th><th>aver_rate</th><th>image_url</th><th>review_nums</th><th>ingredients</th><th>cooking_directions</th><th>nutritions</th><th>reviews</th></tr><tr><td>str</td><td>str</td><td>f64</td><td>str</td><td>i64</td><td>str</td><td>str</td><td>str</td><td>str</td></tr></thead><tbody><tr><td>&quot;222388&quot;</td><td>&quot;Homemade Bacon&quot;</td><td>5.0</td><td>&quot;https://images.media-allrecipe…</td><td>3</td><td>&quot;pork belly^smoked paprika^kosh…</td><td>&quot;{&#x27;directions&#x27;: u&#x27;Prep\\n5 m\\nCo…</td><td>&quot;{u&#x27;niacin&#x27;: {u&#x27;hasCompleteData…</td><td>&quot;{8542392: {&#x27;rating&#x27;: 5, &#x27;follo…</td></tr><tr><td>&quot;240488&quot;</td><td>&quot;Pork Loin, Apples, and Sauerkr…</td><td>4.764706</td><td>&quot;https://images.media-allrecipe…</td><td>29</td><td>&quot;sauerkraut drained^Granny Smit…</td><td>&quot;{&#x27;directions&#x27;: u&#x27;Prep\\n15 m\\nC…</td><td>&quot;{u&#x27;niacin&#x27;: {u&#x27;hasCompleteData…</td><td>&quot;{3574785: {&#x27;rating&#x27;: 5, &#x27;follo…</td></tr><tr><td>&quot;218939&quot;</td><td>&quot;Foolproof Rosemary Chicken Win…</td><td>4.571429</td><td>&quot;https://images.media-allrecipe…</td><td>12</td><td>&quot;chicken wings^sprigs rosemary^…</td><td>&quot;{&#x27;directions&#x27;: u&quot;Prep\\n20 m\\nC…</td><td>&quot;{u&#x27;niacin&#x27;: {u&#x27;hasCompleteData…</td><td>&quot;{13774946: {&#x27;rating&#x27;: 5, &#x27;foll…</td></tr><tr><td>&quot;87211&quot;</td><td>&quot;Chicken Pesto Paninis&quot;</td><td>4.625</td><td>&quot;https://images.media-allrecipe…</td><td>163</td><td>&quot;focaccia bread quartered^prepa…</td><td>&quot;{&#x27;directions&#x27;: u&#x27;Prep\\n15 m\\nC…</td><td>&quot;{u&#x27;niacin&#x27;: {u&#x27;hasCompleteData…</td><td>&quot;{1563136: {&#x27;rating&#x27;: 5, &#x27;follo…</td></tr><tr><td>&quot;245714&quot;</td><td>&quot;Potato Bacon Pizza&quot;</td><td>4.5</td><td>&quot;https://images.media-allrecipe…</td><td>2</td><td>&quot;red potatoes^strips bacon^Sauc…</td><td>&quot;{&#x27;directions&#x27;: u&#x27;Prep\\n20 m\\nC…</td><td>&quot;{u&#x27;niacin&#x27;: {u&#x27;hasCompleteData…</td><td>&quot;{2945555: {&#x27;rating&#x27;: 5, &#x27;follo…</td></tr></tbody></table></div>"
      ],
      "text/plain": [
       "shape: (5, 9)\n",
       "┌──────────┬──────────┬──────────┬──────────┬──────────┬──────────┬──────────┬──────────┬──────────┐\n",
       "│ recipe_i ┆ recipe_n ┆ aver_rat ┆ image_ur ┆ review_n ┆ ingredie ┆ cooking_ ┆ nutritio ┆ reviews  │\n",
       "│ d        ┆ ame      ┆ e        ┆ l        ┆ ums      ┆ nts      ┆ directio ┆ ns       ┆ ---      │\n",
       "│ ---      ┆ ---      ┆ ---      ┆ ---      ┆ ---      ┆ ---      ┆ ns       ┆ ---      ┆ str      │\n",
       "│ str      ┆ str      ┆ f64      ┆ str      ┆ i64      ┆ str      ┆ ---      ┆ str      ┆          │\n",
       "│          ┆          ┆          ┆          ┆          ┆          ┆ str      ┆          ┆          │\n",
       "╞══════════╪══════════╪══════════╪══════════╪══════════╪══════════╪══════════╪══════════╪══════════╡\n",
       "│ 222388   ┆ Homemade ┆ 5.0      ┆ https:// ┆ 3        ┆ pork bel ┆ {'direct ┆ {u'niaci ┆ {8542392 │\n",
       "│          ┆ Bacon    ┆          ┆ images.m ┆          ┆ ly^smoke ┆ ions':   ┆ n': {u'h ┆ : {'rati │\n",
       "│          ┆          ┆          ┆ edia-all ┆          ┆ d paprik ┆ u'Prep\\n ┆ asComple ┆ ng': 5,  │\n",
       "│          ┆          ┆          ┆ recipe…  ┆          ┆ a^kosh…  ┆ 5 m\\nCo… ┆ teData…  ┆ 'follo…  │\n",
       "│ 240488   ┆ Pork     ┆ 4.764706 ┆ https:// ┆ 29       ┆ sauerkra ┆ {'direct ┆ {u'niaci ┆ {3574785 │\n",
       "│          ┆ Loin,    ┆          ┆ images.m ┆          ┆ ut drain ┆ ions':   ┆ n': {u'h ┆ : {'rati │\n",
       "│          ┆ Apples,  ┆          ┆ edia-all ┆          ┆ ed^Grann ┆ u'Prep\\n ┆ asComple ┆ ng': 5,  │\n",
       "│          ┆ and      ┆          ┆ recipe…  ┆          ┆ y Smit…  ┆ 15 m\\nC… ┆ teData…  ┆ 'follo…  │\n",
       "│          ┆ Sauerkr… ┆          ┆          ┆          ┆          ┆          ┆          ┆          │\n",
       "│ 218939   ┆ Foolproo ┆ 4.571429 ┆ https:// ┆ 12       ┆ chicken  ┆ {'direct ┆ {u'niaci ┆ {1377494 │\n",
       "│          ┆ f        ┆          ┆ images.m ┆          ┆ wings^sp ┆ ions':   ┆ n': {u'h ┆ 6: {'rat │\n",
       "│          ┆ Rosemary ┆          ┆ edia-all ┆          ┆ rigs ros ┆ u\"Prep\\n ┆ asComple ┆ ing': 5, │\n",
       "│          ┆ Chicken  ┆          ┆ recipe…  ┆          ┆ emary^…  ┆ 20 m\\nC… ┆ teData…  ┆ 'foll…   │\n",
       "│          ┆ Win…     ┆          ┆          ┆          ┆          ┆          ┆          ┆          │\n",
       "│ 87211    ┆ Chicken  ┆ 4.625    ┆ https:// ┆ 163      ┆ focaccia ┆ {'direct ┆ {u'niaci ┆ {1563136 │\n",
       "│          ┆ Pesto    ┆          ┆ images.m ┆          ┆ bread    ┆ ions':   ┆ n': {u'h ┆ : {'rati │\n",
       "│          ┆ Paninis  ┆          ┆ edia-all ┆          ┆ quartere ┆ u'Prep\\n ┆ asComple ┆ ng': 5,  │\n",
       "│          ┆          ┆          ┆ recipe…  ┆          ┆ d^prepa… ┆ 15 m\\nC… ┆ teData…  ┆ 'follo…  │\n",
       "│ 245714   ┆ Potato   ┆ 4.5      ┆ https:// ┆ 2        ┆ red pota ┆ {'direct ┆ {u'niaci ┆ {2945555 │\n",
       "│          ┆ Bacon    ┆          ┆ images.m ┆          ┆ toes^str ┆ ions':   ┆ n': {u'h ┆ : {'rati │\n",
       "│          ┆ Pizza    ┆          ┆ edia-all ┆          ┆ ips baco ┆ u'Prep\\n ┆ asComple ┆ ng': 5,  │\n",
       "│          ┆          ┆          ┆ recipe…  ┆          ┆ n^Sauc…  ┆ 20 m\\nC… ┆ teData…  ┆ 'follo…  │\n",
       "└──────────┴──────────┴──────────┴──────────┴──────────┴──────────┴──────────┴──────────┴──────────┘"
      ]
     },
     "execution_count": 137,
     "metadata": {},
     "output_type": "execute_result"
    }
   ],
   "source": [
    "df_recipe.head()"
   ]
  },
  {
   "cell_type": "code",
   "execution_count": 132,
   "id": "a176f67b",
   "metadata": {},
   "outputs": [
    {
     "data": {
      "text/html": [
       "<div><style>\n",
       ".dataframe > thead > tr,\n",
       ".dataframe > tbody > tr {\n",
       "  text-align: right;\n",
       "  white-space: pre-wrap;\n",
       "}\n",
       "</style>\n",
       "<small>shape: (0, 5)</small><table border=\"1\" class=\"dataframe\"><thead><tr><th>user_id</th><th>recipe_id</th><th>rating</th><th>dateLastModified</th><th>split</th></tr><tr><td>str</td><td>str</td><td>i64</td><td>datetime[μs]</td><td>str</td></tr></thead><tbody></tbody></table></div>"
      ],
      "text/plain": [
       "shape: (0, 5)\n",
       "┌─────────┬───────────┬────────┬──────────────────┬───────┐\n",
       "│ user_id ┆ recipe_id ┆ rating ┆ dateLastModified ┆ split │\n",
       "│ ---     ┆ ---       ┆ ---    ┆ ---              ┆ ---   │\n",
       "│ str     ┆ str       ┆ i64    ┆ datetime[μs]     ┆ str   │\n",
       "╞═════════╪═══════════╪════════╪══════════════════╪═══════╡\n",
       "└─────────┴───────────┴────────┴──────────────────┴───────┘"
      ]
     },
     "execution_count": 132,
     "metadata": {},
     "output_type": "execute_result"
    }
   ],
   "source": [
    "df_interaction.filter(\n",
    "    (pl.col(\"user_id\") == mealrec_user) & (pl.col(\"recipe_id\") == mealrec_recipe)\n",
    ")"
   ]
  }
 ],
 "metadata": {
  "kernelspec": {
   "display_name": "base",
   "language": "python",
   "name": "python3"
  },
  "language_info": {
   "codemirror_mode": {
    "name": "ipython",
    "version": 3
   },
   "file_extension": ".py",
   "mimetype": "text/x-python",
   "name": "python",
   "nbconvert_exporter": "python",
   "pygments_lexer": "ipython3",
   "version": "3.12.4"
  }
 },
 "nbformat": 4,
 "nbformat_minor": 5
}
