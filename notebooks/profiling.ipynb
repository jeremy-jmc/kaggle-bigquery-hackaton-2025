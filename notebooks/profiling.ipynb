{
 "cells": [
  {
   "cell_type": "code",
   "execution_count": 19,
   "id": "29835d2e",
   "metadata": {},
   "outputs": [],
   "source": [
    "from ydata_profiling import ProfileReport\n",
    "import polars as pl\n",
    "import os "
   ]
  },
  {
   "cell_type": "code",
   "execution_count": 13,
   "id": "8810a7ab",
   "metadata": {},
   "outputs": [],
   "source": [
    "DATA_PATH = \"../data/\""
   ]
  },
  {
   "cell_type": "markdown",
   "id": "e8982370",
   "metadata": {},
   "source": [
    "## Profiling"
   ]
  },
  {
   "cell_type": "code",
   "execution_count": 9,
   "id": "fbc91f21",
   "metadata": {},
   "outputs": [
    {
     "data": {
      "application/vnd.jupyter.widget-view+json": {
       "model_id": "91a9e189b5824af1baaa994683f038d7",
       "version_major": 2,
       "version_minor": 0
      },
      "text/plain": [
       "Summarize dataset:   0%|          | 0/5 [00:00<?, ?it/s]"
      ]
     },
     "metadata": {},
     "output_type": "display_data"
    },
    {
     "name": "stderr",
     "output_type": "stream",
     "text": [
      " 89%|████████▉ | 8/9 [03:20<00:25, 25.05s/it]\n"
     ]
    },
    {
     "ename": "MemoryError",
     "evalue": "Unable to allocate 23.3 GiB for an array with shape (1564790620,) and data type complex128",
     "output_type": "error",
     "traceback": [
      "\u001b[1;31m---------------------------------------------------------------------------\u001b[0m",
      "\u001b[1;31mMemoryError\u001b[0m                               Traceback (most recent call last)",
      "Cell \u001b[1;32mIn[9], line 4\u001b[0m\n\u001b[0;32m      2\u001b[0m df \u001b[38;5;241m=\u001b[39m df\u001b[38;5;241m.\u001b[39mwith_columns([pl\u001b[38;5;241m.\u001b[39mcol(c)\u001b[38;5;241m.\u001b[39mcast(pl\u001b[38;5;241m.\u001b[39mFloat64) \u001b[38;5;28;01mfor\u001b[39;00m c, dt \u001b[38;5;129;01min\u001b[39;00m df\u001b[38;5;241m.\u001b[39mschema\u001b[38;5;241m.\u001b[39mitems() \u001b[38;5;28;01mif\u001b[39;00m \u001b[38;5;28misinstance\u001b[39m(dt, pl\u001b[38;5;241m.\u001b[39mDecimal)])\u001b[38;5;241m.\u001b[39mto_pandas()\n\u001b[0;32m      3\u001b[0m profile \u001b[38;5;241m=\u001b[39m ProfileReport(df, title\u001b[38;5;241m=\u001b[39m\u001b[38;5;124m\"\u001b[39m\u001b[38;5;124mraw_data_recipe_results.csv\u001b[39m\u001b[38;5;124m\"\u001b[39m, minimal\u001b[38;5;241m=\u001b[39m\u001b[38;5;28;01mTrue\u001b[39;00m)\n\u001b[1;32m----> 4\u001b[0m profile\u001b[38;5;241m.\u001b[39mto_file(\u001b[38;5;124m\"\u001b[39m\u001b[38;5;124m../reports/profiling_raw-data_recipe.html\u001b[39m\u001b[38;5;124m\"\u001b[39m)\n",
      "File \u001b[1;32mc:\\Users\\Renato\\anaconda3\\Lib\\site-packages\\ydata_profiling\\profile_report.py:381\u001b[0m, in \u001b[0;36mProfileReport.to_file\u001b[1;34m(self, output_file, silent)\u001b[0m\n\u001b[0;32m    378\u001b[0m         \u001b[38;5;28mself\u001b[39m\u001b[38;5;241m.\u001b[39mconfig\u001b[38;5;241m.\u001b[39mhtml\u001b[38;5;241m.\u001b[39massets_prefix \u001b[38;5;241m=\u001b[39m \u001b[38;5;28mstr\u001b[39m(output_file\u001b[38;5;241m.\u001b[39mstem) \u001b[38;5;241m+\u001b[39m \u001b[38;5;124m\"\u001b[39m\u001b[38;5;124m_assets\u001b[39m\u001b[38;5;124m\"\u001b[39m\n\u001b[0;32m    379\u001b[0m     create_html_assets(\u001b[38;5;28mself\u001b[39m\u001b[38;5;241m.\u001b[39mconfig, output_file)\n\u001b[1;32m--> 381\u001b[0m data \u001b[38;5;241m=\u001b[39m \u001b[38;5;28mself\u001b[39m\u001b[38;5;241m.\u001b[39mto_html()\n\u001b[0;32m    383\u001b[0m \u001b[38;5;28;01mif\u001b[39;00m output_file\u001b[38;5;241m.\u001b[39msuffix \u001b[38;5;241m!=\u001b[39m \u001b[38;5;124m\"\u001b[39m\u001b[38;5;124m.html\u001b[39m\u001b[38;5;124m\"\u001b[39m:\n\u001b[0;32m    384\u001b[0m     suffix \u001b[38;5;241m=\u001b[39m output_file\u001b[38;5;241m.\u001b[39msuffix\n",
      "File \u001b[1;32mc:\\Users\\Renato\\anaconda3\\Lib\\site-packages\\ydata_profiling\\profile_report.py:498\u001b[0m, in \u001b[0;36mProfileReport.to_html\u001b[1;34m(self)\u001b[0m\n\u001b[0;32m    490\u001b[0m \u001b[38;5;28;01mdef\u001b[39;00m \u001b[38;5;21mto_html\u001b[39m(\u001b[38;5;28mself\u001b[39m) \u001b[38;5;241m-\u001b[39m\u001b[38;5;241m>\u001b[39m \u001b[38;5;28mstr\u001b[39m:\n\u001b[0;32m    491\u001b[0m \u001b[38;5;250m    \u001b[39m\u001b[38;5;124;03m\"\"\"Generate and return complete template as lengthy string\u001b[39;00m\n\u001b[0;32m    492\u001b[0m \u001b[38;5;124;03m        for using with frameworks.\u001b[39;00m\n\u001b[0;32m    493\u001b[0m \n\u001b[1;32m   (...)\u001b[0m\n\u001b[0;32m    496\u001b[0m \n\u001b[0;32m    497\u001b[0m \u001b[38;5;124;03m    \"\"\"\u001b[39;00m\n\u001b[1;32m--> 498\u001b[0m     \u001b[38;5;28;01mreturn\u001b[39;00m \u001b[38;5;28mself\u001b[39m\u001b[38;5;241m.\u001b[39mhtml\n",
      "File \u001b[1;32mc:\\Users\\Renato\\anaconda3\\Lib\\site-packages\\ydata_profiling\\profile_report.py:294\u001b[0m, in \u001b[0;36mProfileReport.html\u001b[1;34m(self)\u001b[0m\n\u001b[0;32m    291\u001b[0m \u001b[38;5;129m@property\u001b[39m\n\u001b[0;32m    292\u001b[0m \u001b[38;5;28;01mdef\u001b[39;00m \u001b[38;5;21mhtml\u001b[39m(\u001b[38;5;28mself\u001b[39m) \u001b[38;5;241m-\u001b[39m\u001b[38;5;241m>\u001b[39m \u001b[38;5;28mstr\u001b[39m:\n\u001b[0;32m    293\u001b[0m     \u001b[38;5;28;01mif\u001b[39;00m \u001b[38;5;28mself\u001b[39m\u001b[38;5;241m.\u001b[39m_html \u001b[38;5;129;01mis\u001b[39;00m \u001b[38;5;28;01mNone\u001b[39;00m:\n\u001b[1;32m--> 294\u001b[0m         \u001b[38;5;28mself\u001b[39m\u001b[38;5;241m.\u001b[39m_html \u001b[38;5;241m=\u001b[39m \u001b[38;5;28mself\u001b[39m\u001b[38;5;241m.\u001b[39m_render_html()\n\u001b[0;32m    295\u001b[0m     \u001b[38;5;28;01mreturn\u001b[39;00m \u001b[38;5;28mself\u001b[39m\u001b[38;5;241m.\u001b[39m_html\n",
      "File \u001b[1;32mc:\\Users\\Renato\\anaconda3\\Lib\\site-packages\\ydata_profiling\\profile_report.py:411\u001b[0m, in \u001b[0;36mProfileReport._render_html\u001b[1;34m(self)\u001b[0m\n\u001b[0;32m    408\u001b[0m \u001b[38;5;28;01mdef\u001b[39;00m \u001b[38;5;21m_render_html\u001b[39m(\u001b[38;5;28mself\u001b[39m) \u001b[38;5;241m-\u001b[39m\u001b[38;5;241m>\u001b[39m \u001b[38;5;28mstr\u001b[39m:\n\u001b[0;32m    409\u001b[0m     \u001b[38;5;28;01mfrom\u001b[39;00m \u001b[38;5;21;01mydata_profiling\u001b[39;00m\u001b[38;5;21;01m.\u001b[39;00m\u001b[38;5;21;01mreport\u001b[39;00m\u001b[38;5;21;01m.\u001b[39;00m\u001b[38;5;21;01mpresentation\u001b[39;00m\u001b[38;5;21;01m.\u001b[39;00m\u001b[38;5;21;01mflavours\u001b[39;00m \u001b[38;5;28;01mimport\u001b[39;00m HTMLReport\n\u001b[1;32m--> 411\u001b[0m     report \u001b[38;5;241m=\u001b[39m \u001b[38;5;28mself\u001b[39m\u001b[38;5;241m.\u001b[39mreport\n\u001b[0;32m    413\u001b[0m     \u001b[38;5;28;01mwith\u001b[39;00m tqdm(\n\u001b[0;32m    414\u001b[0m         total\u001b[38;5;241m=\u001b[39m\u001b[38;5;241m1\u001b[39m, desc\u001b[38;5;241m=\u001b[39m\u001b[38;5;124m\"\u001b[39m\u001b[38;5;124mRender HTML\u001b[39m\u001b[38;5;124m\"\u001b[39m, disable\u001b[38;5;241m=\u001b[39m\u001b[38;5;129;01mnot\u001b[39;00m \u001b[38;5;28mself\u001b[39m\u001b[38;5;241m.\u001b[39mconfig\u001b[38;5;241m.\u001b[39mprogress_bar\n\u001b[0;32m    415\u001b[0m     ) \u001b[38;5;28;01mas\u001b[39;00m pbar:\n\u001b[0;32m    416\u001b[0m         html \u001b[38;5;241m=\u001b[39m HTMLReport(copy\u001b[38;5;241m.\u001b[39mdeepcopy(report))\u001b[38;5;241m.\u001b[39mrender(\n\u001b[0;32m    417\u001b[0m             nav\u001b[38;5;241m=\u001b[39m\u001b[38;5;28mself\u001b[39m\u001b[38;5;241m.\u001b[39mconfig\u001b[38;5;241m.\u001b[39mhtml\u001b[38;5;241m.\u001b[39mnavbar_show,\n\u001b[0;32m    418\u001b[0m             offline\u001b[38;5;241m=\u001b[39m\u001b[38;5;28mself\u001b[39m\u001b[38;5;241m.\u001b[39mconfig\u001b[38;5;241m.\u001b[39mhtml\u001b[38;5;241m.\u001b[39muse_local_assets,\n\u001b[1;32m   (...)\u001b[0m\n\u001b[0;32m    426\u001b[0m             version\u001b[38;5;241m=\u001b[39m\u001b[38;5;28mself\u001b[39m\u001b[38;5;241m.\u001b[39mdescription_set\u001b[38;5;241m.\u001b[39mpackage[\u001b[38;5;124m\"\u001b[39m\u001b[38;5;124mydata_profiling_version\u001b[39m\u001b[38;5;124m\"\u001b[39m],\n\u001b[0;32m    427\u001b[0m         )\n",
      "File \u001b[1;32mc:\\Users\\Renato\\anaconda3\\Lib\\site-packages\\ydata_profiling\\profile_report.py:288\u001b[0m, in \u001b[0;36mProfileReport.report\u001b[1;34m(self)\u001b[0m\n\u001b[0;32m    285\u001b[0m \u001b[38;5;129m@property\u001b[39m\n\u001b[0;32m    286\u001b[0m \u001b[38;5;28;01mdef\u001b[39;00m \u001b[38;5;21mreport\u001b[39m(\u001b[38;5;28mself\u001b[39m) \u001b[38;5;241m-\u001b[39m\u001b[38;5;241m>\u001b[39m Root:\n\u001b[0;32m    287\u001b[0m     \u001b[38;5;28;01mif\u001b[39;00m \u001b[38;5;28mself\u001b[39m\u001b[38;5;241m.\u001b[39m_report \u001b[38;5;129;01mis\u001b[39;00m \u001b[38;5;28;01mNone\u001b[39;00m:\n\u001b[1;32m--> 288\u001b[0m         \u001b[38;5;28mself\u001b[39m\u001b[38;5;241m.\u001b[39m_report \u001b[38;5;241m=\u001b[39m get_report_structure(\u001b[38;5;28mself\u001b[39m\u001b[38;5;241m.\u001b[39mconfig, \u001b[38;5;28mself\u001b[39m\u001b[38;5;241m.\u001b[39mdescription_set)\n\u001b[0;32m    289\u001b[0m     \u001b[38;5;28;01mreturn\u001b[39;00m \u001b[38;5;28mself\u001b[39m\u001b[38;5;241m.\u001b[39m_report\n",
      "File \u001b[1;32mc:\\Users\\Renato\\anaconda3\\Lib\\site-packages\\ydata_profiling\\profile_report.py:270\u001b[0m, in \u001b[0;36mProfileReport.description_set\u001b[1;34m(self)\u001b[0m\n\u001b[0;32m    267\u001b[0m \u001b[38;5;129m@property\u001b[39m\n\u001b[0;32m    268\u001b[0m \u001b[38;5;28;01mdef\u001b[39;00m \u001b[38;5;21mdescription_set\u001b[39m(\u001b[38;5;28mself\u001b[39m) \u001b[38;5;241m-\u001b[39m\u001b[38;5;241m>\u001b[39m BaseDescription:\n\u001b[0;32m    269\u001b[0m     \u001b[38;5;28;01mif\u001b[39;00m \u001b[38;5;28mself\u001b[39m\u001b[38;5;241m.\u001b[39m_description_set \u001b[38;5;129;01mis\u001b[39;00m \u001b[38;5;28;01mNone\u001b[39;00m:\n\u001b[1;32m--> 270\u001b[0m         \u001b[38;5;28mself\u001b[39m\u001b[38;5;241m.\u001b[39m_description_set \u001b[38;5;241m=\u001b[39m describe_df(\n\u001b[0;32m    271\u001b[0m             \u001b[38;5;28mself\u001b[39m\u001b[38;5;241m.\u001b[39mconfig,\n\u001b[0;32m    272\u001b[0m             \u001b[38;5;28mself\u001b[39m\u001b[38;5;241m.\u001b[39mdf,\n\u001b[0;32m    273\u001b[0m             \u001b[38;5;28mself\u001b[39m\u001b[38;5;241m.\u001b[39msummarizer,\n\u001b[0;32m    274\u001b[0m             \u001b[38;5;28mself\u001b[39m\u001b[38;5;241m.\u001b[39mtypeset,\n\u001b[0;32m    275\u001b[0m             \u001b[38;5;28mself\u001b[39m\u001b[38;5;241m.\u001b[39m_sample,\n\u001b[0;32m    276\u001b[0m         )\n\u001b[0;32m    277\u001b[0m     \u001b[38;5;28;01mreturn\u001b[39;00m \u001b[38;5;28mself\u001b[39m\u001b[38;5;241m.\u001b[39m_description_set\n",
      "File \u001b[1;32mc:\\Users\\Renato\\anaconda3\\Lib\\site-packages\\ydata_profiling\\model\\describe.py:89\u001b[0m, in \u001b[0;36mdescribe\u001b[1;34m(config, df, summarizer, typeset, sample)\u001b[0m\n\u001b[0;32m     87\u001b[0m \u001b[38;5;66;03m# Variable-specific\u001b[39;00m\n\u001b[0;32m     88\u001b[0m pbar\u001b[38;5;241m.\u001b[39mtotal \u001b[38;5;241m+\u001b[39m\u001b[38;5;241m=\u001b[39m \u001b[38;5;28mlen\u001b[39m(df\u001b[38;5;241m.\u001b[39mcolumns)\n\u001b[1;32m---> 89\u001b[0m series_description \u001b[38;5;241m=\u001b[39m get_series_descriptions(\n\u001b[0;32m     90\u001b[0m     config, df, summarizer, typeset, pbar\n\u001b[0;32m     91\u001b[0m )\n\u001b[0;32m     93\u001b[0m pbar\u001b[38;5;241m.\u001b[39mset_postfix_str(\u001b[38;5;124m\"\u001b[39m\u001b[38;5;124mGet variable types\u001b[39m\u001b[38;5;124m\"\u001b[39m)\n\u001b[0;32m     94\u001b[0m pbar\u001b[38;5;241m.\u001b[39mtotal \u001b[38;5;241m+\u001b[39m\u001b[38;5;241m=\u001b[39m \u001b[38;5;241m1\u001b[39m\n",
      "File \u001b[1;32mc:\\Users\\Renato\\anaconda3\\Lib\\site-packages\\ydata_profiling\\model\\summary.py:62\u001b[0m, in \u001b[0;36mget_series_descriptions\u001b[1;34m(config, df, summarizer, typeset, pbar)\u001b[0m\n\u001b[0;32m     54\u001b[0m \u001b[38;5;28;01mdef\u001b[39;00m \u001b[38;5;21mget_series_descriptions\u001b[39m(\n\u001b[0;32m     55\u001b[0m     config: Settings,\n\u001b[0;32m     56\u001b[0m     df: Any,\n\u001b[1;32m   (...)\u001b[0m\n\u001b[0;32m     59\u001b[0m     pbar: tqdm,\n\u001b[0;32m     60\u001b[0m ) \u001b[38;5;241m-\u001b[39m\u001b[38;5;241m>\u001b[39m \u001b[38;5;28mdict\u001b[39m:\n\u001b[0;32m     61\u001b[0m     \u001b[38;5;28;01mif\u001b[39;00m \u001b[38;5;28misinstance\u001b[39m(df, pd\u001b[38;5;241m.\u001b[39mDataFrame):\n\u001b[1;32m---> 62\u001b[0m         \u001b[38;5;28;01mreturn\u001b[39;00m pandas_get_series_descriptions(config, df, summarizer, typeset, pbar)\n\u001b[0;32m     63\u001b[0m     \u001b[38;5;28;01melif\u001b[39;00m \u001b[38;5;28misinstance\u001b[39m(df, sparkDataFrame):  \u001b[38;5;66;03m# type: ignore\u001b[39;00m\n\u001b[0;32m     64\u001b[0m         \u001b[38;5;28;01mreturn\u001b[39;00m get_series_descriptions_spark(config, df, summarizer, typeset, pbar)\n",
      "File \u001b[1;32mc:\\Users\\Renato\\anaconda3\\Lib\\site-packages\\ydata_profiling\\model\\pandas\\summary_pandas.py:98\u001b[0m, in \u001b[0;36mpandas_get_series_descriptions\u001b[1;34m(config, df, summarizer, typeset, pbar)\u001b[0m\n\u001b[0;32m     92\u001b[0m     future_to_col \u001b[38;5;241m=\u001b[39m {\n\u001b[0;32m     93\u001b[0m         executor\u001b[38;5;241m.\u001b[39msubmit(describe_column, name, series): name  \u001b[38;5;66;03m# type:ignore\u001b[39;00m\n\u001b[0;32m     94\u001b[0m         \u001b[38;5;28;01mfor\u001b[39;00m name, series \u001b[38;5;129;01min\u001b[39;00m df\u001b[38;5;241m.\u001b[39mitems()\n\u001b[0;32m     95\u001b[0m     }\n\u001b[0;32m     97\u001b[0m     \u001b[38;5;28;01mfor\u001b[39;00m future \u001b[38;5;129;01min\u001b[39;00m tqdm(future_to_col\u001b[38;5;241m.\u001b[39mkeys(), total\u001b[38;5;241m=\u001b[39m\u001b[38;5;28mlen\u001b[39m(future_to_col)):\n\u001b[1;32m---> 98\u001b[0m         name, description \u001b[38;5;241m=\u001b[39m future\u001b[38;5;241m.\u001b[39mresult()\n\u001b[0;32m     99\u001b[0m         series_description[name] \u001b[38;5;241m=\u001b[39m description\n\u001b[0;32m    101\u001b[0m \u001b[38;5;28;01mreturn\u001b[39;00m sort_column_names(series_description, config\u001b[38;5;241m.\u001b[39msort)\n",
      "File \u001b[1;32mc:\\Users\\Renato\\anaconda3\\Lib\\concurrent\\futures\\_base.py:449\u001b[0m, in \u001b[0;36mFuture.result\u001b[1;34m(self, timeout)\u001b[0m\n\u001b[0;32m    447\u001b[0m     \u001b[38;5;28;01mraise\u001b[39;00m CancelledError()\n\u001b[0;32m    448\u001b[0m \u001b[38;5;28;01melif\u001b[39;00m \u001b[38;5;28mself\u001b[39m\u001b[38;5;241m.\u001b[39m_state \u001b[38;5;241m==\u001b[39m FINISHED:\n\u001b[1;32m--> 449\u001b[0m     \u001b[38;5;28;01mreturn\u001b[39;00m \u001b[38;5;28mself\u001b[39m\u001b[38;5;241m.\u001b[39m__get_result()\n\u001b[0;32m    451\u001b[0m \u001b[38;5;28mself\u001b[39m\u001b[38;5;241m.\u001b[39m_condition\u001b[38;5;241m.\u001b[39mwait(timeout)\n\u001b[0;32m    453\u001b[0m \u001b[38;5;28;01mif\u001b[39;00m \u001b[38;5;28mself\u001b[39m\u001b[38;5;241m.\u001b[39m_state \u001b[38;5;129;01min\u001b[39;00m [CANCELLED, CANCELLED_AND_NOTIFIED]:\n",
      "File \u001b[1;32mc:\\Users\\Renato\\anaconda3\\Lib\\concurrent\\futures\\_base.py:401\u001b[0m, in \u001b[0;36mFuture.__get_result\u001b[1;34m(self)\u001b[0m\n\u001b[0;32m    399\u001b[0m \u001b[38;5;28;01mif\u001b[39;00m \u001b[38;5;28mself\u001b[39m\u001b[38;5;241m.\u001b[39m_exception:\n\u001b[0;32m    400\u001b[0m     \u001b[38;5;28;01mtry\u001b[39;00m:\n\u001b[1;32m--> 401\u001b[0m         \u001b[38;5;28;01mraise\u001b[39;00m \u001b[38;5;28mself\u001b[39m\u001b[38;5;241m.\u001b[39m_exception\n\u001b[0;32m    402\u001b[0m     \u001b[38;5;28;01mfinally\u001b[39;00m:\n\u001b[0;32m    403\u001b[0m         \u001b[38;5;66;03m# Break a reference cycle with the exception in self._exception\u001b[39;00m\n\u001b[0;32m    404\u001b[0m         \u001b[38;5;28mself\u001b[39m \u001b[38;5;241m=\u001b[39m \u001b[38;5;28;01mNone\u001b[39;00m\n",
      "File \u001b[1;32mc:\\Users\\Renato\\anaconda3\\Lib\\concurrent\\futures\\thread.py:58\u001b[0m, in \u001b[0;36m_WorkItem.run\u001b[1;34m(self)\u001b[0m\n\u001b[0;32m     55\u001b[0m     \u001b[38;5;28;01mreturn\u001b[39;00m\n\u001b[0;32m     57\u001b[0m \u001b[38;5;28;01mtry\u001b[39;00m:\n\u001b[1;32m---> 58\u001b[0m     result \u001b[38;5;241m=\u001b[39m \u001b[38;5;28mself\u001b[39m\u001b[38;5;241m.\u001b[39mfn(\u001b[38;5;241m*\u001b[39m\u001b[38;5;28mself\u001b[39m\u001b[38;5;241m.\u001b[39margs, \u001b[38;5;241m*\u001b[39m\u001b[38;5;241m*\u001b[39m\u001b[38;5;28mself\u001b[39m\u001b[38;5;241m.\u001b[39mkwargs)\n\u001b[0;32m     59\u001b[0m \u001b[38;5;28;01mexcept\u001b[39;00m \u001b[38;5;167;01mBaseException\u001b[39;00m \u001b[38;5;28;01mas\u001b[39;00m exc:\n\u001b[0;32m     60\u001b[0m     \u001b[38;5;28mself\u001b[39m\u001b[38;5;241m.\u001b[39mfuture\u001b[38;5;241m.\u001b[39mset_exception(exc)\n",
      "File \u001b[1;32mc:\\Users\\Renato\\anaconda3\\Lib\\site-packages\\ydata_profiling\\model\\pandas\\summary_pandas.py:81\u001b[0m, in \u001b[0;36mpandas_get_series_descriptions.<locals>.describe_column\u001b[1;34m(name, series)\u001b[0m\n\u001b[0;32m     79\u001b[0m \u001b[38;5;250m\u001b[39m\u001b[38;5;124;03m\"\"\"Process a single series to get the column description.\"\"\"\u001b[39;00m\n\u001b[0;32m     80\u001b[0m pbar\u001b[38;5;241m.\u001b[39mset_postfix_str(\u001b[38;5;124mf\u001b[39m\u001b[38;5;124m\"\u001b[39m\u001b[38;5;124mDescribe variable: \u001b[39m\u001b[38;5;132;01m{\u001b[39;00mname\u001b[38;5;132;01m}\u001b[39;00m\u001b[38;5;124m\"\u001b[39m)\n\u001b[1;32m---> 81\u001b[0m description \u001b[38;5;241m=\u001b[39m pandas_describe_1d(config, series, summarizer, typeset)\n\u001b[0;32m     82\u001b[0m pbar\u001b[38;5;241m.\u001b[39mupdate()\n\u001b[0;32m     83\u001b[0m \u001b[38;5;28;01mreturn\u001b[39;00m name, description\n",
      "File \u001b[1;32mc:\\Users\\Renato\\anaconda3\\Lib\\site-packages\\ydata_profiling\\model\\pandas\\summary_pandas.py:63\u001b[0m, in \u001b[0;36mpandas_describe_1d\u001b[1;34m(config, series, summarizer, typeset)\u001b[0m\n\u001b[0;32m     60\u001b[0m     vtype \u001b[38;5;241m=\u001b[39m typeset\u001b[38;5;241m.\u001b[39mdetect_type(series)\n\u001b[0;32m     62\u001b[0m typeset\u001b[38;5;241m.\u001b[39mtype_schema[series\u001b[38;5;241m.\u001b[39mname] \u001b[38;5;241m=\u001b[39m vtype  \u001b[38;5;66;03m# type:ignore\u001b[39;00m\n\u001b[1;32m---> 63\u001b[0m summary \u001b[38;5;241m=\u001b[39m summarizer\u001b[38;5;241m.\u001b[39msummarize(config, series, dtype\u001b[38;5;241m=\u001b[39mvtype)\n\u001b[0;32m     64\u001b[0m \u001b[38;5;66;03m# Cast type is only used on unsupported columns rendering pipeline\u001b[39;00m\n\u001b[0;32m     65\u001b[0m \u001b[38;5;66;03m# to indicate the correct variable type when inference is not possible\u001b[39;00m\n\u001b[0;32m     66\u001b[0m summary[\u001b[38;5;124m\"\u001b[39m\u001b[38;5;124mcast_type\u001b[39m\u001b[38;5;124m\"\u001b[39m] \u001b[38;5;241m=\u001b[39m cast_type\n",
      "File \u001b[1;32mc:\\Users\\Renato\\anaconda3\\Lib\\site-packages\\ydata_profiling\\model\\summarizer.py:50\u001b[0m, in \u001b[0;36mBaseSummarizer.summarize\u001b[1;34m(self, config, series, dtype)\u001b[0m\n\u001b[0;32m     46\u001b[0m \u001b[38;5;28;01mdef\u001b[39;00m \u001b[38;5;21msummarize\u001b[39m(\n\u001b[0;32m     47\u001b[0m     \u001b[38;5;28mself\u001b[39m, config: Settings, series: pd\u001b[38;5;241m.\u001b[39mSeries, dtype: Type[VisionsBaseType]\n\u001b[0;32m     48\u001b[0m ) \u001b[38;5;241m-\u001b[39m\u001b[38;5;241m>\u001b[39m \u001b[38;5;28mdict\u001b[39m:\n\u001b[0;32m     49\u001b[0m \u001b[38;5;250m    \u001b[39m\u001b[38;5;124;03m\"\"\"Generates the summary for a given series\"\"\"\u001b[39;00m\n\u001b[1;32m---> 50\u001b[0m     \u001b[38;5;28;01mreturn\u001b[39;00m \u001b[38;5;28mself\u001b[39m\u001b[38;5;241m.\u001b[39mhandle(\u001b[38;5;28mstr\u001b[39m(dtype), config, series, {\u001b[38;5;124m\"\u001b[39m\u001b[38;5;124mtype\u001b[39m\u001b[38;5;124m\"\u001b[39m: \u001b[38;5;28mstr\u001b[39m(dtype)})\n",
      "File \u001b[1;32mc:\\Users\\Renato\\anaconda3\\Lib\\site-packages\\ydata_profiling\\model\\handler.py:59\u001b[0m, in \u001b[0;36mHandler.handle\u001b[1;34m(self, dtype, *args, **kwargs)\u001b[0m\n\u001b[0;32m     57\u001b[0m funcs \u001b[38;5;241m=\u001b[39m \u001b[38;5;28mself\u001b[39m\u001b[38;5;241m.\u001b[39mmapping\u001b[38;5;241m.\u001b[39mget(dtype, [])\n\u001b[0;32m     58\u001b[0m op \u001b[38;5;241m=\u001b[39m compose(funcs)\n\u001b[1;32m---> 59\u001b[0m summary \u001b[38;5;241m=\u001b[39m op(\u001b[38;5;241m*\u001b[39margs)[\u001b[38;5;241m-\u001b[39m\u001b[38;5;241m1\u001b[39m]\n\u001b[0;32m     60\u001b[0m \u001b[38;5;28;01mreturn\u001b[39;00m summary\n",
      "File \u001b[1;32mc:\\Users\\Renato\\anaconda3\\Lib\\site-packages\\ydata_profiling\\model\\handler.py:21\u001b[0m, in \u001b[0;36mcompose.<locals>.composed_function\u001b[1;34m(*args)\u001b[0m\n\u001b[0;32m     19\u001b[0m result \u001b[38;5;241m=\u001b[39m args  \u001b[38;5;66;03m# Start with the input arguments\u001b[39;00m\n\u001b[0;32m     20\u001b[0m \u001b[38;5;28;01mfor\u001b[39;00m func \u001b[38;5;129;01min\u001b[39;00m functions:\n\u001b[1;32m---> 21\u001b[0m     result \u001b[38;5;241m=\u001b[39m func(\u001b[38;5;241m*\u001b[39mresult) \u001b[38;5;28;01mif\u001b[39;00m \u001b[38;5;28misinstance\u001b[39m(result, \u001b[38;5;28mtuple\u001b[39m) \u001b[38;5;28;01melse\u001b[39;00m func(result)\n\u001b[0;32m     22\u001b[0m \u001b[38;5;28;01mreturn\u001b[39;00m result\n",
      "File \u001b[1;32mc:\\Users\\Renato\\anaconda3\\Lib\\site-packages\\ydata_profiling\\model\\summary_algorithms.py:72\u001b[0m, in \u001b[0;36mseries_hashable.<locals>.inner\u001b[1;34m(config, series, summary)\u001b[0m\n\u001b[0;32m     70\u001b[0m \u001b[38;5;28;01mif\u001b[39;00m \u001b[38;5;129;01mnot\u001b[39;00m summary[\u001b[38;5;124m\"\u001b[39m\u001b[38;5;124mhashable\u001b[39m\u001b[38;5;124m\"\u001b[39m]:\n\u001b[0;32m     71\u001b[0m     \u001b[38;5;28;01mreturn\u001b[39;00m config, series, summary\n\u001b[1;32m---> 72\u001b[0m \u001b[38;5;28;01mreturn\u001b[39;00m fn(config, series, summary)\n",
      "File \u001b[1;32mc:\\Users\\Renato\\anaconda3\\Lib\\site-packages\\ydata_profiling\\model\\summary_algorithms.py:89\u001b[0m, in \u001b[0;36mseries_handle_nulls.<locals>.inner\u001b[1;34m(config, series, summary)\u001b[0m\n\u001b[0;32m     86\u001b[0m \u001b[38;5;28;01mif\u001b[39;00m series\u001b[38;5;241m.\u001b[39mhasnans:\n\u001b[0;32m     87\u001b[0m     series \u001b[38;5;241m=\u001b[39m series\u001b[38;5;241m.\u001b[39mdropna()\n\u001b[1;32m---> 89\u001b[0m \u001b[38;5;28;01mreturn\u001b[39;00m fn(config, series, summary)\n",
      "File \u001b[1;32mc:\\Users\\Renato\\anaconda3\\Lib\\site-packages\\ydata_profiling\\model\\pandas\\describe_text_pandas.py:57\u001b[0m, in \u001b[0;36mpandas_describe_text_1d\u001b[1;34m(config, series, summary)\u001b[0m\n\u001b[0;32m     46\u001b[0m     summary\u001b[38;5;241m.\u001b[39mupdate(\n\u001b[0;32m     47\u001b[0m         histogram_compute(\n\u001b[0;32m     48\u001b[0m             config,\n\u001b[1;32m   (...)\u001b[0m\n\u001b[0;32m     53\u001b[0m         )\n\u001b[0;32m     54\u001b[0m     )\n\u001b[0;32m     56\u001b[0m \u001b[38;5;28;01mif\u001b[39;00m config\u001b[38;5;241m.\u001b[39mvars\u001b[38;5;241m.\u001b[39mtext\u001b[38;5;241m.\u001b[39mcharacters:\n\u001b[1;32m---> 57\u001b[0m     summary\u001b[38;5;241m.\u001b[39mupdate(unicode_summary_vc(value_counts))\n\u001b[0;32m     59\u001b[0m \u001b[38;5;28;01mif\u001b[39;00m config\u001b[38;5;241m.\u001b[39mvars\u001b[38;5;241m.\u001b[39mtext\u001b[38;5;241m.\u001b[39mwords:\n\u001b[0;32m     60\u001b[0m     summary\u001b[38;5;241m.\u001b[39mupdate(word_summary_vc(value_counts, config\u001b[38;5;241m.\u001b[39mvars\u001b[38;5;241m.\u001b[39mcat\u001b[38;5;241m.\u001b[39mstop_words))\n",
      "File \u001b[1;32mc:\\Users\\Renato\\anaconda3\\Lib\\site-packages\\ydata_profiling\\model\\pandas\\describe_categorical_pandas.py:77\u001b[0m, in \u001b[0;36municode_summary_vc\u001b[1;34m(vc)\u001b[0m\n\u001b[0;32m     74\u001b[0m     script \u001b[38;5;241m=\u001b[39m char_handler\n\u001b[0;32m     76\u001b[0m \u001b[38;5;66;03m# Unicode Character Summaries (category and script name)\u001b[39;00m\n\u001b[1;32m---> 77\u001b[0m character_counts \u001b[38;5;241m=\u001b[39m get_character_counts_vc(vc)\n\u001b[0;32m     79\u001b[0m character_counts_series \u001b[38;5;241m=\u001b[39m character_counts\n\u001b[0;32m     80\u001b[0m summary \u001b[38;5;241m=\u001b[39m {\n\u001b[0;32m     81\u001b[0m     \u001b[38;5;124m\"\u001b[39m\u001b[38;5;124mn_characters_distinct\u001b[39m\u001b[38;5;124m\"\u001b[39m: \u001b[38;5;28mlen\u001b[39m(character_counts_series),\n\u001b[0;32m     82\u001b[0m     \u001b[38;5;124m\"\u001b[39m\u001b[38;5;124mn_characters\u001b[39m\u001b[38;5;124m\"\u001b[39m: np\u001b[38;5;241m.\u001b[39msum(character_counts_series\u001b[38;5;241m.\u001b[39mvalues),\n\u001b[0;32m     83\u001b[0m     \u001b[38;5;124m\"\u001b[39m\u001b[38;5;124mcharacter_counts\u001b[39m\u001b[38;5;124m\"\u001b[39m: character_counts_series,\n\u001b[0;32m     84\u001b[0m }\n",
      "File \u001b[1;32mc:\\Users\\Renato\\anaconda3\\Lib\\site-packages\\ydata_profiling\\model\\pandas\\describe_categorical_pandas.py:25\u001b[0m, in \u001b[0;36mget_character_counts_vc\u001b[1;34m(vc)\u001b[0m\n\u001b[0;32m     23\u001b[0m series \u001b[38;5;241m=\u001b[39m pd\u001b[38;5;241m.\u001b[39mSeries(vc\u001b[38;5;241m.\u001b[39mindex, index\u001b[38;5;241m=\u001b[39mvc, dtype\u001b[38;5;241m=\u001b[39m\u001b[38;5;28mobject\u001b[39m)\n\u001b[0;32m     24\u001b[0m characters \u001b[38;5;241m=\u001b[39m series[series \u001b[38;5;241m!=\u001b[39m \u001b[38;5;124m\"\u001b[39m\u001b[38;5;124m\"\u001b[39m]\u001b[38;5;241m.\u001b[39mapply(\u001b[38;5;28mlist\u001b[39m)\n\u001b[1;32m---> 25\u001b[0m characters \u001b[38;5;241m=\u001b[39m characters\u001b[38;5;241m.\u001b[39mexplode()\n\u001b[0;32m     27\u001b[0m counts \u001b[38;5;241m=\u001b[39m pd\u001b[38;5;241m.\u001b[39mSeries(characters\u001b[38;5;241m.\u001b[39mindex, index\u001b[38;5;241m=\u001b[39mcharacters)\u001b[38;5;241m.\u001b[39mdropna()\n\u001b[0;32m     28\u001b[0m \u001b[38;5;28;01mif\u001b[39;00m \u001b[38;5;28mlen\u001b[39m(counts) \u001b[38;5;241m>\u001b[39m \u001b[38;5;241m0\u001b[39m:\n",
      "File \u001b[1;32mc:\\Users\\Renato\\anaconda3\\Lib\\site-packages\\pandas\\core\\series.py:4562\u001b[0m, in \u001b[0;36mSeries.explode\u001b[1;34m(self, ignore_index)\u001b[0m\n\u001b[0;32m   4559\u001b[0m \u001b[38;5;28;01melse\u001b[39;00m:\n\u001b[0;32m   4560\u001b[0m     index \u001b[38;5;241m=\u001b[39m \u001b[38;5;28mself\u001b[39m\u001b[38;5;241m.\u001b[39mindex\u001b[38;5;241m.\u001b[39mrepeat(counts)\n\u001b[1;32m-> 4562\u001b[0m \u001b[38;5;28;01mreturn\u001b[39;00m \u001b[38;5;28mself\u001b[39m\u001b[38;5;241m.\u001b[39m_constructor(values, index\u001b[38;5;241m=\u001b[39mindex, name\u001b[38;5;241m=\u001b[39m\u001b[38;5;28mself\u001b[39m\u001b[38;5;241m.\u001b[39mname, copy\u001b[38;5;241m=\u001b[39m\u001b[38;5;28;01mFalse\u001b[39;00m)\n",
      "File \u001b[1;32mc:\\Users\\Renato\\anaconda3\\Lib\\site-packages\\pandas\\core\\series.py:584\u001b[0m, in \u001b[0;36mSeries.__init__\u001b[1;34m(self, data, index, dtype, name, copy, fastpath)\u001b[0m\n\u001b[0;32m    582\u001b[0m         data \u001b[38;5;241m=\u001b[39m data\u001b[38;5;241m.\u001b[39mcopy()\n\u001b[0;32m    583\u001b[0m \u001b[38;5;28;01melse\u001b[39;00m:\n\u001b[1;32m--> 584\u001b[0m     data \u001b[38;5;241m=\u001b[39m sanitize_array(data, index, dtype, copy)\n\u001b[0;32m    586\u001b[0m     manager \u001b[38;5;241m=\u001b[39m _get_option(\u001b[38;5;124m\"\u001b[39m\u001b[38;5;124mmode.data_manager\u001b[39m\u001b[38;5;124m\"\u001b[39m, silent\u001b[38;5;241m=\u001b[39m\u001b[38;5;28;01mTrue\u001b[39;00m)\n\u001b[0;32m    587\u001b[0m     \u001b[38;5;28;01mif\u001b[39;00m manager \u001b[38;5;241m==\u001b[39m \u001b[38;5;124m\"\u001b[39m\u001b[38;5;124mblock\u001b[39m\u001b[38;5;124m\"\u001b[39m:\n",
      "File \u001b[1;32mc:\\Users\\Renato\\anaconda3\\Lib\\site-packages\\pandas\\core\\construction.py:606\u001b[0m, in \u001b[0;36msanitize_array\u001b[1;34m(data, index, dtype, copy, allow_2d)\u001b[0m\n\u001b[0;32m    604\u001b[0m subarr \u001b[38;5;241m=\u001b[39m data\n\u001b[0;32m    605\u001b[0m \u001b[38;5;28;01mif\u001b[39;00m data\u001b[38;5;241m.\u001b[39mdtype \u001b[38;5;241m==\u001b[39m \u001b[38;5;28mobject\u001b[39m:\n\u001b[1;32m--> 606\u001b[0m     subarr \u001b[38;5;241m=\u001b[39m maybe_infer_to_datetimelike(data)\n\u001b[0;32m    607\u001b[0m     \u001b[38;5;28;01mif\u001b[39;00m (\n\u001b[0;32m    608\u001b[0m         object_index\n\u001b[0;32m    609\u001b[0m         \u001b[38;5;129;01mand\u001b[39;00m using_pyarrow_string_dtype()\n\u001b[0;32m    610\u001b[0m         \u001b[38;5;129;01mand\u001b[39;00m is_string_dtype(subarr)\n\u001b[0;32m    611\u001b[0m     ):\n\u001b[0;32m    612\u001b[0m         \u001b[38;5;66;03m# Avoid inference when string option is set\u001b[39;00m\n\u001b[0;32m    613\u001b[0m         subarr \u001b[38;5;241m=\u001b[39m data\n",
      "File \u001b[1;32mc:\\Users\\Renato\\anaconda3\\Lib\\site-packages\\pandas\\core\\dtypes\\cast.py:1190\u001b[0m, in \u001b[0;36mmaybe_infer_to_datetimelike\u001b[1;34m(value)\u001b[0m\n\u001b[0;32m   1185\u001b[0m     \u001b[38;5;28;01mreturn\u001b[39;00m value\n\u001b[0;32m   1187\u001b[0m \u001b[38;5;66;03m# error: Incompatible return value type (got \"Union[ExtensionArray,\u001b[39;00m\n\u001b[0;32m   1188\u001b[0m \u001b[38;5;66;03m# ndarray[Any, Any]]\", expected \"Union[ndarray[Any, Any], DatetimeArray,\u001b[39;00m\n\u001b[0;32m   1189\u001b[0m \u001b[38;5;66;03m# TimedeltaArray, PeriodArray, IntervalArray]\")\u001b[39;00m\n\u001b[1;32m-> 1190\u001b[0m \u001b[38;5;28;01mreturn\u001b[39;00m lib\u001b[38;5;241m.\u001b[39mmaybe_convert_objects(  \u001b[38;5;66;03m# type: ignore[return-value]\u001b[39;00m\n\u001b[0;32m   1191\u001b[0m     value,\n\u001b[0;32m   1192\u001b[0m     \u001b[38;5;66;03m# Here we do not convert numeric dtypes, as if we wanted that,\u001b[39;00m\n\u001b[0;32m   1193\u001b[0m     \u001b[38;5;66;03m#  numpy would have done it for us.\u001b[39;00m\n\u001b[0;32m   1194\u001b[0m     convert_numeric\u001b[38;5;241m=\u001b[39m\u001b[38;5;28;01mFalse\u001b[39;00m,\n\u001b[0;32m   1195\u001b[0m     convert_non_numeric\u001b[38;5;241m=\u001b[39m\u001b[38;5;28;01mTrue\u001b[39;00m,\n\u001b[0;32m   1196\u001b[0m     dtype_if_all_nat\u001b[38;5;241m=\u001b[39mnp\u001b[38;5;241m.\u001b[39mdtype(\u001b[38;5;124m\"\u001b[39m\u001b[38;5;124mM8[ns]\u001b[39m\u001b[38;5;124m\"\u001b[39m),\n\u001b[0;32m   1197\u001b[0m )\n",
      "File \u001b[1;32mlib.pyx:2539\u001b[0m, in \u001b[0;36mpandas._libs.lib.maybe_convert_objects\u001b[1;34m()\u001b[0m\n",
      "\u001b[1;31mMemoryError\u001b[0m: Unable to allocate 23.3 GiB for an array with shape (1564790620,) and data type complex128"
     ]
    }
   ],
   "source": [
    "df = pl.read_csv(\"../data/raw/raw-data_recipe.csv\")\n",
    "df = df.with_columns([pl.col(c).cast(pl.Float64) for c, dt in df.schema.items() if isinstance(dt, pl.Decimal)]).to_pandas()\n",
    "profile = ProfileReport(df, title=\"raw_data_recipe_results.csv\", minimal=True)\n",
    "profile.to_file(\"../reports/profiling_raw-data_recipe.html\")"
   ]
  },
  {
   "cell_type": "code",
   "execution_count": null,
   "id": "83972aaa",
   "metadata": {},
   "outputs": [
    {
     "data": {
      "application/vnd.jupyter.widget-view+json": {
       "model_id": "c66b617f7c22418293c9f06564156f55",
       "version_major": 2,
       "version_minor": 0
      },
      "text/plain": [
       "Summarize dataset:   0%|          | 0/5 [00:00<?, ?it/s]"
      ]
     },
     "metadata": {},
     "output_type": "display_data"
    },
    {
     "name": "stderr",
     "output_type": "stream",
     "text": [
      "100%|██████████| 4/4 [01:12<00:00, 18.01s/it]\n"
     ]
    },
    {
     "data": {
      "application/vnd.jupyter.widget-view+json": {
       "model_id": "15db5e5a1e5941ab8e61212370db37e7",
       "version_major": 2,
       "version_minor": 0
      },
      "text/plain": [
       "Generate report structure:   0%|          | 0/1 [00:00<?, ?it/s]"
      ]
     },
     "metadata": {},
     "output_type": "display_data"
    },
    {
     "data": {
      "application/vnd.jupyter.widget-view+json": {
       "model_id": "4bce15f6251a403a8668b05334769017",
       "version_major": 2,
       "version_minor": 0
      },
      "text/plain": [
       "Render HTML:   0%|          | 0/1 [00:00<?, ?it/s]"
      ]
     },
     "metadata": {},
     "output_type": "display_data"
    },
    {
     "data": {
      "application/vnd.jupyter.widget-view+json": {
       "model_id": "33f34f3611254b1789db960f771b41a6",
       "version_major": 2,
       "version_minor": 0
      },
      "text/plain": [
       "Export report to file:   0%|          | 0/1 [00:00<?, ?it/s]"
      ]
     },
     "metadata": {},
     "output_type": "display_data"
    }
   ],
   "source": [
    "df = pl.read_csv(os.path.join(DATA_PATH, \"raw\",\"raw-data_interaction.csv\"))\n",
    "df = df.with_columns([pl.col(c).cast(pl.Float64) for c, dt in df.schema.items() if isinstance(dt, pl.Decimal)]).to_pandas()\n",
    "profile = ProfileReport(df, title=\"raw_data_interaction_results.csv\", minimal=True)\n",
    "profile.to_file(os.path.join(\"..\", \"reports\", \"profiling_raw-data_interaction.html\"))"
   ]
  },
  {
   "cell_type": "markdown",
   "id": "669ff873",
   "metadata": {},
   "source": [
    "## Check columns"
   ]
  },
  {
   "cell_type": "code",
   "execution_count": null,
   "id": "bdef5e1b",
   "metadata": {},
   "outputs": [],
   "source": [
    "df_recipe = pl.read_csv(os.path.join(DATA_PATH, \"raw\",\"raw-data_recipe.csv\"))"
   ]
  },
  {
   "cell_type": "code",
   "execution_count": null,
   "id": "0934f929",
   "metadata": {},
   "outputs": [
    {
     "data": {
      "text/html": [
       "<div><style>\n",
       ".dataframe > thead > tr,\n",
       ".dataframe > tbody > tr {\n",
       "  text-align: right;\n",
       "  white-space: pre-wrap;\n",
       "}\n",
       "</style>\n",
       "<small>shape: (5, 9)</small><table border=\"1\" class=\"dataframe\"><thead><tr><th>recipe_id</th><th>recipe_name</th><th>aver_rate</th><th>image_url</th><th>review_nums</th><th>ingredients</th><th>cooking_directions</th><th>nutritions</th><th>reviews</th></tr><tr><td>i64</td><td>str</td><td>f64</td><td>str</td><td>i64</td><td>str</td><td>str</td><td>str</td><td>str</td></tr></thead><tbody><tr><td>222388</td><td>&quot;Homemade Bacon&quot;</td><td>5.0</td><td>&quot;https://images.media-allrecipe…</td><td>3</td><td>&quot;pork belly^smoked paprika^kosh…</td><td>&quot;{&#x27;directions&#x27;: u&#x27;Prep\\n5 m\\nCo…</td><td>&quot;{u&#x27;niacin&#x27;: {u&#x27;hasCompleteData…</td><td>&quot;{8542392: {&#x27;rating&#x27;: 5, &#x27;follo…</td></tr><tr><td>240488</td><td>&quot;Pork Loin, Apples, and Sauerkr…</td><td>4.764706</td><td>&quot;https://images.media-allrecipe…</td><td>29</td><td>&quot;sauerkraut drained^Granny Smit…</td><td>&quot;{&#x27;directions&#x27;: u&#x27;Prep\\n15 m\\nC…</td><td>&quot;{u&#x27;niacin&#x27;: {u&#x27;hasCompleteData…</td><td>&quot;{3574785: {&#x27;rating&#x27;: 5, &#x27;follo…</td></tr><tr><td>218939</td><td>&quot;Foolproof Rosemary Chicken Win…</td><td>4.571429</td><td>&quot;https://images.media-allrecipe…</td><td>12</td><td>&quot;chicken wings^sprigs rosemary^…</td><td>&quot;{&#x27;directions&#x27;: u&quot;Prep\\n20 m\\nC…</td><td>&quot;{u&#x27;niacin&#x27;: {u&#x27;hasCompleteData…</td><td>&quot;{13774946: {&#x27;rating&#x27;: 5, &#x27;foll…</td></tr><tr><td>87211</td><td>&quot;Chicken Pesto Paninis&quot;</td><td>4.625</td><td>&quot;https://images.media-allrecipe…</td><td>163</td><td>&quot;focaccia bread quartered^prepa…</td><td>&quot;{&#x27;directions&#x27;: u&#x27;Prep\\n15 m\\nC…</td><td>&quot;{u&#x27;niacin&#x27;: {u&#x27;hasCompleteData…</td><td>&quot;{1563136: {&#x27;rating&#x27;: 5, &#x27;follo…</td></tr><tr><td>245714</td><td>&quot;Potato Bacon Pizza&quot;</td><td>4.5</td><td>&quot;https://images.media-allrecipe…</td><td>2</td><td>&quot;red potatoes^strips bacon^Sauc…</td><td>&quot;{&#x27;directions&#x27;: u&#x27;Prep\\n20 m\\nC…</td><td>&quot;{u&#x27;niacin&#x27;: {u&#x27;hasCompleteData…</td><td>&quot;{2945555: {&#x27;rating&#x27;: 5, &#x27;follo…</td></tr></tbody></table></div>"
      ],
      "text/plain": [
       "shape: (5, 9)\n",
       "┌───────────┬───────────┬───────────┬───────────┬───┬───────────┬───────────┬───────────┬──────────┐\n",
       "│ recipe_id ┆ recipe_na ┆ aver_rate ┆ image_url ┆ … ┆ ingredien ┆ cooking_d ┆ nutrition ┆ reviews  │\n",
       "│ ---       ┆ me        ┆ ---       ┆ ---       ┆   ┆ ts        ┆ irections ┆ s         ┆ ---      │\n",
       "│ i64       ┆ ---       ┆ f64       ┆ str       ┆   ┆ ---       ┆ ---       ┆ ---       ┆ str      │\n",
       "│           ┆ str       ┆           ┆           ┆   ┆ str       ┆ str       ┆ str       ┆          │\n",
       "╞═══════════╪═══════════╪═══════════╪═══════════╪═══╪═══════════╪═══════════╪═══════════╪══════════╡\n",
       "│ 222388    ┆ Homemade  ┆ 5.0       ┆ https://i ┆ … ┆ pork bell ┆ {'directi ┆ {u'niacin ┆ {8542392 │\n",
       "│           ┆ Bacon     ┆           ┆ mages.med ┆   ┆ y^smoked  ┆ ons':     ┆ ': {u'has ┆ : {'rati │\n",
       "│           ┆           ┆           ┆ ia-allrec ┆   ┆ paprika^k ┆ u'Prep\\n5 ┆ CompleteD ┆ ng': 5,  │\n",
       "│           ┆           ┆           ┆ ipe…      ┆   ┆ osh…      ┆ m\\nCo…    ┆ ata…      ┆ 'follo…  │\n",
       "│ 240488    ┆ Pork      ┆ 4.764706  ┆ https://i ┆ … ┆ sauerkrau ┆ {'directi ┆ {u'niacin ┆ {3574785 │\n",
       "│           ┆ Loin,     ┆           ┆ mages.med ┆   ┆ t drained ┆ ons': u'P ┆ ': {u'has ┆ : {'rati │\n",
       "│           ┆ Apples,   ┆           ┆ ia-allrec ┆   ┆ ^Granny   ┆ rep\\n15   ┆ CompleteD ┆ ng': 5,  │\n",
       "│           ┆ and       ┆           ┆ ipe…      ┆   ┆ Smit…     ┆ m\\nC…     ┆ ata…      ┆ 'follo…  │\n",
       "│           ┆ Sauerkr…  ┆           ┆           ┆   ┆           ┆           ┆           ┆          │\n",
       "│ 218939    ┆ Foolproof ┆ 4.571429  ┆ https://i ┆ … ┆ chicken   ┆ {'directi ┆ {u'niacin ┆ {1377494 │\n",
       "│           ┆ Rosemary  ┆           ┆ mages.med ┆   ┆ wings^spr ┆ ons': u\"P ┆ ': {u'has ┆ 6: {'rat │\n",
       "│           ┆ Chicken   ┆           ┆ ia-allrec ┆   ┆ igs rosem ┆ rep\\n20   ┆ CompleteD ┆ ing': 5, │\n",
       "│           ┆ Win…      ┆           ┆ ipe…      ┆   ┆ ary^…     ┆ m\\nC…     ┆ ata…      ┆ 'foll…   │\n",
       "│ 87211     ┆ Chicken   ┆ 4.625     ┆ https://i ┆ … ┆ focaccia  ┆ {'directi ┆ {u'niacin ┆ {1563136 │\n",
       "│           ┆ Pesto     ┆           ┆ mages.med ┆   ┆ bread qua ┆ ons': u'P ┆ ': {u'has ┆ : {'rati │\n",
       "│           ┆ Paninis   ┆           ┆ ia-allrec ┆   ┆ rtered^pr ┆ rep\\n15   ┆ CompleteD ┆ ng': 5,  │\n",
       "│           ┆           ┆           ┆ ipe…      ┆   ┆ epa…      ┆ m\\nC…     ┆ ata…      ┆ 'follo…  │\n",
       "│ 245714    ┆ Potato    ┆ 4.5       ┆ https://i ┆ … ┆ red potat ┆ {'directi ┆ {u'niacin ┆ {2945555 │\n",
       "│           ┆ Bacon     ┆           ┆ mages.med ┆   ┆ oes^strip ┆ ons': u'P ┆ ': {u'has ┆ : {'rati │\n",
       "│           ┆ Pizza     ┆           ┆ ia-allrec ┆   ┆ s bacon^S ┆ rep\\n20   ┆ CompleteD ┆ ng': 5,  │\n",
       "│           ┆           ┆           ┆ ipe…      ┆   ┆ auc…      ┆ m\\nC…     ┆ ata…      ┆ 'follo…  │\n",
       "└───────────┴───────────┴───────────┴───────────┴───┴───────────┴───────────┴───────────┴──────────┘"
      ]
     },
     "execution_count": 12,
     "metadata": {},
     "output_type": "execute_result"
    }
   ],
   "source": [
    "df_recipe.head()"
   ]
  },
  {
   "cell_type": "code",
   "execution_count": 22,
   "id": "59e7186f",
   "metadata": {},
   "outputs": [],
   "source": [
    "df_test_rating = pl.read_csv(os.path.join(DATA_PATH, \"raw\",\"core-data-test_rating.csv\"))\n",
    "df_train_rating = pl.read_csv(os.path.join(DATA_PATH, \"raw\",\"core-data-train_rating.csv\"))\n",
    "df_valid_rating = pl.read_csv(os.path.join(DATA_PATH, \"raw\",\"core-data-valid_rating.csv\"))"
   ]
  },
  {
   "cell_type": "code",
   "execution_count": 23,
   "id": "5aa8bc17",
   "metadata": {},
   "outputs": [
    {
     "data": {
      "application/vnd.jupyter.widget-view+json": {
       "model_id": "7c35182a1079425e85643ea6949215b0",
       "version_major": 2,
       "version_minor": 0
      },
      "text/plain": [
       "Summarize dataset:   0%|          | 0/5 [00:00<?, ?it/s]"
      ]
     },
     "metadata": {},
     "output_type": "display_data"
    },
    {
     "name": "stderr",
     "output_type": "stream",
     "text": [
      "100%|██████████| 4/4 [01:07<00:00, 16.87s/it]\n"
     ]
    },
    {
     "data": {
      "application/vnd.jupyter.widget-view+json": {
       "model_id": "22dafd76236d41b086df08b791703851",
       "version_major": 2,
       "version_minor": 0
      },
      "text/plain": [
       "Generate report structure:   0%|          | 0/1 [00:00<?, ?it/s]"
      ]
     },
     "metadata": {},
     "output_type": "display_data"
    },
    {
     "data": {
      "application/vnd.jupyter.widget-view+json": {
       "model_id": "4c099e3c87694a299f997469395ac77b",
       "version_major": 2,
       "version_minor": 0
      },
      "text/plain": [
       "Render HTML:   0%|          | 0/1 [00:00<?, ?it/s]"
      ]
     },
     "metadata": {},
     "output_type": "display_data"
    },
    {
     "data": {
      "application/vnd.jupyter.widget-view+json": {
       "model_id": "ed9e475904fe4981953442bab60e55ce",
       "version_major": 2,
       "version_minor": 0
      },
      "text/plain": [
       "Export report to file:   0%|          | 0/1 [00:00<?, ?it/s]"
      ]
     },
     "metadata": {},
     "output_type": "display_data"
    },
    {
     "data": {
      "application/vnd.jupyter.widget-view+json": {
       "model_id": "2a507b184bdd491583ede9a12cc6d5e5",
       "version_major": 2,
       "version_minor": 0
      },
      "text/plain": [
       "Summarize dataset:   0%|          | 0/5 [00:00<?, ?it/s]"
      ]
     },
     "metadata": {},
     "output_type": "display_data"
    },
    {
     "name": "stderr",
     "output_type": "stream",
     "text": [
      "100%|██████████| 4/4 [00:02<00:00,  1.96it/s]\n"
     ]
    },
    {
     "data": {
      "application/vnd.jupyter.widget-view+json": {
       "model_id": "d0190ac4526442e9b83d063d4517d88e",
       "version_major": 2,
       "version_minor": 0
      },
      "text/plain": [
       "Generate report structure:   0%|          | 0/1 [00:00<?, ?it/s]"
      ]
     },
     "metadata": {},
     "output_type": "display_data"
    },
    {
     "data": {
      "application/vnd.jupyter.widget-view+json": {
       "model_id": "abacf4804af0404894c08ed6b4a310a6",
       "version_major": 2,
       "version_minor": 0
      },
      "text/plain": [
       "Render HTML:   0%|          | 0/1 [00:00<?, ?it/s]"
      ]
     },
     "metadata": {},
     "output_type": "display_data"
    },
    {
     "data": {
      "application/vnd.jupyter.widget-view+json": {
       "model_id": "2d7a86f0c75e45c5b2e25f6df851ee5a",
       "version_major": 2,
       "version_minor": 0
      },
      "text/plain": [
       "Export report to file:   0%|          | 0/1 [00:00<?, ?it/s]"
      ]
     },
     "metadata": {},
     "output_type": "display_data"
    },
    {
     "data": {
      "application/vnd.jupyter.widget-view+json": {
       "model_id": "020901cf3a94404d9f791de17bf0c6c9",
       "version_major": 2,
       "version_minor": 0
      },
      "text/plain": [
       "Summarize dataset:   0%|          | 0/5 [00:00<?, ?it/s]"
      ]
     },
     "metadata": {},
     "output_type": "display_data"
    },
    {
     "name": "stderr",
     "output_type": "stream",
     "text": [
      "100%|██████████| 4/4 [00:00<00:00,  4.34it/s]\n"
     ]
    },
    {
     "data": {
      "application/vnd.jupyter.widget-view+json": {
       "model_id": "0f937a053e13474a8c0f39b0ec431c75",
       "version_major": 2,
       "version_minor": 0
      },
      "text/plain": [
       "Generate report structure:   0%|          | 0/1 [00:00<?, ?it/s]"
      ]
     },
     "metadata": {},
     "output_type": "display_data"
    },
    {
     "data": {
      "application/vnd.jupyter.widget-view+json": {
       "model_id": "53926b5c343845b0bcfa9f6fe259e859",
       "version_major": 2,
       "version_minor": 0
      },
      "text/plain": [
       "Render HTML:   0%|          | 0/1 [00:00<?, ?it/s]"
      ]
     },
     "metadata": {},
     "output_type": "display_data"
    },
    {
     "data": {
      "application/vnd.jupyter.widget-view+json": {
       "model_id": "d76199cabfff41d88bf48ba122abef86",
       "version_major": 2,
       "version_minor": 0
      },
      "text/plain": [
       "Export report to file:   0%|          | 0/1 [00:00<?, ?it/s]"
      ]
     },
     "metadata": {},
     "output_type": "display_data"
    }
   ],
   "source": [
    "# do profiling for train test valid\n",
    "df_train_rating = df_train_rating.with_columns([pl.col(c).cast(pl.Float64) for c, dt in df_train_rating.schema.items() if isinstance(dt, pl.Decimal)]).to_pandas()\n",
    "profile = ProfileReport(df_train_rating, title=\"core_data_train_rating.csv\", minimal=True)\n",
    "profile.to_file(os.path.join(\"..\", \"reports\", \"profiling_core-data-train_rating.html\"))\n",
    "\n",
    "df_test_rating = df_test_rating.with_columns([pl.col(c).cast(pl.Float64) for c, dt in df_test_rating.schema.items() if isinstance(dt, pl.Decimal)]).to_pandas()\n",
    "profile = ProfileReport(df_test_rating, title=\"core_data_test_rating.csv\", minimal=True)\n",
    "profile.to_file(os.path.join(\"..\", \"reports\", \"profiling_core-data-test_rating.html\"))\n",
    "\n",
    "df_valid_rating = df_valid_rating.with_columns([pl.col(c).cast(pl.Float64) for c, dt in df_valid_rating.schema.items() if isinstance(dt, pl.Decimal)]).to_pandas()\n",
    "profile = ProfileReport(df_valid_rating, title=\"core_data_valid_rating.csv\", minimal=True)\n",
    "profile.to_file(os.path.join(\"..\", \"reports\", \"profiling_core-data-valid_rating.html\"))\n"
   ]
  },
  {
   "cell_type": "code",
   "execution_count": null,
   "id": "3ba12a21",
   "metadata": {},
   "outputs": [],
   "source": []
  }
 ],
 "metadata": {
  "kernelspec": {
   "display_name": "base",
   "language": "python",
   "name": "python3"
  },
  "language_info": {
   "codemirror_mode": {
    "name": "ipython",
    "version": 3
   },
   "file_extension": ".py",
   "mimetype": "text/x-python",
   "name": "python",
   "nbconvert_exporter": "python",
   "pygments_lexer": "ipython3",
   "version": "3.12.4"
  }
 },
 "nbformat": 4,
 "nbformat_minor": 5
}
